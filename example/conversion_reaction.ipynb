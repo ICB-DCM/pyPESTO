{
 "cells": [
  {
   "cell_type": "code",
   "execution_count": 1,
   "metadata": {},
   "outputs": [],
   "source": [
    "import amici\n",
    "import amici.plotting\n",
    "import pesto"
   ]
  },
  {
   "cell_type": "markdown",
   "metadata": {},
   "source": [
    "## AMICI model"
   ]
  },
  {
   "cell_type": "code",
   "execution_count": 2,
   "metadata": {
    "scrolled": true,
    "collapsed": false
   },
   "outputs": [
    {
     "name": "stdout",
     "output_type": "stream",
     "text": [
      "libSBML Warning (SBML unit consistency): In situations where a mathematical expression refers to a compartment, species or parameter, it is necessary to know the units of the object to establish unit consistency. In models where the units of an object have not been declared, libSBML does not yet have the functionality to accurately verify the consistency of the units in mathematical expressions referring to that object. \n The units of the <parameter> 'R1_k2' cannot be fully checked. Unit consistency reported as either no errors or further unit errors related to this object may not be accurate.\n\nlibSBML Warning (SBML unit consistency): If the attribute 'units' on a given Parameter object has not been set, then the unit of measurement associated with that parameter's value is undefined.\nReference: L3V1 Section 4.7.3\n The <parameter> with id 'R1_k2' does not have a 'units' attribute.\n\nlibSBML Warning (SBML unit consistency): In situations where a mathematical expression refers to a compartment, species or parameter, it is necessary to know the units of the object to establish unit consistency. In models where the units of an object have not been declared, libSBML does not yet have the functionality to accurately verify the consistency of the units in mathematical expressions referring to that object. \n The units of the <parameter> 'R1_k1' cannot be fully checked. Unit consistency reported as either no errors or further unit errors related to this object may not be accurate.\n\nlibSBML Warning (SBML unit consistency): If the attribute 'units' on a given Parameter object has not been set, then the unit of measurement associated with that parameter's value is undefined.\nReference: L3V1 Section 4.7.3\n The <parameter> with id 'R1_k1' does not have a 'units' attribute.\n\nlibSBML Warning (SBML unit consistency): In situations where a mathematical expression contains literal numbers or parameters whose units have not been declared, it is not possible to verify accurately the consistency of the units in the expression. \n The units of the <kineticLaw> <math> expression 'compartment * (R1_k1 * A - R1_k2 * B)' cannot be fully checked. Unit consistency reported as either no errors or further unit errors related to this object may not be accurate.\n\nlibSBML Warning (Modeling practice): As a principle of best modeling practice, the units of a <parameter> should be declared rather than be left undefined. Doing so improves the ability of software to check the consistency of units and helps make it easier to detect potential errors in models.\n The <parameter> with the id 'R1_k2' does not have a 'units' attribute.\n\nlibSBML Warning (Modeling practice): As a principle of best modeling practice, the units of a <parameter> should be declared rather than be left undefined. Doing so improves the ability of software to check the consistency of units and helps make it easier to detect potential errors in models.\n The <parameter> with the id 'R1_k1' does not have a 'units' attribute.\n\n"
     ]
    },
    {
     "data": {
      "image/png": "[encoded data removed]",
      "text/plain": [
       "<Figure size 432x288 with 1 Axes>"
      ]
     },
     "metadata": {},
     "output_type": "display_data"
    }
   ],
   "source": [
    "import importlib\n",
    "import os\n",
    "import sys\n",
    "import numpy as np\n",
    "\n",
    "# sbml file we want to import\n",
    "sbml_file = 'model_conversion_reaction.xml'\n",
    "# name of the model that will also be the name of the python module\n",
    "model_name = 'model_conversion_reaction'\n",
    "# directory to which the generated model code is written\n",
    "model_output_dir = model_name\n",
    "\n",
    "# import sbml model, complile and generate amici module\n",
    "sbml_importer = amici.SbmlImporter(sbml_file)\n",
    "sbml_importer.sbml2amici(model_name,\n",
    "                         model_output_dir,\n",
    "                         verbose=False)\n",
    "\n",
    "# load amici module (the usual starting point later for the analysis)\n",
    "sys.path.insert(0, os.path.abspath(model_output_dir))\n",
    "model_module = importlib.import_module(model_name)\n",
    "model = model_module.getModel()\n",
    "model.requireSensitivitiesForAllParameters()\n",
    "model.setTimepoints(amici.DoubleVector(np.linspace(0, 10, 11)))\n",
    "model.setParameterScale(amici.AMICI_SCALING_LOG10)\n",
    "model.setParameters(amici.DoubleVector([-0.3,-0.7]))\n",
    "solver = model.getSolver()\n",
    "solver.setSensitivityMethod(amici.AMICI_SENSI_FSA)\n",
    "solver.setSensitivityOrder(amici.AMICI_SENSI_ORDER_FIRST)\n",
    "\n",
    "# how to run amici now:\n",
    "rdata = amici.runAmiciSimulation(model, solver, None)\n",
    "amici.plotting.plotStateTrajectories(rdata)\n",
    "edata = amici.ExpData(rdata['ptr'].get(), 0.1, 0.0)"
   ]
  },
  {
   "cell_type": "markdown",
   "metadata": {},
   "source": [
    "## Optimization"
   ]
  },
  {
   "cell_type": "code",
   "execution_count": 3,
   "metadata": {
    "collapsed": false
   },
   "outputs": [
    {
     "name": "stderr",
     "output_type": "stream",
     "text": [
      "/Users/ffroehlich/Documents/GitHub/pyPESTO/venv/lib/python3.6/site-packages/scipy/optimize/_minimize.py:507: RuntimeWarning: Method BFGS does not use Hessian information (hess).\n  RuntimeWarning)\n/Users/ffroehlich/Documents/GitHub/pyPESTO/venv/lib/python3.6/site-packages/scipy/optimize/_minimize.py:518: RuntimeWarning: Method BFGS cannot handle constraints nor bounds.\n  RuntimeWarning)\n"
     ]
    },
    {
     "name": "stderr",
     "output_type": "stream",
     "text": [
      "/Users/ffroehlich/Documents/GitHub/pyPESTO/venv/lib/python3.6/site-packages/scipy/optimize/_minimize.py:507: RuntimeWarning: Method BFGS does not use Hessian information (hess).\n  RuntimeWarning)\n/Users/ffroehlich/Documents/GitHub/pyPESTO/venv/lib/python3.6/site-packages/scipy/optimize/_minimize.py:518: RuntimeWarning: Method BFGS cannot handle constraints nor bounds.\n  RuntimeWarning)\n"
     ]
    },
    {
     "name": "stderr",
     "output_type": "stream",
     "text": [
      "/Users/ffroehlich/Documents/GitHub/pyPESTO/venv/lib/python3.6/site-packages/scipy/optimize/_minimize.py:507: RuntimeWarning: Method BFGS does not use Hessian information (hess).\n  RuntimeWarning)\n/Users/ffroehlich/Documents/GitHub/pyPESTO/venv/lib/python3.6/site-packages/scipy/optimize/_minimize.py:518: RuntimeWarning: Method BFGS cannot handle constraints nor bounds.\n  RuntimeWarning)\n"
     ]
    },
    {
     "name": "stderr",
     "output_type": "stream",
     "text": [
      "/Users/ffroehlich/Documents/GitHub/pyPESTO/venv/lib/python3.6/site-packages/scipy/optimize/_minimize.py:507: RuntimeWarning: Method BFGS does not use Hessian information (hess).\n  RuntimeWarning)\n/Users/ffroehlich/Documents/GitHub/pyPESTO/venv/lib/python3.6/site-packages/scipy/optimize/_minimize.py:518: RuntimeWarning: Method BFGS cannot handle constraints nor bounds.\n  RuntimeWarning)\n"
     ]
    },
    {
     "name": "stderr",
     "output_type": "stream",
     "text": [
      "/Users/ffroehlich/Documents/GitHub/pyPESTO/venv/lib/python3.6/site-packages/scipy/optimize/_minimize.py:507: RuntimeWarning: Method BFGS does not use Hessian information (hess).\n  RuntimeWarning)\n/Users/ffroehlich/Documents/GitHub/pyPESTO/venv/lib/python3.6/site-packages/scipy/optimize/_minimize.py:518: RuntimeWarning: Method BFGS cannot handle constraints nor bounds.\n  RuntimeWarning)\n/Users/ffroehlich/Documents/GitHub/pyPESTO/venv/lib/python3.6/site-packages/scipy/optimize/_minimize.py:507: RuntimeWarning: Method BFGS does not use Hessian information (hess).\n  RuntimeWarning)\n/Users/ffroehlich/Documents/GitHub/pyPESTO/venv/lib/python3.6/site-packages/scipy/optimize/_minimize.py:518: RuntimeWarning: Method BFGS cannot handle constraints nor bounds.\n  RuntimeWarning)\n"
     ]
    },
    {
     "name": "stderr",
     "output_type": "stream",
     "text": [
      "/Users/ffroehlich/Documents/GitHub/pyPESTO/venv/lib/python3.6/site-packages/scipy/optimize/_minimize.py:507: RuntimeWarning: Method BFGS does not use Hessian information (hess).\n  RuntimeWarning)\n/Users/ffroehlich/Documents/GitHub/pyPESTO/venv/lib/python3.6/site-packages/scipy/optimize/_minimize.py:518: RuntimeWarning: Method BFGS cannot handle constraints nor bounds.\n  RuntimeWarning)\n"
     ]
    },
    {
     "name": "stdout",
     "output_type": "stream",
     "text": [
      "[      fun: -13.518432986601582\n hess_inv: array([[0.07081304, 0.07094581],\n       [0.07094581, 0.07107883]])\n      jac: array([-3.11055474e-06,  3.24925960e-06])\n  message: 'Desired error not necessarily achieved due to precision loss.'\n     nfev: 106\n      nit: 17\n     njev: 94\n   status: 2\n  success: False\n        x: array([-0.35450323, -0.68904808]),       fun: -13.518432986601574\n hess_inv: array([[0.08077047, 0.06530135],\n       [0.06530135, 0.05477681]])\n      jac: array([-6.60918972e-07,  8.10835644e-07])\n  message: 'Desired error not necessarily achieved due to precision loss.'\n     nfev: 80\n      nit: 11\n     njev: 69\n   status: 2\n  success: False\n        x: array([-0.35450323, -0.68904808]),       fun: -13.518432986601564\n hess_inv: array([[0.0421166 , 0.03541616],\n       [0.03541616, 0.03174714]])\n      jac: array([ 1.70540629e-06, -1.65876644e-06])\n  message: 'Desired error not necessarily achieved due to precision loss.'\n     nfev: 87\n      nit: 8\n     njev: 75\n   status: 2\n  success: False\n        x: array([-0.35450323, -0.68904809]),       fun: -13.518432986601576\n hess_inv: array([[0.00404891, 0.00234723],\n       [0.00234723, 0.00136074]])\n      jac: array([-1.81726638e-06,  2.95778121e-06])\n  message: 'Desired error not necessarily achieved due to precision loss.'\n     nfev: 157\n      nit: 20\n     njev: 143\n   status: 2\n  success: False\n        x: array([-0.35450322, -0.68904807]),       fun: -13.518432986601509\n hess_inv: array([[0.00667576, 0.01050472],\n       [0.01050472, 0.0191404 ]])\n      jac: array([ 8.11708951e-07, -8.32169885e-07])\n  message: 'Desired error not necessarily achieved due to precision loss.'\n     nfev: 48\n      nit: 18\n     njev: 47\n   status: 2\n  success: False\n        x: array([-0.35450324, -0.68904809]),       fun: -11.532755753737035\n hess_inv: array([[0.50047564, 0.49943676],\n       [0.49943676, 0.50069118]])\n      jac: array([-1.63436618e-08, -1.95538256e-09])\n  message: 'Desired error not necessarily achieved due to precision loss.'\n     nfev: 28\n      nit: 6\n     njev: 19\n   status: 2\n  success: False\n        x: array([1.43576056, 1.03141382]),       fun: -11.53275579222294\n hess_inv: array([[0.50051485, 0.4994287 ],\n       [0.4994287 , 0.5006358 ]])\n      jac: array([-3.27306272e-08,  1.12300472e-08])\n  message: 'Desired error not necessarily achieved due to precision loss.'\n     nfev: 74\n      nit: 6\n     njev: 63\n   status: 2\n  success: False\n        x: array([1.24034357, 0.83599683]),       fun: -13.518432986601551\n hess_inv: array([[0.09597063, 0.08909185],\n       [0.08909185, 0.08372287]])\n      jac: array([ 2.20929853e-06, -1.84800487e-06])\n  message: 'Desired error not necessarily achieved due to precision loss.'\n     nfev: 50\n      nit: 13\n     njev: 49\n   status: 2\n  success: False\n        x: array([-0.35450324, -0.6890481 ]),       fun: -13.518432986601486\n hess_inv: array([[0.05455272, 0.05440049],\n       [0.05440049, 0.05424868]])\n      jac: array([ 5.24687464e-06, -6.34142607e-06])\n  message: 'Desired error not necessarily achieved due to precision loss.'\n     nfev: 117\n      nit: 12\n     njev: 106\n   status: 2\n  success: False\n        x: array([-0.35450327, -0.68904812]),       fun: -12.891093465931428\n hess_inv: array([[2.22540510e+09, 2.22806581e+09],\n       [2.22806581e+09, 2.23072969e+09]])\n      jac: array([ 17.91904013, -17.89763361])\n  message: 'Desired error not necessarily achieved due to precision loss.'\n     nfev: 37\n      nit: 10\n     njev: 25\n   status: 2\n  success: False\n        x: array([-0.18131842, -0.58717934])]\n"
     ]
    },
    {
     "name": "stderr",
     "output_type": "stream",
     "text": [
      "/Users/ffroehlich/Documents/GitHub/pyPESTO/venv/lib/python3.6/site-packages/scipy/optimize/_minimize.py:507: RuntimeWarning: Method BFGS does not use Hessian information (hess).\n  RuntimeWarning)\n/Users/ffroehlich/Documents/GitHub/pyPESTO/venv/lib/python3.6/site-packages/scipy/optimize/_minimize.py:518: RuntimeWarning: Method BFGS cannot handle constraints nor bounds.\n  RuntimeWarning)\n/Users/ffroehlich/Documents/GitHub/pyPESTO/venv/lib/python3.6/site-packages/scipy/optimize/_minimize.py:507: RuntimeWarning: Method BFGS does not use Hessian information (hess).\n  RuntimeWarning)\n/Users/ffroehlich/Documents/GitHub/pyPESTO/venv/lib/python3.6/site-packages/scipy/optimize/_minimize.py:518: RuntimeWarning: Method BFGS cannot handle constraints nor bounds.\n  RuntimeWarning)\n/Users/ffroehlich/Documents/GitHub/pyPESTO/venv/lib/python3.6/site-packages/scipy/optimize/_minimize.py:507: RuntimeWarning: Method BFGS does not use Hessian information (hess).\n  RuntimeWarning)\n/Users/ffroehlich/Documents/GitHub/pyPESTO/venv/lib/python3.6/site-packages/scipy/optimize/_minimize.py:518: RuntimeWarning: Method BFGS cannot handle constraints nor bounds.\n  RuntimeWarning)\n"
     ]
    }
   ],
   "source": [
    "import os\n",
    "import types\n",
    "import importlib\n",
    "import pesto\n",
    "import pesto.optimize.optimizer\n",
    "import pesto.optimize.optimize\n",
    "\n",
    "def reload_package(package):\n",
    "    assert(hasattr(package, \"__package__\"))\n",
    "    fn = package.__file__\n",
    "    fn_dir = os.path.dirname(fn) + os.sep\n",
    "    module_visit = {fn}\n",
    "    del fn\n",
    "\n",
    "    def reload_recursive_ex(module):\n",
    "        importlib.reload(module)\n",
    "\n",
    "        for module_child in vars(module).values():\n",
    "            if isinstance(module_child, types.ModuleType):\n",
    "                fn_child = getattr(module_child, \"__file__\", None)\n",
    "                if (fn_child is not None) and fn_child.startswith(fn_dir):\n",
    "                    if fn_child not in module_visit:\n",
    "                        #print(\"reloading:\", fn_child, \"from\", module)\n",
    "                        module_visit.add(fn_child)\n",
    "                        reload_recursive_ex(module_child)\n",
    "\n",
    "    return reload_recursive_ex(package)\n",
    "\n",
    "reload_package(pesto)\n",
    "\n",
    "# create objective function from amici model\n",
    "# pesto.AmiciObjective is derived from pesto.Objective, \n",
    "# the general pesto objective function class\n",
    "objective = pesto.objective.AmiciObjective(model, solver, [edata], 1)\n",
    "\n",
    "# create optimizer object which contains all information for doing the optimization\n",
    "optimizer = pesto.optimize.optimizer.Optimizer()\n",
    "\n",
    "#optimizer.solver = 'bfgs|meigo'\n",
    "# if select meigo -> also set default values in solver_options\n",
    "#optimizer.options = {'maxiter': 1000, 'disp': True} # = pesto.default_options_meigo()\n",
    "#optimizer.startpoints = []\n",
    "#optimizer.startpoint_method = 'lhs|uniform|something|function'\n",
    "#optimizer.n_starts = 100\n",
    "\n",
    "# see PestoOptions.m for more required options here\n",
    "# returns OptimizationResult, see parameters.MS for what to return\n",
    "# list of final optim results foreach multistart, times, hess, grad, \n",
    "# flags, meta information (which optimizer -> optimizer.get_repr())\n",
    "\n",
    "# create problem object containing all information on the problem to be solved\n",
    "problem = pesto.problem.Problem(objective, model)\n",
    "problem.generate_starting_points(10)\n",
    "\n",
    "# maybe lb, ub = inf\n",
    "# other constraints: kwargs, class pesto.Constraints\n",
    "# constraints on pams, states, esp. pesto.AmiciConstraints (e.g. pam1 + pam2<= const)\n",
    "# if optimizer cannot handle -> error\n",
    "# maybe also scaling / transformation of parameters encoded here\n",
    "\n",
    "# do the optimization\n",
    "result = pesto.optimize.optimize.optimize(problem, optimizer, result=None)\n",
    "print(result)\n",
    "# optimize is a function since it does not need an internal memory,\n",
    "# just takes input and returns output in the form of a Result object\n",
    "# 'result' parameter: e.g. some results from somewhere -> pick best start points"
   ]
  },
  {
   "cell_type": "markdown",
   "metadata": {},
   "source": [
    "## Visualize"
   ]
  },
  {
   "cell_type": "code",
   "execution_count": 4,
   "metadata": {},
   "outputs": [
    {
     "ename": "AttributeError",
     "evalue": "module 'pesto' has no attribute 'plot_waterfall'",
     "traceback": [
      "\u001b[0;31m---------------------------------------------------------------------------\u001b[0m",
      "\u001b[0;31mAttributeError\u001b[0m                            Traceback (most recent call last)",
      "\u001b[0;32m<ipython-input-4-6142ba51489a>\u001b[0m in \u001b[0;36m<module>\u001b[0;34m()\u001b[0m\n\u001b[1;32m      1\u001b[0m \u001b[0;31m# waterfall, parameter space, scatter plots, fits to data\u001b[0m\u001b[0;34m\u001b[0m\u001b[0;34m\u001b[0m\u001b[0m\n\u001b[1;32m      2\u001b[0m \u001b[0;31m# different functions for different plotting types\u001b[0m\u001b[0;34m\u001b[0m\u001b[0;34m\u001b[0m\u001b[0m\n\u001b[0;32m----> 3\u001b[0;31m \u001b[0mpesto\u001b[0m\u001b[0;34m.\u001b[0m\u001b[0mplot_waterfall\u001b[0m\u001b[0;34m(\u001b[0m\u001b[0mproblem\u001b[0m\u001b[0;34m,\u001b[0m \u001b[0mresult\u001b[0m\u001b[0;34m)\u001b[0m\u001b[0;34m\u001b[0m\u001b[0m\n\u001b[0m",
      "\u001b[0;31mAttributeError\u001b[0m: module 'pesto' has no attribute 'plot_waterfall'"
     ],
     "output_type": "error"
    }
   ],
   "source": [
    "# waterfall, parameter space, scatter plots, fits to data\n",
    "# different functions for different plotting types\n",
    "pesto.plot_waterfall(problem, result)"
   ]
  },
  {
   "cell_type": "markdown",
   "metadata": {},
   "source": [
    "## Data storage"
   ]
  },
  {
   "cell_type": "code",
   "execution_count": 12,
   "metadata": {},
   "outputs": [],
   "source": [
    ""
   ]
  },
  {
   "cell_type": "markdown",
   "metadata": {},
   "source": [
    "## Profiles"
   ]
  },
  {
   "cell_type": "code",
   "execution_count": null,
   "metadata": {},
   "outputs": [],
   "source": [
    "# there are three main parts: optimize, profile, sample. the overall structure of profiles and sampling\n",
    "# will be similar to optimizer like above.\n",
    "# we intend to only have just one result object which can be reused everywhere, but the problem of how to \n",
    "# not have one huge class but\n",
    "# maybe simplified views on it for optimization, profiles and sampling is still to be solved\n",
    "\n",
    "profiler = pesto.Profiler()\n",
    "\n",
    "result = pesto.profile(problem, profiler, result=None)\n",
    "# possibly pass result object from optimization to get good parameter guesses"
   ]
  },
  {
   "cell_type": "markdown",
   "metadata": {},
   "source": [
    "## Sampling"
   ]
  },
  {
   "cell_type": "code",
   "execution_count": null,
   "metadata": {},
   "outputs": [],
   "source": [
    "sampler = pesto.Sampler()\n",
    "\n",
    "result = pesto.sample(problem, sampler, result=None)"
   ]
  },
  {
   "cell_type": "code",
   "execution_count": null,
   "metadata": {},
   "outputs": [],
   "source": [
    "# open: how to parallelize. the idea is to use methods similar to those in pyabc for working on clusters.\n",
    "# one way would be to specify an additional 'engine' object passed to optimize(), profile(), sample(),\n",
    "# which in the default setting just does a for loop, but can also be customized."
   ]
  }
 ],
 "metadata": {
  "kernelspec": {
   "display_name": "Python 3",
   "language": "python",
   "name": "python3"
  },
  "language_info": {
   "codemirror_mode": {
    "name": "ipython",
    "version": 3
   },
   "file_extension": ".py",
   "mimetype": "text/x-python",
   "name": "python",
   "nbconvert_exporter": "python",
   "pygments_lexer": "ipython3",
   "version": "3.6.5"
  }
 },
 "nbformat": 4,
 "nbformat_minor": 2
}
