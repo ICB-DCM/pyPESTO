{
 "cells": [
  {
   "attachments": {},
   "cell_type": "markdown",
   "metadata": {},
   "source": [
    "# Parameter estimation using censored data"
   ]
  },
  {
   "attachments": {},
   "cell_type": "markdown",
   "metadata": {},
   "source": [
    "This Notebook explains the use of censored data for parameter estimation of ODE models.\n",
    "An example model is provided in `pypesto/doc/example/example_censored`. \n",
    "The implementation supports all three censoring types of measurements:\n",
    "\n",
    "- Left censored: a datapoint is below a certain known value.\n",
    "- Right censored: a datapoint is above a certain known value.\n",
    "- Interval censored: a datapoint is on an interval between two known values.\n",
    "\n",
    "In all three cases, the exact numerical value of the datapoint is unknown. For the integration of censored measurements, we employ the optimal scaling approach. In this approach, each datapoint is represented by a variable surrogate datapoint which is constrained to be in its respective category. Categories can be thought of as intervals with specific bounds. \n",
    "\n",
    "For censored data, the category bounds are already known from the censoring value:\n",
    "\n",
    "- for left censored data the category bounds are (0, censoring value),\n",
    "- for right censored data the category bounds are (censoring value, infinity),\n",
    "- for interval censored data the category bounds are given by the interval bounds.\n",
    "\n",
    "This makes the identification of surrogate data extremely simple, as it can be directly (analytically) calculated.\n",
    "\n",
    "Details on the optimal scaling approach can be found in Shepard, 1962 (https://doi.org/10.1007/BF02289621).\n",
    "Details on the application of the gradient-based optimal scaling approach to mechanistic modeling\n",
    "with ordinal data can be found in Schmiester et al. 2020 (https://doi.org/10.1007/s00285-020-01522-w)\n",
    "and Schmiester et al. 2021 (https://doi.org/10.1093/bioinformatics/btab512)."
   ]
  },
  {
   "attachments": {},
   "cell_type": "markdown",
   "metadata": {},
   "source": [
    "## Import model from the petab_problem"
   ]
  },
  {
   "cell_type": "code",
   "execution_count": 1,
   "metadata": {},
   "outputs": [],
   "source": [
    "import matplotlib.pyplot as plt\n",
    "import numpy as np\n",
    "import petab\n",
    "\n",
    "import pypesto\n",
    "import pypesto.logging\n",
    "import pypesto.optimize as optimize\n",
    "from pypesto.petab import PetabImporter\n",
    "from pypesto.visualize import plot_categories_from_pypesto_result"
   ]
  },
  {
   "attachments": {},
   "cell_type": "markdown",
   "metadata": {},
   "source": [
    "To use censored data for parameter estimation, in pyPESTO we use the optimal scaling approach. Since the optimal scaling approach is implemented in the hierarchical manner, it requires us to specify `hierarchical=True` when importing the `petab_problem`:"
   ]
  },
  {
   "cell_type": "code",
   "execution_count": 2,
   "metadata": {},
   "outputs": [],
   "source": [
    "petab_folder = './example_censored/'\n",
    "yaml_file = 'example_censored.yaml'\n",
    "\n",
    "petab_problem = petab.Problem.from_yaml(petab_folder + yaml_file)\n",
    "\n",
    "importer = PetabImporter(petab_problem, hierarchical=True)"
   ]
  },
  {
   "attachments": {},
   "cell_type": "markdown",
   "metadata": {},
   "source": [
    "The `petab_problem` has to be specified in the usual PEtab formulation. The censored measurements have to be specified in the `measurement.tsv` file by adding the censoring type in the `measurementType` column, where a censoring type can be:\n",
    "\n",
    "- `left-censored`,\n",
    "- `right-censored`,\n",
    "- or `interval-censored`.\n",
    "\n",
    "If the censoring type is not specified, the measurement will be considered as quantitative. Then, the censoring bound has to be specified in the `censoringBounds` column. For interval censored measurements the bounds should be separated with a semicolon:"
   ]
  },
  {
   "cell_type": "code",
   "execution_count": 3,
   "metadata": {},
   "outputs": [
    {
     "data": {
      "text/html": [
       "<div>\n",
       "<style scoped>\n",
       "    .dataframe tbody tr th:only-of-type {\n",
       "        vertical-align: middle;\n",
       "    }\n",
       "\n",
       "    .dataframe tbody tr th {\n",
       "        vertical-align: top;\n",
       "    }\n",
       "\n",
       "    .dataframe thead th {\n",
       "        text-align: right;\n",
       "    }\n",
       "</style>\n",
       "<table border=\"1\" class=\"dataframe\">\n",
       "  <thead>\n",
       "    <tr style=\"text-align: right;\">\n",
       "      <th></th>\n",
       "      <th>observableId</th>\n",
       "      <th>preequilibrationConditionId</th>\n",
       "      <th>simulationConditionId</th>\n",
       "      <th>measurement</th>\n",
       "      <th>time</th>\n",
       "      <th>observableParameters</th>\n",
       "      <th>noiseParameters</th>\n",
       "      <th>observableTransformation</th>\n",
       "      <th>noiseDistribution</th>\n",
       "      <th>measurementType</th>\n",
       "      <th>censoringBounds</th>\n",
       "    </tr>\n",
       "  </thead>\n",
       "  <tbody>\n",
       "    <tr>\n",
       "      <th>0</th>\n",
       "      <td>Activity</td>\n",
       "      <td>NaN</td>\n",
       "      <td>Inhibitor_0</td>\n",
       "      <td>NaN</td>\n",
       "      <td>5</td>\n",
       "      <td>NaN</td>\n",
       "      <td>1</td>\n",
       "      <td>lin</td>\n",
       "      <td>normal</td>\n",
       "      <td>interval-censored</td>\n",
       "      <td>10.0;16.0</td>\n",
       "    </tr>\n",
       "    <tr>\n",
       "      <th>1</th>\n",
       "      <td>Activity</td>\n",
       "      <td>NaN</td>\n",
       "      <td>Inhibitor_3</td>\n",
       "      <td>NaN</td>\n",
       "      <td>5</td>\n",
       "      <td>NaN</td>\n",
       "      <td>1</td>\n",
       "      <td>lin</td>\n",
       "      <td>normal</td>\n",
       "      <td>interval-censored</td>\n",
       "      <td>10.0;16.0</td>\n",
       "    </tr>\n",
       "    <tr>\n",
       "      <th>2</th>\n",
       "      <td>Activity</td>\n",
       "      <td>NaN</td>\n",
       "      <td>Inhibitor_10</td>\n",
       "      <td>17.892654</td>\n",
       "      <td>5</td>\n",
       "      <td>NaN</td>\n",
       "      <td>1</td>\n",
       "      <td>lin</td>\n",
       "      <td>normal</td>\n",
       "      <td>NaN</td>\n",
       "      <td>NaN</td>\n",
       "    </tr>\n",
       "    <tr>\n",
       "      <th>3</th>\n",
       "      <td>Activity</td>\n",
       "      <td>NaN</td>\n",
       "      <td>Inhibitor_25</td>\n",
       "      <td>NaN</td>\n",
       "      <td>5</td>\n",
       "      <td>NaN</td>\n",
       "      <td>1</td>\n",
       "      <td>lin</td>\n",
       "      <td>normal</td>\n",
       "      <td>right-censored</td>\n",
       "      <td>20.0</td>\n",
       "    </tr>\n",
       "    <tr>\n",
       "      <th>4</th>\n",
       "      <td>Activity</td>\n",
       "      <td>NaN</td>\n",
       "      <td>Inhibitor_35</td>\n",
       "      <td>16.812104</td>\n",
       "      <td>5</td>\n",
       "      <td>NaN</td>\n",
       "      <td>1</td>\n",
       "      <td>lin</td>\n",
       "      <td>normal</td>\n",
       "      <td>NaN</td>\n",
       "      <td>NaN</td>\n",
       "    </tr>\n",
       "    <tr>\n",
       "      <th>5</th>\n",
       "      <td>Activity</td>\n",
       "      <td>NaN</td>\n",
       "      <td>Inhibitor_50</td>\n",
       "      <td>9.173129</td>\n",
       "      <td>5</td>\n",
       "      <td>NaN</td>\n",
       "      <td>1</td>\n",
       "      <td>lin</td>\n",
       "      <td>normal</td>\n",
       "      <td>NaN</td>\n",
       "      <td>NaN</td>\n",
       "    </tr>\n",
       "    <tr>\n",
       "      <th>6</th>\n",
       "      <td>Activity</td>\n",
       "      <td>NaN</td>\n",
       "      <td>Inhibitor_75</td>\n",
       "      <td>4.150928</td>\n",
       "      <td>5</td>\n",
       "      <td>NaN</td>\n",
       "      <td>1</td>\n",
       "      <td>lin</td>\n",
       "      <td>normal</td>\n",
       "      <td>NaN</td>\n",
       "      <td>NaN</td>\n",
       "    </tr>\n",
       "    <tr>\n",
       "      <th>7</th>\n",
       "      <td>Activity</td>\n",
       "      <td>NaN</td>\n",
       "      <td>Inhibitor_100</td>\n",
       "      <td>NaN</td>\n",
       "      <td>5</td>\n",
       "      <td>NaN</td>\n",
       "      <td>1</td>\n",
       "      <td>lin</td>\n",
       "      <td>normal</td>\n",
       "      <td>left-censored</td>\n",
       "      <td>3.0</td>\n",
       "    </tr>\n",
       "    <tr>\n",
       "      <th>8</th>\n",
       "      <td>Activity</td>\n",
       "      <td>NaN</td>\n",
       "      <td>Inhibitor_300</td>\n",
       "      <td>NaN</td>\n",
       "      <td>5</td>\n",
       "      <td>NaN</td>\n",
       "      <td>1</td>\n",
       "      <td>lin</td>\n",
       "      <td>normal</td>\n",
       "      <td>left-censored</td>\n",
       "      <td>3.0</td>\n",
       "    </tr>\n",
       "    <tr>\n",
       "      <th>9</th>\n",
       "      <td>Ybar</td>\n",
       "      <td>NaN</td>\n",
       "      <td>Inhibitor_0</td>\n",
       "      <td>0.000000</td>\n",
       "      <td>5</td>\n",
       "      <td>NaN</td>\n",
       "      <td>1</td>\n",
       "      <td>lin</td>\n",
       "      <td>normal</td>\n",
       "      <td>NaN</td>\n",
       "      <td>NaN</td>\n",
       "    </tr>\n",
       "    <tr>\n",
       "      <th>10</th>\n",
       "      <td>Ybar</td>\n",
       "      <td>NaN</td>\n",
       "      <td>Inhibitor_3</td>\n",
       "      <td>0.059999</td>\n",
       "      <td>5</td>\n",
       "      <td>NaN</td>\n",
       "      <td>1</td>\n",
       "      <td>lin</td>\n",
       "      <td>normal</td>\n",
       "      <td>NaN</td>\n",
       "      <td>NaN</td>\n",
       "    </tr>\n",
       "    <tr>\n",
       "      <th>11</th>\n",
       "      <td>Ybar</td>\n",
       "      <td>NaN</td>\n",
       "      <td>Inhibitor_10</td>\n",
       "      <td>0.199994</td>\n",
       "      <td>5</td>\n",
       "      <td>NaN</td>\n",
       "      <td>1</td>\n",
       "      <td>lin</td>\n",
       "      <td>normal</td>\n",
       "      <td>NaN</td>\n",
       "      <td>NaN</td>\n",
       "    </tr>\n",
       "    <tr>\n",
       "      <th>12</th>\n",
       "      <td>Ybar</td>\n",
       "      <td>NaN</td>\n",
       "      <td>Inhibitor_25</td>\n",
       "      <td>0.499043</td>\n",
       "      <td>5</td>\n",
       "      <td>NaN</td>\n",
       "      <td>1</td>\n",
       "      <td>lin</td>\n",
       "      <td>normal</td>\n",
       "      <td>NaN</td>\n",
       "      <td>NaN</td>\n",
       "    </tr>\n",
       "    <tr>\n",
       "      <th>13</th>\n",
       "      <td>Ybar</td>\n",
       "      <td>NaN</td>\n",
       "      <td>Inhibitor_35</td>\n",
       "      <td>0.659169</td>\n",
       "      <td>5</td>\n",
       "      <td>NaN</td>\n",
       "      <td>1</td>\n",
       "      <td>lin</td>\n",
       "      <td>normal</td>\n",
       "      <td>NaN</td>\n",
       "      <td>NaN</td>\n",
       "    </tr>\n",
       "    <tr>\n",
       "      <th>14</th>\n",
       "      <td>Ybar</td>\n",
       "      <td>NaN</td>\n",
       "      <td>Inhibitor_50</td>\n",
       "      <td>0.814954</td>\n",
       "      <td>5</td>\n",
       "      <td>NaN</td>\n",
       "      <td>1</td>\n",
       "      <td>lin</td>\n",
       "      <td>normal</td>\n",
       "      <td>NaN</td>\n",
       "      <td>NaN</td>\n",
       "    </tr>\n",
       "    <tr>\n",
       "      <th>15</th>\n",
       "      <td>Ybar</td>\n",
       "      <td>NaN</td>\n",
       "      <td>Inhibitor_75</td>\n",
       "      <td>0.916383</td>\n",
       "      <td>5</td>\n",
       "      <td>NaN</td>\n",
       "      <td>1</td>\n",
       "      <td>lin</td>\n",
       "      <td>normal</td>\n",
       "      <td>NaN</td>\n",
       "      <td>NaN</td>\n",
       "    </tr>\n",
       "    <tr>\n",
       "      <th>16</th>\n",
       "      <td>Ybar</td>\n",
       "      <td>NaN</td>\n",
       "      <td>Inhibitor_100</td>\n",
       "      <td>0.948981</td>\n",
       "      <td>5</td>\n",
       "      <td>NaN</td>\n",
       "      <td>1</td>\n",
       "      <td>lin</td>\n",
       "      <td>normal</td>\n",
       "      <td>NaN</td>\n",
       "      <td>NaN</td>\n",
       "    </tr>\n",
       "    <tr>\n",
       "      <th>17</th>\n",
       "      <td>Ybar</td>\n",
       "      <td>NaN</td>\n",
       "      <td>Inhibitor_300</td>\n",
       "      <td>0.988130</td>\n",
       "      <td>5</td>\n",
       "      <td>NaN</td>\n",
       "      <td>1</td>\n",
       "      <td>lin</td>\n",
       "      <td>normal</td>\n",
       "      <td>NaN</td>\n",
       "      <td>NaN</td>\n",
       "    </tr>\n",
       "  </tbody>\n",
       "</table>\n",
       "</div>"
      ],
      "text/plain": [
       "   observableId  preequilibrationConditionId  ...    measurementType  censoringBounds\n",
       "0      Activity                          NaN  ...  interval-censored        10.0;16.0\n",
       "1      Activity                          NaN  ...  interval-censored        10.0;16.0\n",
       "2      Activity                          NaN  ...                NaN              NaN\n",
       "3      Activity                          NaN  ...     right-censored             20.0\n",
       "4      Activity                          NaN  ...                NaN              NaN\n",
       "5      Activity                          NaN  ...                NaN              NaN\n",
       "6      Activity                          NaN  ...                NaN              NaN\n",
       "7      Activity                          NaN  ...      left-censored              3.0\n",
       "8      Activity                          NaN  ...      left-censored              3.0\n",
       "9          Ybar                          NaN  ...                NaN              NaN\n",
       "10         Ybar                          NaN  ...                NaN              NaN\n",
       "11         Ybar                          NaN  ...                NaN              NaN\n",
       "12         Ybar                          NaN  ...                NaN              NaN\n",
       "13         Ybar                          NaN  ...                NaN              NaN\n",
       "14         Ybar                          NaN  ...                NaN              NaN\n",
       "15         Ybar                          NaN  ...                NaN              NaN\n",
       "16         Ybar                          NaN  ...                NaN              NaN\n",
       "17         Ybar                          NaN  ...                NaN              NaN\n",
       "\n",
       "[18 rows x 11 columns]"
      ]
     },
     "metadata": {},
     "output_type": "display_data"
    }
   ],
   "source": [
    "from pandas import option_context\n",
    "\n",
    "with option_context('display.max_colwidth', 400):\n",
    "    display(petab_problem.measurement_df)"
   ]
  },
  {
   "attachments": {},
   "cell_type": "markdown",
   "metadata": {},
   "source": [
    "For censored measurements, the `measurement` column will be ignored. For the `Ybar` observable we didn't specify a measurement type, so those will be used as quantitative.\n",
    "\n",
    "#### Note on inclusion of additional data types:\n",
    "It is possible to include observables with different types of data to the same `petab_problem`. Refer to the notebooks on using [nonlinear-monotone data](example_nonlinear_monotone.ipynb) and [ordinal data](example_ordinal.ipynb) for details on integration of other data types. Additionally, as shown in this example, if the `measurementType` column is left empty for all measurements of an observable, the observable will be treated as quantitative."
   ]
  },
  {
   "attachments": {},
   "cell_type": "markdown",
   "metadata": {},
   "source": [
    "## Construct the objective and pypesto problem"
   ]
  },
  {
   "attachments": {},
   "cell_type": "markdown",
   "metadata": {},
   "source": [
    "Now when we construct the `objective`, it will construct all objects of the optimal scaling inner optimization:\n",
    "\n",
    "- `OptimalScalingInnerSolver`\n",
    "- `OptimalScalingAmiciCalculator`\n",
    "- `OptimalScalingProblem`\n",
    "\n",
    "As there are no censored data specific inner options, we will pass none to the constructor."
   ]
  },
  {
   "cell_type": "code",
   "execution_count": 4,
   "metadata": {},
   "outputs": [],
   "source": [
    "objective = importer.create_objective()"
   ]
  },
  {
   "attachments": {},
   "cell_type": "markdown",
   "metadata": {},
   "source": [
    "Now let's construct the pyPESTO problem and optimizer. We're going to use a gradint-based optimizer for a faster optimization, but gradient-free optimizers can be used in the same way:"
   ]
  },
  {
   "cell_type": "code",
   "execution_count": 5,
   "metadata": {},
   "outputs": [],
   "source": [
    "problem = importer.create_problem(objective)\n",
    "\n",
    "engine = pypesto.engine.SingleCoreEngine()\n",
    "\n",
    "optimizer = optimize.ScipyOptimizer(\n",
    "    method=\"L-BFGS-B\",\n",
    "    options={\"disp\": None, \"ftol\": 2.220446049250313e-09, \"gtol\": 1e-5},\n",
    ")\n",
    "n_starts = 10\n",
    "np.random.seed(n_starts)"
   ]
  },
  {
   "attachments": {},
   "cell_type": "markdown",
   "metadata": {},
   "source": [
    "## Run optimization using optimal scaling approach"
   ]
  },
  {
   "cell_type": "code",
   "execution_count": 6,
   "metadata": {
    "scrolled": true
   },
   "outputs": [
    {
     "name": "stderr",
     "output_type": "stream",
     "text": [
      "100%|██████████| 10/10 [00:17<00:00,  1.79s/it]\n"
     ]
    }
   ],
   "source": [
    "np.random.seed(n_starts)\n",
    "\n",
    "res = optimize.minimize(\n",
    "    problem, n_starts=n_starts, optimizer=optimizer, engine=engine\n",
    ")"
   ]
  },
  {
   "attachments": {},
   "cell_type": "markdown",
   "metadata": {},
   "source": [
    "## Visualizing the result"
   ]
  },
  {
   "cell_type": "code",
   "execution_count": 7,
   "metadata": {},
   "outputs": [
    {
     "data": {
      "text/plain": [
       "<AxesSubplot: title={'center': 'Waterfall plot'}, xlabel='Ordered optimizer run', ylabel='Objective value (offset=-1.554e+01)'>"
      ]
     },
     "execution_count": 7,
     "metadata": {},
     "output_type": "execute_result"
    },
    {
     "data": {
      "image/png": "[encoded data removed]",
      "text/plain": [
       "<Figure size 1850x1050 with 1 Axes>"
      ]
     },
     "metadata": {},
     "output_type": "display_data"
    }
   ],
   "source": [
    "from pypesto.visualize import waterfall\n",
    "\n",
    "waterfall(res)"
   ]
  },
  {
   "attachments": {},
   "cell_type": "markdown",
   "metadata": {},
   "source": [
    "We can plot the censoring categories using the `plot_categories_from_pypesto_result` plotting function."
   ]
  },
  {
   "cell_type": "code",
   "execution_count": 8,
   "metadata": {},
   "outputs": [
    {
     "data": {
      "image/png": "[encoded data removed]",
      "text/plain": [
       "<Figure size 640x480 with 1 Axes>"
      ]
     },
     "metadata": {},
     "output_type": "display_data"
    }
   ],
   "source": [
    "plot_categories_from_pypesto_result(res)\n",
    "plt.show()"
   ]
  }
 ],
 "metadata": {
  "kernelspec": {
   "display_name": "dev_venv",
   "language": "python",
   "name": "python3"
  },
  "language_info": {
   "codemirror_mode": {
    "name": "ipython",
    "version": 3
   },
   "file_extension": ".py",
   "mimetype": "text/x-python",
   "name": "python",
   "nbconvert_exporter": "python",
   "pygments_lexer": "ipython3",
   "version": "3.10.10"
  },
  "vscode": {
   "interpreter": {
    "hash": "b4f64b1cfeae9987d9a74471fe6faf49d769577c41c664ee1b5af662a144b184"
   }
  }
 },
 "nbformat": 4,
 "nbformat_minor": 2
}
