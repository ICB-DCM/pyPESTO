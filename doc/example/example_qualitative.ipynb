{
 "cells": [
  {
   "cell_type": "markdown",
   "metadata": {},
   "source": [
    "# Parameter estimation using qualitative data"
   ]
  },
  {
   "cell_type": "markdown",
   "metadata": {},
   "source": [
    "This Notebook eplains the use of qualitative data for parameter estimation, as described in [Schmiester et al. (2019)](https://www.biorxiv.org/content/10.1101/848648v1.abstract). An example model is provided in `example_qualitative`"
   ]
  },
  {
   "cell_type": "markdown",
   "metadata": {},
   "source": [
    "## Import model and create pyPESTO objective"
   ]
  },
  {
   "cell_type": "code",
   "execution_count": 1,
   "metadata": {},
   "outputs": [],
   "source": [
    "import pypesto\n",
    "import pypesto.petab\n",
    "import pypesto.optimize as optimize\n",
    "\n",
    "import amici\n",
    "import petab\n",
    "import numpy as np\n",
    "from pypesto.hierarchical.optimal_scaling_approach.optimal_scaling_solver import OptimalScalingInnerSolver\n",
    "import pypesto.logging\n",
    "import logging"
   ]
  },
  {
   "cell_type": "code",
   "execution_count": 2,
   "metadata": {},
   "outputs": [
    {
     "name": "stderr",
     "output_type": "stream",
     "text": [
      "Compiling amici model to folder /Users/zebo/Documents/PhD/Projects/pypesto_amici_dev/dev_venv/pyPESTO/doc/example/amici_models/Raf_Mitra_NatCom2018OptimalScaling_3CatQual.\n",
      "2023-01-31 15:39:52.618 - amici.petab_import - INFO - Importing model ...\n",
      "2023-01-31 15:39:52.619 - amici.petab_import - INFO - Validating PEtab problem ...\n",
      "2023-01-31 15:39:52.629 - amici.petab_import - INFO - Model name is 'Raf_Mitra_NatCom2018OptimalScaling_3CatQual'.\n",
      "Writing model code to '/Users/zebo/Documents/PhD/Projects/pypesto_amici_dev/dev_venv/pyPESTO/doc/example/amici_models/Raf_Mitra_NatCom2018OptimalScaling_3CatQual'.\n",
      "2023-01-31 15:39:52.629 - amici.petab_import - INFO - Species: 6\n",
      "2023-01-31 15:39:52.629 - amici.petab_import - INFO - Global parameters: 9\n",
      "2023-01-31 15:39:52.630 - amici.petab_import - INFO - Reactions: 6\n",
      "2023-01-31 15:39:52.634 - amici.petab_import - INFO - Observables: 2\n",
      "2023-01-31 15:39:52.635 - amici.petab_import - INFO - Sigmas: 2\n",
      "2023-01-31 15:39:52.636 - amici.petab_import - DEBUG - Adding output parameters to model: ['noiseParameter1_Activity', 'noiseParameter1_Ybar']\n",
      "2023-01-31 15:39:52.637 - amici.petab_import - DEBUG - Adding initial assignments for []\n",
      "2023-01-31 15:39:52.640 - amici.petab_import - DEBUG - Condition table: (9, 2)\n",
      "2023-01-31 15:39:52.640 - amici.petab_import - DEBUG - Fixed parameters are ['K1', 'K2', 'init_I']\n",
      "2023-01-31 15:39:52.640 - amici.petab_import - INFO - Overall fixed parameters: 3\n",
      "2023-01-31 15:39:52.641 - amici.petab_import - INFO - Variable parameters: 14\n",
      "2023-01-31 15:39:52.652 - amici.sbml_import - INFO - Finished gathering local SBML symbols       ++ (5.85E-03s)\n",
      "2023-01-31 15:39:52.660 - amici.sbml_import - INFO - Finished processing SBML parameters         ++ (3.14E-03s)\n",
      "2023-01-31 15:39:52.663 - amici.sbml_import - INFO - Finished processing SBML compartments       ++ (1.07E-04s)\n",
      "2023-01-31 15:39:52.669 - amici.sbml_import - INFO - Finished processing SBML species initials  +++ (8.13E-04s)\n",
      "2023-01-31 15:39:52.672 - amici.sbml_import - INFO - Finished processing SBML rate rules        +++ (2.83E-05s)\n",
      "2023-01-31 15:39:52.672 - amici.sbml_import - INFO - Finished processing SBML species            ++ (5.96E-03s)\n",
      "2023-01-31 15:39:52.676 - amici.sbml_import - INFO - Finished processing SBML reactions          ++ (8.15E-04s)\n",
      "2023-01-31 15:39:52.681 - amici.sbml_import - INFO - Finished processing SBML rules              ++ (1.89E-03s)\n",
      "2023-01-31 15:39:52.684 - amici.sbml_import - INFO - Finished processing SBML initial assignments++ (5.78E-05s)\n",
      "2023-01-31 15:39:52.688 - amici.sbml_import - INFO - Finished processing SBML species references ++ (1.81E-04s)\n",
      "2023-01-31 15:39:52.691 - amici.sbml_import - INFO - Finished processing SBML events             ++ (5.11E-05s)\n",
      "2023-01-31 15:39:52.694 - amici.sbml_import - INFO - Finished importing SBML                      + (4.92E-02s)\n",
      "2023-01-31 15:39:52.713 - amici.sbml_import - INFO - Finished processing SBML observables         + (1.59E-02s)\n",
      "2023-01-31 15:39:52.717 - amici.sbml_import - INFO - Finished processing SBML event observables   + (1.33E-06s)\n",
      "2023-01-31 15:39:52.732 - amici.ode_export - INFO - Finished running smart_multiply              ++ (6.38E-04s)\n",
      "2023-01-31 15:39:52.739 - amici.ode_export - INFO - Finished importing SbmlImporter               + (9.04E-03s)\n",
      "2023-01-31 15:39:52.757 - amici.ode_export - INFO - Finished simplifying Jy                    ++++ (6.62E-03s)\n",
      "2023-01-31 15:39:52.758 - amici.ode_export - INFO - Finished computing Jy                       +++ (8.26E-03s)\n",
      "2023-01-31 15:39:52.765 - amici.ode_export - INFO - Finished simplifying y                     ++++ (1.93E-03s)\n",
      "2023-01-31 15:39:52.765 - amici.ode_export - INFO - Finished computing y                        +++ (4.17E-03s)\n",
      "2023-01-31 15:39:52.770 - amici.ode_export - INFO - Finished simplifying sigmay                ++++ (4.83E-05s)\n",
      "2023-01-31 15:39:52.771 - amici.ode_export - INFO - Finished computing sigmay                   +++ (1.53E-03s)\n",
      "2023-01-31 15:39:52.780 - amici.ode_export - INFO - Finished writing Jy.cpp                      ++ (3.14E-02s)\n",
      "2023-01-31 15:39:52.794 - amici.ode_export - INFO - Finished running smart_jacobian            ++++ (7.94E-03s)\n",
      "2023-01-31 15:39:52.799 - amici.ode_export - INFO - Finished simplifying dJydsigma             ++++ (2.66E-03s)\n",
      "2023-01-31 15:39:52.800 - amici.ode_export - INFO - Finished computing dJydsigma                +++ (1.52E-02s)\n",
      "2023-01-31 15:39:52.802 - amici.ode_export - INFO - Finished writing dJydsigma.cpp               ++ (1.81E-02s)\n",
      "2023-01-31 15:39:52.811 - amici.ode_export - INFO - Finished running smart_jacobian            ++++ (4.43E-03s)\n",
      "2023-01-31 15:39:52.818 - amici.ode_export - INFO - Finished simplifying dJydy                 ++++ (4.05E-03s)\n",
      "2023-01-31 15:39:52.819 - amici.ode_export - INFO - Finished computing dJydy                    +++ (1.31E-02s)\n",
      "2023-01-31 15:39:52.822 - amici.ode_export - INFO - Finished writing dJydy.cpp                   ++ (1.72E-02s)\n",
      "2023-01-31 15:39:52.828 - amici.ode_export - INFO - Finished simplifying Jz                    ++++ (4.13E-05s)\n",
      "2023-01-31 15:39:52.828 - amici.ode_export - INFO - Finished computing Jz                       +++ (2.11E-03s)\n",
      "2023-01-31 15:39:52.831 - amici.ode_export - INFO - Finished computing z                        +++ (6.68E-05s)\n",
      "2023-01-31 15:39:52.835 - amici.ode_export - INFO - Finished simplifying sigmaz                ++++ (4.51E-05s)\n",
      "2023-01-31 15:39:52.835 - amici.ode_export - INFO - Finished computing sigmaz                   +++ (2.23E-03s)\n",
      "2023-01-31 15:39:52.835 - amici.ode_export - INFO - Finished writing Jz.cpp                      ++ (1.08E-02s)\n",
      "2023-01-31 15:39:52.840 - amici.ode_export - INFO - Finished running smart_jacobian            ++++ (3.95E-05s)\n",
      "2023-01-31 15:39:52.845 - amici.ode_export - INFO - Finished simplifying dJzdsigma             ++++ (6.89E-05s)\n",
      "2023-01-31 15:39:52.846 - amici.ode_export - INFO - Finished computing dJzdsigma                +++ (6.58E-03s)\n",
      "2023-01-31 15:39:52.846 - amici.ode_export - INFO - Finished writing dJzdsigma.cpp               ++ (8.02E-03s)\n",
      "2023-01-31 15:39:52.854 - amici.ode_export - INFO - Finished running smart_jacobian            ++++ (3.30E-05s)\n",
      "2023-01-31 15:39:52.855 - amici.ode_export - INFO - Finished simplifying dJzdz                 ++++ (3.42E-05s)\n",
      "2023-01-31 15:39:52.856 - amici.ode_export - INFO - Finished computing dJzdz                    +++ (3.55E-03s)\n",
      "2023-01-31 15:39:52.856 - amici.ode_export - INFO - Finished writing dJzdz.cpp                   ++ (5.96E-03s)\n",
      "2023-01-31 15:39:52.863 - amici.ode_export - INFO - Finished simplifying Jrz                   ++++ (4.70E-05s)\n",
      "2023-01-31 15:39:52.863 - amici.ode_export - INFO - Finished computing Jrz                      +++ (2.24E-03s)\n",
      "2023-01-31 15:39:52.866 - amici.ode_export - INFO - Finished computing rz                       +++ (7.03E-05s)\n",
      "2023-01-31 15:39:52.866 - amici.ode_export - INFO - Finished writing Jrz.cpp                     ++ (7.50E-03s)\n",
      "2023-01-31 15:39:52.871 - amici.ode_export - INFO - Finished running smart_jacobian            ++++ (3.68E-05s)\n",
      "2023-01-31 15:39:52.874 - amici.ode_export - INFO - Finished simplifying dJrzdsigma            ++++ (4.42E-05s)\n",
      "2023-01-31 15:39:52.874 - amici.ode_export - INFO - Finished computing dJrzdsigma               +++ (4.25E-03s)\n",
      "2023-01-31 15:39:52.874 - amici.ode_export - INFO - Finished writing dJrzdsigma.cpp              ++ (5.65E-03s)\n",
      "2023-01-31 15:39:52.881 - amici.ode_export - INFO - Finished running smart_jacobian            ++++ (2.75E-05s)\n",
      "2023-01-31 15:39:52.883 - amici.ode_export - INFO - Finished simplifying dJrzdz                ++++ (3.47E-05s)\n",
      "2023-01-31 15:39:52.883 - amici.ode_export - INFO - Finished computing dJrzdz                   +++ (3.19E-03s)\n",
      "2023-01-31 15:39:52.883 - amici.ode_export - INFO - Finished writing dJrzdz.cpp                  ++ (4.92E-03s)\n",
      "2023-01-31 15:39:52.889 - amici.ode_export - INFO - Finished simplifying root                  ++++ (6.38E-05s)\n",
      "2023-01-31 15:39:52.890 - amici.ode_export - INFO - Finished computing root                     +++ (2.35E-03s)\n",
      "2023-01-31 15:39:52.890 - amici.ode_export - INFO - Finished writing root.cpp                    ++ (4.21E-03s)\n",
      "2023-01-31 15:39:52.906 - amici.ode_export - INFO - Finished simplifying w                    +++++ (7.82E-03s)\n",
      "2023-01-31 15:39:52.907 - amici.ode_export - INFO - Finished computing w                       ++++ (9.87E-03s)\n",
      "2023-01-31 15:39:52.915 - amici.ode_export - INFO - Finished running smart_jacobian            ++++ (5.38E-03s)\n",
      "2023-01-31 15:39:52.921 - amici.ode_export - INFO - Finished simplifying dwdp                  ++++ (2.09E-03s)\n",
      "2023-01-31 15:39:52.922 - amici.ode_export - INFO - Finished computing dwdp                     +++ (2.66E-02s)\n",
      "2023-01-31 15:39:52.925 - amici.ode_export - INFO - Finished writing dwdp.cpp                    ++ (3.19E-02s)\n",
      "2023-01-31 15:39:52.951 - amici.ode_export - INFO - Finished running smart_jacobian            ++++ (1.52E-02s)\n",
      "2023-01-31 15:39:52.958 - amici.ode_export - INFO - Finished simplifying dwdx                  ++++ (3.87E-03s)\n",
      "2023-01-31 15:39:52.960 - amici.ode_export - INFO - Finished computing dwdx                     +++ (2.59E-02s)\n",
      "2023-01-31 15:39:52.965 - amici.ode_export - INFO - Finished writing dwdx.cpp                    ++ (3.35E-02s)\n",
      "2023-01-31 15:39:52.973 - amici.ode_export - INFO - Finished running smart_jacobian            ++++ (2.03E-03s)\n",
      "2023-01-31 15:39:52.976 - amici.ode_export - INFO - Finished simplifying dwdw                  ++++ (9.05E-04s)\n",
      "2023-01-31 15:39:52.977 - amici.ode_export - INFO - Finished computing dwdw                     +++ (7.29E-03s)\n",
      "2023-01-31 15:39:52.978 - amici.ode_export - INFO - Finished writing dwdw.cpp                    ++ (1.02E-02s)\n",
      "2023-01-31 15:39:52.986 - amici.ode_export - INFO - Finished simplifying xdot                 +++++ (1.19E-03s)\n",
      "2023-01-31 15:39:52.987 - amici.ode_export - INFO - Finished computing xdot                    ++++ (2.69E-03s)\n",
      "2023-01-31 15:39:52.993 - amici.ode_export - INFO - Finished running smart_jacobian            ++++ (3.60E-03s)\n",
      "2023-01-31 15:39:52.996 - amici.ode_export - INFO - Finished simplifying dxdotdw               ++++ (1.38E-04s)\n",
      "2023-01-31 15:39:52.997 - amici.ode_export - INFO - Finished computing dxdotdw                  +++ (1.39E-02s)\n",
      "2023-01-31 15:39:53.000 - amici.ode_export - INFO - Finished writing dxdotdw.cpp                 ++ (1.83E-02s)\n",
      "2023-01-31 15:39:53.006 - amici.ode_export - INFO - Finished running smart_jacobian            ++++ (2.38E-04s)\n",
      "2023-01-31 15:39:53.009 - amici.ode_export - INFO - Finished simplifying dxdotdx_explicit      ++++ (6.40E-05s)\n",
      "2023-01-31 15:39:53.009 - amici.ode_export - INFO - Finished computing dxdotdx_explicit         +++ (5.46E-03s)\n",
      "2023-01-31 15:39:53.010 - amici.ode_export - INFO - Finished writing dxdotdx_explicit.cpp        ++ (7.50E-03s)\n",
      "2023-01-31 15:39:53.016 - amici.ode_export - INFO - Finished running smart_jacobian            ++++ (3.24E-04s)\n",
      "2023-01-31 15:39:53.021 - amici.ode_export - INFO - Finished simplifying dxdotdp_explicit      ++++ (7.04E-05s)\n",
      "2023-01-31 15:39:53.022 - amici.ode_export - INFO - Finished computing dxdotdp_explicit         +++ (8.00E-03s)\n",
      "2023-01-31 15:39:53.023 - amici.ode_export - INFO - Finished writing dxdotdp_explicit.cpp        ++ (1.00E-02s)\n",
      "2023-01-31 15:39:53.033 - amici.ode_export - INFO - Finished running smart_jacobian           +++++ (1.12E-03s)\n",
      "2023-01-31 15:39:53.037 - amici.ode_export - INFO - Finished simplifying dydx                 +++++ (6.36E-04s)\n",
      "2023-01-31 15:39:53.037 - amici.ode_export - INFO - Finished computing dydx                    ++++ (6.95E-03s)\n",
      "2023-01-31 15:39:53.044 - amici.ode_export - INFO - Finished running smart_jacobian           +++++ (1.72E-03s)\n",
      "2023-01-31 15:39:53.048 - amici.ode_export - INFO - Finished running smart_multiply           +++++ (2.84E-04s)\n",
      "2023-01-31 15:39:53.052 - amici.ode_export - INFO - Finished simplifying dydw                 +++++ (1.75E-03s)\n",
      "2023-01-31 15:39:53.053 - amici.ode_export - INFO - Finished computing dydw                    ++++ (1.23E-02s)\n",
      "2023-01-31 15:39:53.057 - amici.ode_export - INFO - Finished running smart_multiply            ++++ (5.32E-04s)\n",
      "2023-01-31 15:39:53.065 - amici.ode_export - INFO - Finished simplifying dydx                  ++++ (4.96E-03s)\n",
      "2023-01-31 15:39:53.065 - amici.ode_export - INFO - Finished computing dydx                     +++ (3.69E-02s)\n",
      "2023-01-31 15:39:53.068 - amici.ode_export - INFO - Finished writing dydx.cpp                    ++ (4.16E-02s)\n",
      "2023-01-31 15:39:53.077 - amici.ode_export - INFO - Finished running smart_jacobian           +++++ (1.73E-04s)\n",
      "2023-01-31 15:39:53.080 - amici.ode_export - INFO - Finished simplifying dydp                 +++++ (5.02E-05s)\n",
      "2023-01-31 15:39:53.080 - amici.ode_export - INFO - Finished computing dydp                    ++++ (5.48E-03s)\n",
      "2023-01-31 15:39:53.084 - amici.ode_export - INFO - Finished running smart_multiply            ++++ (4.05E-04s)\n",
      "2023-01-31 15:39:53.087 - amici.ode_export - INFO - Finished simplifying dydp                  ++++ (6.13E-05s)\n",
      "2023-01-31 15:39:53.088 - amici.ode_export - INFO - Finished computing dydp                     +++ (1.51E-02s)\n",
      "2023-01-31 15:39:53.088 - amici.ode_export - INFO - Finished writing dydp.cpp                    ++ (1.71E-02s)\n",
      "2023-01-31 15:39:53.094 - amici.ode_export - INFO - Finished computing dzdx                     +++ (9.62E-05s)\n",
      "2023-01-31 15:39:53.094 - amici.ode_export - INFO - Finished writing dzdx.cpp                    ++ (2.60E-03s)\n",
      "2023-01-31 15:39:53.098 - amici.ode_export - INFO - Finished computing dzdp                     +++ (8.10E-05s)\n",
      "2023-01-31 15:39:53.099 - amici.ode_export - INFO - Finished writing dzdp.cpp                    ++ (1.98E-03s)\n",
      "2023-01-31 15:39:53.104 - amici.ode_export - INFO - Finished computing drzdx                    +++ (9.65E-05s)\n",
      "2023-01-31 15:39:53.105 - amici.ode_export - INFO - Finished writing drzdx.cpp                   ++ (2.57E-03s)\n",
      "2023-01-31 15:39:53.109 - amici.ode_export - INFO - Finished computing drzdp                    +++ (1.04E-04s)\n",
      "2023-01-31 15:39:53.110 - amici.ode_export - INFO - Finished writing drzdp.cpp                   ++ (2.09E-03s)\n",
      "2023-01-31 15:39:53.117 - amici.ode_export - INFO - Finished running smart_jacobian            ++++ (1.11E-04s)\n",
      "2023-01-31 15:39:53.123 - amici.ode_export - INFO - Finished simplifying dsigmaydy             ++++ (6.96E-05s)\n",
      "2023-01-31 15:39:53.130 - amici.ode_export - INFO - Finished computing dsigmaydy                +++ (1.51E-02s)\n",
      "2023-01-31 15:39:53.131 - amici.ode_export - INFO - Finished writing dsigmaydy.cpp               ++ (1.79E-02s)\n",
      "2023-01-31 15:39:53.143 - amici.ode_export - INFO - Finished running smart_jacobian            ++++ (3.74E-04s)\n",
      "2023-01-31 15:39:53.148 - amici.ode_export - INFO - Finished simplifying dsigmaydp             ++++ (9.32E-05s)\n",
      "2023-01-31 15:39:53.149 - amici.ode_export - INFO - Finished computing dsigmaydp                +++ (9.40E-03s)\n",
      "2023-01-31 15:39:53.150 - amici.ode_export - INFO - Finished writing dsigmaydp.cpp               ++ (1.32E-02s)\n",
      "2023-01-31 15:39:53.156 - amici.ode_export - INFO - Finished writing sigmay.cpp                  ++ (4.92E-04s)\n",
      "2023-01-31 15:39:53.163 - amici.ode_export - INFO - Finished running smart_jacobian            ++++ (5.10E-05s)\n",
      "2023-01-31 15:39:53.169 - amici.ode_export - INFO - Finished simplifying dsigmazdp             ++++ (7.55E-05s)\n",
      "2023-01-31 15:39:53.169 - amici.ode_export - INFO - Finished computing dsigmazdp                +++ (8.00E-03s)\n",
      "2023-01-31 15:39:53.169 - amici.ode_export - INFO - Finished writing dsigmazdp.cpp               ++ (1.08E-02s)\n",
      "2023-01-31 15:39:53.173 - amici.ode_export - INFO - Finished writing sigmaz.cpp                  ++ (2.38E-05s)\n",
      "2023-01-31 15:39:53.177 - amici.ode_export - INFO - Finished computing stau                     +++ (1.21E-04s)\n",
      "2023-01-31 15:39:53.178 - amici.ode_export - INFO - Finished writing stau.cpp                    ++ (2.67E-03s)\n",
      "2023-01-31 15:39:53.183 - amici.ode_export - INFO - Finished computing deltax                   +++ (8.68E-05s)\n",
      "2023-01-31 15:39:53.183 - amici.ode_export - INFO - Finished writing deltax.cpp                  ++ (2.15E-03s)\n",
      "2023-01-31 15:39:53.187 - amici.ode_export - INFO - Finished computing deltasx                  +++ (7.75E-05s)\n",
      "2023-01-31 15:39:53.187 - amici.ode_export - INFO - Finished writing deltasx.cpp                 ++ (1.74E-03s)\n",
      "2023-01-31 15:39:53.193 - amici.ode_export - INFO - Finished writing w.cpp                       ++ (3.27E-03s)\n",
      "2023-01-31 15:39:53.198 - amici.ode_export - INFO - Finished simplifying x0                    ++++ (7.50E-05s)\n",
      "2023-01-31 15:39:53.198 - amici.ode_export - INFO - Finished computing x0                       +++ (1.75E-03s)\n",
      "2023-01-31 15:39:53.199 - amici.ode_export - INFO - Finished writing x0.cpp                      ++ (3.71E-03s)\n",
      "2023-01-31 15:39:53.205 - amici.ode_export - INFO - Finished simplifying x0_fixedParameters    ++++ (7.52E-05s)\n",
      "2023-01-31 15:39:53.206 - amici.ode_export - INFO - Finished computing x0_fixedParameters       +++ (2.19E-03s)\n",
      "2023-01-31 15:39:53.206 - amici.ode_export - INFO - Finished writing x0_fixedParameters.cpp      ++ (4.26E-03s)\n",
      "2023-01-31 15:39:53.214 - amici.ode_export - INFO - Finished running smart_jacobian            ++++ (2.76E-04s)\n",
      "2023-01-31 15:39:53.216 - amici.ode_export - INFO - Finished simplifying sx0                   ++++ (5.78E-05s)\n",
      "2023-01-31 15:39:53.217 - amici.ode_export - INFO - Finished computing sx0                      +++ (5.13E-03s)\n",
      "2023-01-31 15:39:53.217 - amici.ode_export - INFO - Finished writing sx0.cpp                     ++ (8.05E-03s)\n",
      "2023-01-31 15:39:53.225 - amici.ode_export - INFO - Finished running smart_jacobian            ++++ (1.78E-04s)\n",
      "2023-01-31 15:39:53.228 - amici.ode_export - INFO - Finished running smart_jacobian            ++++ (9.40E-05s)\n",
      "2023-01-31 15:39:53.230 - amici.ode_export - INFO - Finished simplifying sx0_fixedParameters   ++++ (4.43E-05s)\n",
      "2023-01-31 15:39:53.231 - amici.ode_export - INFO - Finished computing sx0_fixedParameters      +++ (7.76E-03s)\n",
      "2023-01-31 15:39:53.231 - amici.ode_export - INFO - Finished writing sx0_fixedParameters.cpp     ++ (1.03E-02s)\n",
      "2023-01-31 15:39:53.236 - amici.ode_export - INFO - Finished writing xdot.cpp                    ++ (1.40E-03s)\n",
      "2023-01-31 15:39:53.239 - amici.ode_export - INFO - Finished writing y.cpp                       ++ (6.79E-04s)\n",
      "2023-01-31 15:39:53.246 - amici.ode_export - INFO - Finished simplifying x_rdata               ++++ (1.34E-04s)\n",
      "2023-01-31 15:39:53.247 - amici.ode_export - INFO - Finished computing x_rdata                  +++ (3.01E-03s)\n",
      "2023-01-31 15:39:53.248 - amici.ode_export - INFO - Finished writing x_rdata.cpp                 ++ (6.18E-03s)\n",
      "2023-01-31 15:39:53.253 - amici.ode_export - INFO - Finished simplifying total_cl              ++++ (4.30E-05s)\n",
      "2023-01-31 15:39:53.254 - amici.ode_export - INFO - Finished computing total_cl                 +++ (1.71E-03s)\n",
      "2023-01-31 15:39:53.254 - amici.ode_export - INFO - Finished writing total_cl.cpp                ++ (3.34E-03s)\n",
      "2023-01-31 15:39:53.259 - amici.ode_export - INFO - Finished running smart_jacobian            ++++ (4.31E-05s)\n",
      "2023-01-31 15:39:53.262 - amici.ode_export - INFO - Finished simplifying dtotal_cldp           ++++ (4.85E-05s)\n",
      "2023-01-31 15:39:53.263 - amici.ode_export - INFO - Finished computing dtotal_cldp              +++ (4.96E-03s)\n",
      "2023-01-31 15:39:53.263 - amici.ode_export - INFO - Finished writing dtotal_cldp.cpp             ++ (6.48E-03s)\n",
      "2023-01-31 15:39:53.270 - amici.ode_export - INFO - Finished simplifying dtotal_cldx_rdata     ++++ (1.14E-04s)\n",
      "2023-01-31 15:39:53.270 - amici.ode_export - INFO - Finished computing dtotal_cldx_rdata        +++ (2.70E-03s)\n",
      "2023-01-31 15:39:53.271 - amici.ode_export - INFO - Finished writing dtotal_cldx_rdata.cpp       ++ (5.12E-03s)\n",
      "2023-01-31 15:39:53.278 - amici.ode_export - INFO - Finished simplifying x_solver              ++++ (7.53E-05s)\n",
      "2023-01-31 15:39:53.278 - amici.ode_export - INFO - Finished computing x_solver                 +++ (2.53E-03s)\n",
      "2023-01-31 15:39:53.279 - amici.ode_export - INFO - Finished writing x_solver.cpp                ++ (4.83E-03s)\n",
      "2023-01-31 15:39:53.284 - amici.ode_export - INFO - Finished simplifying dx_rdatadx_solver     ++++ (1.51E-04s)\n",
      "2023-01-31 15:39:53.285 - amici.ode_export - INFO - Finished computing dx_rdatadx_solver        +++ (1.85E-03s)\n",
      "2023-01-31 15:39:53.285 - amici.ode_export - INFO - Finished writing dx_rdatadx_solver.cpp       ++ (3.69E-03s)\n",
      "2023-01-31 15:39:53.290 - amici.ode_export - INFO - Finished simplifying dx_rdatadp            ++++ (1.85E-04s)\n",
      "2023-01-31 15:39:53.290 - amici.ode_export - INFO - Finished computing dx_rdatadp               +++ (1.39E-03s)\n",
      "2023-01-31 15:39:53.291 - amici.ode_export - INFO - Finished writing dx_rdatadp.cpp              ++ (3.09E-03s)\n",
      "2023-01-31 15:39:53.298 - amici.ode_export - INFO - Finished running smart_jacobian            ++++ (4.94E-05s)\n",
      "2023-01-31 15:39:53.302 - amici.ode_export - INFO - Finished simplifying dx_rdatadtcl          ++++ (6.90E-05s)\n",
      "2023-01-31 15:39:53.302 - amici.ode_export - INFO - Finished computing dx_rdatadtcl             +++ (6.18E-03s)\n",
      "2023-01-31 15:39:53.302 - amici.ode_export - INFO - Finished writing dx_rdatadtcl.cpp            ++ (8.68E-03s)\n",
      "2023-01-31 15:39:53.306 - amici.ode_export - INFO - Finished writing z.cpp                       ++ (2.60E-05s)\n",
      "2023-01-31 15:39:53.308 - amici.ode_export - INFO - Finished writing rz.cpp                      ++ (2.40E-05s)\n",
      "2023-01-31 15:39:53.316 - amici.ode_export - INFO - Finished generating cpp code                  + (5.70E-01s)\n",
      "2023-01-31 15:40:03.362 - amici.ode_export - INFO - Finished compiling cpp code                   + (1.00E+01s)\n"
     ]
    },
    {
     "name": "stdout",
     "output_type": "stream",
     "text": [
      "running AmiciInstall\n",
      "hdf5.h found in /opt/homebrew/Cellar/hdf5/1.12.2_2/include\n",
      "libhdf5.a found in /opt/homebrew/Cellar/hdf5/1.12.2_2/lib\n",
      "running build_ext\n",
      "Changed extra_compile_args for unix to ['-std=c++14']\n",
      "Building model extension in /Users/zebo/Documents/PhD/Projects/pypesto_amici_dev/dev_venv/pyPESTO/doc/example/amici_models/Raf_Mitra_NatCom2018OptimalScaling_3CatQual\n",
      "building 'Raf_Mitra_NatCom2018OptimalScaling_3CatQual._Raf_Mitra_NatCom2018OptimalScaling_3CatQual' extension\n",
      "Testing SWIG executable swig4.0... FAILED.\n",
      "Testing SWIG executable swig3.0... FAILED.\n",
      "Testing SWIG executable swig... SUCCEEDED.\n",
      "swigging swig/Raf_Mitra_NatCom2018OptimalScaling_3CatQual.i to swig/Raf_Mitra_NatCom2018OptimalScaling_3CatQual_wrap.cpp\n",
      "swig -python -c++ -modern -outdir Raf_Mitra_NatCom2018OptimalScaling_3CatQual -I/Users/zebo/Documents/PhD/Projects/pypesto_amici_dev/dev_venv/lib/python3.10/site-packages/amici/swig -I/Users/zebo/Documents/PhD/Projects/pypesto_amici_dev/dev_venv/lib/python3.10/site-packages/amici/include -o swig/Raf_Mitra_NatCom2018OptimalScaling_3CatQual_wrap.cpp swig/Raf_Mitra_NatCom2018OptimalScaling_3CatQual.i\n",
      "Deprecated command line option: -modern. Ignored, this option is now always on.\n",
      "creating build\n",
      "creating build/temp.macosx-13-arm64-cpython-310\n",
      "creating build/temp.macosx-13-arm64-cpython-310/swig\n",
      "clang -Wno-unused-result -Wsign-compare -Wunreachable-code -fno-common -dynamic -DNDEBUG -g -fwrapv -O3 -Wall -isysroot /Library/Developer/CommandLineTools/SDKs/MacOSX13.sdk -I/Users/zebo/Documents/PhD/Projects/pypesto_amici_dev/dev_venv/pyPESTO/doc/example/amici_models/Raf_Mitra_NatCom2018OptimalScaling_3CatQual -I/Users/zebo/Documents/PhD/Projects/pypesto_amici_dev/dev_venv/lib/python3.10/site-packages/amici/include -I/Users/zebo/Documents/PhD/Projects/pypesto_amici_dev/dev_venv/lib/python3.10/site-packages/amici/ThirdParty/gsl -I/Users/zebo/Documents/PhD/Projects/pypesto_amici_dev/dev_venv/lib/python3.10/site-packages/amici/ThirdParty/sundials/include -I/Users/zebo/Documents/PhD/Projects/pypesto_amici_dev/dev_venv/lib/python3.10/site-packages/amici/ThirdParty/SuiteSparse/include -I/opt/homebrew/Cellar/hdf5/1.12.2_2/include -I/Users/zebo/Documents/PhD/Projects/pypesto_amici_dev/dev_venv/include -I/opt/homebrew/opt/python@3.10/Frameworks/Python.framework/Versions/3.10/include/python3.10 -c Raf_Mitra_NatCom2018OptimalScaling_3CatQual.cpp -o build/temp.macosx-13-arm64-cpython-310/Raf_Mitra_NatCom2018OptimalScaling_3CatQual.o -std=c++14\n",
      "clang -Wno-unused-result -Wsign-compare -Wunreachable-code -fno-common -dynamic -DNDEBUG -g -fwrapv -O3 -Wall -isysroot /Library/Developer/CommandLineTools/SDKs/MacOSX13.sdk -I/Users/zebo/Documents/PhD/Projects/pypesto_amici_dev/dev_venv/pyPESTO/doc/example/amici_models/Raf_Mitra_NatCom2018OptimalScaling_3CatQual -I/Users/zebo/Documents/PhD/Projects/pypesto_amici_dev/dev_venv/lib/python3.10/site-packages/amici/include -I/Users/zebo/Documents/PhD/Projects/pypesto_amici_dev/dev_venv/lib/python3.10/site-packages/amici/ThirdParty/gsl -I/Users/zebo/Documents/PhD/Projects/pypesto_amici_dev/dev_venv/lib/python3.10/site-packages/amici/ThirdParty/sundials/include -I/Users/zebo/Documents/PhD/Projects/pypesto_amici_dev/dev_venv/lib/python3.10/site-packages/amici/ThirdParty/SuiteSparse/include -I/opt/homebrew/Cellar/hdf5/1.12.2_2/include -I/Users/zebo/Documents/PhD/Projects/pypesto_amici_dev/dev_venv/include -I/opt/homebrew/opt/python@3.10/Frameworks/Python.framework/Versions/3.10/include/python3.10 -c Raf_Mitra_NatCom2018OptimalScaling_3CatQual_Jy.cpp -o build/temp.macosx-13-arm64-cpython-310/Raf_Mitra_NatCom2018OptimalScaling_3CatQual_Jy.o -std=c++14\n",
      "clang -Wno-unused-result -Wsign-compare -Wunreachable-code -fno-common -dynamic -DNDEBUG -g -fwrapv -O3 -Wall -isysroot /Library/Developer/CommandLineTools/SDKs/MacOSX13.sdk -I/Users/zebo/Documents/PhD/Projects/pypesto_amici_dev/dev_venv/pyPESTO/doc/example/amici_models/Raf_Mitra_NatCom2018OptimalScaling_3CatQual -I/Users/zebo/Documents/PhD/Projects/pypesto_amici_dev/dev_venv/lib/python3.10/site-packages/amici/include -I/Users/zebo/Documents/PhD/Projects/pypesto_amici_dev/dev_venv/lib/python3.10/site-packages/amici/ThirdParty/gsl -I/Users/zebo/Documents/PhD/Projects/pypesto_amici_dev/dev_venv/lib/python3.10/site-packages/amici/ThirdParty/sundials/include -I/Users/zebo/Documents/PhD/Projects/pypesto_amici_dev/dev_venv/lib/python3.10/site-packages/amici/ThirdParty/SuiteSparse/include -I/opt/homebrew/Cellar/hdf5/1.12.2_2/include -I/Users/zebo/Documents/PhD/Projects/pypesto_amici_dev/dev_venv/include -I/opt/homebrew/opt/python@3.10/Frameworks/Python.framework/Versions/3.10/include/python3.10 -c Raf_Mitra_NatCom2018OptimalScaling_3CatQual_dJydsigma.cpp -o build/temp.macosx-13-arm64-cpython-310/Raf_Mitra_NatCom2018OptimalScaling_3CatQual_dJydsigma.o -std=c++14\n",
      "clang -Wno-unused-result -Wsign-compare -Wunreachable-code -fno-common -dynamic -DNDEBUG -g -fwrapv -O3 -Wall -isysroot /Library/Developer/CommandLineTools/SDKs/MacOSX13.sdk -I/Users/zebo/Documents/PhD/Projects/pypesto_amici_dev/dev_venv/pyPESTO/doc/example/amici_models/Raf_Mitra_NatCom2018OptimalScaling_3CatQual -I/Users/zebo/Documents/PhD/Projects/pypesto_amici_dev/dev_venv/lib/python3.10/site-packages/amici/include -I/Users/zebo/Documents/PhD/Projects/pypesto_amici_dev/dev_venv/lib/python3.10/site-packages/amici/ThirdParty/gsl -I/Users/zebo/Documents/PhD/Projects/pypesto_amici_dev/dev_venv/lib/python3.10/site-packages/amici/ThirdParty/sundials/include -I/Users/zebo/Documents/PhD/Projects/pypesto_amici_dev/dev_venv/lib/python3.10/site-packages/amici/ThirdParty/SuiteSparse/include -I/opt/homebrew/Cellar/hdf5/1.12.2_2/include -I/Users/zebo/Documents/PhD/Projects/pypesto_amici_dev/dev_venv/include -I/opt/homebrew/opt/python@3.10/Frameworks/Python.framework/Versions/3.10/include/python3.10 -c Raf_Mitra_NatCom2018OptimalScaling_3CatQual_dJydy.cpp -o build/temp.macosx-13-arm64-cpython-310/Raf_Mitra_NatCom2018OptimalScaling_3CatQual_dJydy.o -std=c++14\n",
      "clang -Wno-unused-result -Wsign-compare -Wunreachable-code -fno-common -dynamic -DNDEBUG -g -fwrapv -O3 -Wall -isysroot /Library/Developer/CommandLineTools/SDKs/MacOSX13.sdk -I/Users/zebo/Documents/PhD/Projects/pypesto_amici_dev/dev_venv/pyPESTO/doc/example/amici_models/Raf_Mitra_NatCom2018OptimalScaling_3CatQual -I/Users/zebo/Documents/PhD/Projects/pypesto_amici_dev/dev_venv/lib/python3.10/site-packages/amici/include -I/Users/zebo/Documents/PhD/Projects/pypesto_amici_dev/dev_venv/lib/python3.10/site-packages/amici/ThirdParty/gsl -I/Users/zebo/Documents/PhD/Projects/pypesto_amici_dev/dev_venv/lib/python3.10/site-packages/amici/ThirdParty/sundials/include -I/Users/zebo/Documents/PhD/Projects/pypesto_amici_dev/dev_venv/lib/python3.10/site-packages/amici/ThirdParty/SuiteSparse/include -I/opt/homebrew/Cellar/hdf5/1.12.2_2/include -I/Users/zebo/Documents/PhD/Projects/pypesto_amici_dev/dev_venv/include -I/opt/homebrew/opt/python@3.10/Frameworks/Python.framework/Versions/3.10/include/python3.10 -c Raf_Mitra_NatCom2018OptimalScaling_3CatQual_dJydy_colptrs.cpp -o build/temp.macosx-13-arm64-cpython-310/Raf_Mitra_NatCom2018OptimalScaling_3CatQual_dJydy_colptrs.o -std=c++14\n",
      "clang -Wno-unused-result -Wsign-compare -Wunreachable-code -fno-common -dynamic -DNDEBUG -g -fwrapv -O3 -Wall -isysroot /Library/Developer/CommandLineTools/SDKs/MacOSX13.sdk -I/Users/zebo/Documents/PhD/Projects/pypesto_amici_dev/dev_venv/pyPESTO/doc/example/amici_models/Raf_Mitra_NatCom2018OptimalScaling_3CatQual -I/Users/zebo/Documents/PhD/Projects/pypesto_amici_dev/dev_venv/lib/python3.10/site-packages/amici/include -I/Users/zebo/Documents/PhD/Projects/pypesto_amici_dev/dev_venv/lib/python3.10/site-packages/amici/ThirdParty/gsl -I/Users/zebo/Documents/PhD/Projects/pypesto_amici_dev/dev_venv/lib/python3.10/site-packages/amici/ThirdParty/sundials/include -I/Users/zebo/Documents/PhD/Projects/pypesto_amici_dev/dev_venv/lib/python3.10/site-packages/amici/ThirdParty/SuiteSparse/include -I/opt/homebrew/Cellar/hdf5/1.12.2_2/include -I/Users/zebo/Documents/PhD/Projects/pypesto_amici_dev/dev_venv/include -I/opt/homebrew/opt/python@3.10/Frameworks/Python.framework/Versions/3.10/include/python3.10 -c Raf_Mitra_NatCom2018OptimalScaling_3CatQual_dJydy_rowvals.cpp -o build/temp.macosx-13-arm64-cpython-310/Raf_Mitra_NatCom2018OptimalScaling_3CatQual_dJydy_rowvals.o -std=c++14\n",
      "clang -Wno-unused-result -Wsign-compare -Wunreachable-code -fno-common -dynamic -DNDEBUG -g -fwrapv -O3 -Wall -isysroot /Library/Developer/CommandLineTools/SDKs/MacOSX13.sdk -I/Users/zebo/Documents/PhD/Projects/pypesto_amici_dev/dev_venv/pyPESTO/doc/example/amici_models/Raf_Mitra_NatCom2018OptimalScaling_3CatQual -I/Users/zebo/Documents/PhD/Projects/pypesto_amici_dev/dev_venv/lib/python3.10/site-packages/amici/include -I/Users/zebo/Documents/PhD/Projects/pypesto_amici_dev/dev_venv/lib/python3.10/site-packages/amici/ThirdParty/gsl -I/Users/zebo/Documents/PhD/Projects/pypesto_amici_dev/dev_venv/lib/python3.10/site-packages/amici/ThirdParty/sundials/include -I/Users/zebo/Documents/PhD/Projects/pypesto_amici_dev/dev_venv/lib/python3.10/site-packages/amici/ThirdParty/SuiteSparse/include -I/opt/homebrew/Cellar/hdf5/1.12.2_2/include -I/Users/zebo/Documents/PhD/Projects/pypesto_amici_dev/dev_venv/include -I/opt/homebrew/opt/python@3.10/Frameworks/Python.framework/Versions/3.10/include/python3.10 -c Raf_Mitra_NatCom2018OptimalScaling_3CatQual_dsigmaydp.cpp -o build/temp.macosx-13-arm64-cpython-310/Raf_Mitra_NatCom2018OptimalScaling_3CatQual_dsigmaydp.o -std=c++14\n",
      "clang -Wno-unused-result -Wsign-compare -Wunreachable-code -fno-common -dynamic -DNDEBUG -g -fwrapv -O3 -Wall -isysroot /Library/Developer/CommandLineTools/SDKs/MacOSX13.sdk -I/Users/zebo/Documents/PhD/Projects/pypesto_amici_dev/dev_venv/pyPESTO/doc/example/amici_models/Raf_Mitra_NatCom2018OptimalScaling_3CatQual -I/Users/zebo/Documents/PhD/Projects/pypesto_amici_dev/dev_venv/lib/python3.10/site-packages/amici/include -I/Users/zebo/Documents/PhD/Projects/pypesto_amici_dev/dev_venv/lib/python3.10/site-packages/amici/ThirdParty/gsl -I/Users/zebo/Documents/PhD/Projects/pypesto_amici_dev/dev_venv/lib/python3.10/site-packages/amici/ThirdParty/sundials/include -I/Users/zebo/Documents/PhD/Projects/pypesto_amici_dev/dev_venv/lib/python3.10/site-packages/amici/ThirdParty/SuiteSparse/include -I/opt/homebrew/Cellar/hdf5/1.12.2_2/include -I/Users/zebo/Documents/PhD/Projects/pypesto_amici_dev/dev_venv/include -I/opt/homebrew/opt/python@3.10/Frameworks/Python.framework/Versions/3.10/include/python3.10 -c Raf_Mitra_NatCom2018OptimalScaling_3CatQual_dwdp.cpp -o build/temp.macosx-13-arm64-cpython-310/Raf_Mitra_NatCom2018OptimalScaling_3CatQual_dwdp.o -std=c++14\n",
      "clang -Wno-unused-result -Wsign-compare -Wunreachable-code -fno-common -dynamic -DNDEBUG -g -fwrapv -O3 -Wall -isysroot /Library/Developer/CommandLineTools/SDKs/MacOSX13.sdk -I/Users/zebo/Documents/PhD/Projects/pypesto_amici_dev/dev_venv/pyPESTO/doc/example/amici_models/Raf_Mitra_NatCom2018OptimalScaling_3CatQual -I/Users/zebo/Documents/PhD/Projects/pypesto_amici_dev/dev_venv/lib/python3.10/site-packages/amici/include -I/Users/zebo/Documents/PhD/Projects/pypesto_amici_dev/dev_venv/lib/python3.10/site-packages/amici/ThirdParty/gsl -I/Users/zebo/Documents/PhD/Projects/pypesto_amici_dev/dev_venv/lib/python3.10/site-packages/amici/ThirdParty/sundials/include -I/Users/zebo/Documents/PhD/Projects/pypesto_amici_dev/dev_venv/lib/python3.10/site-packages/amici/ThirdParty/SuiteSparse/include -I/opt/homebrew/Cellar/hdf5/1.12.2_2/include -I/Users/zebo/Documents/PhD/Projects/pypesto_amici_dev/dev_venv/include -I/opt/homebrew/opt/python@3.10/Frameworks/Python.framework/Versions/3.10/include/python3.10 -c Raf_Mitra_NatCom2018OptimalScaling_3CatQual_dwdp_colptrs.cpp -o build/temp.macosx-13-arm64-cpython-310/Raf_Mitra_NatCom2018OptimalScaling_3CatQual_dwdp_colptrs.o -std=c++14\n",
      "clang -Wno-unused-result -Wsign-compare -Wunreachable-code -fno-common -dynamic -DNDEBUG -g -fwrapv -O3 -Wall -isysroot /Library/Developer/CommandLineTools/SDKs/MacOSX13.sdk -I/Users/zebo/Documents/PhD/Projects/pypesto_amici_dev/dev_venv/pyPESTO/doc/example/amici_models/Raf_Mitra_NatCom2018OptimalScaling_3CatQual -I/Users/zebo/Documents/PhD/Projects/pypesto_amici_dev/dev_venv/lib/python3.10/site-packages/amici/include -I/Users/zebo/Documents/PhD/Projects/pypesto_amici_dev/dev_venv/lib/python3.10/site-packages/amici/ThirdParty/gsl -I/Users/zebo/Documents/PhD/Projects/pypesto_amici_dev/dev_venv/lib/python3.10/site-packages/amici/ThirdParty/sundials/include -I/Users/zebo/Documents/PhD/Projects/pypesto_amici_dev/dev_venv/lib/python3.10/site-packages/amici/ThirdParty/SuiteSparse/include -I/opt/homebrew/Cellar/hdf5/1.12.2_2/include -I/Users/zebo/Documents/PhD/Projects/pypesto_amici_dev/dev_venv/include -I/opt/homebrew/opt/python@3.10/Frameworks/Python.framework/Versions/3.10/include/python3.10 -c Raf_Mitra_NatCom2018OptimalScaling_3CatQual_dwdp_rowvals.cpp -o build/temp.macosx-13-arm64-cpython-310/Raf_Mitra_NatCom2018OptimalScaling_3CatQual_dwdp_rowvals.o -std=c++14\n",
      "clang -Wno-unused-result -Wsign-compare -Wunreachable-code -fno-common -dynamic -DNDEBUG -g -fwrapv -O3 -Wall -isysroot /Library/Developer/CommandLineTools/SDKs/MacOSX13.sdk -I/Users/zebo/Documents/PhD/Projects/pypesto_amici_dev/dev_venv/pyPESTO/doc/example/amici_models/Raf_Mitra_NatCom2018OptimalScaling_3CatQual -I/Users/zebo/Documents/PhD/Projects/pypesto_amici_dev/dev_venv/lib/python3.10/site-packages/amici/include -I/Users/zebo/Documents/PhD/Projects/pypesto_amici_dev/dev_venv/lib/python3.10/site-packages/amici/ThirdParty/gsl -I/Users/zebo/Documents/PhD/Projects/pypesto_amici_dev/dev_venv/lib/python3.10/site-packages/amici/ThirdParty/sundials/include -I/Users/zebo/Documents/PhD/Projects/pypesto_amici_dev/dev_venv/lib/python3.10/site-packages/amici/ThirdParty/SuiteSparse/include -I/opt/homebrew/Cellar/hdf5/1.12.2_2/include -I/Users/zebo/Documents/PhD/Projects/pypesto_amici_dev/dev_venv/include -I/opt/homebrew/opt/python@3.10/Frameworks/Python.framework/Versions/3.10/include/python3.10 -c Raf_Mitra_NatCom2018OptimalScaling_3CatQual_dwdw.cpp -o build/temp.macosx-13-arm64-cpython-310/Raf_Mitra_NatCom2018OptimalScaling_3CatQual_dwdw.o -std=c++14\n",
      "clang -Wno-unused-result -Wsign-compare -Wunreachable-code -fno-common -dynamic -DNDEBUG -g -fwrapv -O3 -Wall -isysroot /Library/Developer/CommandLineTools/SDKs/MacOSX13.sdk -I/Users/zebo/Documents/PhD/Projects/pypesto_amici_dev/dev_venv/pyPESTO/doc/example/amici_models/Raf_Mitra_NatCom2018OptimalScaling_3CatQual -I/Users/zebo/Documents/PhD/Projects/pypesto_amici_dev/dev_venv/lib/python3.10/site-packages/amici/include -I/Users/zebo/Documents/PhD/Projects/pypesto_amici_dev/dev_venv/lib/python3.10/site-packages/amici/ThirdParty/gsl -I/Users/zebo/Documents/PhD/Projects/pypesto_amici_dev/dev_venv/lib/python3.10/site-packages/amici/ThirdParty/sundials/include -I/Users/zebo/Documents/PhD/Projects/pypesto_amici_dev/dev_venv/lib/python3.10/site-packages/amici/ThirdParty/SuiteSparse/include -I/opt/homebrew/Cellar/hdf5/1.12.2_2/include -I/Users/zebo/Documents/PhD/Projects/pypesto_amici_dev/dev_venv/include -I/opt/homebrew/opt/python@3.10/Frameworks/Python.framework/Versions/3.10/include/python3.10 -c Raf_Mitra_NatCom2018OptimalScaling_3CatQual_dwdw_colptrs.cpp -o build/temp.macosx-13-arm64-cpython-310/Raf_Mitra_NatCom2018OptimalScaling_3CatQual_dwdw_colptrs.o -std=c++14\n",
      "clang -Wno-unused-result -Wsign-compare -Wunreachable-code -fno-common -dynamic -DNDEBUG -g -fwrapv -O3 -Wall -isysroot /Library/Developer/CommandLineTools/SDKs/MacOSX13.sdk -I/Users/zebo/Documents/PhD/Projects/pypesto_amici_dev/dev_venv/pyPESTO/doc/example/amici_models/Raf_Mitra_NatCom2018OptimalScaling_3CatQual -I/Users/zebo/Documents/PhD/Projects/pypesto_amici_dev/dev_venv/lib/python3.10/site-packages/amici/include -I/Users/zebo/Documents/PhD/Projects/pypesto_amici_dev/dev_venv/lib/python3.10/site-packages/amici/ThirdParty/gsl -I/Users/zebo/Documents/PhD/Projects/pypesto_amici_dev/dev_venv/lib/python3.10/site-packages/amici/ThirdParty/sundials/include -I/Users/zebo/Documents/PhD/Projects/pypesto_amici_dev/dev_venv/lib/python3.10/site-packages/amici/ThirdParty/SuiteSparse/include -I/opt/homebrew/Cellar/hdf5/1.12.2_2/include -I/Users/zebo/Documents/PhD/Projects/pypesto_amici_dev/dev_venv/include -I/opt/homebrew/opt/python@3.10/Frameworks/Python.framework/Versions/3.10/include/python3.10 -c Raf_Mitra_NatCom2018OptimalScaling_3CatQual_dwdw_rowvals.cpp -o build/temp.macosx-13-arm64-cpython-310/Raf_Mitra_NatCom2018OptimalScaling_3CatQual_dwdw_rowvals.o -std=c++14\n",
      "clang -Wno-unused-result -Wsign-compare -Wunreachable-code -fno-common -dynamic -DNDEBUG -g -fwrapv -O3 -Wall -isysroot /Library/Developer/CommandLineTools/SDKs/MacOSX13.sdk -I/Users/zebo/Documents/PhD/Projects/pypesto_amici_dev/dev_venv/pyPESTO/doc/example/amici_models/Raf_Mitra_NatCom2018OptimalScaling_3CatQual -I/Users/zebo/Documents/PhD/Projects/pypesto_amici_dev/dev_venv/lib/python3.10/site-packages/amici/include -I/Users/zebo/Documents/PhD/Projects/pypesto_amici_dev/dev_venv/lib/python3.10/site-packages/amici/ThirdParty/gsl -I/Users/zebo/Documents/PhD/Projects/pypesto_amici_dev/dev_venv/lib/python3.10/site-packages/amici/ThirdParty/sundials/include -I/Users/zebo/Documents/PhD/Projects/pypesto_amici_dev/dev_venv/lib/python3.10/site-packages/amici/ThirdParty/SuiteSparse/include -I/opt/homebrew/Cellar/hdf5/1.12.2_2/include -I/Users/zebo/Documents/PhD/Projects/pypesto_amici_dev/dev_venv/include -I/opt/homebrew/opt/python@3.10/Frameworks/Python.framework/Versions/3.10/include/python3.10 -c Raf_Mitra_NatCom2018OptimalScaling_3CatQual_dwdx.cpp -o build/temp.macosx-13-arm64-cpython-310/Raf_Mitra_NatCom2018OptimalScaling_3CatQual_dwdx.o -std=c++14\n",
      "clang -Wno-unused-result -Wsign-compare -Wunreachable-code -fno-common -dynamic -DNDEBUG -g -fwrapv -O3 -Wall -isysroot /Library/Developer/CommandLineTools/SDKs/MacOSX13.sdk -I/Users/zebo/Documents/PhD/Projects/pypesto_amici_dev/dev_venv/pyPESTO/doc/example/amici_models/Raf_Mitra_NatCom2018OptimalScaling_3CatQual -I/Users/zebo/Documents/PhD/Projects/pypesto_amici_dev/dev_venv/lib/python3.10/site-packages/amici/include -I/Users/zebo/Documents/PhD/Projects/pypesto_amici_dev/dev_venv/lib/python3.10/site-packages/amici/ThirdParty/gsl -I/Users/zebo/Documents/PhD/Projects/pypesto_amici_dev/dev_venv/lib/python3.10/site-packages/amici/ThirdParty/sundials/include -I/Users/zebo/Documents/PhD/Projects/pypesto_amici_dev/dev_venv/lib/python3.10/site-packages/amici/ThirdParty/SuiteSparse/include -I/opt/homebrew/Cellar/hdf5/1.12.2_2/include -I/Users/zebo/Documents/PhD/Projects/pypesto_amici_dev/dev_venv/include -I/opt/homebrew/opt/python@3.10/Frameworks/Python.framework/Versions/3.10/include/python3.10 -c Raf_Mitra_NatCom2018OptimalScaling_3CatQual_dwdx_colptrs.cpp -o build/temp.macosx-13-arm64-cpython-310/Raf_Mitra_NatCom2018OptimalScaling_3CatQual_dwdx_colptrs.o -std=c++14\n",
      "clang -Wno-unused-result -Wsign-compare -Wunreachable-code -fno-common -dynamic -DNDEBUG -g -fwrapv -O3 -Wall -isysroot /Library/Developer/CommandLineTools/SDKs/MacOSX13.sdk -I/Users/zebo/Documents/PhD/Projects/pypesto_amici_dev/dev_venv/pyPESTO/doc/example/amici_models/Raf_Mitra_NatCom2018OptimalScaling_3CatQual -I/Users/zebo/Documents/PhD/Projects/pypesto_amici_dev/dev_venv/lib/python3.10/site-packages/amici/include -I/Users/zebo/Documents/PhD/Projects/pypesto_amici_dev/dev_venv/lib/python3.10/site-packages/amici/ThirdParty/gsl -I/Users/zebo/Documents/PhD/Projects/pypesto_amici_dev/dev_venv/lib/python3.10/site-packages/amici/ThirdParty/sundials/include -I/Users/zebo/Documents/PhD/Projects/pypesto_amici_dev/dev_venv/lib/python3.10/site-packages/amici/ThirdParty/SuiteSparse/include -I/opt/homebrew/Cellar/hdf5/1.12.2_2/include -I/Users/zebo/Documents/PhD/Projects/pypesto_amici_dev/dev_venv/include -I/opt/homebrew/opt/python@3.10/Frameworks/Python.framework/Versions/3.10/include/python3.10 -c Raf_Mitra_NatCom2018OptimalScaling_3CatQual_dwdx_rowvals.cpp -o build/temp.macosx-13-arm64-cpython-310/Raf_Mitra_NatCom2018OptimalScaling_3CatQual_dwdx_rowvals.o -std=c++14\n",
      "clang -Wno-unused-result -Wsign-compare -Wunreachable-code -fno-common -dynamic -DNDEBUG -g -fwrapv -O3 -Wall -isysroot /Library/Developer/CommandLineTools/SDKs/MacOSX13.sdk -I/Users/zebo/Documents/PhD/Projects/pypesto_amici_dev/dev_venv/pyPESTO/doc/example/amici_models/Raf_Mitra_NatCom2018OptimalScaling_3CatQual -I/Users/zebo/Documents/PhD/Projects/pypesto_amici_dev/dev_venv/lib/python3.10/site-packages/amici/include -I/Users/zebo/Documents/PhD/Projects/pypesto_amici_dev/dev_venv/lib/python3.10/site-packages/amici/ThirdParty/gsl -I/Users/zebo/Documents/PhD/Projects/pypesto_amici_dev/dev_venv/lib/python3.10/site-packages/amici/ThirdParty/sundials/include -I/Users/zebo/Documents/PhD/Projects/pypesto_amici_dev/dev_venv/lib/python3.10/site-packages/amici/ThirdParty/SuiteSparse/include -I/opt/homebrew/Cellar/hdf5/1.12.2_2/include -I/Users/zebo/Documents/PhD/Projects/pypesto_amici_dev/dev_venv/include -I/opt/homebrew/opt/python@3.10/Frameworks/Python.framework/Versions/3.10/include/python3.10 -c Raf_Mitra_NatCom2018OptimalScaling_3CatQual_dxdotdw.cpp -o build/temp.macosx-13-arm64-cpython-310/Raf_Mitra_NatCom2018OptimalScaling_3CatQual_dxdotdw.o -std=c++14\n",
      "clang -Wno-unused-result -Wsign-compare -Wunreachable-code -fno-common -dynamic -DNDEBUG -g -fwrapv -O3 -Wall -isysroot /Library/Developer/CommandLineTools/SDKs/MacOSX13.sdk -I/Users/zebo/Documents/PhD/Projects/pypesto_amici_dev/dev_venv/pyPESTO/doc/example/amici_models/Raf_Mitra_NatCom2018OptimalScaling_3CatQual -I/Users/zebo/Documents/PhD/Projects/pypesto_amici_dev/dev_venv/lib/python3.10/site-packages/amici/include -I/Users/zebo/Documents/PhD/Projects/pypesto_amici_dev/dev_venv/lib/python3.10/site-packages/amici/ThirdParty/gsl -I/Users/zebo/Documents/PhD/Projects/pypesto_amici_dev/dev_venv/lib/python3.10/site-packages/amici/ThirdParty/sundials/include -I/Users/zebo/Documents/PhD/Projects/pypesto_amici_dev/dev_venv/lib/python3.10/site-packages/amici/ThirdParty/SuiteSparse/include -I/opt/homebrew/Cellar/hdf5/1.12.2_2/include -I/Users/zebo/Documents/PhD/Projects/pypesto_amici_dev/dev_venv/include -I/opt/homebrew/opt/python@3.10/Frameworks/Python.framework/Versions/3.10/include/python3.10 -c Raf_Mitra_NatCom2018OptimalScaling_3CatQual_dxdotdw_colptrs.cpp -o build/temp.macosx-13-arm64-cpython-310/Raf_Mitra_NatCom2018OptimalScaling_3CatQual_dxdotdw_colptrs.o -std=c++14\n",
      "clang -Wno-unused-result -Wsign-compare -Wunreachable-code -fno-common -dynamic -DNDEBUG -g -fwrapv -O3 -Wall -isysroot /Library/Developer/CommandLineTools/SDKs/MacOSX13.sdk -I/Users/zebo/Documents/PhD/Projects/pypesto_amici_dev/dev_venv/pyPESTO/doc/example/amici_models/Raf_Mitra_NatCom2018OptimalScaling_3CatQual -I/Users/zebo/Documents/PhD/Projects/pypesto_amici_dev/dev_venv/lib/python3.10/site-packages/amici/include -I/Users/zebo/Documents/PhD/Projects/pypesto_amici_dev/dev_venv/lib/python3.10/site-packages/amici/ThirdParty/gsl -I/Users/zebo/Documents/PhD/Projects/pypesto_amici_dev/dev_venv/lib/python3.10/site-packages/amici/ThirdParty/sundials/include -I/Users/zebo/Documents/PhD/Projects/pypesto_amici_dev/dev_venv/lib/python3.10/site-packages/amici/ThirdParty/SuiteSparse/include -I/opt/homebrew/Cellar/hdf5/1.12.2_2/include -I/Users/zebo/Documents/PhD/Projects/pypesto_amici_dev/dev_venv/include -I/opt/homebrew/opt/python@3.10/Frameworks/Python.framework/Versions/3.10/include/python3.10 -c Raf_Mitra_NatCom2018OptimalScaling_3CatQual_dxdotdw_rowvals.cpp -o build/temp.macosx-13-arm64-cpython-310/Raf_Mitra_NatCom2018OptimalScaling_3CatQual_dxdotdw_rowvals.o -std=c++14\n",
      "clang -Wno-unused-result -Wsign-compare -Wunreachable-code -fno-common -dynamic -DNDEBUG -g -fwrapv -O3 -Wall -isysroot /Library/Developer/CommandLineTools/SDKs/MacOSX13.sdk -I/Users/zebo/Documents/PhD/Projects/pypesto_amici_dev/dev_venv/pyPESTO/doc/example/amici_models/Raf_Mitra_NatCom2018OptimalScaling_3CatQual -I/Users/zebo/Documents/PhD/Projects/pypesto_amici_dev/dev_venv/lib/python3.10/site-packages/amici/include -I/Users/zebo/Documents/PhD/Projects/pypesto_amici_dev/dev_venv/lib/python3.10/site-packages/amici/ThirdParty/gsl -I/Users/zebo/Documents/PhD/Projects/pypesto_amici_dev/dev_venv/lib/python3.10/site-packages/amici/ThirdParty/sundials/include -I/Users/zebo/Documents/PhD/Projects/pypesto_amici_dev/dev_venv/lib/python3.10/site-packages/amici/ThirdParty/SuiteSparse/include -I/opt/homebrew/Cellar/hdf5/1.12.2_2/include -I/Users/zebo/Documents/PhD/Projects/pypesto_amici_dev/dev_venv/include -I/opt/homebrew/opt/python@3.10/Frameworks/Python.framework/Versions/3.10/include/python3.10 -c Raf_Mitra_NatCom2018OptimalScaling_3CatQual_dydx.cpp -o build/temp.macosx-13-arm64-cpython-310/Raf_Mitra_NatCom2018OptimalScaling_3CatQual_dydx.o -std=c++14\n",
      "clang -Wno-unused-result -Wsign-compare -Wunreachable-code -fno-common -dynamic -DNDEBUG -g -fwrapv -O3 -Wall -isysroot /Library/Developer/CommandLineTools/SDKs/MacOSX13.sdk -I/Users/zebo/Documents/PhD/Projects/pypesto_amici_dev/dev_venv/pyPESTO/doc/example/amici_models/Raf_Mitra_NatCom2018OptimalScaling_3CatQual -I/Users/zebo/Documents/PhD/Projects/pypesto_amici_dev/dev_venv/lib/python3.10/site-packages/amici/include -I/Users/zebo/Documents/PhD/Projects/pypesto_amici_dev/dev_venv/lib/python3.10/site-packages/amici/ThirdParty/gsl -I/Users/zebo/Documents/PhD/Projects/pypesto_amici_dev/dev_venv/lib/python3.10/site-packages/amici/ThirdParty/sundials/include -I/Users/zebo/Documents/PhD/Projects/pypesto_amici_dev/dev_venv/lib/python3.10/site-packages/amici/ThirdParty/SuiteSparse/include -I/opt/homebrew/Cellar/hdf5/1.12.2_2/include -I/Users/zebo/Documents/PhD/Projects/pypesto_amici_dev/dev_venv/include -I/opt/homebrew/opt/python@3.10/Frameworks/Python.framework/Versions/3.10/include/python3.10 -c Raf_Mitra_NatCom2018OptimalScaling_3CatQual_sigmay.cpp -o build/temp.macosx-13-arm64-cpython-310/Raf_Mitra_NatCom2018OptimalScaling_3CatQual_sigmay.o -std=c++14\n",
      "clang -Wno-unused-result -Wsign-compare -Wunreachable-code -fno-common -dynamic -DNDEBUG -g -fwrapv -O3 -Wall -isysroot /Library/Developer/CommandLineTools/SDKs/MacOSX13.sdk -I/Users/zebo/Documents/PhD/Projects/pypesto_amici_dev/dev_venv/pyPESTO/doc/example/amici_models/Raf_Mitra_NatCom2018OptimalScaling_3CatQual -I/Users/zebo/Documents/PhD/Projects/pypesto_amici_dev/dev_venv/lib/python3.10/site-packages/amici/include -I/Users/zebo/Documents/PhD/Projects/pypesto_amici_dev/dev_venv/lib/python3.10/site-packages/amici/ThirdParty/gsl -I/Users/zebo/Documents/PhD/Projects/pypesto_amici_dev/dev_venv/lib/python3.10/site-packages/amici/ThirdParty/sundials/include -I/Users/zebo/Documents/PhD/Projects/pypesto_amici_dev/dev_venv/lib/python3.10/site-packages/amici/ThirdParty/SuiteSparse/include -I/opt/homebrew/Cellar/hdf5/1.12.2_2/include -I/Users/zebo/Documents/PhD/Projects/pypesto_amici_dev/dev_venv/include -I/opt/homebrew/opt/python@3.10/Frameworks/Python.framework/Versions/3.10/include/python3.10 -c Raf_Mitra_NatCom2018OptimalScaling_3CatQual_sx0_fixedParameters.cpp -o build/temp.macosx-13-arm64-cpython-310/Raf_Mitra_NatCom2018OptimalScaling_3CatQual_sx0_fixedParameters.o -std=c++14\n",
      "clang -Wno-unused-result -Wsign-compare -Wunreachable-code -fno-common -dynamic -DNDEBUG -g -fwrapv -O3 -Wall -isysroot /Library/Developer/CommandLineTools/SDKs/MacOSX13.sdk -I/Users/zebo/Documents/PhD/Projects/pypesto_amici_dev/dev_venv/pyPESTO/doc/example/amici_models/Raf_Mitra_NatCom2018OptimalScaling_3CatQual -I/Users/zebo/Documents/PhD/Projects/pypesto_amici_dev/dev_venv/lib/python3.10/site-packages/amici/include -I/Users/zebo/Documents/PhD/Projects/pypesto_amici_dev/dev_venv/lib/python3.10/site-packages/amici/ThirdParty/gsl -I/Users/zebo/Documents/PhD/Projects/pypesto_amici_dev/dev_venv/lib/python3.10/site-packages/amici/ThirdParty/sundials/include -I/Users/zebo/Documents/PhD/Projects/pypesto_amici_dev/dev_venv/lib/python3.10/site-packages/amici/ThirdParty/SuiteSparse/include -I/opt/homebrew/Cellar/hdf5/1.12.2_2/include -I/Users/zebo/Documents/PhD/Projects/pypesto_amici_dev/dev_venv/include -I/opt/homebrew/opt/python@3.10/Frameworks/Python.framework/Versions/3.10/include/python3.10 -c Raf_Mitra_NatCom2018OptimalScaling_3CatQual_w.cpp -o build/temp.macosx-13-arm64-cpython-310/Raf_Mitra_NatCom2018OptimalScaling_3CatQual_w.o -std=c++14\n",
      "clang -Wno-unused-result -Wsign-compare -Wunreachable-code -fno-common -dynamic -DNDEBUG -g -fwrapv -O3 -Wall -isysroot /Library/Developer/CommandLineTools/SDKs/MacOSX13.sdk -I/Users/zebo/Documents/PhD/Projects/pypesto_amici_dev/dev_venv/pyPESTO/doc/example/amici_models/Raf_Mitra_NatCom2018OptimalScaling_3CatQual -I/Users/zebo/Documents/PhD/Projects/pypesto_amici_dev/dev_venv/lib/python3.10/site-packages/amici/include -I/Users/zebo/Documents/PhD/Projects/pypesto_amici_dev/dev_venv/lib/python3.10/site-packages/amici/ThirdParty/gsl -I/Users/zebo/Documents/PhD/Projects/pypesto_amici_dev/dev_venv/lib/python3.10/site-packages/amici/ThirdParty/sundials/include -I/Users/zebo/Documents/PhD/Projects/pypesto_amici_dev/dev_venv/lib/python3.10/site-packages/amici/ThirdParty/SuiteSparse/include -I/opt/homebrew/Cellar/hdf5/1.12.2_2/include -I/Users/zebo/Documents/PhD/Projects/pypesto_amici_dev/dev_venv/include -I/opt/homebrew/opt/python@3.10/Frameworks/Python.framework/Versions/3.10/include/python3.10 -c Raf_Mitra_NatCom2018OptimalScaling_3CatQual_x0.cpp -o build/temp.macosx-13-arm64-cpython-310/Raf_Mitra_NatCom2018OptimalScaling_3CatQual_x0.o -std=c++14\n",
      "clang -Wno-unused-result -Wsign-compare -Wunreachable-code -fno-common -dynamic -DNDEBUG -g -fwrapv -O3 -Wall -isysroot /Library/Developer/CommandLineTools/SDKs/MacOSX13.sdk -I/Users/zebo/Documents/PhD/Projects/pypesto_amici_dev/dev_venv/pyPESTO/doc/example/amici_models/Raf_Mitra_NatCom2018OptimalScaling_3CatQual -I/Users/zebo/Documents/PhD/Projects/pypesto_amici_dev/dev_venv/lib/python3.10/site-packages/amici/include -I/Users/zebo/Documents/PhD/Projects/pypesto_amici_dev/dev_venv/lib/python3.10/site-packages/amici/ThirdParty/gsl -I/Users/zebo/Documents/PhD/Projects/pypesto_amici_dev/dev_venv/lib/python3.10/site-packages/amici/ThirdParty/sundials/include -I/Users/zebo/Documents/PhD/Projects/pypesto_amici_dev/dev_venv/lib/python3.10/site-packages/amici/ThirdParty/SuiteSparse/include -I/opt/homebrew/Cellar/hdf5/1.12.2_2/include -I/Users/zebo/Documents/PhD/Projects/pypesto_amici_dev/dev_venv/include -I/opt/homebrew/opt/python@3.10/Frameworks/Python.framework/Versions/3.10/include/python3.10 -c Raf_Mitra_NatCom2018OptimalScaling_3CatQual_x0_fixedParameters.cpp -o build/temp.macosx-13-arm64-cpython-310/Raf_Mitra_NatCom2018OptimalScaling_3CatQual_x0_fixedParameters.o -std=c++14\n",
      "clang -Wno-unused-result -Wsign-compare -Wunreachable-code -fno-common -dynamic -DNDEBUG -g -fwrapv -O3 -Wall -isysroot /Library/Developer/CommandLineTools/SDKs/MacOSX13.sdk -I/Users/zebo/Documents/PhD/Projects/pypesto_amici_dev/dev_venv/pyPESTO/doc/example/amici_models/Raf_Mitra_NatCom2018OptimalScaling_3CatQual -I/Users/zebo/Documents/PhD/Projects/pypesto_amici_dev/dev_venv/lib/python3.10/site-packages/amici/include -I/Users/zebo/Documents/PhD/Projects/pypesto_amici_dev/dev_venv/lib/python3.10/site-packages/amici/ThirdParty/gsl -I/Users/zebo/Documents/PhD/Projects/pypesto_amici_dev/dev_venv/lib/python3.10/site-packages/amici/ThirdParty/sundials/include -I/Users/zebo/Documents/PhD/Projects/pypesto_amici_dev/dev_venv/lib/python3.10/site-packages/amici/ThirdParty/SuiteSparse/include -I/opt/homebrew/Cellar/hdf5/1.12.2_2/include -I/Users/zebo/Documents/PhD/Projects/pypesto_amici_dev/dev_venv/include -I/opt/homebrew/opt/python@3.10/Frameworks/Python.framework/Versions/3.10/include/python3.10 -c Raf_Mitra_NatCom2018OptimalScaling_3CatQual_x_rdata.cpp -o build/temp.macosx-13-arm64-cpython-310/Raf_Mitra_NatCom2018OptimalScaling_3CatQual_x_rdata.o -std=c++14\n",
      "clang -Wno-unused-result -Wsign-compare -Wunreachable-code -fno-common -dynamic -DNDEBUG -g -fwrapv -O3 -Wall -isysroot /Library/Developer/CommandLineTools/SDKs/MacOSX13.sdk -I/Users/zebo/Documents/PhD/Projects/pypesto_amici_dev/dev_venv/pyPESTO/doc/example/amici_models/Raf_Mitra_NatCom2018OptimalScaling_3CatQual -I/Users/zebo/Documents/PhD/Projects/pypesto_amici_dev/dev_venv/lib/python3.10/site-packages/amici/include -I/Users/zebo/Documents/PhD/Projects/pypesto_amici_dev/dev_venv/lib/python3.10/site-packages/amici/ThirdParty/gsl -I/Users/zebo/Documents/PhD/Projects/pypesto_amici_dev/dev_venv/lib/python3.10/site-packages/amici/ThirdParty/sundials/include -I/Users/zebo/Documents/PhD/Projects/pypesto_amici_dev/dev_venv/lib/python3.10/site-packages/amici/ThirdParty/SuiteSparse/include -I/opt/homebrew/Cellar/hdf5/1.12.2_2/include -I/Users/zebo/Documents/PhD/Projects/pypesto_amici_dev/dev_venv/include -I/opt/homebrew/opt/python@3.10/Frameworks/Python.framework/Versions/3.10/include/python3.10 -c Raf_Mitra_NatCom2018OptimalScaling_3CatQual_x_solver.cpp -o build/temp.macosx-13-arm64-cpython-310/Raf_Mitra_NatCom2018OptimalScaling_3CatQual_x_solver.o -std=c++14\n",
      "clang -Wno-unused-result -Wsign-compare -Wunreachable-code -fno-common -dynamic -DNDEBUG -g -fwrapv -O3 -Wall -isysroot /Library/Developer/CommandLineTools/SDKs/MacOSX13.sdk -I/Users/zebo/Documents/PhD/Projects/pypesto_amici_dev/dev_venv/pyPESTO/doc/example/amici_models/Raf_Mitra_NatCom2018OptimalScaling_3CatQual -I/Users/zebo/Documents/PhD/Projects/pypesto_amici_dev/dev_venv/lib/python3.10/site-packages/amici/include -I/Users/zebo/Documents/PhD/Projects/pypesto_amici_dev/dev_venv/lib/python3.10/site-packages/amici/ThirdParty/gsl -I/Users/zebo/Documents/PhD/Projects/pypesto_amici_dev/dev_venv/lib/python3.10/site-packages/amici/ThirdParty/sundials/include -I/Users/zebo/Documents/PhD/Projects/pypesto_amici_dev/dev_venv/lib/python3.10/site-packages/amici/ThirdParty/SuiteSparse/include -I/opt/homebrew/Cellar/hdf5/1.12.2_2/include -I/Users/zebo/Documents/PhD/Projects/pypesto_amici_dev/dev_venv/include -I/opt/homebrew/opt/python@3.10/Frameworks/Python.framework/Versions/3.10/include/python3.10 -c Raf_Mitra_NatCom2018OptimalScaling_3CatQual_xdot.cpp -o build/temp.macosx-13-arm64-cpython-310/Raf_Mitra_NatCom2018OptimalScaling_3CatQual_xdot.o -std=c++14\n",
      "clang -Wno-unused-result -Wsign-compare -Wunreachable-code -fno-common -dynamic -DNDEBUG -g -fwrapv -O3 -Wall -isysroot /Library/Developer/CommandLineTools/SDKs/MacOSX13.sdk -I/Users/zebo/Documents/PhD/Projects/pypesto_amici_dev/dev_venv/pyPESTO/doc/example/amici_models/Raf_Mitra_NatCom2018OptimalScaling_3CatQual -I/Users/zebo/Documents/PhD/Projects/pypesto_amici_dev/dev_venv/lib/python3.10/site-packages/amici/include -I/Users/zebo/Documents/PhD/Projects/pypesto_amici_dev/dev_venv/lib/python3.10/site-packages/amici/ThirdParty/gsl -I/Users/zebo/Documents/PhD/Projects/pypesto_amici_dev/dev_venv/lib/python3.10/site-packages/amici/ThirdParty/sundials/include -I/Users/zebo/Documents/PhD/Projects/pypesto_amici_dev/dev_venv/lib/python3.10/site-packages/amici/ThirdParty/SuiteSparse/include -I/opt/homebrew/Cellar/hdf5/1.12.2_2/include -I/Users/zebo/Documents/PhD/Projects/pypesto_amici_dev/dev_venv/include -I/opt/homebrew/opt/python@3.10/Frameworks/Python.framework/Versions/3.10/include/python3.10 -c Raf_Mitra_NatCom2018OptimalScaling_3CatQual_y.cpp -o build/temp.macosx-13-arm64-cpython-310/Raf_Mitra_NatCom2018OptimalScaling_3CatQual_y.o -std=c++14\n",
      "clang -Wno-unused-result -Wsign-compare -Wunreachable-code -fno-common -dynamic -DNDEBUG -g -fwrapv -O3 -Wall -isysroot /Library/Developer/CommandLineTools/SDKs/MacOSX13.sdk -I/Users/zebo/Documents/PhD/Projects/pypesto_amici_dev/dev_venv/pyPESTO/doc/example/amici_models/Raf_Mitra_NatCom2018OptimalScaling_3CatQual -I/Users/zebo/Documents/PhD/Projects/pypesto_amici_dev/dev_venv/lib/python3.10/site-packages/amici/include -I/Users/zebo/Documents/PhD/Projects/pypesto_amici_dev/dev_venv/lib/python3.10/site-packages/amici/ThirdParty/gsl -I/Users/zebo/Documents/PhD/Projects/pypesto_amici_dev/dev_venv/lib/python3.10/site-packages/amici/ThirdParty/sundials/include -I/Users/zebo/Documents/PhD/Projects/pypesto_amici_dev/dev_venv/lib/python3.10/site-packages/amici/ThirdParty/SuiteSparse/include -I/opt/homebrew/Cellar/hdf5/1.12.2_2/include -I/Users/zebo/Documents/PhD/Projects/pypesto_amici_dev/dev_venv/include -I/opt/homebrew/opt/python@3.10/Frameworks/Python.framework/Versions/3.10/include/python3.10 -c swig/Raf_Mitra_NatCom2018OptimalScaling_3CatQual_wrap.cpp -o build/temp.macosx-13-arm64-cpython-310/swig/Raf_Mitra_NatCom2018OptimalScaling_3CatQual_wrap.o -std=c++14\n",
      "clang -Wno-unused-result -Wsign-compare -Wunreachable-code -fno-common -dynamic -DNDEBUG -g -fwrapv -O3 -Wall -isysroot /Library/Developer/CommandLineTools/SDKs/MacOSX13.sdk -I/Users/zebo/Documents/PhD/Projects/pypesto_amici_dev/dev_venv/pyPESTO/doc/example/amici_models/Raf_Mitra_NatCom2018OptimalScaling_3CatQual -I/Users/zebo/Documents/PhD/Projects/pypesto_amici_dev/dev_venv/lib/python3.10/site-packages/amici/include -I/Users/zebo/Documents/PhD/Projects/pypesto_amici_dev/dev_venv/lib/python3.10/site-packages/amici/ThirdParty/gsl -I/Users/zebo/Documents/PhD/Projects/pypesto_amici_dev/dev_venv/lib/python3.10/site-packages/amici/ThirdParty/sundials/include -I/Users/zebo/Documents/PhD/Projects/pypesto_amici_dev/dev_venv/lib/python3.10/site-packages/amici/ThirdParty/SuiteSparse/include -I/opt/homebrew/Cellar/hdf5/1.12.2_2/include -I/Users/zebo/Documents/PhD/Projects/pypesto_amici_dev/dev_venv/include -I/opt/homebrew/opt/python@3.10/Frameworks/Python.framework/Versions/3.10/include/python3.10 -c wrapfunctions.cpp -o build/temp.macosx-13-arm64-cpython-310/wrapfunctions.o -std=c++14\n",
      "clang++ -bundle -undefined dynamic_lookup -isysroot /Library/Developer/CommandLineTools/SDKs/MacOSX13.sdk build/temp.macosx-13-arm64-cpython-310/Raf_Mitra_NatCom2018OptimalScaling_3CatQual.o build/temp.macosx-13-arm64-cpython-310/Raf_Mitra_NatCom2018OptimalScaling_3CatQual_Jy.o build/temp.macosx-13-arm64-cpython-310/Raf_Mitra_NatCom2018OptimalScaling_3CatQual_dJydsigma.o build/temp.macosx-13-arm64-cpython-310/Raf_Mitra_NatCom2018OptimalScaling_3CatQual_dJydy.o build/temp.macosx-13-arm64-cpython-310/Raf_Mitra_NatCom2018OptimalScaling_3CatQual_dJydy_colptrs.o build/temp.macosx-13-arm64-cpython-310/Raf_Mitra_NatCom2018OptimalScaling_3CatQual_dJydy_rowvals.o build/temp.macosx-13-arm64-cpython-310/Raf_Mitra_NatCom2018OptimalScaling_3CatQual_dsigmaydp.o build/temp.macosx-13-arm64-cpython-310/Raf_Mitra_NatCom2018OptimalScaling_3CatQual_dwdp.o build/temp.macosx-13-arm64-cpython-310/Raf_Mitra_NatCom2018OptimalScaling_3CatQual_dwdp_colptrs.o build/temp.macosx-13-arm64-cpython-310/Raf_Mitra_NatCom2018OptimalScaling_3CatQual_dwdp_rowvals.o build/temp.macosx-13-arm64-cpython-310/Raf_Mitra_NatCom2018OptimalScaling_3CatQual_dwdw.o build/temp.macosx-13-arm64-cpython-310/Raf_Mitra_NatCom2018OptimalScaling_3CatQual_dwdw_colptrs.o build/temp.macosx-13-arm64-cpython-310/Raf_Mitra_NatCom2018OptimalScaling_3CatQual_dwdw_rowvals.o build/temp.macosx-13-arm64-cpython-310/Raf_Mitra_NatCom2018OptimalScaling_3CatQual_dwdx.o build/temp.macosx-13-arm64-cpython-310/Raf_Mitra_NatCom2018OptimalScaling_3CatQual_dwdx_colptrs.o build/temp.macosx-13-arm64-cpython-310/Raf_Mitra_NatCom2018OptimalScaling_3CatQual_dwdx_rowvals.o build/temp.macosx-13-arm64-cpython-310/Raf_Mitra_NatCom2018OptimalScaling_3CatQual_dxdotdw.o build/temp.macosx-13-arm64-cpython-310/Raf_Mitra_NatCom2018OptimalScaling_3CatQual_dxdotdw_colptrs.o build/temp.macosx-13-arm64-cpython-310/Raf_Mitra_NatCom2018OptimalScaling_3CatQual_dxdotdw_rowvals.o build/temp.macosx-13-arm64-cpython-310/Raf_Mitra_NatCom2018OptimalScaling_3CatQual_dydx.o build/temp.macosx-13-arm64-cpython-310/Raf_Mitra_NatCom2018OptimalScaling_3CatQual_sigmay.o build/temp.macosx-13-arm64-cpython-310/Raf_Mitra_NatCom2018OptimalScaling_3CatQual_sx0_fixedParameters.o build/temp.macosx-13-arm64-cpython-310/Raf_Mitra_NatCom2018OptimalScaling_3CatQual_w.o build/temp.macosx-13-arm64-cpython-310/Raf_Mitra_NatCom2018OptimalScaling_3CatQual_x0.o build/temp.macosx-13-arm64-cpython-310/Raf_Mitra_NatCom2018OptimalScaling_3CatQual_x0_fixedParameters.o build/temp.macosx-13-arm64-cpython-310/Raf_Mitra_NatCom2018OptimalScaling_3CatQual_x_rdata.o build/temp.macosx-13-arm64-cpython-310/Raf_Mitra_NatCom2018OptimalScaling_3CatQual_x_solver.o build/temp.macosx-13-arm64-cpython-310/Raf_Mitra_NatCom2018OptimalScaling_3CatQual_xdot.o build/temp.macosx-13-arm64-cpython-310/Raf_Mitra_NatCom2018OptimalScaling_3CatQual_y.o build/temp.macosx-13-arm64-cpython-310/swig/Raf_Mitra_NatCom2018OptimalScaling_3CatQual_wrap.o build/temp.macosx-13-arm64-cpython-310/wrapfunctions.o -L/opt/homebrew/Cellar/hdf5/1.12.2_2/lib -L/Users/zebo/Documents/PhD/Projects/pypesto_amici_dev/dev_venv/lib/python3.10/site-packages/amici/libs -lamici -lsundials -lsuitesparse -lcblas -lhdf5_hl_cpp -lhdf5_hl -lhdf5_cpp -lhdf5 -o /Users/zebo/Documents/PhD/Projects/pypesto_amici_dev/dev_venv/pyPESTO/doc/example/amici_models/Raf_Mitra_NatCom2018OptimalScaling_3CatQual/Raf_Mitra_NatCom2018OptimalScaling_3CatQual/_Raf_Mitra_NatCom2018OptimalScaling_3CatQual.cpython-310-darwin.so\n",
      "ld: warning: -undefined dynamic_lookup may not work with chained fixups\n",
      "\n"
     ]
    },
    {
     "name": "stderr",
     "output_type": "stream",
     "text": [
      "2023-01-31 15:40:03.629 - amici.petab_import - INFO - Finished Importing PEtab model                (1.10E+01s)\n"
     ]
    }
   ],
   "source": [
    "petab_folder = './example_qualitative/'\n",
    "yaml_file = 'example_qualitative.yaml'\n",
    "\n",
    "petab_problem = petab.Problem.from_yaml(petab_folder + yaml_file)\n",
    "\n",
    "# To allow for optimization with ordinal measurements, set ordinal=True, when creating the importer\n",
    "importer = pypesto.petab.PetabImporter(petab_problem, ordinal=True)\n",
    "\n",
    "model = importer.create_model()"
   ]
  },
  {
   "cell_type": "code",
   "execution_count": 26,
   "metadata": {},
   "outputs": [],
   "source": [
    "objective = importer.create_objective()\n",
    "problem = importer.create_problem(objective)\n",
    "\n",
    "engine = pypesto.engine.SingleCoreEngine()\n",
    "\n",
    "optimizer = optimize.ScipyOptimizer(method='Nelder-Mead',\n",
    "                                   options={'disp': True, 'maxiter': 500, 'maxfev': 500, 'fatol': 1e-10})\n",
    "n_starts = 10\n",
    "np.random.seed(n_starts)"
   ]
  },
  {
   "cell_type": "markdown",
   "metadata": {},
   "source": [
    "## Run optimization using optimal scaling approach"
   ]
  },
  {
   "cell_type": "markdown",
   "metadata": {},
   "source": [
    "Different options can be used for the optimal scaling approach:\n",
    "- method: `standard` / `reduced`\n",
    "- reparameterized: `True` / `False`\n",
    "- intervalConstraints: `max` / `max-min`\n",
    "- minGap: Any float value\n",
    "\n",
    "It is recommended to use the reduced method with reparameterization as it is the most efficient and robust choice.\n",
    "\n",
    "When no options are provided, the default is the reduced and reparameterized formulation with max as interval constraint and `minGap=1e-10`."
   ]
  },
  {
   "cell_type": "markdown",
   "metadata": {},
   "source": [
    "### Run optimization using the reduced and reparameterized approach"
   ]
  },
  {
   "cell_type": "code",
   "execution_count": 27,
   "metadata": {
    "scrolled": true
   },
   "outputs": [
    {
     "name": "stderr",
     "output_type": "stream",
     "text": [
      " 10%|█         | 1/10 [00:02<00:25,  2.81s/it]"
     ]
    },
    {
     "name": "stdout",
     "output_type": "stream",
     "text": [
      "Optimization terminated successfully.\n",
      "         Current function value: 0.000574\n",
      "         Iterations: 146\n",
      "         Function evaluations: 271\n"
     ]
    },
    {
     "name": "stderr",
     "output_type": "stream",
     "text": [
      " 20%|██        | 2/10 [00:03<00:14,  1.79s/it]"
     ]
    },
    {
     "name": "stdout",
     "output_type": "stream",
     "text": [
      "Optimization terminated successfully.\n",
      "         Current function value: 0.000574\n",
      "         Iterations: 48\n",
      "         Function evaluations: 90\n"
     ]
    },
    {
     "name": "stderr",
     "output_type": "stream",
     "text": [
      " 30%|███       | 3/10 [00:05<00:12,  1.85s/it]"
     ]
    },
    {
     "name": "stdout",
     "output_type": "stream",
     "text": [
      "Optimization terminated successfully.\n",
      "         Current function value: 0.000574\n",
      "         Iterations: 90\n",
      "         Function evaluations: 169\n"
     ]
    },
    {
     "name": "stderr",
     "output_type": "stream",
     "text": [
      " 40%|████      | 4/10 [00:06<00:08,  1.37s/it]"
     ]
    },
    {
     "name": "stdout",
     "output_type": "stream",
     "text": [
      "Optimization terminated successfully.\n",
      "         Current function value: 0.001989\n",
      "         Iterations: 36\n",
      "         Function evaluations: 68\n"
     ]
    },
    {
     "name": "stderr",
     "output_type": "stream",
     "text": [
      " 50%|█████     | 5/10 [00:07<00:06,  1.24s/it]"
     ]
    },
    {
     "name": "stdout",
     "output_type": "stream",
     "text": [
      "Optimization terminated successfully.\n",
      "         Current function value: 0.000574\n",
      "         Iterations: 45\n",
      "         Function evaluations: 91\n"
     ]
    },
    {
     "name": "stderr",
     "output_type": "stream",
     "text": [
      " 60%|██████    | 6/10 [00:08<00:05,  1.28s/it]"
     ]
    },
    {
     "name": "stdout",
     "output_type": "stream",
     "text": [
      "Optimization terminated successfully.\n",
      "         Current function value: 0.000574\n",
      "         Iterations: 58\n",
      "         Function evaluations: 109\n"
     ]
    },
    {
     "name": "stderr",
     "output_type": "stream",
     "text": [
      " 70%|███████   | 7/10 [00:10<00:04,  1.34s/it]"
     ]
    },
    {
     "name": "stdout",
     "output_type": "stream",
     "text": [
      "Optimization terminated successfully.\n",
      "         Current function value: 0.000574\n",
      "         Iterations: 68\n",
      "         Function evaluations: 132\n"
     ]
    },
    {
     "name": "stderr",
     "output_type": "stream",
     "text": [
      " 80%|████████  | 8/10 [00:11<00:02,  1.30s/it]"
     ]
    },
    {
     "name": "stdout",
     "output_type": "stream",
     "text": [
      "Optimization terminated successfully.\n",
      "         Current function value: 0.000574\n",
      "         Iterations: 54\n",
      "         Function evaluations: 102\n"
     ]
    },
    {
     "name": "stderr",
     "output_type": "stream",
     "text": [
      " 90%|█████████ | 9/10 [00:13<00:01,  1.40s/it]"
     ]
    },
    {
     "name": "stdout",
     "output_type": "stream",
     "text": [
      "Optimization terminated successfully.\n",
      "         Current function value: 0.000574\n",
      "         Iterations: 81\n",
      "         Function evaluations: 147\n"
     ]
    },
    {
     "name": "stderr",
     "output_type": "stream",
     "text": [
      "100%|██████████| 10/10 [00:14<00:00,  1.44s/it]"
     ]
    },
    {
     "name": "stdout",
     "output_type": "stream",
     "text": [
      "Optimization terminated successfully.\n",
      "         Current function value: 0.000574\n",
      "         Iterations: 60\n",
      "         Function evaluations: 110\n"
     ]
    },
    {
     "name": "stderr",
     "output_type": "stream",
     "text": [
      "\n"
     ]
    }
   ],
   "source": [
    "problem.objective.calculator.inner_solver = OptimalScalingInnerSolver(options={'method': 'reduced',\n",
    "                                                                               'reparameterized': True,\n",
    "                                                                               'intervalConstraints': 'max',\n",
    "                                                                               'minGap': 1e-10})\n",
    "\n",
    "res_reduced_reparameterized = optimize.minimize(problem, n_starts=n_starts, optimizer=optimizer, engine=engine)"
   ]
  },
  {
   "cell_type": "markdown",
   "metadata": {},
   "source": [
    "### Run optimization using the reduced non-reparameterized approach"
   ]
  },
  {
   "cell_type": "code",
   "execution_count": 28,
   "metadata": {},
   "outputs": [
    {
     "name": "stderr",
     "output_type": "stream",
     "text": [
      " 10%|█         | 1/10 [00:01<00:15,  1.76s/it]"
     ]
    },
    {
     "name": "stdout",
     "output_type": "stream",
     "text": [
      "Optimization terminated successfully.\n",
      "         Current function value: 0.000574\n",
      "         Iterations: 88\n",
      "         Function evaluations: 166\n"
     ]
    },
    {
     "name": "stderr",
     "output_type": "stream",
     "text": [
      " 20%|██        | 2/10 [00:03<00:13,  1.65s/it]"
     ]
    },
    {
     "name": "stdout",
     "output_type": "stream",
     "text": [
      "Optimization terminated successfully.\n",
      "         Current function value: 0.000574\n",
      "         Iterations: 75\n",
      "         Function evaluations: 140\n"
     ]
    },
    {
     "name": "stderr",
     "output_type": "stream",
     "text": [
      " 30%|███       | 3/10 [00:04<00:10,  1.50s/it]"
     ]
    },
    {
     "name": "stdout",
     "output_type": "stream",
     "text": [
      "Optimization terminated successfully.\n",
      "         Current function value: 0.000574\n",
      "         Iterations: 64\n",
      "         Function evaluations: 119\n"
     ]
    },
    {
     "name": "stderr",
     "output_type": "stream",
     "text": [
      " 40%|████      | 4/10 [00:05<00:08,  1.41s/it]"
     ]
    },
    {
     "name": "stdout",
     "output_type": "stream",
     "text": [
      "Optimization terminated successfully.\n",
      "         Current function value: 0.000574\n",
      "         Iterations: 59\n",
      "         Function evaluations: 109\n"
     ]
    },
    {
     "name": "stderr",
     "output_type": "stream",
     "text": [
      " 50%|█████     | 5/10 [00:06<00:06,  1.26s/it]"
     ]
    },
    {
     "name": "stdout",
     "output_type": "stream",
     "text": [
      "Optimization terminated successfully.\n",
      "         Current function value: 0.000574\n",
      "         Iterations: 42\n",
      "         Function evaluations: 83\n"
     ]
    },
    {
     "name": "stderr",
     "output_type": "stream",
     "text": [
      " 60%|██████    | 6/10 [00:08<00:06,  1.51s/it]"
     ]
    },
    {
     "name": "stdout",
     "output_type": "stream",
     "text": [
      "Optimization terminated successfully.\n",
      "         Current function value: 0.000574\n",
      "         Iterations: 94\n",
      "         Function evaluations: 172\n"
     ]
    },
    {
     "name": "stderr",
     "output_type": "stream",
     "text": [
      " 70%|███████   | 7/10 [00:10<00:04,  1.63s/it]"
     ]
    },
    {
     "name": "stdout",
     "output_type": "stream",
     "text": [
      "Optimization terminated successfully.\n",
      "         Current function value: 0.000574\n",
      "         Iterations: 89\n",
      "         Function evaluations: 168\n"
     ]
    },
    {
     "name": "stderr",
     "output_type": "stream",
     "text": [
      " 80%|████████  | 8/10 [00:11<00:02,  1.29s/it]"
     ]
    },
    {
     "name": "stdout",
     "output_type": "stream",
     "text": [
      "Optimization terminated successfully.\n",
      "         Current function value: 0.001989\n",
      "         Iterations: 33\n",
      "         Function evaluations: 64\n"
     ]
    },
    {
     "name": "stderr",
     "output_type": "stream",
     "text": [
      " 90%|█████████ | 9/10 [00:13<00:01,  1.46s/it]"
     ]
    },
    {
     "name": "stdout",
     "output_type": "stream",
     "text": [
      "Optimization terminated successfully.\n",
      "         Current function value: 0.000574\n",
      "         Iterations: 83\n",
      "         Function evaluations: 161\n"
     ]
    },
    {
     "name": "stderr",
     "output_type": "stream",
     "text": [
      "100%|██████████| 10/10 [00:14<00:00,  1.43s/it]"
     ]
    },
    {
     "name": "stdout",
     "output_type": "stream",
     "text": [
      "Optimization terminated successfully.\n",
      "         Current function value: 0.000574\n",
      "         Iterations: 46\n",
      "         Function evaluations: 89\n"
     ]
    },
    {
     "name": "stderr",
     "output_type": "stream",
     "text": [
      "\n"
     ]
    }
   ],
   "source": [
    "problem.objective.calculator.inner_solver = OptimalScalingInnerSolver(options={'method': 'reduced',\n",
    "                                                                               'reparameterized': False,\n",
    "                                                                               'intervalConstraints': 'max',\n",
    "                                                                               'minGap': 1e-10})\n",
    "\n",
    "res_reduced = optimize.minimize(problem, n_starts=n_starts, optimizer=optimizer, engine=engine)"
   ]
  },
  {
   "cell_type": "markdown",
   "metadata": {},
   "source": [
    "### Run optimization using the standard approach"
   ]
  },
  {
   "cell_type": "code",
   "execution_count": 29,
   "metadata": {},
   "outputs": [
    {
     "name": "stderr",
     "output_type": "stream",
     "text": [
      " 10%|█         | 1/10 [00:01<00:13,  1.48s/it]"
     ]
    },
    {
     "name": "stdout",
     "output_type": "stream",
     "text": [
      "Optimization terminated successfully.\n",
      "         Current function value: 0.000574\n",
      "         Iterations: 59\n",
      "         Function evaluations: 112\n"
     ]
    },
    {
     "name": "stderr",
     "output_type": "stream",
     "text": [
      " 20%|██        | 2/10 [00:02<00:08,  1.03s/it]"
     ]
    },
    {
     "name": "stdout",
     "output_type": "stream",
     "text": [
      "Optimization terminated successfully.\n",
      "         Current function value: 0.001989\n",
      "         Iterations: 34\n",
      "         Function evaluations: 69\n"
     ]
    },
    {
     "name": "stderr",
     "output_type": "stream",
     "text": [
      " 30%|███       | 3/10 [00:04<00:11,  1.58s/it]"
     ]
    },
    {
     "name": "stdout",
     "output_type": "stream",
     "text": [
      "Optimization terminated successfully.\n",
      "         Current function value: 0.000574\n",
      "         Iterations: 104\n",
      "         Function evaluations: 186\n"
     ]
    },
    {
     "name": "stderr",
     "output_type": "stream",
     "text": [
      " 40%|████      | 4/10 [00:07<00:13,  2.17s/it]"
     ]
    },
    {
     "name": "stdout",
     "output_type": "stream",
     "text": [
      "Optimization terminated successfully.\n",
      "         Current function value: 0.000574\n",
      "         Iterations: 152\n",
      "         Function evaluations: 277\n"
     ]
    },
    {
     "name": "stderr",
     "output_type": "stream",
     "text": [
      " 50%|█████     | 5/10 [00:11<00:13,  2.75s/it]"
     ]
    },
    {
     "name": "stdout",
     "output_type": "stream",
     "text": [
      "Optimization terminated successfully.\n",
      "         Current function value: 0.000574\n",
      "         Iterations: 183\n",
      "         Function evaluations: 342\n"
     ]
    },
    {
     "name": "stderr",
     "output_type": "stream",
     "text": [
      " 60%|██████    | 6/10 [00:13<00:10,  2.62s/it]"
     ]
    },
    {
     "name": "stdout",
     "output_type": "stream",
     "text": [
      "Optimization terminated successfully.\n",
      "         Current function value: 0.000574\n",
      "         Iterations: 116\n",
      "         Function evaluations: 213\n"
     ]
    },
    {
     "name": "stderr",
     "output_type": "stream",
     "text": [
      " 70%|███████   | 7/10 [00:15<00:07,  2.52s/it]"
     ]
    },
    {
     "name": "stdout",
     "output_type": "stream",
     "text": [
      "Optimization terminated successfully.\n",
      "         Current function value: 0.000574\n",
      "         Iterations: 113\n",
      "         Function evaluations: 200\n"
     ]
    },
    {
     "name": "stderr",
     "output_type": "stream",
     "text": [
      " 80%|████████  | 8/10 [00:17<00:04,  2.18s/it]"
     ]
    },
    {
     "name": "stdout",
     "output_type": "stream",
     "text": [
      "Optimization terminated successfully.\n",
      "         Current function value: 0.000574\n",
      "         Iterations: 65\n",
      "         Function evaluations: 119\n"
     ]
    },
    {
     "name": "stderr",
     "output_type": "stream",
     "text": [
      " 90%|█████████ | 9/10 [00:20<00:02,  2.32s/it]"
     ]
    },
    {
     "name": "stdout",
     "output_type": "stream",
     "text": [
      "Optimization terminated successfully.\n",
      "         Current function value: 0.000574\n",
      "         Iterations: 104\n",
      "         Function evaluations: 200\n"
     ]
    },
    {
     "name": "stderr",
     "output_type": "stream",
     "text": [
      "100%|██████████| 10/10 [00:22<00:00,  2.23s/it]"
     ]
    },
    {
     "name": "stdout",
     "output_type": "stream",
     "text": [
      "Optimization terminated successfully.\n",
      "         Current function value: 0.000574\n",
      "         Iterations: 103\n",
      "         Function evaluations: 190\n"
     ]
    },
    {
     "name": "stderr",
     "output_type": "stream",
     "text": [
      "\n"
     ]
    }
   ],
   "source": [
    "problem.objective.calculator.inner_solver = OptimalScalingInnerSolver(options={'method': 'standard',\n",
    "                                                                               'reparameterized': False,\n",
    "                                                                               'intervalConstraints': 'max',\n",
    "                                                                               'minGap': 1e-10})\n",
    "\n",
    "res_standard = optimize.minimize(problem, n_starts=n_starts, optimizer=optimizer, engine=engine)"
   ]
  },
  {
   "cell_type": "markdown",
   "metadata": {},
   "source": [
    "### Compare results"
   ]
  },
  {
   "cell_type": "markdown",
   "metadata": {},
   "source": [
    "Reduced formulation leads to improved computation times"
   ]
  },
  {
   "cell_type": "code",
   "execution_count": 30,
   "metadata": {},
   "outputs": [
    {
     "name": "stdout",
     "output_type": "stream",
     "text": [
      "Mean computation time for standard approach: 2.22789306640625\n",
      "Mean computation time for reduced approach: 1.4259209632873535\n",
      "Mean computation time for reduced reparameterized approach: 1.440309739112854\n"
     ]
    }
   ],
   "source": [
    "time_standard = res_standard.optimize_result.get_for_key('time')\n",
    "print(f\"Mean computation time for standard approach: {np.mean(time_standard)}\")\n",
    "\n",
    "time_reduced = res_reduced.optimize_result.get_for_key('time')\n",
    "print(f\"Mean computation time for reduced approach: {np.mean(time_reduced)}\")\n",
    "\n",
    "time_reduced_reparameterized = res_reduced_reparameterized.optimize_result.get_for_key('time')\n",
    "print(f\"Mean computation time for reduced reparameterized approach: {np.mean(time_reduced_reparameterized)}\")"
   ]
  },
  {
   "cell_type": "markdown",
   "metadata": {},
   "source": [
    "All approaches yield the same objective function values"
   ]
  },
  {
   "cell_type": "code",
   "execution_count": 31,
   "metadata": {},
   "outputs": [
    {
     "data": {
      "text/plain": [
       "<AxesSubplot: title={'center': 'Waterfall plot'}, xlabel='Ordered optimizer run', ylabel='Objective value (offset=9.994e-01)'>"
      ]
     },
     "execution_count": 31,
     "metadata": {},
     "output_type": "execute_result"
    },
    {
     "data": {
      "image/png": "[encoded data removed]",
      "text/plain": [
       "<Figure size 1850x1050 with 1 Axes>"
      ]
     },
     "metadata": {},
     "output_type": "display_data"
    }
   ],
   "source": [
    "from pypesto.visualize import waterfall\n",
    "\n",
    "waterfall([res_standard, res_reduced, res_reduced_reparameterized])"
   ]
  }
 ],
 "metadata": {
  "kernelspec": {
   "display_name": "dev_venv",
   "language": "python",
   "name": "python3"
  },
  "language_info": {
   "codemirror_mode": {
    "name": "ipython",
    "version": 3
   },
   "file_extension": ".py",
   "mimetype": "text/x-python",
   "name": "python",
   "nbconvert_exporter": "python",
   "pygments_lexer": "ipython3",
   "version": "3.10.9"
  },
  "vscode": {
   "interpreter": {
    "hash": "b4f64b1cfeae9987d9a74471fe6faf49d769577c41c664ee1b5af662a144b184"
   }
  }
 },
 "nbformat": 4,
 "nbformat_minor": 2
}
