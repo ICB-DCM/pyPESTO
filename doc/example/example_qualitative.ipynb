{
 "cells": [
  {
   "cell_type": "markdown",
   "metadata": {},
   "source": [
    "# Parameter estimation using qualitative data"
   ]
  },
  {
   "cell_type": "markdown",
   "metadata": {},
   "source": [
    "This Notebook eplains the use of qualitative data for parameter estimation, as described in [Schmiester et al. (2019)](https://www.biorxiv.org/content/10.1101/848648v1.abstract). An example model is provided in `example_qualitative`"
   ]
  },
  {
   "cell_type": "markdown",
   "metadata": {},
   "source": [
    "## Import model and create pyPESTO objective"
   ]
  },
  {
   "cell_type": "code",
   "execution_count": null,
   "metadata": {},
   "outputs": [],
   "source": [
    "import pypesto\n",
    "import pypesto.petab\n",
    "import pypesto.optimize as optimize\n",
    "\n",
    "import amici\n",
    "import petab\n",
    "import numpy as np\n",
    "from pypesto.hierarchical.optimal_scaling_approach.optimal_scaling_solver import OptimalScalingInnerSolver\n",
    "import pypesto.logging\n",
    "import logging"
   ]
  },
  {
   "cell_type": "code",
   "execution_count": null,
   "metadata": {},
   "outputs": [],
   "source": [
    "petab_folder = './example_qualitative/'\n",
    "yaml_file = 'example_qualitative.yaml'\n",
    "\n",
    "petab_problem = petab.Problem.from_yaml(petab_folder + yaml_file)\n",
    "\n",
    "try:\n",
    "    # TODO there seem to be some PEtab issues, but let's try to ignore them\n",
    "    # also leading to amici issues:\n",
    "    '''\n",
    "    +      \"In file included from Raf_Mitra_NatCom2018OptimalScaling_3CatQual_sigmay.cpp:12:\\n\",\n",
    "    +      \"Raf_Mitra_NatCom2018OptimalScaling_3CatQual_sigmay.h:1: warning: \\\"sigma_Activity\\\" redefined\\n\",\n",
    "    +      \"    1 | #define sigma_Activity sigmay[0]\\n\",\n",
    "    +      \"      | \\n\",\n",
    "    +      \"In file included from Raf_Mitra_NatCom2018OptimalScaling_3CatQual_sigmay.cpp:9:\\n\",\n",
    "    +      \"Raf_Mitra_NatCom2018OptimalScaling_3CatQual_p.h:6: note: this is the location of the previous definition\\n\",\n",
    "    +      \"    6 | #define sigma_Activity p[5]\\n\",\n",
    "    +      \"      | \\n\",\n",
    "    +      \"In file included from Raf_Mitra_NatCom2018OptimalScaling_3CatQual_sigmay.cpp:12:\\n\",\n",
    "    +      \"Raf_Mitra_NatCom2018OptimalScaling_3CatQual_sigmay.h:2: warning: \\\"sigma_Ybar\\\" redefined\\n\",\n",
    "    +      \"    2 | #define sigma_Ybar sigmay[1]\\n\",\n",
    "    +      \"      | \\n\",\n",
    "    +      \"In file included from Raf_Mitra_NatCom2018OptimalScaling_3CatQual_sigmay.cpp:9:\\n\",\n",
    "    +      \"Raf_Mitra_NatCom2018OptimalScaling_3CatQual_p.h:5: note: this is the location of the previous definition\\n\",\n",
    "    +      \"    5 | #define sigma_Ybar p[4]\\n\",\n",
    "    +      \"      | \\n\",\n",
    "    '''\n",
    "    importer = pypesto.petab.PetabImporter(petab_problem, validate_petab=True)\n",
    "except ValueError:\n",
    "    pass\n",
    "\n",
    "# observableParameters provided for optimal scaling will fail PEtab validation, so disable\n",
    "importer = pypesto.petab.PetabImporter(petab_problem, validate_petab=False)\n",
    "\n",
    "model = importer.create_model()"
   ]
  },
  {
   "cell_type": "code",
   "execution_count": null,
   "metadata": {},
   "outputs": [],
   "source": [
    "# To allow for hierarchical optimization, set hierarchical=True, when creating the objective\n",
    "\n",
    "objective = importer.create_objective(hierarchical=True)\n",
    "problem = importer.create_problem(objective)\n",
    "\n",
    "engine = pypesto.engine.SingleCoreEngine()\n",
    "\n",
    "# pypesto.logging.log_to_console(logging.INFO)\n",
    "\n",
    "optimizer = optimize.ScipyOptimizer(method='Nelder-Mead',\n",
    "                                   options={'disp': True, 'maxiter': 500, 'maxfev': 500, 'fatol': 1e-10})\n",
    "\n",
    "n_starts = 10"
   ]
  },
  {
   "cell_type": "markdown",
   "metadata": {},
   "source": [
    "## Run optimization using optimal scaling approach"
   ]
  },
  {
   "cell_type": "markdown",
   "metadata": {},
   "source": [
    "Different options can be used for the optimal scaling approach:\n",
    "- method: `standard` / `reduced`\n",
    "- reparameterized: `True` / `False`\n",
    "- intervalConstraints: `max` / `max-min`\n",
    "- minGap: Any float value\n",
    "\n",
    "It is recommended to use the reduced method with reparameterization as it is the most efficient and robust choice.\n",
    "\n",
    "When no options are provided, the default is the reduced and reparameterized formulation with max as interval constraint and `minGap=1e-10`."
   ]
  },
  {
   "cell_type": "markdown",
   "metadata": {},
   "source": [
    "### Run optimization using the reduced and reparameterized approach"
   ]
  },
  {
   "cell_type": "code",
   "execution_count": null,
   "metadata": {
    "scrolled": true
   },
   "outputs": [],
   "source": [
    "problem.objective.calculator.inner_solver = OptimalScalingInnerSolver(options={'method': 'reduced',\n",
    "                                                                               'reparameterized': True,\n",
    "                                                                               'intervalConstraints': 'max',\n",
    "                                                                               'minGap': 1e-10})\n",
    "\n",
    "res_reduced_reparameterized = optimize.minimize(problem, n_starts=n_starts, optimizer=optimizer, engine=engine)"
   ]
  },
  {
   "cell_type": "markdown",
   "metadata": {},
   "source": [
    "### Run optimization using the reduced non-reparameterized approach"
   ]
  },
  {
   "cell_type": "code",
   "execution_count": null,
   "metadata": {},
   "outputs": [],
   "source": [
    "problem.objective.calculator.inner_solver = OptimalScalingInnerSolver(options={'method': 'reduced',\n",
    "                                                                               'reparameterized': False,\n",
    "                                                                               'intervalConstraints': 'max',\n",
    "                                                                               'minGap': 1e-10})\n",
    "\n",
    "res_reduced = optimize.minimize(problem, n_starts=n_starts, optimizer=optimizer, engine=engine)"
   ]
  },
  {
   "cell_type": "markdown",
   "metadata": {},
   "source": [
    "### Run optimization using the standard approach"
   ]
  },
  {
   "cell_type": "code",
   "execution_count": null,
   "metadata": {},
   "outputs": [],
   "source": [
    "problem.objective.calculator.inner_solver = OptimalScalingInnerSolver(options={'method': 'standard',\n",
    "                                                                               'reparameterized': False,\n",
    "                                                                               'intervalConstraints': 'max',\n",
    "                                                                               'minGap': 1e-10})\n",
    "\n",
    "res_standard = optimize.minimize(problem, n_starts=n_starts, optimizer=optimizer, engine=engine)"
   ]
  },
  {
   "cell_type": "markdown",
   "metadata": {},
   "source": [
    "### Compare results"
   ]
  },
  {
   "cell_type": "markdown",
   "metadata": {},
   "source": [
    "Reduced formulation leads to improved computation times"
   ]
  },
  {
   "cell_type": "code",
   "execution_count": null,
   "metadata": {},
   "outputs": [],
   "source": [
    "time_standard = res_standard.optimize_result.get_for_key('time')\n",
    "print(f\"Mean computation time for standard approach: {np.mean(time_standard)}\")\n",
    "\n",
    "time_reduced = res_reduced.optimize_result.get_for_key('time')\n",
    "print(f\"Mean computation time for reduced approach: {np.mean(time_reduced)}\")\n",
    "\n",
    "time_reduced_reparameterized = res_reduced_reparameterized.optimize_result.get_for_key('time')\n",
    "print(f\"Mean computation time for reduced reparameterized approach: {np.mean(time_reduced_reparameterized)}\")"
   ]
  },
  {
   "cell_type": "markdown",
   "metadata": {},
   "source": [
    "All approaches yield the same objective function values"
   ]
  },
  {
   "cell_type": "code",
   "execution_count": null,
   "metadata": {},
   "outputs": [],
   "source": [
    "from pypesto.visualize import waterfall\n",
    "\n",
    "waterfall([res_standard, res_reduced, res_reduced_reparameterized])"
   ]
  },
  {
   "cell_type": "code",
   "execution_count": null,
   "metadata": {},
   "outputs": [],
   "source": []
  }
 ],
 "metadata": {
  "kernelspec": {
   "display_name": "Python 3 (ipykernel)",
   "language": "python",
   "name": "python3"
  },
  "language_info": {
   "codemirror_mode": {
    "name": "ipython",
    "version": 3
   },
   "file_extension": ".py",
   "mimetype": "text/x-python",
   "name": "python",
   "nbconvert_exporter": "python",
   "pygments_lexer": "ipython3",
   "version": "3.9.7"
  }
 },
 "nbformat": 4,
 "nbformat_minor": 2
}
