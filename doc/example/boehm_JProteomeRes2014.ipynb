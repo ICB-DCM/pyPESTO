{
 "cells": [
  {
   "cell_type": "markdown",
   "metadata": {},
   "source": [
    "# AMICI Python example \"Boehm\"\n",
    "\n",
    "This is an example using the model [boehm_ProteomeRes2014.xml] model to demonstrate and test SBML import and AMICI Python interface."
   ]
  },
  {
   "cell_type": "code",
   "execution_count": 1,
   "metadata": {},
   "outputs": [],
   "source": [
    "import libsbml\n",
    "import importlib\n",
    "import amici\n",
    "import pypesto\n",
    "import os\n",
    "import sys\n",
    "import numpy as np\n",
    "import matplotlib.pyplot as plt\n",
    "\n",
    "# temporarily add the simulate file\n",
    "sys.path.insert(0, 'boehm_JProteomeRes2014')\n",
    "\n",
    "from benchmark_import import DataProvider\n",
    "\n",
    "# sbml file\n",
    "sbml_file = 'boehm_JProteomeRes2014/boehm_JProteomeRes2014.xml'\n",
    "\n",
    "# name of the model that will also be the name of the python module\n",
    "model_name = 'boehm_JProteomeRes2014'\n",
    "\n",
    "# output directory\n",
    "model_output_dir = 'tmp/' + model_name"
   ]
  },
  {
   "cell_type": "markdown",
   "metadata": {},
   "source": [
    "## The example model\n",
    "\n",
    "Here we use `libsbml` to show the reactions and species described by the model (this is independent of AMICI)."
   ]
  },
  {
   "cell_type": "code",
   "execution_count": 2,
   "metadata": {},
   "outputs": [
    {
     "name": "stdout",
     "output_type": "stream",
     "text": [
      "/home/paul/Documents/pesto/pyPESTO/doc/example/boehm_JProteomeRes2014/boehm_JProteomeRes2014.xml\n",
      "Species:  ['STAT5A', 'STAT5B', 'pApB', 'pApA', 'pBpB', 'nucpApA', 'nucpApB', 'nucpBpB']\n",
      "\n",
      "Reactions:\n",
      "v1_v_0:   2 STAT5A  ->      pApA\t\t[cyt * BaF3_Epo * STAT5A^2 * k_phos]\n",
      "v2_v_1:  STAT5A +  STAT5B  ->      pApB\t\t[cyt * BaF3_Epo * STAT5A * STAT5B * k_phos]\n",
      "v3_v_2:   2 STAT5B  ->      pBpB\t\t[cyt * BaF3_Epo * STAT5B^2 * k_phos]\n",
      "v4_v_3:       pApA  ->   nucpApA\t\t[cyt * k_imp_homo * pApA]\n",
      "v5_v_4:       pApB  ->   nucpApB\t\t[cyt * k_imp_hetero * pApB]\n",
      "v6_v_5:       pBpB  ->   nucpBpB\t\t[cyt * k_imp_homo * pBpB]\n",
      "v7_v_6:    nucpApA  ->  2 STAT5A\t\t[nuc * k_exp_homo * nucpApA]\n",
      "v8_v_7:    nucpApB  -> STAT5A +  STAT5B\t\t[nuc * k_exp_hetero * nucpApB]\n",
      "v9_v_8:    nucpBpB  ->  2 STAT5B\t\t[nuc * k_exp_homo * nucpBpB]\n"
     ]
    }
   ],
   "source": [
    "sbml_reader = libsbml.SBMLReader()\n",
    "sbml_doc = sbml_reader.readSBML(os.path.abspath(sbml_file))\n",
    "sbml_model = sbml_doc.getModel()\n",
    "dir(sbml_doc)\n",
    "print(os.path.abspath(sbml_file))\n",
    "print('Species: ', [s.getId() for s in sbml_model.getListOfSpecies()])\n",
    "\n",
    "\n",
    "print('\\nReactions:')\n",
    "for reaction in sbml_model.getListOfReactions():\n",
    "    reactants = ' + '.join(['%s %s'%(int(r.getStoichiometry()) if r.getStoichiometry() > 1 else '', r.getSpecies()) for r in reaction.getListOfReactants()])\n",
    "    products  = ' + '.join(['%s %s'%(int(r.getStoichiometry()) if r.getStoichiometry() > 1 else '', r.getSpecies()) for r in reaction.getListOfProducts()])\n",
    "    reversible = '<' if reaction.getReversible() else ''\n",
    "    print('%3s: %10s %1s->%10s\\t\\t[%s]' % (reaction.getId(),\n",
    "                        reactants,\n",
    "                        reversible,\n",
    "                         products,\n",
    "                        libsbml.formulaToL3String(reaction.getKineticLaw().getMath())))"
   ]
  },
  {
   "cell_type": "markdown",
   "metadata": {},
   "source": [
    "## Importing an SBML model, compiling and generating an AMICI module\n",
    "\n",
    "Before we can use AMICI to simulate our model, the SBML model needs to be translated to C++ code. This is done by `amici.SbmlImporter`."
   ]
  },
  {
   "cell_type": "code",
   "execution_count": 3,
   "metadata": {},
   "outputs": [],
   "source": [
    "# Create an SbmlImporter instance for our SBML model\n",
    "sbml_importer = amici.SbmlImporter(sbml_file)"
   ]
  },
  {
   "cell_type": "markdown",
   "metadata": {},
   "source": [
    "In this example, we want to specify fixed parameters, observables and a $\\sigma$ parameter. Unfortunately, the latter two are not part of the [SBML standard](http://sbml.org/). However, they can be provided to `amici.SbmlImporter.sbml2amici` as demonstrated in the following."
   ]
  },
  {
   "cell_type": "markdown",
   "metadata": {},
   "source": [
    "### Constant parameters\n",
    "\n",
    "Constant parameters, i.e. parameters with respect to which no sensitivities are to be computed (these are often parameters specifying a certain experimental condition) are provided as a list of parameter names."
   ]
  },
  {
   "cell_type": "code",
   "execution_count": 4,
   "metadata": {},
   "outputs": [],
   "source": [
    "constantParameters = {'ratio', 'specC17'}"
   ]
  },
  {
   "cell_type": "markdown",
   "metadata": {},
   "source": [
    "### Observables\n",
    "\n",
    "We used SBML's [`AssignmentRule`](http://sbml.org/Software/libSBML/5.13.0/docs//python-api/classlibsbml_1_1_rule.html) as a non-standard way to specify *Model outputs* within the SBML file. These rules need to be removed prior to the model import (AMICI does at this time not support these Rules). This can be easily done using `amici.assignmentRules2observables()`.\n",
    "\n",
    "In this example, we introduced parameters named `observable_*` as targets of the observable AssignmentRules. Where applicable we have `observable_*_sigma` parameters for $\\sigma$ parameters (see below)."
   ]
  },
  {
   "cell_type": "code",
   "execution_count": 5,
   "metadata": {},
   "outputs": [
    {
     "name": "stdout",
     "output_type": "stream",
     "text": [
      "Observables: {'observable_pSTAT5A_rel': {'name': '', 'formula': '(100 * pApB + 200 * pApA * specC17) / (pApB + STAT5A * specC17 + 2 * pApA * specC17)'}, 'observable_pSTAT5B_rel': {'name': '', 'formula': '-(100 * pApB - 200 * pBpB * (specC17 - 1)) / (STAT5B * (specC17 - 1) - pApB + 2 * pBpB * (specC17 - 1))'}, 'observable_rSTAT5A_rel': {'name': '', 'formula': '(100 * pApB + 100 * STAT5A * specC17 + 200 * pApA * specC17) / (2 * pApB + STAT5A * specC17 + 2 * pApA * specC17 - STAT5B * (specC17 - 1) - 2 * pBpB * (specC17 - 1))'}}\n"
     ]
    }
   ],
   "source": [
    "# Retrieve model output names and formulae from AssignmentRules and remove the respective rules\n",
    "observables = amici.assignmentRules2observables(\n",
    "        sbml_importer.sbml, # the libsbml model object\n",
    "        filter_function=lambda variable: variable.getId().startswith('observable_') and not variable.getId().endswith('_sigma')\n",
    "    )\n",
    "print('Observables:', observables)"
   ]
  },
  {
   "cell_type": "markdown",
   "metadata": {},
   "source": [
    "### $\\sigma$ parameters\n",
    "\n",
    "To specify measurement noise as a parameter, we simply provide a dictionary with (preexisting) parameter names as keys and a list of observable names as values to indicate which sigma parameter is to be used for which observable."
   ]
  },
  {
   "cell_type": "code",
   "execution_count": 6,
   "metadata": {},
   "outputs": [
    {
     "name": "stdout",
     "output_type": "stream",
     "text": [
      "{'observable_pSTAT5A_rel': 'sd_pSTAT5A_rel', 'observable_pSTAT5B_rel': 'sd_pSTAT5B_rel', 'observable_rSTAT5A_rel': 'sd_rSTAT5A_rel'}\n"
     ]
    }
   ],
   "source": [
    "sigma_vals = ['sd_pSTAT5A_rel', 'sd_pSTAT5B_rel', 'sd_rSTAT5A_rel']\n",
    "observable_names = observables.keys()\n",
    "sigmas = dict(zip(list(observable_names), sigma_vals))\n",
    "print(sigmas)"
   ]
  },
  {
   "cell_type": "markdown",
   "metadata": {},
   "source": [
    "### Generating the module\n",
    "\n",
    "Now we can generate the python module for our model. `amici.SbmlImporter.sbml2amici` will symbolically derive the sensitivity equations, generate C++ code for model simulation, and assemble the python module."
   ]
  },
  {
   "cell_type": "code",
   "execution_count": 7,
   "metadata": {},
   "outputs": [],
   "source": [
    "sbml_importer.sbml2amici(model_name,\n",
    "                         model_output_dir,\n",
    "                         verbose=False,\n",
    "                         observables=observables,\n",
    "                         constantParameters=constantParameters,\n",
    "                         sigmas=sigmas\n",
    "  )"
   ]
  },
  {
   "cell_type": "markdown",
   "metadata": {},
   "source": [
    "### Importing the module and loading the model\n",
    "\n",
    "If everything went well, we need to add the previously selected model output directory to our PYTHON_PATH and are then ready to load newly generated model:"
   ]
  },
  {
   "cell_type": "code",
   "execution_count": 8,
   "metadata": {},
   "outputs": [],
   "source": [
    "sys.path.insert(0, os.path.abspath(model_output_dir))\n",
    "model_module = importlib.import_module(model_name)"
   ]
  },
  {
   "cell_type": "markdown",
   "metadata": {},
   "source": [
    "And get an instance of our model from which we can retrieve information such as parameter names:"
   ]
  },
  {
   "cell_type": "code",
   "execution_count": 9,
   "metadata": {},
   "outputs": [
    {
     "name": "stdout",
     "output_type": "stream",
     "text": [
      "Model parameters: ['Epo_degradation_BaF3', 'k_exp_hetero', 'k_exp_homo', 'k_imp_hetero', 'k_imp_homo', 'k_phos', 'sd_pSTAT5A_rel', 'sd_pSTAT5B_rel', 'sd_rSTAT5A_rel']\n",
      "Model outputs:    ['observable_pSTAT5A_rel', 'observable_pSTAT5B_rel', 'observable_rSTAT5A_rel']\n",
      "Model states:     ['STAT5A', 'STAT5B', 'pApB', 'pApA', 'pBpB', 'nucpApA', 'nucpApB', 'nucpBpB']\n"
     ]
    }
   ],
   "source": [
    "model = model_module.getModel()\n",
    "\n",
    "print(\"Model parameters:\", list(model.getParameterIds()))\n",
    "print(\"Model outputs:   \", list(model.getObservableIds()))\n",
    "print(\"Model states:    \", list(model.getStateIds()))"
   ]
  },
  {
   "cell_type": "markdown",
   "metadata": {},
   "source": [
    "## Running simulations and analyzing results\n",
    "\n",
    "After importing the model, we can run simulations using `amici.runAmiciSimulation`. This requires a `Model` instance and a `Solver` instance. Optionally you can provide measurements inside an `ExpData` instance, as shown later in this notebook."
   ]
  },
  {
   "cell_type": "code",
   "execution_count": 10,
   "metadata": {},
   "outputs": [],
   "source": [
    "h5_file = 'boehm_JProteomeRes2014/data_boehm_JProteomeRes2014.h5'\n",
    "dp = DataProvider(h5_file)"
   ]
  },
  {
   "cell_type": "code",
   "execution_count": 11,
   "metadata": {},
   "outputs": [],
   "source": [
    "# set timepoints for which we want to simulate the model\n",
    "timepoints = amici.DoubleVector(dp.get_timepoints())\n",
    "model.setTimepoints(timepoints)\n",
    "\n",
    "# set fixed parameters for which we want to simulate the model\n",
    "model.setFixedParameters(amici.DoubleVector(np.array([0.693, 0.107])))\n",
    "\n",
    "# set parameters to optimal values found in the benchmark collection\n",
    "model.setParameterScale(2)\n",
    "model.setParameters(amici.DoubleVector(np.array([-1.568917588,\n",
    "-4.999704894,\n",
    "-2.209698782,\n",
    "-1.786006548,\n",
    "4.990114009,\n",
    "4.197735488,\n",
    "0.585755271,\n",
    "0.818982819,\n",
    "0.498684404\n",
    "])))\n",
    "\n",
    "# Create solver instance\n",
    "solver = model.getSolver()\n",
    "\n",
    "# Run simulation using model parameters from the benchmark collection and default solver options\n",
    "rdata = amici.runAmiciSimulation(model, solver)"
   ]
  },
  {
   "cell_type": "code",
   "execution_count": 12,
   "metadata": {},
   "outputs": [],
   "source": [
    "# Create edata\n",
    "edata = amici.ExpData(rdata, 1.0, 0)\n",
    "\n",
    "# set observed data\n",
    "edata.setObservedData(amici.DoubleVector(dp.get_measurements()[0][:, 0]), 0)\n",
    "edata.setObservedData(amici.DoubleVector(dp.get_measurements()[0][:, 1]), 1)\n",
    "edata.setObservedData(amici.DoubleVector(dp.get_measurements()[0][:, 2]), 2)\n",
    "\n",
    "# set standard deviations to optimal values found in the benchmark collection\n",
    "edata.setObservedDataStdDev(amici.DoubleVector(np.array(16*[10**0.585755271])), 0)\n",
    "edata.setObservedDataStdDev(amici.DoubleVector(np.array(16*[10**0.818982819])), 1)\n",
    "edata.setObservedDataStdDev(amici.DoubleVector(np.array(16*[10**0.498684404])), 2)"
   ]
  },
  {
   "cell_type": "code",
   "execution_count": 13,
   "metadata": {},
   "outputs": [
    {
     "name": "stdout",
     "output_type": "stream",
     "text": [
      "Chi2 value reported in benchmark collection: 47.9765479\n",
      "chi2 value using AMICI:\n",
      "47.97654457818761\n"
     ]
    }
   ],
   "source": [
    "rdata = amici.runAmiciSimulation(model, solver, edata)\n",
    "\n",
    "print('Chi2 value reported in benchmark collection: 47.9765479')\n",
    "print('chi2 value using AMICI:')\n",
    "print(rdata['chi2'])"
   ]
  },
  {
   "cell_type": "markdown",
   "metadata": {},
   "source": [
    "## Run optimization using pyPESTO"
   ]
  },
  {
   "cell_type": "code",
   "execution_count": 14,
   "metadata": {},
   "outputs": [],
   "source": [
    "# create objective function from amici model\n",
    "# pesto.AmiciObjective is derived from pesto.Objective,\n",
    "# the general pesto objective function class\n",
    "\n",
    "model.requireSensitivitiesForAllParameters()\n",
    "\n",
    "\n",
    "solver.setSensitivityMethod(amici.SensitivityMethod_forward)\n",
    "solver.setSensitivityOrder(amici.SensitivityOrder_first)\n",
    "\n",
    "\n",
    "objective = pypesto.AmiciObjective(model, solver, [edata], 1)"
   ]
  },
  {
   "cell_type": "code",
   "execution_count": 15,
   "metadata": {},
   "outputs": [],
   "source": [
    "# create optimizer object which contains all information for doing the optimization\n",
    "optimizer = pypesto.ScipyOptimizer()\n",
    "\n",
    "optimizer.solver = 'bfgs'"
   ]
  },
  {
   "cell_type": "code",
   "execution_count": 16,
   "metadata": {},
   "outputs": [],
   "source": [
    "# create problem object containing all information on the problem to be solved\n",
    "x_names = ['x' + str(j) for j in range(0, 9)]\n",
    "problem = pypesto.Problem(objective=objective,\n",
    "                          lb=-5*np.ones((9)), ub=5*np.ones((9)),\n",
    "                          x_names=x_names)"
   ]
  },
  {
   "cell_type": "code",
   "execution_count": 17,
   "metadata": {},
   "outputs": [],
   "source": [
    "# do the optimization\n",
    "result = pypesto.minimize(problem=problem,\n",
    "                          optimizer=optimizer,\n",
    "                          n_starts=10) # 200"
   ]
  },
  {
   "cell_type": "markdown",
   "metadata": {},
   "source": [
    "## Visualization\n",
    "Create waterfall and parameter plot"
   ]
  },
  {
   "cell_type": "code",
   "execution_count": 18,
   "metadata": {},
   "outputs": [
    {
     "data": {
      "text/plain": [
       "<matplotlib.axes._subplots.AxesSubplot at 0x7f697f679710>"
      ]
     },
     "execution_count": 18,
     "metadata": {},
     "output_type": "execute_result"
    },
    {
     "data": {
      "image/png": "[encoded data removed]",
      "text/plain": [
       "<Figure size 432x288 with 1 Axes>"
      ]
     },
     "metadata": {
      "needs_background": "light"
     },
     "output_type": "display_data"
    },
    {
     "data": {
      "image/png": "[encoded data removed]",
      "text/plain": [
       "<Figure size 432x288 with 1 Axes>"
      ]
     },
     "metadata": {
      "needs_background": "light"
     },
     "output_type": "display_data"
    }
   ],
   "source": [
    "# waterfall, parameter space,\n",
    "import pypesto.visualize\n",
    "\n",
    "pypesto.visualize.waterfall(result)\n",
    "pypesto.visualize.parameters(result)"
   ]
  },
  {
   "cell_type": "code",
   "execution_count": null,
   "metadata": {},
   "outputs": [],
   "source": []
  }
 ],
 "metadata": {
  "kernelspec": {
   "display_name": "Python 3",
   "language": "python",
   "name": "python3"
  },
  "language_info": {
   "codemirror_mode": {
    "name": "ipython",
    "version": 3
   },
   "file_extension": ".py",
   "mimetype": "text/x-python",
   "name": "python",
   "nbconvert_exporter": "python",
   "pygments_lexer": "ipython3",
   "version": "3.7.1"
  }
 },
 "nbformat": 4,
 "nbformat_minor": 2
}
