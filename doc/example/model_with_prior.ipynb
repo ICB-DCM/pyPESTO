{
 "cells": [
  {
   "cell_type": "markdown",
   "metadata": {
    "collapsed": true
   },
   "source": [
    "# Example: Add priors to your objectiv function¶\n",
    "This is an example using the simple model [priorModel.xml] to demonstrate how you can add priors to your objective function"
   ]
  },
  {
   "cell_type": "markdown",
   "metadata": {},
   "source": [
    "# Model import"
   ]
  },
  {
   "cell_type": "code",
   "execution_count": 60,
   "metadata": {},
   "outputs": [],
   "source": [
    "import libsbml\n",
    "import importlib\n",
    "import amici\n",
    "import pypesto\n",
    "import os\n",
    "import sys\n",
    "import numpy as np\n",
    "import matplotlib.pyplot as plt"
   ]
  },
  {
   "cell_type": "code",
   "execution_count": 61,
   "metadata": {},
   "outputs": [],
   "source": [
    "#import SBML model\n",
    "sbml_file = 'priorModel.xml'\n",
    "model_name = 'priorModel'\n",
    "model_output_dir = model_name\n",
    "\n",
    "sbml_reader = libsbml.SBMLReader()\n",
    "sbml_doc = sbml_reader.readSBML(sbml_file)\n",
    "sbml_model = sbml_doc.getModel()\n",
    "dir(sbml_doc)\n",
    "\n",
    "sbml_importer = amici.SbmlImporter(sbml_file)\n",
    "sbml = sbml_importer.sbml"
   ]
  },
  {
   "cell_type": "code",
   "execution_count": 62,
   "metadata": {},
   "outputs": [],
   "source": [
    "# Retrieve model output names and formulae from AssignmentRules and remove the respective rules\n",
    "observables = amici.assignmentRules2observables(\n",
    "         sbml_importer.sbml,\n",
    "         filter_function = lambda variable: variable.getId().startswith('observable_')\n",
    "         )\n",
    "\n",
    "sbml_importer.sbml2amici(model_name,\n",
    "                         model_output_dir,\n",
    "                         verbose=False,\n",
    "                         observables=observables)\n",
    "\n",
    "sys.path.insert(0, os.path.abspath(model_output_dir))\n",
    "model_module = importlib.import_module(model_name)\n",
    "\n",
    "model = model_module.getModel()"
   ]
  },
  {
   "cell_type": "code",
   "execution_count": 63,
   "metadata": {},
   "outputs": [
    {
     "name": "stdout",
     "output_type": "stream",
     "text": [
      "Model parameters: ['k1', 'k2', 'k3', 'noiseparameter1_x2']\n",
      "Model outputs:    ['observable_x2']\n",
      "Model states:     ['x1', 'x2']\n",
      "\n",
      "Reactions:\n",
      " r1:             ->        x1\t\t[c1 * function_for__r1__stateModel(c1, k1)]\n",
      " r2:         x1  ->        x2\t\t[c1 * function_for_r2__stateModel(x1, c1, k2)]\n",
      " r3:   x1 +  x2  ->          \t\t[c1 * function_for_r3__stateModel(k3, x1, x2, c1)]\n"
     ]
    }
   ],
   "source": [
    "# Show the model\n",
    "print(\"Model parameters:\", list(model.getParameterIds()))\n",
    "print(\"Model outputs:   \", list(model.getObservableIds()))\n",
    "print(\"Model states:    \", list(model.getStateIds()))\n",
    "\n",
    "print('\\nReactions:')\n",
    "for reaction in sbml_model.getListOfReactions():\n",
    "    reactants = ' + '.join(['%s %s'%(int(r.getStoichiometry()) if r.getStoichiometry() > 1 else '', r.getSpecies()) for r in reaction.getListOfReactants()])\n",
    "    products  = ' + '.join(['%s %s'%(int(r.getStoichiometry()) if r.getStoichiometry() > 1 else '', r.getSpecies()) for r in reaction.getListOfProducts()])\n",
    "    reversible = '<' if reaction.getReversible() else ''\n",
    "    print('%3s: %10s %1s->%10s\\t\\t[%s]' % (reaction.getId(),\n",
    "                        reactants,\n",
    "                        reversible,\n",
    "                         products,\n",
    "                        libsbml.formulaToL3String(reaction.getKineticLaw().getMath())))"
   ]
  },
  {
   "cell_type": "markdown",
   "metadata": {},
   "source": [
    "# Define Prior\n",
    "\n",
    "To define your prior, you need 2(4) Inputs:\n",
    "    \n",
    "    1) priorType_list: list wity types of the prior: 'lap' = laplacian prior, 'norm' = normal prior\n",
    "    \n",
    "    2) priorParameters_list: list with the Parameters of the different priors:\n",
    "    laplacian prior: [[mean,scale],[mean,scale],...]\n",
    "    normal prior: [[mean,var],[mean,var],...]\n",
    "    \n",
    "    OPTIONAL:\n",
    "    \n",
    "        3) estimate_list: array of 0 and 1. 1 means you want to estimate (add prior information) to this parameter. DEFAULT: all parameters get estimated\n",
    "    \n",
    "    4) scale_list: list with scaling types of the parameters: 'lin' (default), 'log', 'logE' (=log10(1+x))\n",
    "    \n",
    "In the future with the definition of the new input format, all this inputs should get build automatically from the files."
   ]
  },
  {
   "cell_type": "code",
   "execution_count": 64,
   "metadata": {},
   "outputs": [],
   "source": [
    "# define Prior parameters\n",
    "priorType_list = ['lap','lap','lap','lap']\n",
    "priorParameter_list = [[0,1/10],[0,1/10],[0,1/10],[0,1/10]]\n",
    "\n",
    "# using 2 different parameter scales\n",
    "scale_list_lin = ['lin','lin','lin','lin']\n",
    "scale_list_log = ['log10','log10','log10','log10']\n",
    "\n",
    "# we want to estimate the parameters k_1,k_2,k_3 and not the noiseparameter\n",
    "estimate_list = np.array([1,1,1,0])"
   ]
  },
  {
   "cell_type": "code",
   "execution_count": 65,
   "metadata": {},
   "outputs": [
    {
     "name": "stdout",
     "output_type": "stream",
     "text": [
      "{'prior_fun': -55.171686262697705, 'prior_grad': array([-10., -10., -10.,   0.]), 'chainrule': array([1., 1., 1., 0.])}\n",
      "{'prior_fun': -55.171686262697705, 'prior_grad': array([-23.02585093, -46.05170186, -69.07755279,   0.        ]), 'chainrule': array([2.30258509, 4.60517019, 6.90775528, 0.        ])}\n"
     ]
    }
   ],
   "source": [
    "# define the prior\n",
    "prior_lin = pypesto.Prior(priorType_list=priorType_list,\n",
    "                             priorParameters_list=priorParameter_list,\n",
    "                             estimate_list=estimate_list,\n",
    "                             scale_list=scale_list_lin)\n",
    "\n",
    "prior_log = pypesto.Prior(priorType_list=priorType_list,\n",
    "                             priorParameters_list=priorParameter_list,\n",
    "                             estimate_list=estimate_list,\n",
    "                             scale_list=scale_list_log)\n",
    "\n",
    "# evaluate the prior at x\n",
    "x_lin = np.array([1,2,3,4])\n",
    "x_log = np.log10(x_lin)\n",
    "\n",
    "print(prior_lin(x=x_lin,sensi_orders=1))\n",
    "print(prior_log(x=x_log,sensi_orders=1))"
   ]
  },
  {
   "cell_type": "markdown",
   "metadata": {},
   "source": [
    "# Add prior to your objective Function"
   ]
  },
  {
   "cell_type": "markdown",
   "metadata": {},
   "source": [
    "1) Generate objective function"
   ]
  },
  {
   "cell_type": "code",
   "execution_count": 66,
   "metadata": {},
   "outputs": [],
   "source": [
    "# set timepoints for which we want to simulate the model\n",
    "model.setTimepoints(amici.DoubleVector(np.linspace(0, 60, 10)))\n",
    "\n",
    "# set parameter Scale\n",
    "#model.setParameterScale(amici.ParameterScaling_log10)\n",
    "model.setParameterScale(amici.ParameterScaling_none)\n",
    "\n",
    "#simulate the true model (k_3=0)\n",
    "model.setParameters(amici.DoubleVector([0.2,0.4,0,0.2]))\n",
    "\n",
    "# Create solver instance\n",
    "solver = model.getSolver()\n",
    "\n",
    "# enable sensitivities\n",
    "solver.setSensitivityOrder(amici.SensitivityOrder_first)       # First-order ...\n",
    "solver.setSensitivityMethod(amici.SensitivityMethod_forward)   # ... forward sensitivities\n",
    "model.requireSensitivitiesForAllParameters()                   # ... w.r.t. all parameters\n",
    "\n",
    "# Run simulation using default model parameters and solver options and without experimental data\n",
    "rdata = amici.runAmiciSimulation(model, solver)\n",
    "\n",
    "# Create ExpData instance from simulation results (noise = 0.2)\n",
    "edata = amici.ExpData(rdata, 0.2, 0.0)\n",
    "\n",
    "# Re-run simulation, this time passing \"experimental data\"\n",
    "rdata = amici.runAmiciSimulation(model, solver, edata)"
   ]
  },
  {
   "cell_type": "code",
   "execution_count": 67,
   "metadata": {},
   "outputs": [],
   "source": [
    "#generate objective function from amici model\n",
    "objective = pypesto.AmiciObjective(model, solver, [edata], 1)"
   ]
  },
  {
   "cell_type": "markdown",
   "metadata": {},
   "source": [
    "2) Add priors"
   ]
  },
  {
   "cell_type": "code",
   "execution_count": 68,
   "metadata": {},
   "outputs": [],
   "source": [
    "# Linear case\n",
    "\n",
    "# objective with linear prior\n",
    "objective_lin = pypesto.Objective(fun=objective.get_fval, grad=objective.get_grad, prior=prior_lin)"
   ]
  },
  {
   "cell_type": "code",
   "execution_count": 69,
   "metadata": {},
   "outputs": [],
   "source": [
    "# Log case, we have to manipulate the inputs\n",
    "\n",
    "# objective with prior logE\n",
    "obj_log  = lambda x: objective.get_fval(10**x)\n",
    "grad_log = lambda x: objective.get_grad(10**x)\n",
    "\n",
    "objective_logE = pypesto.Objective(fun=obj_log, grad=grad_log, prior=prior_log)"
   ]
  },
  {
   "cell_type": "code",
   "execution_count": 70,
   "metadata": {},
   "outputs": [
    {
     "name": "stdout",
     "output_type": "stream",
     "text": [
      "\n",
      "objectiv funciton without prior: 7378.431290046302\n",
      "objectiv function with l1 (lin): 7433.602976309\n",
      "objectiv function with l1 (log): 7433.602976309\n"
     ]
    }
   ],
   "source": [
    "# OUTPUTS\n",
    "\n",
    "# evaluate objective function at y\n",
    "y_lin = amici.DoubleVector([1,2,3,4])\n",
    "y_log = amici.DoubleVector([np.log10(1),np.log10(2),np.log10(3),np.log10(4)])\n",
    "\n",
    "print('\\nobjectiv funciton without prior:', objective.get_fval(y_lin))\n",
    "print('objectiv function with l1 (lin):', objective_lin.get_fval(y_lin))\n",
    "print('objectiv function with l1 (log):', objective_logE.get_fval(y_log))"
   ]
  },
  {
   "cell_type": "code",
   "execution_count": null,
   "metadata": {},
   "outputs": [],
   "source": []
  }
 ],
 "metadata": {
  "kernelspec": {
   "display_name": "Python 3",
   "language": "python",
   "name": "python3"
  },
  "language_info": {
   "codemirror_mode": {
    "name": "ipython",
    "version": 3
   },
   "file_extension": ".py",
   "mimetype": "text/x-python",
   "name": "python",
   "nbconvert_exporter": "python",
   "pygments_lexer": "ipython3",
   "version": "3.7.1rc1"
  }
 },
 "nbformat": 4,
 "nbformat_minor": 1
}
