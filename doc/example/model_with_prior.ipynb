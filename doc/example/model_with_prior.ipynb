{
 "cells": [
  {
   "cell_type": "markdown",
   "metadata": {
    "collapsed": true
   },
   "source": [
    "# Example: Add priors to your objectiv function\n",
    "\n",
    "This is an example using the model [boehm_ProteomeRes2014.xml] to demonstrate how you can add priors to your objective function"
   ]
  },
  {
   "cell_type": "code",
   "execution_count": null,
   "metadata": {},
   "outputs": [],
   "source": [
    "import libsbml\n",
    "import importlib\n",
    "import amici\n",
    "import pypesto\n",
    "import os\n",
    "import sys\n",
    "import numpy as np\n",
    "import matplotlib.pyplot as plt"
   ]
  },
  {
   "cell_type": "code",
   "execution_count": null,
   "metadata": {},
   "outputs": [],
   "source": [
    "\n",
    "# temporarily add the simulate file\n",
    "sys.path.insert(0, 'boehm_JProteomeRes2014')\n",
    "\n",
    "from benchmark_import import DataProvider\n",
    "\n",
    "# sbml file\n",
    "sbml_file = 'boehm_JProteomeRes2014/boehm_JProteomeRes2014.xml'\n",
    "\n",
    "# name of the model that will also be the name of the python module\n",
    "model_name = 'boehm_JProteomeRes2014'\n",
    "\n",
    "# output directory\n",
    "model_output_dir = 'tmp/' + model_name"
   ]
  }
 ],
 "metadata": {
  "kernelspec": {
   "display_name": "Python 2",
   "language": "python",
   "name": "python2"
  },
  "language_info": {
   "codemirror_mode": {
    "name": "ipython",
    "version": 2
   },
   "file_extension": ".py",
   "mimetype": "text/x-python",
   "name": "python",
   "nbconvert_exporter": "python",
   "pygments_lexer": "ipython2",
   "version": "2.7.6"
  }
 },
 "nbformat": 4,
 "nbformat_minor": 0
}
