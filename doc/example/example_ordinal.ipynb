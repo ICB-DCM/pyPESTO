{
 "cells": [
  {
   "attachments": {},
   "cell_type": "markdown",
   "metadata": {},
   "source": [
    "# Parameter estimation using ordinal data"
   ]
  },
  {
   "attachments": {},
   "cell_type": "markdown",
   "metadata": {},
   "source": [
    "This Notebook eplains the use of ordinal data for parameter estimation, as described in [Schmiester et al. (2019)](https://www.biorxiv.org/content/10.1101/848648v1.abstract). An example model is provided in `pypesto/doc/example/example_ordinal`"
   ]
  },
  {
   "attachments": {},
   "cell_type": "markdown",
   "metadata": {},
   "source": [
    "## Import model from the petab_problem"
   ]
  },
  {
   "cell_type": "code",
   "execution_count": 32,
   "metadata": {},
   "outputs": [],
   "source": [
    "import logging\n",
    "\n",
    "import amici\n",
    "import numpy as np\n",
    "import petab\n",
    "\n",
    "import pypesto\n",
    "import pypesto.logging\n",
    "import pypesto.optimize as optimize\n",
    "import pypesto.petab\n",
    "from pypesto.hierarchical.optimal_scaling import OptimalScalingInnerSolver"
   ]
  },
  {
   "attachments": {},
   "cell_type": "markdown",
   "metadata": {},
   "source": [
    "To specify usage of ordinal data, only `ordinal=True` has to be passed to the constructor of the `PetabImporter`:"
   ]
  },
  {
   "cell_type": "code",
   "execution_count": 33,
   "metadata": {},
   "outputs": [],
   "source": [
    "petab_folder = './example_ordinal/'\n",
    "yaml_file = 'example_ordinal.yaml'\n",
    "\n",
    "petab_problem = petab.Problem.from_yaml(petab_folder + yaml_file)\n",
    "\n",
    "# To allow for optimization with ordinal measurements, set ordinal=True, when creating the importer\n",
    "importer = pypesto.petab.PetabImporter(petab_problem, ordinal=True)"
   ]
  },
  {
   "attachments": {},
   "cell_type": "markdown",
   "metadata": {},
   "source": [
    "## Construct the objective and pypesto problem"
   ]
  },
  {
   "cell_type": "markdown",
   "metadata": {},
   "source": [
    "Different options can be used for the optimal scaling approach:\n",
    "- method: `standard` / `reduced`\n",
    "- reparameterized: `True` / `False`\n",
    "- intervalConstraints: `max` / `max-min`\n",
    "- minGap: Any float value\n",
    "\n",
    "It is recommended to use the reduced method with reparameterization as it is the most efficient and robust choice.\n",
    "\n",
    "When no options are provided, the default is the reduced and reparameterized formulation with max as interval constraint and `minGap=1e-10`."
   ]
  },
  {
   "attachments": {},
   "cell_type": "markdown",
   "metadata": {},
   "source": [
    "Now when we construct the `objective`, it will construct all objects of the optimal scaling inner optimization:\n",
    "- `OptimalScalingInnerSolver`\n",
    "- `OptimalScalingAmiciCalculator`\n",
    "- `OptimalScalingProblem`\n",
    "\n",
    "Specifically, the `OptimalScalingInnerSolver` will be constructed with default settings.  "
   ]
  },
  {
   "cell_type": "code",
   "execution_count": 34,
   "metadata": {},
   "outputs": [],
   "source": [
    "objective = importer.create_objective()"
   ]
  },
  {
   "attachments": {},
   "cell_type": "markdown",
   "metadata": {},
   "source": [
    "To give non-default options to the `OptimalScalingInnerSolver` and `OptimalScalingProblem`, one can pass them as arguments when constructing the `objective`:"
   ]
  },
  {
   "cell_type": "code",
   "execution_count": 35,
   "metadata": {},
   "outputs": [],
   "source": [
    "objective = importer.create_objective(\n",
    "    inner_problem_method='reduced',\n",
    "    inner_solver_options={\n",
    "        \"method\": 'reduced',\n",
    "        \"reparameterized\": True,\n",
    "        \"intervalConstraints\": \"max\",\n",
    "        \"minGap\": 0.1,\n",
    "    },\n",
    ")"
   ]
  },
  {
   "attachments": {},
   "cell_type": "markdown",
   "metadata": {},
   "source": [
    "Now let's construct the pyPESTO problem and optimizer. We're going to use a gradint-based optimizer for a faster optimization, but gradient-free optimizers can be used in the same way:"
   ]
  },
  {
   "cell_type": "code",
   "execution_count": 36,
   "metadata": {},
   "outputs": [],
   "source": [
    "problem = importer.create_problem(objective)\n",
    "\n",
    "engine = pypesto.engine.SingleCoreEngine()\n",
    "\n",
    "optimizer = optimize.ScipyOptimizer(\n",
    "    method=\"L-BFGS-B\",\n",
    "    options={\"disp\": None, \"ftol\": 2.220446049250313e-09, \"gtol\": 1e-5},\n",
    ")\n",
    "n_starts = 10\n",
    "np.random.seed(n_starts)"
   ]
  },
  {
   "attachments": {},
   "cell_type": "markdown",
   "metadata": {},
   "source": [
    "## Run optimization using optimal scaling approach"
   ]
  },
  {
   "cell_type": "markdown",
   "metadata": {},
   "source": [
    "### Run optimization using the reduced and reparameterized approach"
   ]
  },
  {
   "attachments": {},
   "cell_type": "markdown",
   "metadata": {},
   "source": [
    "If we want to change options of the `OptimalScalingInnerSolver` a new instance of it with new options can be passed to `problem.objective.calculator`:"
   ]
  },
  {
   "cell_type": "code",
   "execution_count": 37,
   "metadata": {
    "scrolled": true
   },
   "outputs": [
    {
     "name": "stderr",
     "output_type": "stream",
     "text": [
      "100%|██████████| 10/10 [00:08<00:00,  1.16it/s]\n"
     ]
    }
   ],
   "source": [
    "np.random.seed(n_starts)\n",
    "problem.objective.calculator.inner_solver = OptimalScalingInnerSolver(\n",
    "    options={\n",
    "        'method': 'reduced',\n",
    "        'reparameterized': True,\n",
    "        'intervalConstraints': 'max',\n",
    "        'minGap': 1e-10,\n",
    "    }\n",
    ")\n",
    "\n",
    "res_reduced_reparameterized = optimize.minimize(\n",
    "    problem, n_starts=n_starts, optimizer=optimizer, engine=engine\n",
    ")"
   ]
  },
  {
   "cell_type": "markdown",
   "metadata": {},
   "source": [
    "### Run optimization using the reduced non-reparameterized approach"
   ]
  },
  {
   "cell_type": "code",
   "execution_count": 38,
   "metadata": {},
   "outputs": [
    {
     "name": "stderr",
     "output_type": "stream",
     "text": [
      "100%|██████████| 10/10 [00:08<00:00,  1.23it/s]\n"
     ]
    }
   ],
   "source": [
    "np.random.seed(n_starts)\n",
    "problem.objective.calculator.inner_solver = OptimalScalingInnerSolver(\n",
    "    options={\n",
    "        'method': 'reduced',\n",
    "        'reparameterized': False,\n",
    "        'intervalConstraints': 'max',\n",
    "        'minGap': 1e-10,\n",
    "    }\n",
    ")\n",
    "\n",
    "res_reduced = optimize.minimize(\n",
    "    problem, n_starts=n_starts, optimizer=optimizer, engine=engine\n",
    ")"
   ]
  },
  {
   "cell_type": "markdown",
   "metadata": {},
   "source": [
    "### Run optimization using the standard approach"
   ]
  },
  {
   "cell_type": "code",
   "execution_count": 39,
   "metadata": {},
   "outputs": [
    {
     "name": "stderr",
     "output_type": "stream",
     "text": [
      "100%|██████████| 10/10 [00:08<00:00,  1.13it/s]\n"
     ]
    }
   ],
   "source": [
    "np.random.seed(n_starts)\n",
    "problem.objective.calculator.inner_solver = OptimalScalingInnerSolver(\n",
    "    options={\n",
    "        'method': 'standard',\n",
    "        'reparameterized': False,\n",
    "        'intervalConstraints': 'max',\n",
    "        'minGap': 1e-10,\n",
    "    }\n",
    ")\n",
    "\n",
    "res_standard = optimize.minimize(\n",
    "    problem, n_starts=n_starts, optimizer=optimizer, engine=engine\n",
    ")"
   ]
  },
  {
   "cell_type": "markdown",
   "metadata": {},
   "source": [
    "### Compare results"
   ]
  },
  {
   "cell_type": "markdown",
   "metadata": {},
   "source": [
    "Reduced formulation leads to improved computation times"
   ]
  },
  {
   "cell_type": "code",
   "execution_count": 40,
   "metadata": {},
   "outputs": [
    {
     "name": "stdout",
     "output_type": "stream",
     "text": [
      "Mean computation time for standard approach: 0.885933804512024\n",
      "Mean computation time for reduced approach: 0.8116438627243042\n",
      "Mean computation time for reduced reparameterized approach: 0.8603142976760865\n"
     ]
    }
   ],
   "source": [
    "time_standard = res_standard.optimize_result.get_for_key('time')\n",
    "print(f\"Mean computation time for standard approach: {np.mean(time_standard)}\")\n",
    "\n",
    "time_reduced = res_reduced.optimize_result.get_for_key('time')\n",
    "print(f\"Mean computation time for reduced approach: {np.mean(time_reduced)}\")\n",
    "\n",
    "time_reduced_reparameterized = (\n",
    "    res_reduced_reparameterized.optimize_result.get_for_key('time')\n",
    ")\n",
    "print(\n",
    "    f\"Mean computation time for reduced reparameterized approach: {np.mean(time_reduced_reparameterized)}\"\n",
    ")"
   ]
  },
  {
   "attachments": {},
   "cell_type": "markdown",
   "metadata": {},
   "source": [
    "All approaches yield the same objective function values"
   ]
  },
  {
   "cell_type": "code",
   "execution_count": 41,
   "metadata": {},
   "outputs": [
    {
     "data": {
      "text/plain": [
       "<AxesSubplot: title={'center': 'Waterfall plot'}, xlabel='Ordered optimizer run', ylabel='Objective value (offset=9.994e-01)'>"
      ]
     },
     "execution_count": 41,
     "metadata": {},
     "output_type": "execute_result"
    },
    {
     "data": {
      "image/png": "[encoded data removed]",
      "text/plain": [
       "<Figure size 1850x1050 with 1 Axes>"
      ]
     },
     "metadata": {},
     "output_type": "display_data"
    }
   ],
   "source": [
    "from pypesto.visualize import waterfall\n",
    "\n",
    "waterfall(\n",
    "    [res_standard, res_reduced, res_reduced_reparameterized], order_by_id=True\n",
    ")"
   ]
  },
  {
   "attachments": {},
   "cell_type": "markdown",
   "metadata": {},
   "source": [
    "To be sure the funtion values are the same we can look at them directly as well:"
   ]
  },
  {
   "cell_type": "code",
   "execution_count": 24,
   "metadata": {},
   "outputs": [
    {
     "name": "stdout",
     "output_type": "stream",
     "text": [
      "[[0.0005735456577138072], [0.0005735455461899655], [0.0005735459232667281]]\n",
      "[[0.0005735454718572653], [0.00057354550928992], [0.0005735455965197873]]\n",
      "[[0.000573545619330834], [0.0005735454545587091], [0.00057354549654735]]\n",
      "[[0.0019888875998486026], [0.0019888875998486147], [0.0019888875998501743]]\n",
      "[[0.0005735454942711187], [0.0005735454046923066], [0.0005735454092041721]]\n",
      "[[0.0005735463987237045], [0.0005735454654377569], [0.0005735456308596415]]\n",
      "[[0.0005735455019825164], [0.0005735454874248229], [0.0005735454610488298]]\n",
      "[[0.0005735458513320824], [0.0005735454537586973], [0.0005735454581835225]]\n",
      "[[0.000573545866531529], [0.0005735457953069544], [0.0005735457935496884]]\n",
      "[[0.0005735459471489623], [0.0005735455991299835], [0.0005735455973437948]]\n"
     ]
    }
   ],
   "source": [
    "for start_id in range(10):\n",
    "    print(\n",
    "        [\n",
    "            [\n",
    "                res.fval\n",
    "                for res in result.optimize_result.as_list()\n",
    "                if res.id == str(start_id)\n",
    "            ]\n",
    "            for result in [\n",
    "                res_standard,\n",
    "                res_reduced,\n",
    "                res_reduced_reparameterized,\n",
    "            ]\n",
    "        ]\n",
    "    )"
   ]
  }
 ],
 "metadata": {
  "kernelspec": {
   "display_name": "dev_venv",
   "language": "python",
   "name": "python3"
  },
  "language_info": {
   "codemirror_mode": {
    "name": "ipython",
    "version": 3
   },
   "file_extension": ".py",
   "mimetype": "text/x-python",
   "name": "python",
   "nbconvert_exporter": "python",
   "pygments_lexer": "ipython3",
   "version": "3.10.9"
  },
  "vscode": {
   "interpreter": {
    "hash": "b4f64b1cfeae9987d9a74471fe6faf49d769577c41c664ee1b5af662a144b184"
   }
  }
 },
 "nbformat": 4,
 "nbformat_minor": 2
}
