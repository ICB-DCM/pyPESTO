{
 "cells": [
  {
   "cell_type": "markdown",
   "metadata": {},
   "source": [
    "# Hierarchical optimization\n",
    "\n",
    "In this notebook we illustrate how to do hierarchical optimization in pyPESTO.\n",
    "\n",
    "A frequent problem occuring in parameter estimation for dynamical systems is that the objective function takes a form\n",
    "\n",
    "$$ J(\\theta, s, b, \\sigma^2) = \\sum_i \\left[\\log(2\\pi\\sigma_i^2) + \\frac{(\\bar y_i - (s_iy_i(\\theta) + b_i))^2}{\\sigma_i^2}\\right] $$\n",
    "\n",
    "with data $\\bar y_i$, parameters $\\eta = (\\theta,s,b,\\sigma^2)$, and ODE simulations $y(\\theta)$. Here, we consider a Gaussian noise model, but also others (e.g. Laplace) are possible. Here we want to leverage that the parameter vector $\\eta$ can be split into \"dynamic\" parameters $\\theta$ that are required for simulating the ODE, and \"static\" parameters $s,b,\\sigma^2$ that are only required to scale the simulations and formulate the objective function. As simulating the ODE usually dominates the computational complexity, one can exploit this separation of parameters by formulating an outer optimization problem in which $\\theta$ is optimized, and an inner optimization problem in which $s,b,\\sigma^2$ are optimized conditioned on $\\theta$. This approach has shown to have superior performance to the classic approach of jointly optimizing $\\eta$. \n",
    "\n",
    "In pyPESTO, we have implemented the algorithms developed in [Loos et al.; Hierarchical optimization for the efficient parametrization of ODE models; Bioinformatics 2018](https://academic.oup.com/bioinformatics/article/34/24/4266/5053308) (covering Gaussian and Laplace noise models with gradients computed via forward sensitivity analysis) and [Schmiester et al.; Efficient parameterization of large-scale dynamic models based on relative measurements; Bioinformatics 2019](https://academic.oup.com/bioinformatics/article/36/2/594/5538985) (extending to offset parameters and adjoint sensitivity analysis).\n",
    "\n",
    "However, the current implementation only supports:\n",
    "- Gaussian (normal) noise distributions\n",
    "- unbounded inner parameters $\\eta$\n",
    "- linearly-scaled inner parameters $\\eta$\n",
    "\n",
    "In the following we will demonstrate how to use hierarchical optimization, and we will compare optimization results for the following scenarios:\n",
    "\n",
    "* Standard non-hierarchical gradient-based optimization with adjoint sensitivity analysis\n",
    "* Hierarchical gradient-based optimization with analytical inner solver and adjoint sensitivity analysis\n",
    "* Hierarchical gradient-based optimization with analytical inner solver and forward sensitivity analysis\n",
    "* Hierarchical gradient-based optimization with numerical inner solver and adjoint sensitivity analysis"
   ]
  },
  {
   "cell_type": "code",
   "execution_count": 1,
   "metadata": {},
   "outputs": [],
   "source": [
    "import os\n",
    "import time\n",
    "\n",
    "import amici\n",
    "import fides\n",
    "import matplotlib.pyplot as plt\n",
    "import numpy as np\n",
    "import petab\n",
    "from matplotlib.colors import to_rgba\n",
    "\n",
    "import pypesto\n",
    "from pypesto.hierarchical.solver import (\n",
    "    AnalyticalInnerSolver,\n",
    "    NumericalInnerSolver,\n",
    ")\n",
    "from pypesto.optimize.options import OptimizeOptions\n",
    "from pypesto.petab import PetabImporter"
   ]
  },
  {
   "cell_type": "markdown",
   "metadata": {},
   "source": [
    "## Problem specification\n",
    "\n",
    "We consider a version of the [Boehm et al.; Journal of Proeome Research 2014] model, modified to include scalings $s$, offsets $b$, and noise parameters $\\sigma^2$."
   ]
  },
  {
   "cell_type": "code",
   "execution_count": 2,
   "metadata": {},
   "outputs": [],
   "source": [
    "# get the PEtab problem\n",
    "# requires installation of\n",
    "from pypesto.testing.examples import (\n",
    "    get_Boehm_JProteomeRes2014_hierarchical_petab,\n",
    ")\n",
    "\n",
    "petab_problem = get_Boehm_JProteomeRes2014_hierarchical_petab()"
   ]
  },
  {
   "cell_type": "markdown",
   "metadata": {},
   "source": [
    "The PEtab observable table contains placeholders for scaling parameters $s$ (`observableParameter1_{pSTAT5A_rel,pSTAT5B_rel,rSTAT5A_rel}`), offsets $b$ (`observableParameter2_{pSTAT5A_rel,pSTAT5B_rel,rSTAT5A_rel}`), and noise parameters $\\sigma^2$ (`noiseParameter1_{pSTAT5A_rel,pSTAT5B_rel,rSTAT5A_rel}`) that are overridden by the `{observable,noise}Parameters` column in the measurement table. When using hierarchical optimization, the nine overriding parameters `{offset,scaling,sd}_{pSTAT5A_rel,pSTAT5B_rel,rSTAT5A_rel}` are to estimated in the inner problem."
   ]
  },
  {
   "cell_type": "code",
   "execution_count": 3,
   "metadata": {},
   "outputs": [
    {
     "data": {
      "text/html": [
       "<div>\n",
       "<style scoped>\n",
       "    .dataframe tbody tr th:only-of-type {\n",
       "        vertical-align: middle;\n",
       "    }\n",
       "\n",
       "    .dataframe tbody tr th {\n",
       "        vertical-align: top;\n",
       "    }\n",
       "\n",
       "    .dataframe thead th {\n",
       "        text-align: right;\n",
       "    }\n",
       "</style>\n",
       "<table border=\"1\" class=\"dataframe\">\n",
       "  <thead>\n",
       "    <tr style=\"text-align: right;\">\n",
       "      <th></th>\n",
       "      <th>observableName</th>\n",
       "      <th>observableFormula</th>\n",
       "      <th>noiseFormula</th>\n",
       "      <th>observableTransformation</th>\n",
       "      <th>noiseDistribution</th>\n",
       "    </tr>\n",
       "    <tr>\n",
       "      <th>observableId</th>\n",
       "      <th></th>\n",
       "      <th></th>\n",
       "      <th></th>\n",
       "      <th></th>\n",
       "      <th></th>\n",
       "    </tr>\n",
       "  </thead>\n",
       "  <tbody>\n",
       "    <tr>\n",
       "      <th>pSTAT5A_rel</th>\n",
       "      <td>NaN</td>\n",
       "      <td>observableParameter2_pSTAT5A_rel + observableParameter1_pSTAT5A_rel * (100 * pApB + 200 * pApA * specC17) / (pApB + STAT5A * specC17 + 2 * pApA * specC17)</td>\n",
       "      <td>noiseParameter1_pSTAT5A_rel</td>\n",
       "      <td>lin</td>\n",
       "      <td>normal</td>\n",
       "    </tr>\n",
       "    <tr>\n",
       "      <th>pSTAT5B_rel</th>\n",
       "      <td>NaN</td>\n",
       "      <td>observableParameter2_pSTAT5B_rel + observableParameter1_pSTAT5B_rel * -(100 * pApB - 200 * pBpB * (specC17 - 1)) / ((STAT5B * (specC17 - 1) - pApB) + 2 * pBpB * (specC17 - 1))</td>\n",
       "      <td>noiseParameter1_pSTAT5B_rel</td>\n",
       "      <td>lin</td>\n",
       "      <td>normal</td>\n",
       "    </tr>\n",
       "    <tr>\n",
       "      <th>rSTAT5A_rel</th>\n",
       "      <td>NaN</td>\n",
       "      <td>observableParameter2_rSTAT5A_rel + observableParameter1_rSTAT5A_rel * (100 * pApB + 100 * STAT5A * specC17 + 200 * pApA * specC17) / (2 * pApB + STAT5A * specC17 + 2 * pApA * specC17 - STAT5B * (specC17 - 1) - 2 * pBpB * (specC17 - 1))</td>\n",
       "      <td>noiseParameter1_rSTAT5A_rel</td>\n",
       "      <td>lin</td>\n",
       "      <td>normal</td>\n",
       "    </tr>\n",
       "  </tbody>\n",
       "</table>\n",
       "</div>"
      ],
      "text/plain": [
       "              observableName  \\\n",
       "observableId                   \n",
       "pSTAT5A_rel              NaN   \n",
       "pSTAT5B_rel              NaN   \n",
       "rSTAT5A_rel              NaN   \n",
       "\n",
       "                                                                                                                                                                                                                                        observableFormula  \\\n",
       "observableId                                                                                                                                                                                                                                                \n",
       "pSTAT5A_rel                                                                                    observableParameter2_pSTAT5A_rel + observableParameter1_pSTAT5A_rel * (100 * pApB + 200 * pApA * specC17) / (pApB + STAT5A * specC17 + 2 * pApA * specC17)   \n",
       "pSTAT5B_rel                                                               observableParameter2_pSTAT5B_rel + observableParameter1_pSTAT5B_rel * -(100 * pApB - 200 * pBpB * (specC17 - 1)) / ((STAT5B * (specC17 - 1) - pApB) + 2 * pBpB * (specC17 - 1))   \n",
       "rSTAT5A_rel   observableParameter2_rSTAT5A_rel + observableParameter1_rSTAT5A_rel * (100 * pApB + 100 * STAT5A * specC17 + 200 * pApA * specC17) / (2 * pApB + STAT5A * specC17 + 2 * pApA * specC17 - STAT5B * (specC17 - 1) - 2 * pBpB * (specC17 - 1))   \n",
       "\n",
       "                             noiseFormula observableTransformation  \\\n",
       "observableId                                                         \n",
       "pSTAT5A_rel   noiseParameter1_pSTAT5A_rel                      lin   \n",
       "pSTAT5B_rel   noiseParameter1_pSTAT5B_rel                      lin   \n",
       "rSTAT5A_rel   noiseParameter1_rSTAT5A_rel                      lin   \n",
       "\n",
       "             noiseDistribution  \n",
       "observableId                    \n",
       "pSTAT5A_rel             normal  \n",
       "pSTAT5B_rel             normal  \n",
       "rSTAT5A_rel             normal  "
      ]
     },
     "metadata": {},
     "output_type": "display_data"
    }
   ],
   "source": [
    "from pandas import option_context\n",
    "\n",
    "with option_context('display.max_colwidth', 400):\n",
    "    display(petab_problem.observable_df)"
   ]
  },
  {
   "cell_type": "markdown",
   "metadata": {},
   "source": [
    "Parameters to be optimized in the inner problem are selected via the PEtab parameter table by setting a value in the non-standard column `parameterType` (`offset` for offset parameters, `scaling` for scaling parameters, and `sigma` for sigma parameters):"
   ]
  },
  {
   "cell_type": "code",
   "execution_count": 4,
   "metadata": {},
   "outputs": [
    {
     "data": {
      "text/html": [
       "<div>\n",
       "<style scoped>\n",
       "    .dataframe tbody tr th:only-of-type {\n",
       "        vertical-align: middle;\n",
       "    }\n",
       "\n",
       "    .dataframe tbody tr th {\n",
       "        vertical-align: top;\n",
       "    }\n",
       "\n",
       "    .dataframe thead th {\n",
       "        text-align: right;\n",
       "    }\n",
       "</style>\n",
       "<table border=\"1\" class=\"dataframe\">\n",
       "  <thead>\n",
       "    <tr style=\"text-align: right;\">\n",
       "      <th></th>\n",
       "      <th>parameterName</th>\n",
       "      <th>parameterScale</th>\n",
       "      <th>lowerBound</th>\n",
       "      <th>upperBound</th>\n",
       "      <th>nominalValue</th>\n",
       "      <th>estimate</th>\n",
       "      <th>parameterType</th>\n",
       "    </tr>\n",
       "    <tr>\n",
       "      <th>parameterId</th>\n",
       "      <th></th>\n",
       "      <th></th>\n",
       "      <th></th>\n",
       "      <th></th>\n",
       "      <th></th>\n",
       "      <th></th>\n",
       "      <th></th>\n",
       "    </tr>\n",
       "  </thead>\n",
       "  <tbody>\n",
       "    <tr>\n",
       "      <th>Epo_degradation_BaF3</th>\n",
       "      <td>EPO_{degradation,BaF3}</td>\n",
       "      <td>log10</td>\n",
       "      <td>0.00001</td>\n",
       "      <td>100000.0</td>\n",
       "      <td>0.026983</td>\n",
       "      <td>1</td>\n",
       "      <td>None</td>\n",
       "    </tr>\n",
       "    <tr>\n",
       "      <th>k_exp_hetero</th>\n",
       "      <td>k_{exp,hetero}</td>\n",
       "      <td>log10</td>\n",
       "      <td>0.00001</td>\n",
       "      <td>100000.0</td>\n",
       "      <td>0.000010</td>\n",
       "      <td>1</td>\n",
       "      <td>None</td>\n",
       "    </tr>\n",
       "    <tr>\n",
       "      <th>k_exp_homo</th>\n",
       "      <td>k_{exp,homo}</td>\n",
       "      <td>log10</td>\n",
       "      <td>0.00001</td>\n",
       "      <td>100000.0</td>\n",
       "      <td>0.006170</td>\n",
       "      <td>1</td>\n",
       "      <td>None</td>\n",
       "    </tr>\n",
       "    <tr>\n",
       "      <th>k_imp_hetero</th>\n",
       "      <td>k_{imp,hetero}</td>\n",
       "      <td>log10</td>\n",
       "      <td>0.00001</td>\n",
       "      <td>100000.0</td>\n",
       "      <td>0.016368</td>\n",
       "      <td>1</td>\n",
       "      <td>None</td>\n",
       "    </tr>\n",
       "    <tr>\n",
       "      <th>k_imp_homo</th>\n",
       "      <td>k_{imp,homo}</td>\n",
       "      <td>log10</td>\n",
       "      <td>0.00001</td>\n",
       "      <td>100000.0</td>\n",
       "      <td>97749.379402</td>\n",
       "      <td>1</td>\n",
       "      <td>None</td>\n",
       "    </tr>\n",
       "    <tr>\n",
       "      <th>k_phos</th>\n",
       "      <td>k_{phos}</td>\n",
       "      <td>log10</td>\n",
       "      <td>0.00001</td>\n",
       "      <td>100000.0</td>\n",
       "      <td>15766.507020</td>\n",
       "      <td>1</td>\n",
       "      <td>None</td>\n",
       "    </tr>\n",
       "    <tr>\n",
       "      <th>ratio</th>\n",
       "      <td>ratio</td>\n",
       "      <td>lin</td>\n",
       "      <td>-5.00000</td>\n",
       "      <td>5.0</td>\n",
       "      <td>0.693000</td>\n",
       "      <td>0</td>\n",
       "      <td>None</td>\n",
       "    </tr>\n",
       "    <tr>\n",
       "      <th>sd_pSTAT5A_rel</th>\n",
       "      <td>\\sigma_{pSTAT5A,rel}</td>\n",
       "      <td>lin</td>\n",
       "      <td>0.00001</td>\n",
       "      <td>100000.0</td>\n",
       "      <td>3.852612</td>\n",
       "      <td>1</td>\n",
       "      <td>sigma</td>\n",
       "    </tr>\n",
       "    <tr>\n",
       "      <th>sd_pSTAT5B_rel</th>\n",
       "      <td>\\sigma_{pSTAT5B,rel}</td>\n",
       "      <td>lin</td>\n",
       "      <td>0.00001</td>\n",
       "      <td>100000.0</td>\n",
       "      <td>6.591478</td>\n",
       "      <td>1</td>\n",
       "      <td>sigma</td>\n",
       "    </tr>\n",
       "    <tr>\n",
       "      <th>sd_rSTAT5A_rel</th>\n",
       "      <td>\\sigma_{rSTAT5A,rel}</td>\n",
       "      <td>lin</td>\n",
       "      <td>0.00001</td>\n",
       "      <td>100000.0</td>\n",
       "      <td>3.152713</td>\n",
       "      <td>1</td>\n",
       "      <td>sigma</td>\n",
       "    </tr>\n",
       "    <tr>\n",
       "      <th>specC17</th>\n",
       "      <td>specC17</td>\n",
       "      <td>lin</td>\n",
       "      <td>-5.00000</td>\n",
       "      <td>5.0</td>\n",
       "      <td>0.107000</td>\n",
       "      <td>0</td>\n",
       "      <td>None</td>\n",
       "    </tr>\n",
       "    <tr>\n",
       "      <th>offset_pSTAT5A_rel</th>\n",
       "      <td>NaN</td>\n",
       "      <td>lin</td>\n",
       "      <td>-100.00000</td>\n",
       "      <td>100.0</td>\n",
       "      <td>0.000000</td>\n",
       "      <td>1</td>\n",
       "      <td>offset</td>\n",
       "    </tr>\n",
       "    <tr>\n",
       "      <th>offset_pSTAT5B_rel</th>\n",
       "      <td>NaN</td>\n",
       "      <td>lin</td>\n",
       "      <td>-100.00000</td>\n",
       "      <td>100.0</td>\n",
       "      <td>0.000000</td>\n",
       "      <td>1</td>\n",
       "      <td>offset</td>\n",
       "    </tr>\n",
       "    <tr>\n",
       "      <th>offset_rSTAT5A_rel</th>\n",
       "      <td>NaN</td>\n",
       "      <td>lin</td>\n",
       "      <td>-100.00000</td>\n",
       "      <td>100.0</td>\n",
       "      <td>0.000000</td>\n",
       "      <td>1</td>\n",
       "      <td>offset</td>\n",
       "    </tr>\n",
       "    <tr>\n",
       "      <th>scaling_pSTAT5A_rel</th>\n",
       "      <td>NaN</td>\n",
       "      <td>lin</td>\n",
       "      <td>0.00001</td>\n",
       "      <td>100000.0</td>\n",
       "      <td>3.852612</td>\n",
       "      <td>1</td>\n",
       "      <td>scaling</td>\n",
       "    </tr>\n",
       "    <tr>\n",
       "      <th>scaling_pSTAT5B_rel</th>\n",
       "      <td>NaN</td>\n",
       "      <td>lin</td>\n",
       "      <td>0.00001</td>\n",
       "      <td>100000.0</td>\n",
       "      <td>6.591478</td>\n",
       "      <td>1</td>\n",
       "      <td>scaling</td>\n",
       "    </tr>\n",
       "    <tr>\n",
       "      <th>scaling_rSTAT5A_rel</th>\n",
       "      <td>NaN</td>\n",
       "      <td>lin</td>\n",
       "      <td>0.00001</td>\n",
       "      <td>100000.0</td>\n",
       "      <td>3.152713</td>\n",
       "      <td>1</td>\n",
       "      <td>scaling</td>\n",
       "    </tr>\n",
       "  </tbody>\n",
       "</table>\n",
       "</div>"
      ],
      "text/plain": [
       "                               parameterName parameterScale  lowerBound  \\\n",
       "parameterId                                                               \n",
       "Epo_degradation_BaF3  EPO_{degradation,BaF3}          log10     0.00001   \n",
       "k_exp_hetero                  k_{exp,hetero}          log10     0.00001   \n",
       "k_exp_homo                      k_{exp,homo}          log10     0.00001   \n",
       "k_imp_hetero                  k_{imp,hetero}          log10     0.00001   \n",
       "k_imp_homo                      k_{imp,homo}          log10     0.00001   \n",
       "k_phos                              k_{phos}          log10     0.00001   \n",
       "ratio                                  ratio            lin    -5.00000   \n",
       "sd_pSTAT5A_rel          \\sigma_{pSTAT5A,rel}            lin     0.00001   \n",
       "sd_pSTAT5B_rel          \\sigma_{pSTAT5B,rel}            lin     0.00001   \n",
       "sd_rSTAT5A_rel          \\sigma_{rSTAT5A,rel}            lin     0.00001   \n",
       "specC17                              specC17            lin    -5.00000   \n",
       "offset_pSTAT5A_rel                       NaN            lin  -100.00000   \n",
       "offset_pSTAT5B_rel                       NaN            lin  -100.00000   \n",
       "offset_rSTAT5A_rel                       NaN            lin  -100.00000   \n",
       "scaling_pSTAT5A_rel                      NaN            lin     0.00001   \n",
       "scaling_pSTAT5B_rel                      NaN            lin     0.00001   \n",
       "scaling_rSTAT5A_rel                      NaN            lin     0.00001   \n",
       "\n",
       "                      upperBound  nominalValue  estimate parameterType  \n",
       "parameterId                                                             \n",
       "Epo_degradation_BaF3    100000.0      0.026983         1          None  \n",
       "k_exp_hetero            100000.0      0.000010         1          None  \n",
       "k_exp_homo              100000.0      0.006170         1          None  \n",
       "k_imp_hetero            100000.0      0.016368         1          None  \n",
       "k_imp_homo              100000.0  97749.379402         1          None  \n",
       "k_phos                  100000.0  15766.507020         1          None  \n",
       "ratio                        5.0      0.693000         0          None  \n",
       "sd_pSTAT5A_rel          100000.0      3.852612         1         sigma  \n",
       "sd_pSTAT5B_rel          100000.0      6.591478         1         sigma  \n",
       "sd_rSTAT5A_rel          100000.0      3.152713         1         sigma  \n",
       "specC17                      5.0      0.107000         0          None  \n",
       "offset_pSTAT5A_rel         100.0      0.000000         1        offset  \n",
       "offset_pSTAT5B_rel         100.0      0.000000         1        offset  \n",
       "offset_rSTAT5A_rel         100.0      0.000000         1        offset  \n",
       "scaling_pSTAT5A_rel     100000.0      3.852612         1       scaling  \n",
       "scaling_pSTAT5B_rel     100000.0      6.591478         1       scaling  \n",
       "scaling_rSTAT5A_rel     100000.0      3.152713         1       scaling  "
      ]
     },
     "execution_count": 4,
     "metadata": {},
     "output_type": "execute_result"
    }
   ],
   "source": [
    "petab_problem.parameter_df"
   ]
  },
  {
   "cell_type": "code",
   "execution_count": 5,
   "metadata": {},
   "outputs": [],
   "source": [
    "# Create a pypesto problem with hierarchical optimization (`problem`)\n",
    "importer = PetabImporter(petab_problem, hierarchical=True)\n",
    "objective = importer.create_objective()\n",
    "problem = importer.create_problem(objective)\n",
    "# set option to compute objective function gradients using adjoint sensitivity analysis\n",
    "problem.objective.amici_solver.setSensitivityMethod(\n",
    "    amici.SensitivityMethod.adjoint\n",
    ")\n",
    "\n",
    "# ... and create another pypesto problem without hierarchical optimization (`problem2`)\n",
    "importer2 = PetabImporter(petab_problem, hierarchical=False)\n",
    "objective2 = importer2.create_objective()\n",
    "problem2 = importer2.create_problem(objective2)\n",
    "problem2.objective.amici_solver.setSensitivityMethod(\n",
    "    amici.SensitivityMethod.adjoint\n",
    ")\n",
    "\n",
    "# Options for multi-start optimization\n",
    "minimize_kwargs = {\n",
    "    # number of starts for multi-start optimization\n",
    "    'n_starts': 3,\n",
    "    # number of processes for parallel multi-start optimization\n",
    "    'engine': pypesto.engine.MultiProcessEngine(n_procs=6),\n",
    "    # raise in case of failures\n",
    "    'options': OptimizeOptions(allow_failed_starts=False),\n",
    "    # use the Fides optimizer\n",
    "    'optimizer': pypesto.optimize.FidesOptimizer(\n",
    "        verbose=0, hessian_update=fides.BFGS()\n",
    "    ),\n",
    "}\n",
    "# Set the same starting points for the hierarchical and non-hierarchical problem\n",
    "startpoints = pypesto.startpoint.latin_hypercube(\n",
    "    n_starts=minimize_kwargs['n_starts'],\n",
    "    lb=problem2.lb_full,\n",
    "    ub=problem2.ub_full,\n",
    ")\n",
    "# for the hierarchical problem, we only specify the outer parameters\n",
    "outer_indices = [problem2.x_names.index(x_id) for x_id in problem.x_names]\n",
    "problem.set_x_guesses(startpoints[:, outer_indices])\n",
    "problem2.set_x_guesses(startpoints)"
   ]
  },
  {
   "cell_type": "markdown",
   "metadata": {},
   "source": [
    "## Hierarchical optimization using analytical or numerical inner solver"
   ]
  },
  {
   "cell_type": "code",
   "execution_count": 6,
   "metadata": {
    "scrolled": true
   },
   "outputs": [
    {
     "name": "stderr",
     "output_type": "stream",
     "text": [
      "Performing parallel task execution on 3 processes.\n",
      "100%|██████████████████████████████████████████████████████████████████████████████████████████████████████████████████████████████████████████████████████████████████████████████| 3/3 [00:00<00:00, 2624.17it/s]\n",
      "2022-11-14 18:25:47 fides(WARNING) Stopping as gradient norm satisfies absolute convergence criteria: 8.04E-13 < 1.00E-06\n",
      "2022-11-14 18:25:49 fides(WARNING) Stopping as function difference 8.72E-09 was smaller than specified tolerances (atol=1.00E-08, rtol=1.00E-08)\n",
      "2022-11-14 18:25:58 fides(WARNING) Stopping as function difference 4.42E-07 was smaller than specified tolerances (atol=1.00E-08, rtol=1.00E-08)\n"
     ]
    },
    {
     "name": "stdout",
     "output_type": "stream",
     "text": [
      "result_num.optimize_result.get_for_key('fval')=[143.64870310700263, 201.0651662158204, 214.7678481765723]\n",
      "time_num=11.27243971824646\n"
     ]
    }
   ],
   "source": [
    "# Run hierarchical optimization using NumericalInnerSolver\n",
    "start_time = time.time()\n",
    "problem.objective.calculator.inner_solver = NumericalInnerSolver()\n",
    "problem.objective.calculator.inner_solver.n_starts = 1\n",
    "result_num = pypesto.optimize.minimize(problem, **minimize_kwargs)\n",
    "print(f\"{result_num.optimize_result.get_for_key('fval')=}\")\n",
    "time_num = time.time() - start_time\n",
    "print(f\"{time_num=}\")"
   ]
  },
  {
   "cell_type": "code",
   "execution_count": 7,
   "metadata": {},
   "outputs": [
    {
     "name": "stderr",
     "output_type": "stream",
     "text": [
      "Performing parallel task execution on 3 processes.\n",
      "100%|██████████████████████████████████████████████████████████████████████████████████████████████████████████████████████████████████████████████████████████████████████████████| 3/3 [00:00<00:00, 2352.39it/s]\n",
      "2022-11-14 18:25:59 fides(WARNING) Stopping as function difference 7.21E-07 was smaller than specified tolerances (atol=1.00E-08, rtol=1.00E-08)\n",
      "2022-11-14 18:26:01 fides(WARNING) Stopping as function difference 3.02E-07 was smaller than specified tolerances (atol=1.00E-08, rtol=1.00E-08)\n",
      "2022-11-14 18:26:03 fides(WARNING) Stopping as function difference 4.32E-07 was smaller than specified tolerances (atol=1.00E-08, rtol=1.00E-08)\n"
     ]
    },
    {
     "name": "stdout",
     "output_type": "stream",
     "text": [
      "result_ana.optimize_result.get_for_key('fval')=[130.99444723960613, 186.35085461250122, 193.52757606798457]\n",
      "time_ana=5.311113119125366\n"
     ]
    }
   ],
   "source": [
    "# Run hierarchical optimization using AnalyticalInnerSolver\n",
    "start_time = time.time()\n",
    "problem.objective.calculator.inner_solver = AnalyticalInnerSolver()\n",
    "result_ana = pypesto.optimize.minimize(problem, **minimize_kwargs)\n",
    "print(f\"{result_ana.optimize_result.get_for_key('fval')=}\")\n",
    "time_ana = time.time() - start_time\n",
    "print(f\"{time_ana=}\")"
   ]
  },
  {
   "cell_type": "code",
   "execution_count": 8,
   "metadata": {},
   "outputs": [
    {
     "data": {
      "image/png": "[encoded data removed]",
      "text/plain": [
       "<Figure size 1080x432 with 1 Axes>"
      ]
     },
     "metadata": {
      "needs_background": "light"
     },
     "output_type": "display_data"
    }
   ],
   "source": [
    "# Waterfall plot - analytical vs numerical inner solver\n",
    "pypesto.visualize.waterfall(\n",
    "    [result_num, result_ana],\n",
    "    legends=['Numerical-Hierarchical', 'Analytical-Hierarchical'],\n",
    "    size=(15, 6),\n",
    "    order_by_id=True,\n",
    "    colors=np.array(list(map(to_rgba, ('green', 'purple')))),\n",
    ")\n",
    "plt.savefig(\"num_ana.png\")"
   ]
  },
  {
   "cell_type": "code",
   "execution_count": 9,
   "metadata": {},
   "outputs": [
    {
     "data": {
      "image/png": "[encoded data removed]",
      "text/plain": [
       "<Figure size 432x288 with 1 Axes>"
      ]
     },
     "metadata": {
      "needs_background": "light"
     },
     "output_type": "display_data"
    }
   ],
   "source": [
    "# Time comparison - analytical vs numerical inner solver\n",
    "ax = plt.bar(x=[0, 1], height=[time_ana, time_num], color=['purple', 'green'])\n",
    "ax = plt.gca()\n",
    "ax.set_xticks([0, 1])\n",
    "ax.set_xticklabels(['Analytical-Hierarchical', 'Numerical-Hierarchical'])\n",
    "ax.set_ylabel('Time [s]')\n",
    "plt.savefig(\"num_ana_time.png\")"
   ]
  },
  {
   "cell_type": "markdown",
   "metadata": {},
   "source": [
    "## Comparison of hierarchical and non-hierarchical optimization"
   ]
  },
  {
   "cell_type": "code",
   "execution_count": 10,
   "metadata": {},
   "outputs": [
    {
     "name": "stderr",
     "output_type": "stream",
     "text": [
      "Performing parallel task execution on 3 processes.\n",
      "100%|██████████████████████████████████████████████████████████████████████████████████████████████████████████████████████████████████████████████████████████████████████████████| 3/3 [00:00<00:00, 2067.86it/s]\n",
      "2022-11-14 18:26:06 fides(WARNING) Stopping as function difference 2.78E-06 was smaller than specified tolerances (atol=1.00E-08, rtol=1.00E-08)\n",
      "2022-11-14 18:26:09 fides(WARNING) Stopping as function difference 4.68E-07 was smaller than specified tolerances (atol=1.00E-08, rtol=1.00E-08)\n",
      "2022-11-14 18:26:29 fides(WARNING) Stopping as function difference 8.87E-07 was smaller than specified tolerances (atol=1.00E-08, rtol=1.00E-08)\n"
     ]
    },
    {
     "name": "stdout",
     "output_type": "stream",
     "text": [
      "result_ord.optimize_result.get_for_key('fval')=[421.1897610106122, 561.6221032567687, 579.8237122224945]\n",
      "time_ord=24.044243574142456\n"
     ]
    }
   ],
   "source": [
    "# Run standard optimization\n",
    "start_time = time.time()\n",
    "result_ord = pypesto.optimize.minimize(problem2, **minimize_kwargs)\n",
    "print(f\"{result_ord.optimize_result.get_for_key('fval')=}\")\n",
    "time_ord = time.time() - start_time\n",
    "print(f\"{time_ord=}\")"
   ]
  },
  {
   "cell_type": "code",
   "execution_count": 11,
   "metadata": {},
   "outputs": [
    {
     "data": {
      "image/png": "[encoded data removed]",
      "text/plain": [
       "<Figure size 1080x432 with 1 Axes>"
      ]
     },
     "metadata": {
      "needs_background": "light"
     },
     "output_type": "display_data"
    }
   ],
   "source": [
    "# Waterfall plot - hierarchical optimization with analytical inner solver vs standard optimization\n",
    "pypesto.visualize.waterfall(\n",
    "    [result_ana, result_ord],\n",
    "    legends=['Analytical-Hierarchical', 'Non-Hierarchical'],\n",
    "    order_by_id=True,\n",
    "    colors=np.array(list(map(to_rgba, ('purple', 'orange')))),\n",
    "    size=(15, 6),\n",
    ")\n",
    "plt.savefig(\"ana_ord.png\")"
   ]
  },
  {
   "cell_type": "code",
   "execution_count": 12,
   "metadata": {},
   "outputs": [
    {
     "data": {
      "image/png": "[encoded data removed]",
      "text/plain": [
       "<Figure size 432x288 with 1 Axes>"
      ]
     },
     "metadata": {
      "needs_background": "light"
     },
     "output_type": "display_data"
    }
   ],
   "source": [
    "# Time comparison - hierarchical optimization with analytical inner solver vs standard optimization\n",
    "import matplotlib.pyplot as plt\n",
    "\n",
    "ax = plt.bar(x=[0, 1], height=[time_ana, time_ord], color=['purple', 'orange'])\n",
    "ax = plt.gca()\n",
    "ax.set_xticks([0, 1])\n",
    "ax.set_xticklabels(['Analytical-Hierarchical', 'Non-Hierarchical'])\n",
    "ax.set_ylabel('Time [s]')\n",
    "plt.savefig(\"ana_ord_time.png\")"
   ]
  },
  {
   "cell_type": "markdown",
   "metadata": {},
   "source": [
    "## Comparison of hierarchical and non-hierarchical optimization with adjoint and forward sensitivities"
   ]
  },
  {
   "cell_type": "code",
   "execution_count": 13,
   "metadata": {},
   "outputs": [
    {
     "name": "stderr",
     "output_type": "stream",
     "text": [
      "Performing parallel task execution on 3 processes.\n",
      "100%|██████████████████████████████████████████████████████████████████████████████████████████████████████████████████████████████████████████████████████████████████████████████| 3/3 [00:00<00:00, 2317.72it/s]\n",
      "2022-11-14 18:26:30 fides(WARNING) Stopping as function difference 1.70E-07 was smaller than specified tolerances (atol=1.00E-08, rtol=1.00E-08)\n",
      "2022-11-14 18:26:30 fides(WARNING) Stopping as function difference 3.45E-08 was smaller than specified tolerances (atol=1.00E-08, rtol=1.00E-08)\n",
      "2022-11-14 18:26:32 fides(WARNING) Stopping as function difference 2.53E-07 was smaller than specified tolerances (atol=1.00E-08, rtol=1.00E-08)\n"
     ]
    },
    {
     "name": "stdout",
     "output_type": "stream",
     "text": [
      "result_ana_fw.optimize_result.get_for_key('fval')=[130.1021553482834, 186.38527737093776, 193.52699351373354]\n",
      "time_ana_fw=2.9713571071624756\n"
     ]
    }
   ],
   "source": [
    "# Run hierarchical optimization with analytical inner solver and forward sensitivities\n",
    "start_time = time.time()\n",
    "problem.objective.calculator.inner_solver = AnalyticalInnerSolver()\n",
    "problem.objective.amici_solver.setSensitivityMethod(\n",
    "    amici.SensitivityMethod_forward\n",
    ")\n",
    "result_ana_fw = pypesto.optimize.minimize(problem, **minimize_kwargs)\n",
    "print(f\"{result_ana_fw.optimize_result.get_for_key('fval')=}\")\n",
    "time_ana_fw = time.time() - start_time\n",
    "print(f\"{time_ana_fw=}\")"
   ]
  },
  {
   "cell_type": "code",
   "execution_count": 14,
   "metadata": {},
   "outputs": [
    {
     "data": {
      "image/png": "[encoded data removed]",
      "text/plain": [
       "<Figure size 1080x432 with 1 Axes>"
      ]
     },
     "metadata": {
      "needs_background": "light"
     },
     "output_type": "display_data"
    }
   ],
   "source": [
    "# Waterfall plot - compare all scenarios\n",
    "pypesto.visualize.waterfall(\n",
    "    [result_ana, result_ana_fw, result_num, result_ord],\n",
    "    legends=[\n",
    "        'Analytical-Hierarchical (adjoint)',\n",
    "        'Analytical-Hierarchical (forward)',\n",
    "        'Numerical-Hierarchical',\n",
    "        'Non-Hierarchical',\n",
    "    ],\n",
    "    colors=np.array(list(map(to_rgba, ('purple', 'blue', 'green', 'orange')))),\n",
    "    order_by_id=True,\n",
    "    size=(15, 6),\n",
    ")\n",
    "plt.savefig(\"all.png\")"
   ]
  },
  {
   "cell_type": "code",
   "execution_count": 22,
   "metadata": {},
   "outputs": [
    {
     "data": {
      "image/png": "[encoded data removed]",
      "text/plain": [
       "<Figure size 432x288 with 1 Axes>"
      ]
     },
     "metadata": {
      "needs_background": "light"
     },
     "output_type": "display_data"
    }
   ],
   "source": [
    "# Time comparison of all scenarios\n",
    "import matplotlib.pyplot as plt\n",
    "\n",
    "ax = plt.bar(\n",
    "    x=[0, 1, 2, 3],\n",
    "    height=[time_ana, time_ana_fw, time_num, time_ord],\n",
    "    color=['purple', 'blue', 'green', 'orange'],\n",
    ")\n",
    "ax = plt.gca()\n",
    "ax.set_xticks([0, 1, 2, 3])\n",
    "ax.set_xticklabels(\n",
    "    [\n",
    "        'Analytical-Hierarchical (adjoint)',\n",
    "        'Analytical-Hierarchical (forward)',\n",
    "        'Numerical-Hierarchical',\n",
    "        'Non-Hierarchical',\n",
    "    ]\n",
    ")\n",
    "plt.setp(ax.get_xticklabels(), fontsize=10, rotation=75)\n",
    "ax.set_ylabel('Time [s]')\n",
    "plt.savefig(\"all_time.png\")"
   ]
  },
  {
   "cell_type": "code",
   "execution_count": null,
   "metadata": {},
   "outputs": [],
   "source": []
  }
 ],
 "metadata": {
  "kernelspec": {
   "display_name": "Python 3",
   "language": "python",
   "name": "python3"
  },
  "language_info": {
   "codemirror_mode": {
    "name": "ipython",
    "version": 3
   },
   "file_extension": ".py",
   "mimetype": "text/x-python",
   "name": "python",
   "nbconvert_exporter": "python",
   "pygments_lexer": "ipython3",
   "version": "3.9.15"
  },
  "toc": {
   "base_numbering": 1,
   "nav_menu": {},
   "number_sections": true,
   "sideBar": true,
   "skip_h1_title": false,
   "title_cell": "Table of Contents",
   "title_sidebar": "Contents",
   "toc_cell": false,
   "toc_position": {},
   "toc_section_display": true,
   "toc_window_display": false
  }
 },
 "nbformat": 4,
 "nbformat_minor": 4
}
