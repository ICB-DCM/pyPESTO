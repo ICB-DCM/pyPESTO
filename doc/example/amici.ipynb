{
 "cells": [
  {
   "cell_type": "markdown",
   "metadata": {
    "collapsed": false,
    "jupyter": {
     "outputs_hidden": false
    },
    "pycharm": {
     "name": "#%% md\n"
    }
   },
   "source": [
    "# AMICI in pyPESTO\n",
    "\n",
    "**After this notebook you can...**\n",
    "\n",
    "* ...create a pyPESTO problem directly from an AMICI model or through PEtab.\n",
    "* ...perform parameter estimation of your amici model and adjust advanced settings for this.\n",
    "* ...evaluate an optimization through basic visualizations.\n",
    "* ...inspect parameter uncertainties through profile likelihoods and MCMC sampling.\n",
    "\n",
    "To run optimizations and/or uncertainty analysis, we turn to pyPESTO (**P**arameter **ES**timation **TO**olbox for python).\n",
    "\n",
    "pyPESTO is a Python tool for parameter estimation. It provides an interface to the model simulation tool [AMICI](https://github.com/AMICI-dev/AMICI) for the simulation of Ordinary Differential Equation (ODE) models specified in the SBML format. With it, we can optimize our model parameters given measurement data, we can do uncertainty analysis via profile likelihoods and/or through sampling methods. pyPESTO provides an interface to many optimizers, global and local, such as e.g. SciPy optimizers, Fides and Pyswarm. Additionally, it interfaces samplers such as pymc, emcee and some of its own samplers."
   ]
  },
  {
   "cell_type": "code",
   "execution_count": 7,
   "metadata": {
    "collapsed": false,
    "jupyter": {
     "outputs_hidden": false
    },
    "pycharm": {
     "name": "#%%\n"
    }
   },
   "outputs": [],
   "source": [
    "# import\n",
    "import logging\n",
    "import tempfile\n",
    "from pprint import pprint\n",
    "\n",
    "import amici\n",
    "import matplotlib as mpl\n",
    "import numpy as np\n",
    "import petab\n",
    "from IPython.display import Markdown, display\n",
    "\n",
    "import pypesto.optimize as optimize\n",
    "import pypesto.petab\n",
    "import pypesto.profile as profile\n",
    "import pypesto.sample as sample\n",
    "import pypesto.store as store\n",
    "import pypesto.visualize as visualize\n",
    "import pypesto.visualize.model_fit as model_fit\n",
    "\n",
    "mpl.rcParams[\"figure.dpi\"] = 100\n",
    "mpl.rcParams[\"font.size\"] = 18\n",
    "\n",
    "# Set seed for reproducibility\n",
    "np.random.seed(1912)\n",
    "\n",
    "\n",
    "# name of the model that will also be the name of the python module\n",
    "model_name = \"boehm_JProteomeRes2014\"\n",
    "\n",
    "# output directory\n",
    "model_output_dir = \"tmp/_\" + model_name"
   ]
  },
  {
   "cell_type": "markdown",
   "metadata": {
    "collapsed": false,
    "jupyter": {
     "outputs_hidden": false
    },
    "pycharm": {
     "name": "#%% md\n"
    }
   },
   "source": [
    "## 1. Create a pyPESTO problem"
   ]
  },
  {
   "cell_type": "markdown",
   "metadata": {
    "collapsed": false,
    "jupyter": {
     "outputs_hidden": false
    },
    "pycharm": {
     "name": "#%% md\n"
    }
   },
   "source": [
    "### Create a pyPESTO objective from AMICI\n",
    "\n",
    "Before we can use AMICI to simulate our model, the SBML model needs to be translated to C++ code. This is done by `amici.SbmlImporter`."
   ]
  },
  {
   "cell_type": "code",
   "execution_count": 8,
   "metadata": {
    "collapsed": false,
    "jupyter": {
     "outputs_hidden": false
    },
    "pycharm": {
     "name": "#%%\n"
    }
   },
   "outputs": [],
   "source": [
    "sbml_file = f\"./{model_name}/{model_name}.xml\"\n",
    "# Create an SbmlImporter instance for our SBML model\n",
    "sbml_importer = amici.SbmlImporter(sbml_file)"
   ]
  },
  {
   "cell_type": "markdown",
   "metadata": {
    "collapsed": false,
    "jupyter": {
     "outputs_hidden": false
    },
    "pycharm": {
     "name": "#%% md\n"
    }
   },
   "source": [
    "In this example, we want to specify fixed parameters, observables and a $\\sigma$ parameter. Unfortunately, the latter two are not part of the [SBML standard](https://sbml.org/). However, they can be provided to `amici.SbmlImporter.sbml2amici` as demonstrated in the following."
   ]
  },
  {
   "cell_type": "markdown",
   "metadata": {
    "collapsed": false,
    "jupyter": {
     "outputs_hidden": false
    },
    "pycharm": {
     "name": "#%% md\n"
    }
   },
   "source": [
    "#### Constant parameters\n",
    "\n",
    "Constant parameters, i.e., parameters with respect to which no sensitivities are to be computed (these are often parameters specifying a certain experimental condition) are provided as a list of parameter names."
   ]
  },
  {
   "cell_type": "code",
   "execution_count": 9,
   "metadata": {
    "collapsed": false,
    "jupyter": {
     "outputs_hidden": false
    },
    "pycharm": {
     "name": "#%%\n"
    }
   },
   "outputs": [],
   "source": [
    "constant_parameters = [\"ratio\", \"specC17\"]"
   ]
  },
  {
   "cell_type": "markdown",
   "metadata": {
    "collapsed": false,
    "jupyter": {
     "outputs_hidden": false
    },
    "pycharm": {
     "name": "#%% md\n"
    }
   },
   "source": [
    "#### Observables\n",
    "\n",
    "We used SBML's [`AssignmentRule`](https://sbml.org/software/libsbml/5.18.0/docs/formatted/python-api/classlibsbml_1_1_assignment_rule.html) as a non-standard way to specify *Model outputs* within the SBML file. These rules need to be removed prior to the model import (AMICI does at this time not support these rules). This can be easily done using `amici.assignmentRules2observables()`.\n",
    "\n",
    "In this example, we introduced parameters named `observable_*` as targets of the observable AssignmentRules. Where applicable we have `observable_*_sigma` parameters for $\\sigma$ parameters (see below)."
   ]
  },
  {
   "cell_type": "code",
   "execution_count": 10,
   "metadata": {
    "collapsed": false,
    "jupyter": {
     "outputs_hidden": false
    },
    "pycharm": {
     "name": "#%%\n"
    }
   },
   "outputs": [
    {
     "name": "stdout",
     "output_type": "stream",
     "text": [
      "Observables:\n",
      "{'observable_pSTAT5A_rel': {'formula': '(100 * pApB + 200 * pApA * specC17) / '\n",
      "                                       '(pApB + STAT5A * specC17 + 2 * pApA * '\n",
      "                                       'specC17)',\n",
      "                            'name': 'observable_pSTAT5A_rel'},\n",
      " 'observable_pSTAT5B_rel': {'formula': '-(100 * pApB - 200 * pBpB * (specC17 - '\n",
      "                                       '1)) / (STAT5B * (specC17 - 1) - pApB + '\n",
      "                                       '2 * pBpB * (specC17 - 1))',\n",
      "                            'name': 'observable_pSTAT5B_rel'},\n",
      " 'observable_rSTAT5A_rel': {'formula': '(100 * pApB + 100 * STAT5A * specC17 + '\n",
      "                                       '200 * pApA * specC17) / (2 * pApB + '\n",
      "                                       'STAT5A * specC17 + 2 * pApA * specC17 '\n",
      "                                       '- STAT5B * (specC17 - 1) - 2 * pBpB * '\n",
      "                                       '(specC17 - 1))',\n",
      "                            'name': 'observable_rSTAT5A_rel'}}\n"
     ]
    }
   ],
   "source": [
    "# Retrieve model output names and formulae from AssignmentRules and remove the respective rules\n",
    "observables = amici.assignmentRules2observables(\n",
    "    sbml_importer.sbml,  # the libsbml model object\n",
    "    filter_function=lambda variable: variable.getId().startswith(\"observable_\")\n",
    "    and not variable.getId().endswith(\"_sigma\"),\n",
    ")\n",
    "print(\"Observables:\")\n",
    "pprint(observables)"
   ]
  },
  {
   "cell_type": "markdown",
   "metadata": {
    "collapsed": false,
    "jupyter": {
     "outputs_hidden": false
    },
    "pycharm": {
     "name": "#%% md\n"
    }
   },
   "source": [
    "#### $\\sigma$ parameters\n",
    "\n",
    "To specify measurement noise as a parameter, we simply provide a dictionary with observable names as keys and a list of (preexisting) parameter names as values to indicate which sigma parameter is to be used for which observable."
   ]
  },
  {
   "cell_type": "code",
   "execution_count": 11,
   "metadata": {
    "collapsed": false,
    "jupyter": {
     "outputs_hidden": false
    },
    "pycharm": {
     "name": "#%%\n"
    }
   },
   "outputs": [
    {
     "name": "stdout",
     "output_type": "stream",
     "text": [
      "{'observable_pSTAT5A_rel': 'sd_pSTAT5A_rel',\n",
      " 'observable_pSTAT5B_rel': 'sd_pSTAT5B_rel',\n",
      " 'observable_rSTAT5A_rel': 'sd_rSTAT5A_rel'}\n"
     ]
    }
   ],
   "source": [
    "sigma_vals = [\"sd_pSTAT5A_rel\", \"sd_pSTAT5B_rel\", \"sd_rSTAT5A_rel\"]\n",
    "observable_names = observables.keys()\n",
    "sigmas = dict(zip(list(observable_names), sigma_vals))\n",
    "pprint(sigmas)"
   ]
  },
  {
   "cell_type": "markdown",
   "metadata": {
    "collapsed": false,
    "jupyter": {
     "outputs_hidden": false
    },
    "pycharm": {
     "name": "#%% md\n"
    }
   },
   "source": [
    "#### Generating the module\n",
    "\n",
    "Now we can generate the python module for our model. `amici.SbmlImporter.sbml2amici` will symbolically derive the sensitivity equations, generate C++ code for model simulation, and assemble the python module."
   ]
  },
  {
   "cell_type": "code",
   "execution_count": 12,
   "metadata": {
    "collapsed": false,
    "jupyter": {
     "outputs_hidden": false
    },
    "pycharm": {
     "name": "#%%\n"
    }
   },
   "outputs": [
    {
     "name": "stderr",
     "output_type": "stream",
     "text": [
      "2024-07-04 12:37:28.482 - amici.sbml_import - DEBUG - Finished processing SBML annotations         + (1.61E-04s)\n",
      "2024-07-04 12:37:28.513 - amici.sbml_import - DEBUG - Finished gathering local SBML symbols        + (2.14E-02s)\n",
      "2024-07-04 12:37:28.527 - amici.sbml_import - DEBUG - Finished processing SBML parameters          + (4.86E-03s)\n",
      "2024-07-04 12:37:28.540 - amici.sbml_import - DEBUG - Finished processing SBML compartments        + (2.55E-04s)\n",
      "2024-07-04 12:37:28.566 - amici.sbml_import - DEBUG - Finished processing SBML species initials   ++ (8.96E-03s)\n",
      "2024-07-04 12:37:28.580 - amici.sbml_import - DEBUG - Finished processing SBML rate rules         ++ (7.48E-05s)\n",
      "2024-07-04 12:37:28.581 - amici.sbml_import - DEBUG - Finished processing SBML species             + (3.19E-02s)\n",
      "2024-07-04 12:37:28.599 - amici.sbml_import - DEBUG - Finished processing SBML reactions           + (7.03E-03s)\n",
      "2024-07-04 12:37:28.618 - amici.sbml_import - DEBUG - Finished processing SBML rules               + (9.36E-03s)\n",
      "2024-07-04 12:37:28.629 - amici.sbml_import - DEBUG - Finished processing SBML events              + (2.22E-04s)\n",
      "2024-07-04 12:37:28.639 - amici.sbml_import - DEBUG - Finished processing SBML initial assignments + (1.23E-04s)\n",
      "2024-07-04 12:37:28.650 - amici.sbml_import - DEBUG - Finished processing SBML species references  + (4.26E-04s)\n",
      "2024-07-04 12:37:28.651 - amici.sbml_import - INFO - Finished importing SBML                         (1.74E-01s)\n",
      "2024-07-04 12:37:28.690 - amici.sbml_import - INFO - Finished processing SBML observables            (2.91E-02s)\n",
      "2024-07-04 12:37:28.699 - amici.sbml_import - INFO - Finished processing SBML event observables      (2.10E-06s)\n",
      "2024-07-04 12:37:28.873 - amici.de_model - DEBUG - Finished simplifying xdot                       + (1.05E-02s)\n",
      "2024-07-04 12:37:28.893 - amici.de_model - INFO - Finished computing xdot                            (4.51E-02s)\n",
      "2024-07-04 12:37:28.922 - amici.de_model - DEBUG - Finished simplifying x0                         + (1.37E-03s)\n",
      "2024-07-04 12:37:28.923 - amici.de_model - INFO - Finished computing x0                              (1.93E-02s)\n",
      "2024-07-04 12:37:28.959 - amici.de_model - DEBUG - Finished simplifying w                          + (1.37E-02s)\n",
      "2024-07-04 12:37:28.961 - amici.de_model - INFO - Finished computing w                               (2.38E-02s)\n",
      "2024-07-04 12:37:29.015 - amici.de_model - DEBUG - Finished simplifying Jy                       +++ (1.81E-02s)\n",
      "2024-07-04 12:37:29.016 - amici.de_model - DEBUG - Finished computing Jy                          ++ (2.81E-02s)\n",
      "2024-07-04 12:37:29.073 - amici.de_model - DEBUG - Finished simplifying y                        +++ (1.71E-02s)\n",
      "2024-07-04 12:37:29.074 - amici.de_model - DEBUG - Finished computing y                           ++ (2.67E-02s)\n",
      "2024-07-04 12:37:29.097 - amici.de_model - DEBUG - Finished simplifying sigmay                   +++ (2.83E-04s)\n",
      "2024-07-04 12:37:29.099 - amici.de_model - DEBUG - Finished computing sigmay                      ++ (1.28E-02s)\n",
      "2024-07-04 12:37:29.101 - amici.de_export - DEBUG - Finished writing Jy.cpp                        + (1.20E-01s)\n",
      "2024-07-04 12:37:29.166 - amici.de_model - DEBUG - Finished simplifying dJydsigma                +++ (1.75E-02s)\n",
      "2024-07-04 12:37:29.169 - amici.de_model - DEBUG - Finished computing dJydsigma                   ++ (4.55E-02s)\n",
      "2024-07-04 12:37:29.181 - amici.de_export - DEBUG - Finished writing dJydsigma.cpp                 + (6.67E-02s)\n",
      "2024-07-04 12:37:29.251 - amici.de_model - DEBUG - Finished simplifying dJydy                    +++ (2.99E-02s)\n",
      "2024-07-04 12:37:29.253 - amici.de_model - DEBUG - Finished computing dJydy                       ++ (5.27E-02s)\n",
      "2024-07-04 12:37:29.267 - amici.de_export - DEBUG - Finished writing dJydy.cpp                     + (7.45E-02s)\n",
      "2024-07-04 12:37:29.302 - amici.de_model - DEBUG - Finished simplifying Jz                       +++ (4.70E-04s)\n",
      "2024-07-04 12:37:29.304 - amici.de_model - DEBUG - Finished computing Jz                          ++ (1.28E-02s)\n",
      "2024-07-04 12:37:29.307 - amici.de_export - DEBUG - Finished writing Jz.cpp                        + (2.29E-02s)\n",
      "2024-07-04 12:37:29.345 - amici.de_model - DEBUG - Finished simplifying dJzdsigma                +++ (1.70E-04s)\n",
      "2024-07-04 12:37:29.346 - amici.de_model - DEBUG - Finished computing dJzdsigma                   ++ (2.12E-02s)\n",
      "2024-07-04 12:37:29.349 - amici.de_export - DEBUG - Finished writing dJzdsigma.cpp                 + (3.07E-02s)\n",
      "2024-07-04 12:37:29.387 - amici.de_model - DEBUG - Finished simplifying dJzdz                    +++ (1.40E-04s)\n",
      "2024-07-04 12:37:29.389 - amici.de_model - DEBUG - Finished computing dJzdz                       ++ (2.03E-02s)\n",
      "2024-07-04 12:37:29.391 - amici.de_export - DEBUG - Finished writing dJzdz.cpp                     + (2.95E-02s)\n",
      "2024-07-04 12:37:29.419 - amici.de_model - DEBUG - Finished simplifying Jrz                      +++ (1.39E-04s)\n",
      "2024-07-04 12:37:29.421 - amici.de_model - DEBUG - Finished computing Jrz                         ++ (9.89E-03s)\n",
      "2024-07-04 12:37:29.424 - amici.de_export - DEBUG - Finished writing Jrz.cpp                       + (2.13E-02s)\n",
      "2024-07-04 12:37:29.461 - amici.de_model - DEBUG - Finished simplifying dJrzdsigma               +++ (1.34E-04s)\n",
      "2024-07-04 12:37:29.462 - amici.de_model - DEBUG - Finished computing dJrzdsigma                  ++ (1.86E-02s)\n",
      "2024-07-04 12:37:29.464 - amici.de_export - DEBUG - Finished writing dJrzdsigma.cpp                + (2.54E-02s)\n",
      "2024-07-04 12:37:29.500 - amici.de_model - DEBUG - Finished simplifying dJrzdz                   +++ (1.65E-04s)\n",
      "2024-07-04 12:37:29.502 - amici.de_model - DEBUG - Finished computing dJrzdz                      ++ (2.06E-02s)\n",
      "2024-07-04 12:37:29.503 - amici.de_export - DEBUG - Finished writing dJrzdz.cpp                    + (2.91E-02s)\n",
      "2024-07-04 12:37:29.529 - amici.de_model - DEBUG - Finished simplifying root                     +++ (1.39E-04s)\n",
      "2024-07-04 12:37:29.531 - amici.de_model - DEBUG - Finished computing root                        ++ (1.12E-02s)\n",
      "2024-07-04 12:37:29.533 - amici.de_export - DEBUG - Finished writing root.cpp                      + (1.88E-02s)\n",
      "2024-07-04 12:37:29.586 - amici.de_model - DEBUG - Finished simplifying dwdp                     +++ (1.61E-02s)\n",
      "2024-07-04 12:37:29.589 - amici.de_model - DEBUG - Finished computing dwdp                        ++ (3.75E-02s)\n",
      "2024-07-04 12:37:29.638 - amici.de_model - DEBUG - Finished simplifying dwdx                     +++ (7.91E-03s)\n",
      "2024-07-04 12:37:29.639 - amici.de_model - DEBUG - Finished computing dwdx                        ++ (2.94E-02s)\n",
      "2024-07-04 12:37:29.691 - amici.de_model - DEBUG - Finished simplifying dwdw                     +++ (6.44E-03s)\n",
      "2024-07-04 12:37:29.695 - amici.de_model - DEBUG - Finished computing dwdw                        ++ (3.40E-02s)\n",
      "2024-07-04 12:37:29.733 - amici.de_model - DEBUG - Finished simplifying spl                      +++ (4.63E-04s)\n",
      "2024-07-04 12:37:29.736 - amici.de_model - DEBUG - Finished computing spl                         ++ (1.10E-02s)\n",
      "2024-07-04 12:37:29.757 - amici.de_model - DEBUG - Finished simplifying sspl                     +++ (1.82E-04s)\n",
      "2024-07-04 12:37:29.759 - amici.de_model - DEBUG - Finished computing sspl                        ++ (1.02E-02s)\n",
      "2024-07-04 12:37:29.763 - amici.de_export - DEBUG - Finished writing dwdp.cpp                      + (2.19E-01s)\n",
      "2024-07-04 12:37:29.780 - amici.de_export - DEBUG - Finished writing dwdx.cpp                      + (7.73E-03s)\n",
      "2024-07-04 12:37:29.789 - amici.de_export - DEBUG - Finished writing create_splines.cpp            + (7.36E-04s)\n",
      "2024-07-04 12:37:29.830 - amici.de_model - DEBUG - Finished simplifying spline_values           ++++ (1.49E-04s)\n",
      "2024-07-04 12:37:29.833 - amici.de_model - DEBUG - Finished computing spline_values              +++ (1.69E-02s)\n",
      "2024-07-04 12:37:29.854 - amici.de_model - DEBUG - Finished simplifying dspline_valuesdp         +++ (1.38E-04s)\n",
      "2024-07-04 12:37:29.856 - amici.de_model - DEBUG - Finished computing dspline_valuesdp            ++ (5.04E-02s)\n",
      "2024-07-04 12:37:29.857 - amici.de_export - DEBUG - Finished writing dspline_valuesdp.cpp          + (5.75E-02s)\n",
      "2024-07-04 12:37:29.894 - amici.de_model - DEBUG - Finished simplifying spline_slopes           ++++ (2.77E-04s)\n",
      "2024-07-04 12:37:29.895 - amici.de_model - DEBUG - Finished computing spline_slopes              +++ (1.16E-02s)\n",
      "2024-07-04 12:37:29.914 - amici.de_model - DEBUG - Finished simplifying dspline_slopesdp         +++ (2.13E-04s)\n",
      "2024-07-04 12:37:29.915 - amici.de_model - DEBUG - Finished computing dspline_slopesdp            ++ (4.05E-02s)\n",
      "2024-07-04 12:37:29.916 - amici.de_export - DEBUG - Finished writing dspline_slopesdp.cpp          + (4.77E-02s)\n",
      "2024-07-04 12:37:29.933 - amici.de_export - DEBUG - Finished writing dwdw.cpp                      + (3.80E-03s)\n",
      "2024-07-04 12:37:29.971 - amici.de_model - DEBUG - Finished simplifying dxdotdw                  +++ (4.00E-04s)\n",
      "2024-07-04 12:37:29.972 - amici.de_model - DEBUG - Finished computing dxdotdw                     ++ (2.49E-02s)\n",
      "2024-07-04 12:37:29.982 - amici.de_export - DEBUG - Finished writing dxdotdw.cpp                   + (4.06E-02s)\n",
      "2024-07-04 12:37:30.013 - amici.de_model - DEBUG - Finished simplifying dxdotdx_explicit         +++ (1.17E-04s)\n",
      "2024-07-04 12:37:30.014 - amici.de_model - DEBUG - Finished computing dxdotdx_explicit            ++ (1.78E-02s)\n",
      "2024-07-04 12:37:30.016 - amici.de_export - DEBUG - Finished writing dxdotdx_explicit.cpp          + (2.41E-02s)\n",
      "2024-07-04 12:37:30.049 - amici.de_model - DEBUG - Finished simplifying dxdotdp_explicit         +++ (1.51E-04s)\n",
      "2024-07-04 12:37:30.050 - amici.de_model - DEBUG - Finished computing dxdotdp_explicit            ++ (1.95E-02s)\n",
      "2024-07-04 12:37:30.052 - amici.de_export - DEBUG - Finished writing dxdotdp_explicit.cpp          + (2.55E-02s)\n",
      "2024-07-04 12:37:30.197 - amici.de_model - DEBUG - Finished simplifying dydx                    ++++ (9.02E-02s)\n",
      "2024-07-04 12:37:30.199 - amici.de_model - DEBUG - Finished computing dydx                       +++ (1.15E-01s)\n",
      "2024-07-04 12:37:30.232 - amici.de_model - DEBUG - Finished simplifying dydw                    ++++ (1.24E-04s)\n",
      "2024-07-04 12:37:30.233 - amici.de_model - DEBUG - Finished computing dydw                       +++ (2.21E-02s)\n",
      "2024-07-04 12:37:30.337 - amici.de_model - DEBUG - Finished simplifying dydx                     +++ (8.99E-02s)\n",
      "2024-07-04 12:37:30.338 - amici.de_model - DEBUG - Finished computing dydx                        ++ (2.66E-01s)\n",
      "2024-07-04 12:37:30.373 - amici.de_export - DEBUG - Finished writing dydx.cpp                      + (3.08E-01s)\n",
      "2024-07-04 12:37:30.419 - amici.de_model - DEBUG - Finished simplifying dydp                    ++++ (3.03E-04s)\n",
      "2024-07-04 12:37:30.420 - amici.de_model - DEBUG - Finished computing dydp                       +++ (2.41E-02s)\n",
      "2024-07-04 12:37:30.435 - amici.de_model - DEBUG - Finished simplifying dydp                     +++ (1.40E-04s)\n",
      "2024-07-04 12:37:30.436 - amici.de_model - DEBUG - Finished computing dydp                        ++ (4.58E-02s)\n",
      "2024-07-04 12:37:30.437 - amici.de_export - DEBUG - Finished writing dydp.cpp                      + (5.26E-02s)\n",
      "2024-07-04 12:37:30.459 - amici.de_model - DEBUG - Finished computing dzdx                        ++ (2.10E-04s)\n",
      "2024-07-04 12:37:30.460 - amici.de_export - DEBUG - Finished writing dzdx.cpp                      + (1.05E-02s)\n",
      "2024-07-04 12:37:30.480 - amici.de_model - DEBUG - Finished computing dzdp                        ++ (1.35E-04s)\n",
      "2024-07-04 12:37:30.482 - amici.de_export - DEBUG - Finished writing dzdp.cpp                      + (8.35E-03s)\n",
      "2024-07-04 12:37:30.502 - amici.de_model - DEBUG - Finished computing drzdx                       ++ (1.85E-04s)\n",
      "2024-07-04 12:37:30.503 - amici.de_export - DEBUG - Finished writing drzdx.cpp                     + (9.41E-03s)\n",
      "2024-07-04 12:37:30.519 - amici.de_model - DEBUG - Finished computing drzdp                       ++ (1.34E-04s)\n",
      "2024-07-04 12:37:30.521 - amici.de_export - DEBUG - Finished writing drzdp.cpp                     + (7.23E-03s)\n",
      "2024-07-04 12:37:30.550 - amici.de_model - DEBUG - Finished simplifying dsigmaydy                +++ (9.20E-05s)\n",
      "2024-07-04 12:37:30.551 - amici.de_model - DEBUG - Finished computing dsigmaydy                   ++ (1.45E-02s)\n",
      "2024-07-04 12:37:30.552 - amici.de_export - DEBUG - Finished writing dsigmaydy.cpp                 + (2.11E-02s)\n",
      "2024-07-04 12:37:30.586 - amici.de_model - DEBUG - Finished simplifying dsigmaydp                +++ (3.50E-04s)\n",
      "2024-07-04 12:37:30.587 - amici.de_model - DEBUG - Finished computing dsigmaydp                   ++ (1.91E-02s)\n",
      "2024-07-04 12:37:30.592 - amici.de_export - DEBUG - Finished writing dsigmaydp.cpp                 + (2.83E-02s)\n",
      "2024-07-04 12:37:30.602 - amici.de_export - DEBUG - Finished writing sigmay.cpp                    + (1.34E-03s)\n",
      "2024-07-04 12:37:30.643 - amici.de_model - DEBUG - Finished simplifying sigmaz                  ++++ (2.15E-04s)\n",
      "2024-07-04 12:37:30.644 - amici.de_model - DEBUG - Finished computing sigmaz                     +++ (1.28E-02s)\n",
      "2024-07-04 12:37:30.669 - amici.de_model - DEBUG - Finished simplifying dsigmazdp                +++ (6.64E-04s)\n",
      "2024-07-04 12:37:30.670 - amici.de_model - DEBUG - Finished computing dsigmazdp                   ++ (4.82E-02s)\n",
      "2024-07-04 12:37:30.671 - amici.de_export - DEBUG - Finished writing dsigmazdp.cpp                 + (5.68E-02s)\n",
      "2024-07-04 12:37:30.686 - amici.de_export - DEBUG - Finished writing sigmaz.cpp                    + (2.15E-05s)\n",
      "2024-07-04 12:37:30.703 - amici.de_model - DEBUG - Finished computing stau                        ++ (1.78E-04s)\n",
      "2024-07-04 12:37:30.704 - amici.de_export - DEBUG - Finished writing stau.cpp                      + (7.43E-03s)\n",
      "2024-07-04 12:37:30.725 - amici.de_model - DEBUG - Finished computing deltax                      ++ (3.01E-04s)\n",
      "2024-07-04 12:37:30.726 - amici.de_export - DEBUG - Finished writing deltax.cpp                    + (1.02E-02s)\n",
      "2024-07-04 12:37:30.741 - amici.de_model - DEBUG - Finished computing deltasx                     ++ (3.04E-04s)\n",
      "2024-07-04 12:37:30.744 - amici.de_export - DEBUG - Finished writing deltasx.cpp                   + (9.17E-03s)\n",
      "2024-07-04 12:37:30.761 - amici.de_export - DEBUG - Finished writing w.cpp                         + (8.68E-03s)\n",
      "2024-07-04 12:37:30.773 - amici.de_export - DEBUG - Finished writing x0.cpp                        + (2.18E-03s)\n",
      "2024-07-04 12:37:30.803 - amici.de_model - DEBUG - Finished simplifying x0_fixedParameters       +++ (1.20E-03s)\n",
      "2024-07-04 12:37:30.804 - amici.de_model - DEBUG - Finished computing x0_fixedParameters          ++ (1.38E-02s)\n",
      "2024-07-04 12:37:30.812 - amici.de_export - DEBUG - Finished writing x0_fixedParameters.cpp        + (2.92E-02s)\n",
      "2024-07-04 12:37:30.849 - amici.de_model - DEBUG - Finished simplifying sx0                      +++ (1.38E-04s)\n",
      "2024-07-04 12:37:30.850 - amici.de_model - DEBUG - Finished computing sx0                         ++ (1.90E-02s)\n",
      "2024-07-04 12:37:30.852 - amici.de_export - DEBUG - Finished writing sx0.cpp                       + (2.80E-02s)\n",
      "2024-07-04 12:37:30.890 - amici.de_model - DEBUG - Finished simplifying sx0_fixedParameters      +++ (1.39E-04s)\n",
      "2024-07-04 12:37:30.892 - amici.de_model - DEBUG - Finished computing sx0_fixedParameters         ++ (2.32E-02s)\n",
      "2024-07-04 12:37:30.896 - amici.de_export - DEBUG - Finished writing sx0_fixedParameters.cpp       + (3.33E-02s)\n",
      "2024-07-04 12:37:30.917 - amici.de_export - DEBUG - Finished writing xdot.cpp                      + (9.45E-03s)\n",
      "2024-07-04 12:37:30.933 - amici.de_export - DEBUG - Finished writing y.cpp                         + (6.90E-03s)\n",
      "2024-07-04 12:37:30.956 - amici.de_model - DEBUG - Finished simplifying x_rdata                  +++ (1.63E-04s)\n",
      "2024-07-04 12:37:30.958 - amici.de_model - DEBUG - Finished computing x_rdata                     ++ (9.18E-03s)\n",
      "2024-07-04 12:37:30.961 - amici.de_export - DEBUG - Finished writing x_rdata.cpp                   + (1.90E-02s)\n",
      "2024-07-04 12:37:30.988 - amici.de_model - DEBUG - Finished simplifying total_cl                 +++ (9.98E-05s)\n",
      "2024-07-04 12:37:30.989 - amici.de_model - DEBUG - Finished computing total_cl                    ++ (8.16E-03s)\n",
      "2024-07-04 12:37:30.991 - amici.de_export - DEBUG - Finished writing total_cl.cpp                  + (1.97E-02s)\n",
      "2024-07-04 12:37:31.023 - amici.de_model - DEBUG - Finished simplifying dtotal_cldp              +++ (9.55E-05s)\n",
      "2024-07-04 12:37:31.024 - amici.de_model - DEBUG - Finished computing dtotal_cldp                 ++ (1.56E-02s)\n",
      "2024-07-04 12:37:31.025 - amici.de_export - DEBUG - Finished writing dtotal_cldp.cpp               + (2.38E-02s)\n",
      "2024-07-04 12:37:31.049 - amici.de_model - DEBUG - Finished simplifying dtotal_cldx_rdata        +++ (1.19E-04s)\n",
      "2024-07-04 12:37:31.050 - amici.de_model - DEBUG - Finished computing dtotal_cldx_rdata           ++ (7.41E-03s)\n",
      "2024-07-04 12:37:31.052 - amici.de_export - DEBUG - Finished writing dtotal_cldx_rdata.cpp         + (1.48E-02s)\n",
      "2024-07-04 12:37:31.079 - amici.de_model - DEBUG - Finished simplifying x_solver                 +++ (2.31E-04s)\n",
      "2024-07-04 12:37:31.081 - amici.de_model - DEBUG - Finished computing x_solver                    ++ (1.06E-02s)\n",
      "2024-07-04 12:37:31.085 - amici.de_export - DEBUG - Finished writing x_solver.cpp                  + (1.96E-02s)\n",
      "2024-07-04 12:37:31.110 - amici.de_model - DEBUG - Finished simplifying dx_rdatadx_solver        +++ (1.10E-03s)\n",
      "2024-07-04 12:37:31.111 - amici.de_model - DEBUG - Finished computing dx_rdatadx_solver           ++ (1.12E-02s)\n",
      "2024-07-04 12:37:31.113 - amici.de_export - DEBUG - Finished writing dx_rdatadx_solver.cpp         + (1.83E-02s)\n",
      "2024-07-04 12:37:31.138 - amici.de_model - DEBUG - Finished simplifying dx_rdatadp               +++ (5.53E-04s)\n",
      "2024-07-04 12:37:31.139 - amici.de_model - DEBUG - Finished computing dx_rdatadp                  ++ (7.96E-03s)\n",
      "2024-07-04 12:37:31.140 - amici.de_export - DEBUG - Finished writing dx_rdatadp.cpp                + (1.48E-02s)\n",
      "2024-07-04 12:37:31.177 - amici.de_model - DEBUG - Finished simplifying dx_rdatadtcl             +++ (1.20E-04s)\n",
      "2024-07-04 12:37:31.179 - amici.de_model - DEBUG - Finished computing dx_rdatadtcl                ++ (1.68E-02s)\n",
      "2024-07-04 12:37:31.181 - amici.de_export - DEBUG - Finished writing dx_rdatadtcl.cpp              + (2.80E-02s)\n",
      "2024-07-04 12:37:31.201 - amici.de_model - DEBUG - Finished computing z                           ++ (3.52E-04s)\n",
      "2024-07-04 12:37:31.203 - amici.de_export - DEBUG - Finished writing z.cpp                         + (1.19E-02s)\n",
      "2024-07-04 12:37:31.220 - amici.de_model - DEBUG - Finished computing rz                          ++ (2.49E-04s)\n",
      "2024-07-04 12:37:31.220 - amici.de_export - DEBUG - Finished writing rz.cpp                        + (7.05E-03s)\n",
      "2024-07-04 12:37:31.258 - amici.de_export - INFO - Finished generating cpp code                      (2.28E+00s)\n",
      "2024-07-04 12:38:18.413 - amici.de_export - INFO - Finished compiling cpp code                       (4.71E+01s)\n"
     ]
    },
    {
     "name": "stdout",
     "output_type": "stream",
     "text": [
      "running build_ext\n",
      "------------------------------ model_ext ------------------------------\n",
      "-- The C compiler identification is AppleClang 15.0.0.15000309\n",
      "-- The CXX compiler identification is AppleClang 15.0.0.15000309\n",
      "-- Detecting C compiler ABI info\n",
      "-- Detecting C compiler ABI info - done\n",
      "-- Check for working C compiler: /Library/Developer/CommandLineTools/usr/bin/gcc - skipped\n",
      "-- Detecting C compile features\n",
      "-- Detecting C compile features - done\n",
      "-- Detecting CXX compiler ABI info\n",
      "-- Detecting CXX compiler ABI info - done\n",
      "-- Check for working CXX compiler: /Library/Developer/CommandLineTools/usr/bin/g++ - skipped\n",
      "-- Detecting CXX compile features\n",
      "-- Detecting CXX compile features - done\n",
      "-- Performing Test CUR_FLAG_SUPPORTED\n",
      "-- Performing Test CUR_FLAG_SUPPORTED - Success\n",
      "-- Performing Test CUR_FLAG_SUPPORTED\n",
      "-- Performing Test CUR_FLAG_SUPPORTED - Success\n",
      "-- Performing Test CUR_FLAG_SUPPORTED\n",
      "-- Performing Test CUR_FLAG_SUPPORTED - Success\n",
      "-- Found OpenMP_C: -Xclang -fopenmp (found version \"5.0\")\n",
      "-- Found OpenMP_CXX: -Xclang -fopenmp (found version \"5.0\")\n",
      "-- Found OpenMP: TRUE (found version \"5.0\")\n",
      "-- SuiteSparse_config version: 7.6.0\n",
      "-- SuiteSparse_config include: /Users/pauljonasjost/Documents/GitHub_Folders/pyPESTO/venvTest/lib/python3.12/site-packages/amici/include/suitesparse\n",
      "-- SuiteSparse_config library: /Users/pauljonasjost/Documents/GitHub_Folders/pyPESTO/venvTest/lib/python3.12/site-packages/amici/lib/libsuitesparseconfig.a\n",
      "-- SuiteSparse_config static:  /Users/pauljonasjost/Documents/GitHub_Folders/pyPESTO/venvTest/lib/python3.12/site-packages/amici/lib/libsuitesparseconfig.a\n",
      "-- AMD version: 3.3.1\n",
      "-- AMD include: /Users/pauljonasjost/Documents/GitHub_Folders/pyPESTO/venvTest/lib/python3.12/site-packages/amici/include/suitesparse\n",
      "-- AMD library: /Users/pauljonasjost/Documents/GitHub_Folders/pyPESTO/venvTest/lib/python3.12/site-packages/amici/lib/libamd.a\n",
      "-- AMD static:  /Users/pauljonasjost/Documents/GitHub_Folders/pyPESTO/venvTest/lib/python3.12/site-packages/amici/lib/libamd.a\n",
      "-- BTF version: 2.3.1\n",
      "-- BTF include: /Users/pauljonasjost/Documents/GitHub_Folders/pyPESTO/venvTest/lib/python3.12/site-packages/amici/include/suitesparse\n",
      "-- BTF library: /Users/pauljonasjost/Documents/GitHub_Folders/pyPESTO/venvTest/lib/python3.12/site-packages/amici/lib/libbtf.a\n",
      "-- BTF static:  /Users/pauljonasjost/Documents/GitHub_Folders/pyPESTO/venvTest/lib/python3.12/site-packages/amici/lib/libbtf.a\n",
      "-- COLAMD version: 3.3.2\n",
      "-- COLAMD include: /Users/pauljonasjost/Documents/GitHub_Folders/pyPESTO/venvTest/lib/python3.12/site-packages/amici/include/suitesparse\n",
      "-- COLAMD library: /Users/pauljonasjost/Documents/GitHub_Folders/pyPESTO/venvTest/lib/python3.12/site-packages/amici/lib/libcolamd.a\n",
      "-- COLAMD static:  /Users/pauljonasjost/Documents/GitHub_Folders/pyPESTO/venvTest/lib/python3.12/site-packages/amici/lib/libcolamd.a\n",
      "-- KLU version: 2.3.2\n",
      "-- KLU include: /Users/pauljonasjost/Documents/GitHub_Folders/pyPESTO/venvTest/lib/python3.12/site-packages/amici/include/suitesparse\n",
      "-- KLU library: /Users/pauljonasjost/Documents/GitHub_Folders/pyPESTO/venvTest/lib/python3.12/site-packages/amici/lib/libklu.a\n",
      "-- KLU static:  /Users/pauljonasjost/Documents/GitHub_Folders/pyPESTO/venvTest/lib/python3.12/site-packages/amici/lib/libklu.a\n",
      "-- Trying FindBLAS with BLA_VENDOR=Apple\n",
      "-- Looking for dgemm_\n",
      "-- Looking for dgemm_ - found\n",
      "-- Found BLAS: /Library/Developer/CommandLineTools/SDKs/MacOSX14.4.sdk/System/Library/Frameworks/Accelerate.framework\n",
      "-- Found Apple Accelerate BLAS\n",
      "-- Found Boost: /usr/local/opt/boost/lib/cmake/Boost-1.85.0/BoostConfig.cmake (found version \"1.85.0\") found components: chrono\n",
      "-- Found HDF5: hdf5-shared;hdf5_cpp-shared (found version \"1.14.3\") found components: C HL CXX\n",
      "-- Found AMICI /Users/pauljonasjost/Documents/GitHub_Folders/pyPESTO/venvTest/lib/python3.12/site-packages/amici/lib/cmake/Amici\n",
      "-- Found Boost: /usr/local/opt/boost/lib/cmake/Boost-1.85.0/BoostConfig.cmake (found version \"1.85.0\")\n",
      "-- Found SWIG: /usr/local/bin/swig (found version \"4.2.1\")\n",
      "-- Found Python3: /Users/pauljonasjost/Documents/GitHub_Folders/pyPESTO/venvTest/bin/python (found version \"3.12.3\") found components: Interpreter Development Development.Module Development.Embed\n",
      "-- Python extension suffix is .cpython-312-darwin.so\n",
      "-- Configuring done (12.0s)\n",
      "-- Generating done (0.0s)\n",
      "-- Build files have been written to: /Users/pauljonasjost/Documents/GitHub_Folders/pyPESTO/doc/example/tmp/_boehm_JProteomeRes2014/build_model_ext\n",
      "Change Dir: '/Users/pauljonasjost/Documents/GitHub_Folders/pyPESTO/doc/example/tmp/_boehm_JProteomeRes2014/build_model_ext'\n",
      "\n",
      "Run Build Command(s): /Users/pauljonasjost/.pyenv/versions/3.12.3/bin/ninja -v -j 1\n",
      "[1/25] /Library/Developer/CommandLineTools/usr/bin/g++ -DBOOST_CHRONO_DYN_LINK -DBOOST_CHRONO_NO_LIB -DHAS_BOOST_CHRONO -I/Users/pauljonasjost/Documents/GitHub_Folders/pyPESTO/doc/example/tmp/_boehm_JProteomeRes2014 -isystem /Users/pauljonasjost/Documents/GitHub_Folders/pyPESTO/venvTest/lib/python3.12/site-packages/amici/include -isystem /Users/pauljonasjost/Documents/GitHub_Folders/pyPESTO/venvTest/lib/python3.12/site-packages/amici/share/amici/swig -isystem /Users/pauljonasjost/Documents/GitHub_Folders/pyPESTO/venvTest/lib/python3.12/site-packages/amici/include/suitesparse -isystem /usr/local/Cellar/boost/1.85.0/include -isystem /usr/local/opt/libomp/include -isystem /usr/local/include -Wall -Wno-unused-function -Wno-unused-variable -O3 -DNDEBUG -std=gnu++17 -isysroot /Library/Developer/CommandLineTools/SDKs/MacOSX14.4.sdk -mmacosx-version-min=14.1 -fPIC -Xclang -fopenmp -MD -MT CMakeFiles/boehm_JProteomeRes2014.dir/Jy.cpp.o -MF CMakeFiles/boehm_JProteomeRes2014.dir/Jy.cpp.o.d -o CMakeFiles/boehm_JProteomeRes2014.dir/Jy.cpp.o -c /Users/pauljonasjost/Documents/GitHub_Folders/pyPESTO/doc/example/tmp/_boehm_JProteomeRes2014/Jy.cpp\n",
      "[2/25] /Library/Developer/CommandLineTools/usr/bin/g++ -DBOOST_CHRONO_DYN_LINK -DBOOST_CHRONO_NO_LIB -DHAS_BOOST_CHRONO -I/Users/pauljonasjost/Documents/GitHub_Folders/pyPESTO/doc/example/tmp/_boehm_JProteomeRes2014 -isystem /Users/pauljonasjost/Documents/GitHub_Folders/pyPESTO/venvTest/lib/python3.12/site-packages/amici/include -isystem /Users/pauljonasjost/Documents/GitHub_Folders/pyPESTO/venvTest/lib/python3.12/site-packages/amici/share/amici/swig -isystem /Users/pauljonasjost/Documents/GitHub_Folders/pyPESTO/venvTest/lib/python3.12/site-packages/amici/include/suitesparse -isystem /usr/local/Cellar/boost/1.85.0/include -isystem /usr/local/opt/libomp/include -isystem /usr/local/include -Wall -Wno-unused-function -Wno-unused-variable -O3 -DNDEBUG -std=gnu++17 -isysroot /Library/Developer/CommandLineTools/SDKs/MacOSX14.4.sdk -mmacosx-version-min=14.1 -fPIC -Xclang -fopenmp -MD -MT CMakeFiles/boehm_JProteomeRes2014.dir/boehm_JProteomeRes2014.cpp.o -MF CMakeFiles/boehm_JProteomeRes2014.dir/boehm_JProteomeRes2014.cpp.o.d -o CMakeFiles/boehm_JProteomeRes2014.dir/boehm_JProteomeRes2014.cpp.o -c /Users/pauljonasjost/Documents/GitHub_Folders/pyPESTO/doc/example/tmp/_boehm_JProteomeRes2014/boehm_JProteomeRes2014.cpp\n",
      "[3/25] /Library/Developer/CommandLineTools/usr/bin/g++ -DBOOST_CHRONO_DYN_LINK -DBOOST_CHRONO_NO_LIB -DHAS_BOOST_CHRONO -I/Users/pauljonasjost/Documents/GitHub_Folders/pyPESTO/doc/example/tmp/_boehm_JProteomeRes2014 -isystem /Users/pauljonasjost/Documents/GitHub_Folders/pyPESTO/venvTest/lib/python3.12/site-packages/amici/include -isystem /Users/pauljonasjost/Documents/GitHub_Folders/pyPESTO/venvTest/lib/python3.12/site-packages/amici/share/amici/swig -isystem /Users/pauljonasjost/Documents/GitHub_Folders/pyPESTO/venvTest/lib/python3.12/site-packages/amici/include/suitesparse -isystem /usr/local/Cellar/boost/1.85.0/include -isystem /usr/local/opt/libomp/include -isystem /usr/local/include -Wall -Wno-unused-function -Wno-unused-variable -O3 -DNDEBUG -std=gnu++17 -isysroot /Library/Developer/CommandLineTools/SDKs/MacOSX14.4.sdk -mmacosx-version-min=14.1 -fPIC -Xclang -fopenmp -MD -MT CMakeFiles/boehm_JProteomeRes2014.dir/create_splines.cpp.o -MF CMakeFiles/boehm_JProteomeRes2014.dir/create_splines.cpp.o.d -o CMakeFiles/boehm_JProteomeRes2014.dir/create_splines.cpp.o -c /Users/pauljonasjost/Documents/GitHub_Folders/pyPESTO/doc/example/tmp/_boehm_JProteomeRes2014/create_splines.cpp\n",
      "[4/25] /Library/Developer/CommandLineTools/usr/bin/g++ -DBOOST_CHRONO_DYN_LINK -DBOOST_CHRONO_NO_LIB -DHAS_BOOST_CHRONO -I/Users/pauljonasjost/Documents/GitHub_Folders/pyPESTO/doc/example/tmp/_boehm_JProteomeRes2014 -isystem /Users/pauljonasjost/Documents/GitHub_Folders/pyPESTO/venvTest/lib/python3.12/site-packages/amici/include -isystem /Users/pauljonasjost/Documents/GitHub_Folders/pyPESTO/venvTest/lib/python3.12/site-packages/amici/share/amici/swig -isystem /Users/pauljonasjost/Documents/GitHub_Folders/pyPESTO/venvTest/lib/python3.12/site-packages/amici/include/suitesparse -isystem /usr/local/Cellar/boost/1.85.0/include -isystem /usr/local/opt/libomp/include -isystem /usr/local/include -Wall -Wno-unused-function -Wno-unused-variable -O3 -DNDEBUG -std=gnu++17 -isysroot /Library/Developer/CommandLineTools/SDKs/MacOSX14.4.sdk -mmacosx-version-min=14.1 -fPIC -Xclang -fopenmp -MD -MT CMakeFiles/boehm_JProteomeRes2014.dir/dJydsigma.cpp.o -MF CMakeFiles/boehm_JProteomeRes2014.dir/dJydsigma.cpp.o.d -o CMakeFiles/boehm_JProteomeRes2014.dir/dJydsigma.cpp.o -c /Users/pauljonasjost/Documents/GitHub_Folders/pyPESTO/doc/example/tmp/_boehm_JProteomeRes2014/dJydsigma.cpp\n",
      "[5/25] /Library/Developer/CommandLineTools/usr/bin/g++ -DBOOST_CHRONO_DYN_LINK -DBOOST_CHRONO_NO_LIB -DHAS_BOOST_CHRONO -I/Users/pauljonasjost/Documents/GitHub_Folders/pyPESTO/doc/example/tmp/_boehm_JProteomeRes2014 -isystem /Users/pauljonasjost/Documents/GitHub_Folders/pyPESTO/venvTest/lib/python3.12/site-packages/amici/include -isystem /Users/pauljonasjost/Documents/GitHub_Folders/pyPESTO/venvTest/lib/python3.12/site-packages/amici/share/amici/swig -isystem /Users/pauljonasjost/Documents/GitHub_Folders/pyPESTO/venvTest/lib/python3.12/site-packages/amici/include/suitesparse -isystem /usr/local/Cellar/boost/1.85.0/include -isystem /usr/local/opt/libomp/include -isystem /usr/local/include -Wall -Wno-unused-function -Wno-unused-variable -O3 -DNDEBUG -std=gnu++17 -isysroot /Library/Developer/CommandLineTools/SDKs/MacOSX14.4.sdk -mmacosx-version-min=14.1 -fPIC -Xclang -fopenmp -MD -MT CMakeFiles/boehm_JProteomeRes2014.dir/dJydy.cpp.o -MF CMakeFiles/boehm_JProteomeRes2014.dir/dJydy.cpp.o.d -o CMakeFiles/boehm_JProteomeRes2014.dir/dJydy.cpp.o -c /Users/pauljonasjost/Documents/GitHub_Folders/pyPESTO/doc/example/tmp/_boehm_JProteomeRes2014/dJydy.cpp\n",
      "[6/25] /Library/Developer/CommandLineTools/usr/bin/g++ -DBOOST_CHRONO_DYN_LINK -DBOOST_CHRONO_NO_LIB -DHAS_BOOST_CHRONO -I/Users/pauljonasjost/Documents/GitHub_Folders/pyPESTO/doc/example/tmp/_boehm_JProteomeRes2014 -isystem /Users/pauljonasjost/Documents/GitHub_Folders/pyPESTO/venvTest/lib/python3.12/site-packages/amici/include -isystem /Users/pauljonasjost/Documents/GitHub_Folders/pyPESTO/venvTest/lib/python3.12/site-packages/amici/share/amici/swig -isystem /Users/pauljonasjost/Documents/GitHub_Folders/pyPESTO/venvTest/lib/python3.12/site-packages/amici/include/suitesparse -isystem /usr/local/Cellar/boost/1.85.0/include -isystem /usr/local/opt/libomp/include -isystem /usr/local/include -Wall -Wno-unused-function -Wno-unused-variable -O3 -DNDEBUG -std=gnu++17 -isysroot /Library/Developer/CommandLineTools/SDKs/MacOSX14.4.sdk -mmacosx-version-min=14.1 -fPIC -Xclang -fopenmp -MD -MT CMakeFiles/boehm_JProteomeRes2014.dir/dsigmaydp.cpp.o -MF CMakeFiles/boehm_JProteomeRes2014.dir/dsigmaydp.cpp.o.d -o CMakeFiles/boehm_JProteomeRes2014.dir/dsigmaydp.cpp.o -c /Users/pauljonasjost/Documents/GitHub_Folders/pyPESTO/doc/example/tmp/_boehm_JProteomeRes2014/dsigmaydp.cpp\n",
      "[7/25] /Library/Developer/CommandLineTools/usr/bin/g++ -DBOOST_CHRONO_DYN_LINK -DBOOST_CHRONO_NO_LIB -DHAS_BOOST_CHRONO -I/Users/pauljonasjost/Documents/GitHub_Folders/pyPESTO/doc/example/tmp/_boehm_JProteomeRes2014 -isystem /Users/pauljonasjost/Documents/GitHub_Folders/pyPESTO/venvTest/lib/python3.12/site-packages/amici/include -isystem /Users/pauljonasjost/Documents/GitHub_Folders/pyPESTO/venvTest/lib/python3.12/site-packages/amici/share/amici/swig -isystem /Users/pauljonasjost/Documents/GitHub_Folders/pyPESTO/venvTest/lib/python3.12/site-packages/amici/include/suitesparse -isystem /usr/local/Cellar/boost/1.85.0/include -isystem /usr/local/opt/libomp/include -isystem /usr/local/include -Wall -Wno-unused-function -Wno-unused-variable -O3 -DNDEBUG -std=gnu++17 -isysroot /Library/Developer/CommandLineTools/SDKs/MacOSX14.4.sdk -mmacosx-version-min=14.1 -fPIC -Xclang -fopenmp -MD -MT CMakeFiles/boehm_JProteomeRes2014.dir/dwdp.cpp.o -MF CMakeFiles/boehm_JProteomeRes2014.dir/dwdp.cpp.o.d -o CMakeFiles/boehm_JProteomeRes2014.dir/dwdp.cpp.o -c /Users/pauljonasjost/Documents/GitHub_Folders/pyPESTO/doc/example/tmp/_boehm_JProteomeRes2014/dwdp.cpp\n",
      "[8/25] /Library/Developer/CommandLineTools/usr/bin/g++ -DBOOST_CHRONO_DYN_LINK -DBOOST_CHRONO_NO_LIB -DHAS_BOOST_CHRONO -I/Users/pauljonasjost/Documents/GitHub_Folders/pyPESTO/doc/example/tmp/_boehm_JProteomeRes2014 -isystem /Users/pauljonasjost/Documents/GitHub_Folders/pyPESTO/venvTest/lib/python3.12/site-packages/amici/include -isystem /Users/pauljonasjost/Documents/GitHub_Folders/pyPESTO/venvTest/lib/python3.12/site-packages/amici/share/amici/swig -isystem /Users/pauljonasjost/Documents/GitHub_Folders/pyPESTO/venvTest/lib/python3.12/site-packages/amici/include/suitesparse -isystem /usr/local/Cellar/boost/1.85.0/include -isystem /usr/local/opt/libomp/include -isystem /usr/local/include -Wall -Wno-unused-function -Wno-unused-variable -O3 -DNDEBUG -std=gnu++17 -isysroot /Library/Developer/CommandLineTools/SDKs/MacOSX14.4.sdk -mmacosx-version-min=14.1 -fPIC -Xclang -fopenmp -MD -MT CMakeFiles/boehm_JProteomeRes2014.dir/dwdw.cpp.o -MF CMakeFiles/boehm_JProteomeRes2014.dir/dwdw.cpp.o.d -o CMakeFiles/boehm_JProteomeRes2014.dir/dwdw.cpp.o -c /Users/pauljonasjost/Documents/GitHub_Folders/pyPESTO/doc/example/tmp/_boehm_JProteomeRes2014/dwdw.cpp\n",
      "[9/25] /Library/Developer/CommandLineTools/usr/bin/g++ -DBOOST_CHRONO_DYN_LINK -DBOOST_CHRONO_NO_LIB -DHAS_BOOST_CHRONO -I/Users/pauljonasjost/Documents/GitHub_Folders/pyPESTO/doc/example/tmp/_boehm_JProteomeRes2014 -isystem /Users/pauljonasjost/Documents/GitHub_Folders/pyPESTO/venvTest/lib/python3.12/site-packages/amici/include -isystem /Users/pauljonasjost/Documents/GitHub_Folders/pyPESTO/venvTest/lib/python3.12/site-packages/amici/share/amici/swig -isystem /Users/pauljonasjost/Documents/GitHub_Folders/pyPESTO/venvTest/lib/python3.12/site-packages/amici/include/suitesparse -isystem /usr/local/Cellar/boost/1.85.0/include -isystem /usr/local/opt/libomp/include -isystem /usr/local/include -Wall -Wno-unused-function -Wno-unused-variable -O3 -DNDEBUG -std=gnu++17 -isysroot /Library/Developer/CommandLineTools/SDKs/MacOSX14.4.sdk -mmacosx-version-min=14.1 -fPIC -Xclang -fopenmp -MD -MT CMakeFiles/boehm_JProteomeRes2014.dir/dwdx.cpp.o -MF CMakeFiles/boehm_JProteomeRes2014.dir/dwdx.cpp.o.d -o CMakeFiles/boehm_JProteomeRes2014.dir/dwdx.cpp.o -c /Users/pauljonasjost/Documents/GitHub_Folders/pyPESTO/doc/example/tmp/_boehm_JProteomeRes2014/dwdx.cpp\n",
      "[10/25] /Library/Developer/CommandLineTools/usr/bin/g++ -DBOOST_CHRONO_DYN_LINK -DBOOST_CHRONO_NO_LIB -DHAS_BOOST_CHRONO -I/Users/pauljonasjost/Documents/GitHub_Folders/pyPESTO/doc/example/tmp/_boehm_JProteomeRes2014 -isystem /Users/pauljonasjost/Documents/GitHub_Folders/pyPESTO/venvTest/lib/python3.12/site-packages/amici/include -isystem /Users/pauljonasjost/Documents/GitHub_Folders/pyPESTO/venvTest/lib/python3.12/site-packages/amici/share/amici/swig -isystem /Users/pauljonasjost/Documents/GitHub_Folders/pyPESTO/venvTest/lib/python3.12/site-packages/amici/include/suitesparse -isystem /usr/local/Cellar/boost/1.85.0/include -isystem /usr/local/opt/libomp/include -isystem /usr/local/include -Wall -Wno-unused-function -Wno-unused-variable -O3 -DNDEBUG -std=gnu++17 -isysroot /Library/Developer/CommandLineTools/SDKs/MacOSX14.4.sdk -mmacosx-version-min=14.1 -fPIC -Xclang -fopenmp -MD -MT CMakeFiles/boehm_JProteomeRes2014.dir/dxdotdw.cpp.o -MF CMakeFiles/boehm_JProteomeRes2014.dir/dxdotdw.cpp.o.d -o CMakeFiles/boehm_JProteomeRes2014.dir/dxdotdw.cpp.o -c /Users/pauljonasjost/Documents/GitHub_Folders/pyPESTO/doc/example/tmp/_boehm_JProteomeRes2014/dxdotdw.cpp\n",
      "[11/25] /Library/Developer/CommandLineTools/usr/bin/g++ -DBOOST_CHRONO_DYN_LINK -DBOOST_CHRONO_NO_LIB -DHAS_BOOST_CHRONO -I/Users/pauljonasjost/Documents/GitHub_Folders/pyPESTO/doc/example/tmp/_boehm_JProteomeRes2014 -isystem /Users/pauljonasjost/Documents/GitHub_Folders/pyPESTO/venvTest/lib/python3.12/site-packages/amici/include -isystem /Users/pauljonasjost/Documents/GitHub_Folders/pyPESTO/venvTest/lib/python3.12/site-packages/amici/share/amici/swig -isystem /Users/pauljonasjost/Documents/GitHub_Folders/pyPESTO/venvTest/lib/python3.12/site-packages/amici/include/suitesparse -isystem /usr/local/Cellar/boost/1.85.0/include -isystem /usr/local/opt/libomp/include -isystem /usr/local/include -Wall -Wno-unused-function -Wno-unused-variable -O3 -DNDEBUG -std=gnu++17 -isysroot /Library/Developer/CommandLineTools/SDKs/MacOSX14.4.sdk -mmacosx-version-min=14.1 -fPIC -Xclang -fopenmp -MD -MT CMakeFiles/boehm_JProteomeRes2014.dir/dydx.cpp.o -MF CMakeFiles/boehm_JProteomeRes2014.dir/dydx.cpp.o.d -o CMakeFiles/boehm_JProteomeRes2014.dir/dydx.cpp.o -c /Users/pauljonasjost/Documents/GitHub_Folders/pyPESTO/doc/example/tmp/_boehm_JProteomeRes2014/dydx.cpp\n",
      "[12/25] /Library/Developer/CommandLineTools/usr/bin/g++ -DBOOST_CHRONO_DYN_LINK -DBOOST_CHRONO_NO_LIB -DHAS_BOOST_CHRONO -I/Users/pauljonasjost/Documents/GitHub_Folders/pyPESTO/doc/example/tmp/_boehm_JProteomeRes2014 -isystem /Users/pauljonasjost/Documents/GitHub_Folders/pyPESTO/venvTest/lib/python3.12/site-packages/amici/include -isystem /Users/pauljonasjost/Documents/GitHub_Folders/pyPESTO/venvTest/lib/python3.12/site-packages/amici/share/amici/swig -isystem /Users/pauljonasjost/Documents/GitHub_Folders/pyPESTO/venvTest/lib/python3.12/site-packages/amici/include/suitesparse -isystem /usr/local/Cellar/boost/1.85.0/include -isystem /usr/local/opt/libomp/include -isystem /usr/local/include -Wall -Wno-unused-function -Wno-unused-variable -O3 -DNDEBUG -std=gnu++17 -isysroot /Library/Developer/CommandLineTools/SDKs/MacOSX14.4.sdk -mmacosx-version-min=14.1 -fPIC -Xclang -fopenmp -MD -MT CMakeFiles/boehm_JProteomeRes2014.dir/sigmay.cpp.o -MF CMakeFiles/boehm_JProteomeRes2014.dir/sigmay.cpp.o.d -o CMakeFiles/boehm_JProteomeRes2014.dir/sigmay.cpp.o -c /Users/pauljonasjost/Documents/GitHub_Folders/pyPESTO/doc/example/tmp/_boehm_JProteomeRes2014/sigmay.cpp\n",
      "[13/25] /Library/Developer/CommandLineTools/usr/bin/g++ -DBOOST_CHRONO_DYN_LINK -DBOOST_CHRONO_NO_LIB -DHAS_BOOST_CHRONO -I/Users/pauljonasjost/Documents/GitHub_Folders/pyPESTO/doc/example/tmp/_boehm_JProteomeRes2014 -isystem /Users/pauljonasjost/Documents/GitHub_Folders/pyPESTO/venvTest/lib/python3.12/site-packages/amici/include -isystem /Users/pauljonasjost/Documents/GitHub_Folders/pyPESTO/venvTest/lib/python3.12/site-packages/amici/share/amici/swig -isystem /Users/pauljonasjost/Documents/GitHub_Folders/pyPESTO/venvTest/lib/python3.12/site-packages/amici/include/suitesparse -isystem /usr/local/Cellar/boost/1.85.0/include -isystem /usr/local/opt/libomp/include -isystem /usr/local/include -Wall -Wno-unused-function -Wno-unused-variable -O3 -DNDEBUG -std=gnu++17 -isysroot /Library/Developer/CommandLineTools/SDKs/MacOSX14.4.sdk -mmacosx-version-min=14.1 -fPIC -Xclang -fopenmp -MD -MT CMakeFiles/boehm_JProteomeRes2014.dir/sx0_fixedParameters.cpp.o -MF CMakeFiles/boehm_JProteomeRes2014.dir/sx0_fixedParameters.cpp.o.d -o CMakeFiles/boehm_JProteomeRes2014.dir/sx0_fixedParameters.cpp.o -c /Users/pauljonasjost/Documents/GitHub_Folders/pyPESTO/doc/example/tmp/_boehm_JProteomeRes2014/sx0_fixedParameters.cpp\n",
      "[14/25] /Library/Developer/CommandLineTools/usr/bin/g++ -DBOOST_CHRONO_DYN_LINK -DBOOST_CHRONO_NO_LIB -DHAS_BOOST_CHRONO -I/Users/pauljonasjost/Documents/GitHub_Folders/pyPESTO/doc/example/tmp/_boehm_JProteomeRes2014 -isystem /Users/pauljonasjost/Documents/GitHub_Folders/pyPESTO/venvTest/lib/python3.12/site-packages/amici/include -isystem /Users/pauljonasjost/Documents/GitHub_Folders/pyPESTO/venvTest/lib/python3.12/site-packages/amici/share/amici/swig -isystem /Users/pauljonasjost/Documents/GitHub_Folders/pyPESTO/venvTest/lib/python3.12/site-packages/amici/include/suitesparse -isystem /usr/local/Cellar/boost/1.85.0/include -isystem /usr/local/opt/libomp/include -isystem /usr/local/include -Wall -Wno-unused-function -Wno-unused-variable -O3 -DNDEBUG -std=gnu++17 -isysroot /Library/Developer/CommandLineTools/SDKs/MacOSX14.4.sdk -mmacosx-version-min=14.1 -fPIC -Xclang -fopenmp -MD -MT CMakeFiles/boehm_JProteomeRes2014.dir/w.cpp.o -MF CMakeFiles/boehm_JProteomeRes2014.dir/w.cpp.o.d -o CMakeFiles/boehm_JProteomeRes2014.dir/w.cpp.o -c /Users/pauljonasjost/Documents/GitHub_Folders/pyPESTO/doc/example/tmp/_boehm_JProteomeRes2014/w.cpp\n",
      "[15/25] /Library/Developer/CommandLineTools/usr/bin/g++ -DBOOST_CHRONO_DYN_LINK -DBOOST_CHRONO_NO_LIB -DHAS_BOOST_CHRONO -I/Users/pauljonasjost/Documents/GitHub_Folders/pyPESTO/doc/example/tmp/_boehm_JProteomeRes2014 -isystem /Users/pauljonasjost/Documents/GitHub_Folders/pyPESTO/venvTest/lib/python3.12/site-packages/amici/include -isystem /Users/pauljonasjost/Documents/GitHub_Folders/pyPESTO/venvTest/lib/python3.12/site-packages/amici/share/amici/swig -isystem /Users/pauljonasjost/Documents/GitHub_Folders/pyPESTO/venvTest/lib/python3.12/site-packages/amici/include/suitesparse -isystem /usr/local/Cellar/boost/1.85.0/include -isystem /usr/local/opt/libomp/include -isystem /usr/local/include -Wall -Wno-unused-function -Wno-unused-variable -O3 -DNDEBUG -std=gnu++17 -isysroot /Library/Developer/CommandLineTools/SDKs/MacOSX14.4.sdk -mmacosx-version-min=14.1 -fPIC -Xclang -fopenmp -MD -MT CMakeFiles/boehm_JProteomeRes2014.dir/wrapfunctions.cpp.o -MF CMakeFiles/boehm_JProteomeRes2014.dir/wrapfunctions.cpp.o.d -o CMakeFiles/boehm_JProteomeRes2014.dir/wrapfunctions.cpp.o -c /Users/pauljonasjost/Documents/GitHub_Folders/pyPESTO/doc/example/tmp/_boehm_JProteomeRes2014/wrapfunctions.cpp\n",
      "[16/25] /Library/Developer/CommandLineTools/usr/bin/g++ -DBOOST_CHRONO_DYN_LINK -DBOOST_CHRONO_NO_LIB -DHAS_BOOST_CHRONO -I/Users/pauljonasjost/Documents/GitHub_Folders/pyPESTO/doc/example/tmp/_boehm_JProteomeRes2014 -isystem /Users/pauljonasjost/Documents/GitHub_Folders/pyPESTO/venvTest/lib/python3.12/site-packages/amici/include -isystem /Users/pauljonasjost/Documents/GitHub_Folders/pyPESTO/venvTest/lib/python3.12/site-packages/amici/share/amici/swig -isystem /Users/pauljonasjost/Documents/GitHub_Folders/pyPESTO/venvTest/lib/python3.12/site-packages/amici/include/suitesparse -isystem /usr/local/Cellar/boost/1.85.0/include -isystem /usr/local/opt/libomp/include -isystem /usr/local/include -Wall -Wno-unused-function -Wno-unused-variable -O3 -DNDEBUG -std=gnu++17 -isysroot /Library/Developer/CommandLineTools/SDKs/MacOSX14.4.sdk -mmacosx-version-min=14.1 -fPIC -Xclang -fopenmp -MD -MT CMakeFiles/boehm_JProteomeRes2014.dir/x0.cpp.o -MF CMakeFiles/boehm_JProteomeRes2014.dir/x0.cpp.o.d -o CMakeFiles/boehm_JProteomeRes2014.dir/x0.cpp.o -c /Users/pauljonasjost/Documents/GitHub_Folders/pyPESTO/doc/example/tmp/_boehm_JProteomeRes2014/x0.cpp\n",
      "[17/25] /Library/Developer/CommandLineTools/usr/bin/g++ -DBOOST_CHRONO_DYN_LINK -DBOOST_CHRONO_NO_LIB -DHAS_BOOST_CHRONO -I/Users/pauljonasjost/Documents/GitHub_Folders/pyPESTO/doc/example/tmp/_boehm_JProteomeRes2014 -isystem /Users/pauljonasjost/Documents/GitHub_Folders/pyPESTO/venvTest/lib/python3.12/site-packages/amici/include -isystem /Users/pauljonasjost/Documents/GitHub_Folders/pyPESTO/venvTest/lib/python3.12/site-packages/amici/share/amici/swig -isystem /Users/pauljonasjost/Documents/GitHub_Folders/pyPESTO/venvTest/lib/python3.12/site-packages/amici/include/suitesparse -isystem /usr/local/Cellar/boost/1.85.0/include -isystem /usr/local/opt/libomp/include -isystem /usr/local/include -Wall -Wno-unused-function -Wno-unused-variable -O3 -DNDEBUG -std=gnu++17 -isysroot /Library/Developer/CommandLineTools/SDKs/MacOSX14.4.sdk -mmacosx-version-min=14.1 -fPIC -Xclang -fopenmp -MD -MT CMakeFiles/boehm_JProteomeRes2014.dir/x0_fixedParameters.cpp.o -MF CMakeFiles/boehm_JProteomeRes2014.dir/x0_fixedParameters.cpp.o.d -o CMakeFiles/boehm_JProteomeRes2014.dir/x0_fixedParameters.cpp.o -c /Users/pauljonasjost/Documents/GitHub_Folders/pyPESTO/doc/example/tmp/_boehm_JProteomeRes2014/x0_fixedParameters.cpp\n",
      "[18/25] /Library/Developer/CommandLineTools/usr/bin/g++ -DBOOST_CHRONO_DYN_LINK -DBOOST_CHRONO_NO_LIB -DHAS_BOOST_CHRONO -I/Users/pauljonasjost/Documents/GitHub_Folders/pyPESTO/doc/example/tmp/_boehm_JProteomeRes2014 -isystem /Users/pauljonasjost/Documents/GitHub_Folders/pyPESTO/venvTest/lib/python3.12/site-packages/amici/include -isystem /Users/pauljonasjost/Documents/GitHub_Folders/pyPESTO/venvTest/lib/python3.12/site-packages/amici/share/amici/swig -isystem /Users/pauljonasjost/Documents/GitHub_Folders/pyPESTO/venvTest/lib/python3.12/site-packages/amici/include/suitesparse -isystem /usr/local/Cellar/boost/1.85.0/include -isystem /usr/local/opt/libomp/include -isystem /usr/local/include -Wall -Wno-unused-function -Wno-unused-variable -O3 -DNDEBUG -std=gnu++17 -isysroot /Library/Developer/CommandLineTools/SDKs/MacOSX14.4.sdk -mmacosx-version-min=14.1 -fPIC -Xclang -fopenmp -MD -MT CMakeFiles/boehm_JProteomeRes2014.dir/x_rdata.cpp.o -MF CMakeFiles/boehm_JProteomeRes2014.dir/x_rdata.cpp.o.d -o CMakeFiles/boehm_JProteomeRes2014.dir/x_rdata.cpp.o -c /Users/pauljonasjost/Documents/GitHub_Folders/pyPESTO/doc/example/tmp/_boehm_JProteomeRes2014/x_rdata.cpp\n",
      "[19/25] /Library/Developer/CommandLineTools/usr/bin/g++ -DBOOST_CHRONO_DYN_LINK -DBOOST_CHRONO_NO_LIB -DHAS_BOOST_CHRONO -I/Users/pauljonasjost/Documents/GitHub_Folders/pyPESTO/doc/example/tmp/_boehm_JProteomeRes2014 -isystem /Users/pauljonasjost/Documents/GitHub_Folders/pyPESTO/venvTest/lib/python3.12/site-packages/amici/include -isystem /Users/pauljonasjost/Documents/GitHub_Folders/pyPESTO/venvTest/lib/python3.12/site-packages/amici/share/amici/swig -isystem /Users/pauljonasjost/Documents/GitHub_Folders/pyPESTO/venvTest/lib/python3.12/site-packages/amici/include/suitesparse -isystem /usr/local/Cellar/boost/1.85.0/include -isystem /usr/local/opt/libomp/include -isystem /usr/local/include -Wall -Wno-unused-function -Wno-unused-variable -O3 -DNDEBUG -std=gnu++17 -isysroot /Library/Developer/CommandLineTools/SDKs/MacOSX14.4.sdk -mmacosx-version-min=14.1 -fPIC -Xclang -fopenmp -MD -MT CMakeFiles/boehm_JProteomeRes2014.dir/x_solver.cpp.o -MF CMakeFiles/boehm_JProteomeRes2014.dir/x_solver.cpp.o.d -o CMakeFiles/boehm_JProteomeRes2014.dir/x_solver.cpp.o -c /Users/pauljonasjost/Documents/GitHub_Folders/pyPESTO/doc/example/tmp/_boehm_JProteomeRes2014/x_solver.cpp\n",
      "[20/25] /Library/Developer/CommandLineTools/usr/bin/g++ -DBOOST_CHRONO_DYN_LINK -DBOOST_CHRONO_NO_LIB -DHAS_BOOST_CHRONO -I/Users/pauljonasjost/Documents/GitHub_Folders/pyPESTO/doc/example/tmp/_boehm_JProteomeRes2014 -isystem /Users/pauljonasjost/Documents/GitHub_Folders/pyPESTO/venvTest/lib/python3.12/site-packages/amici/include -isystem /Users/pauljonasjost/Documents/GitHub_Folders/pyPESTO/venvTest/lib/python3.12/site-packages/amici/share/amici/swig -isystem /Users/pauljonasjost/Documents/GitHub_Folders/pyPESTO/venvTest/lib/python3.12/site-packages/amici/include/suitesparse -isystem /usr/local/Cellar/boost/1.85.0/include -isystem /usr/local/opt/libomp/include -isystem /usr/local/include -Wall -Wno-unused-function -Wno-unused-variable -O3 -DNDEBUG -std=gnu++17 -isysroot /Library/Developer/CommandLineTools/SDKs/MacOSX14.4.sdk -mmacosx-version-min=14.1 -fPIC -Xclang -fopenmp -MD -MT CMakeFiles/boehm_JProteomeRes2014.dir/xdot.cpp.o -MF CMakeFiles/boehm_JProteomeRes2014.dir/xdot.cpp.o.d -o CMakeFiles/boehm_JProteomeRes2014.dir/xdot.cpp.o -c /Users/pauljonasjost/Documents/GitHub_Folders/pyPESTO/doc/example/tmp/_boehm_JProteomeRes2014/xdot.cpp\n",
      "[21/25] /Library/Developer/CommandLineTools/usr/bin/g++ -DBOOST_CHRONO_DYN_LINK -DBOOST_CHRONO_NO_LIB -DHAS_BOOST_CHRONO -I/Users/pauljonasjost/Documents/GitHub_Folders/pyPESTO/doc/example/tmp/_boehm_JProteomeRes2014 -isystem /Users/pauljonasjost/Documents/GitHub_Folders/pyPESTO/venvTest/lib/python3.12/site-packages/amici/include -isystem /Users/pauljonasjost/Documents/GitHub_Folders/pyPESTO/venvTest/lib/python3.12/site-packages/amici/share/amici/swig -isystem /Users/pauljonasjost/Documents/GitHub_Folders/pyPESTO/venvTest/lib/python3.12/site-packages/amici/include/suitesparse -isystem /usr/local/Cellar/boost/1.85.0/include -isystem /usr/local/opt/libomp/include -isystem /usr/local/include -Wall -Wno-unused-function -Wno-unused-variable -O3 -DNDEBUG -std=gnu++17 -isysroot /Library/Developer/CommandLineTools/SDKs/MacOSX14.4.sdk -mmacosx-version-min=14.1 -fPIC -Xclang -fopenmp -MD -MT CMakeFiles/boehm_JProteomeRes2014.dir/y.cpp.o -MF CMakeFiles/boehm_JProteomeRes2014.dir/y.cpp.o.d -o CMakeFiles/boehm_JProteomeRes2014.dir/y.cpp.o -c /Users/pauljonasjost/Documents/GitHub_Folders/pyPESTO/doc/example/tmp/_boehm_JProteomeRes2014/y.cpp\n",
      "[22/25] : && /Users/pauljonasjost/.pyenv/versions/3.12.3/lib/python3.12/site-packages/cmake/data/bin/cmake -E rm -f libboehm_JProteomeRes2014.a && /Library/Developer/CommandLineTools/usr/bin/ar qc libboehm_JProteomeRes2014.a  CMakeFiles/boehm_JProteomeRes2014.dir/Jy.cpp.o CMakeFiles/boehm_JProteomeRes2014.dir/boehm_JProteomeRes2014.cpp.o CMakeFiles/boehm_JProteomeRes2014.dir/create_splines.cpp.o CMakeFiles/boehm_JProteomeRes2014.dir/dJydsigma.cpp.o CMakeFiles/boehm_JProteomeRes2014.dir/dJydy.cpp.o CMakeFiles/boehm_JProteomeRes2014.dir/dsigmaydp.cpp.o CMakeFiles/boehm_JProteomeRes2014.dir/dwdp.cpp.o CMakeFiles/boehm_JProteomeRes2014.dir/dwdw.cpp.o CMakeFiles/boehm_JProteomeRes2014.dir/dwdx.cpp.o CMakeFiles/boehm_JProteomeRes2014.dir/dxdotdw.cpp.o CMakeFiles/boehm_JProteomeRes2014.dir/dydx.cpp.o CMakeFiles/boehm_JProteomeRes2014.dir/sigmay.cpp.o CMakeFiles/boehm_JProteomeRes2014.dir/sx0_fixedParameters.cpp.o CMakeFiles/boehm_JProteomeRes2014.dir/w.cpp.o CMakeFiles/boehm_JProteomeRes2014.dir/wrapfunctions.cpp.o CMakeFiles/boehm_JProteomeRes2014.dir/x0.cpp.o CMakeFiles/boehm_JProteomeRes2014.dir/x0_fixedParameters.cpp.o CMakeFiles/boehm_JProteomeRes2014.dir/x_rdata.cpp.o CMakeFiles/boehm_JProteomeRes2014.dir/x_solver.cpp.o CMakeFiles/boehm_JProteomeRes2014.dir/xdot.cpp.o CMakeFiles/boehm_JProteomeRes2014.dir/y.cpp.o && /Library/Developer/CommandLineTools/usr/bin/ranlib libboehm_JProteomeRes2014.a && /Users/pauljonasjost/.pyenv/versions/3.12.3/lib/python3.12/site-packages/cmake/data/bin/cmake -E touch libboehm_JProteomeRes2014.a && :\n",
      "[23/25] cd /Users/pauljonasjost/Documents/GitHub_Folders/pyPESTO/doc/example/tmp/_boehm_JProteomeRes2014/build_model_ext/swig && /Users/pauljonasjost/.pyenv/versions/3.12.3/lib/python3.12/site-packages/cmake/data/bin/cmake -E make_directory /Users/pauljonasjost/Documents/GitHub_Folders/pyPESTO/doc/example/tmp/_boehm_JProteomeRes2014/build_model_ext/swig/CMakeFiles/_boehm_JProteomeRes2014.dir /Users/pauljonasjost/Documents/GitHub_Folders/pyPESTO/doc/example/tmp/_boehm_JProteomeRes2014/build_model_ext/swig /Users/pauljonasjost/Documents/GitHub_Folders/pyPESTO/doc/example/tmp/_boehm_JProteomeRes2014/build_model_ext/swig/CMakeFiles/_boehm_JProteomeRes2014.dir && /Users/pauljonasjost/.pyenv/versions/3.12.3/lib/python3.12/site-packages/cmake/data/bin/cmake -E env SWIG_LIB=/usr/local/Cellar/swig/4.2.1/share/swig/4.2.1 /usr/local/bin/swig -python -I/Users/pauljonasjost/.pyenv/versions/3.12.3/include/python3.12 -I/Users/pauljonasjost/Documents/GitHub_Folders/pyPESTO/venvTest/lib/python3.12/site-packages/amici/include -I/Users/pauljonasjost/Documents/GitHub_Folders/pyPESTO/venvTest/lib/python3.12/site-packages/amici/share/amici/swig -I/Users/pauljonasjost/Documents/GitHub_Folders/pyPESTO/doc/example/tmp/_boehm_JProteomeRes2014/swig/.. -I/Users/pauljonasjost/Documents/GitHub_Folders/pyPESTO/venvTest/lib/python3.12/site-packages/amici/include/../swig -I/Users/pauljonasjost/Documents/GitHub_Folders/pyPESTO/doc/example/tmp/_boehm_JProteomeRes2014 -I/Users/pauljonasjost/Documents/GitHub_Folders/pyPESTO/venvTest/lib/python3.12/site-packages/amici/include/suitesparse -I/usr/local/Cellar/boost/1.85.0/include -I/usr/local/opt/libomp/include -I/usr/local/include -outdir /Users/pauljonasjost/Documents/GitHub_Folders/pyPESTO/doc/example/tmp/_boehm_JProteomeRes2014/build_model_ext/swig -c++ -interface _boehm_JProteomeRes2014 -I/Users/pauljonasjost/.pyenv/versions/3.12.3/include/python3.12 -I/Users/pauljonasjost/Documents/GitHub_Folders/pyPESTO/venvTest/lib/python3.12/site-packages/amici/include -I/Users/pauljonasjost/Documents/GitHub_Folders/pyPESTO/venvTest/lib/python3.12/site-packages/amici/share/amici/swig -I/Users/pauljonasjost/Documents/GitHub_Folders/pyPESTO/doc/example/tmp/_boehm_JProteomeRes2014/swig/.. -I/Users/pauljonasjost/Documents/GitHub_Folders/pyPESTO/venvTest/lib/python3.12/site-packages/amici/include/../swig -o /Users/pauljonasjost/Documents/GitHub_Folders/pyPESTO/doc/example/tmp/_boehm_JProteomeRes2014/build_model_ext/swig/CMakeFiles/_boehm_JProteomeRes2014.dir/boehm_JProteomeRes2014PYTHON_wrap.cxx /Users/pauljonasjost/Documents/GitHub_Folders/pyPESTO/doc/example/tmp/_boehm_JProteomeRes2014/swig/boehm_JProteomeRes2014.i\n",
      "[24/25] /Library/Developer/CommandLineTools/usr/bin/g++ -DBOOST_CHRONO_DYN_LINK -DBOOST_CHRONO_NO_LIB -DHAS_BOOST_CHRONO -D_boehm_JProteomeRes2014_EXPORTS -I/Users/pauljonasjost/.pyenv/versions/3.12.3/include/python3.12 -I/Users/pauljonasjost/Documents/GitHub_Folders/pyPESTO/doc/example/tmp/_boehm_JProteomeRes2014/swig/.. -I/Users/pauljonasjost/Documents/GitHub_Folders/pyPESTO/venvTest/lib/python3.12/site-packages/amici/include/../swig -I/Users/pauljonasjost/Documents/GitHub_Folders/pyPESTO/doc/example/tmp/_boehm_JProteomeRes2014 -isystem /Users/pauljonasjost/Documents/GitHub_Folders/pyPESTO/venvTest/lib/python3.12/site-packages/amici/include -isystem /Users/pauljonasjost/Documents/GitHub_Folders/pyPESTO/venvTest/lib/python3.12/site-packages/amici/share/amici/swig -isystem /Users/pauljonasjost/Documents/GitHub_Folders/pyPESTO/venvTest/lib/python3.12/site-packages/amici/include/suitesparse -isystem /usr/local/Cellar/boost/1.85.0/include -isystem /usr/local/opt/libomp/include -isystem /usr/local/include -Wall -Wno-unused-function -Wno-unused-variable -O3 -DNDEBUG -std=gnu++17 -isysroot /Library/Developer/CommandLineTools/SDKs/MacOSX14.4.sdk -mmacosx-version-min=14.1 -fPIC -Xclang -fopenmp -MD -MT swig/CMakeFiles/_boehm_JProteomeRes2014.dir/CMakeFiles/_boehm_JProteomeRes2014.dir/boehm_JProteomeRes2014PYTHON_wrap.cxx.o -MF swig/CMakeFiles/_boehm_JProteomeRes2014.dir/CMakeFiles/_boehm_JProteomeRes2014.dir/boehm_JProteomeRes2014PYTHON_wrap.cxx.o.d -o swig/CMakeFiles/_boehm_JProteomeRes2014.dir/CMakeFiles/_boehm_JProteomeRes2014.dir/boehm_JProteomeRes2014PYTHON_wrap.cxx.o -c /Users/pauljonasjost/Documents/GitHub_Folders/pyPESTO/doc/example/tmp/_boehm_JProteomeRes2014/build_model_ext/swig/CMakeFiles/_boehm_JProteomeRes2014.dir/boehm_JProteomeRes2014PYTHON_wrap.cxx\n",
      "[25/25] : && /Library/Developer/CommandLineTools/usr/bin/g++ -Wall -Wno-unused-function -Wno-unused-variable -O3 -DNDEBUG -isysroot /Library/Developer/CommandLineTools/SDKs/MacOSX14.4.sdk -mmacosx-version-min=14.1 -bundle -Wl,-headerpad_max_install_names  -o swig/_boehm_JProteomeRes2014.cpython-312-darwin.so swig/CMakeFiles/_boehm_JProteomeRes2014.dir/CMakeFiles/_boehm_JProteomeRes2014.dir/boehm_JProteomeRes2014PYTHON_wrap.cxx.o  /Users/pauljonasjost/.pyenv/versions/3.12.3/lib/libpython3.12.dylib  libboehm_JProteomeRes2014.a  /Users/pauljonasjost/Documents/GitHub_Folders/pyPESTO/venvTest/lib/python3.12/site-packages/amici/lib/libamici.a  /Users/pauljonasjost/Documents/GitHub_Folders/pyPESTO/venvTest/lib/python3.12/site-packages/amici/lib/libsundials_generic.a  /Users/pauljonasjost/Documents/GitHub_Folders/pyPESTO/venvTest/lib/python3.12/site-packages/amici/lib/libsundials_nvecserial.a  /Users/pauljonasjost/Documents/GitHub_Folders/pyPESTO/venvTest/lib/python3.12/site-packages/amici/lib/libsundials_sunlinsolband.a  /Users/pauljonasjost/Documents/GitHub_Folders/pyPESTO/venvTest/lib/python3.12/site-packages/amici/lib/libsundials_sunmatrixband.a  /Users/pauljonasjost/Documents/GitHub_Folders/pyPESTO/venvTest/lib/python3.12/site-packages/amici/lib/libsundials_sunlinsoldense.a  /Users/pauljonasjost/Documents/GitHub_Folders/pyPESTO/venvTest/lib/python3.12/site-packages/amici/lib/libsundials_sunmatrixdense.a  /Users/pauljonasjost/Documents/GitHub_Folders/pyPESTO/venvTest/lib/python3.12/site-packages/amici/lib/libsundials_sunlinsolpcg.a  /Users/pauljonasjost/Documents/GitHub_Folders/pyPESTO/venvTest/lib/python3.12/site-packages/amici/lib/libsundials_sunlinsolspbcgs.a  /Users/pauljonasjost/Documents/GitHub_Folders/pyPESTO/venvTest/lib/python3.12/site-packages/amici/lib/libsundials_sunlinsolspfgmr.a  /Users/pauljonasjost/Documents/GitHub_Folders/pyPESTO/venvTest/lib/python3.12/site-packages/amici/lib/libsundials_sunlinsolspgmr.a  /Users/pauljonasjost/Documents/GitHub_Folders/pyPESTO/venvTest/lib/python3.12/site-packages/amici/lib/libsundials_sunlinsolsptfqmr.a  /Users/pauljonasjost/Documents/GitHub_Folders/pyPESTO/venvTest/lib/python3.12/site-packages/amici/lib/libsundials_sunlinsolklu.a  /Users/pauljonasjost/Documents/GitHub_Folders/pyPESTO/venvTest/lib/python3.12/site-packages/amici/lib/libsundials_sunmatrixsparse.a  /Users/pauljonasjost/Documents/GitHub_Folders/pyPESTO/venvTest/lib/python3.12/site-packages/amici/lib/libklu.a  /Users/pauljonasjost/Documents/GitHub_Folders/pyPESTO/venvTest/lib/python3.12/site-packages/amici/lib/libcolamd.a  /Users/pauljonasjost/Documents/GitHub_Folders/pyPESTO/venvTest/lib/python3.12/site-packages/amici/lib/libbtf.a  /Users/pauljonasjost/Documents/GitHub_Folders/pyPESTO/venvTest/lib/python3.12/site-packages/amici/lib/libamd.a  /Users/pauljonasjost/Documents/GitHub_Folders/pyPESTO/venvTest/lib/python3.12/site-packages/amici/lib/libsuitesparseconfig.a  /Users/pauljonasjost/Documents/GitHub_Folders/pyPESTO/venvTest/lib/python3.12/site-packages/amici/lib/libsundials_sunnonlinsolnewton.a  /Users/pauljonasjost/Documents/GitHub_Folders/pyPESTO/venvTest/lib/python3.12/site-packages/amici/lib/libsundials_sunnonlinsolfixedpoint.a  /Users/pauljonasjost/Documents/GitHub_Folders/pyPESTO/venvTest/lib/python3.12/site-packages/amici/lib/libsundials_cvodes.a  /Users/pauljonasjost/Documents/GitHub_Folders/pyPESTO/venvTest/lib/python3.12/site-packages/amici/lib/libsundials_idas.a  -lm  /usr/local/Cellar/boost/1.85.0/lib/libboost_chrono-mt.dylib  /usr/local/opt/libomp/lib/libomp.dylib  -framework Accelerate  /usr/local/lib/libhdf5_hl_cpp.310.0.3.dylib  /usr/local/lib/libhdf5_hl.310.0.3.dylib  /usr/local/lib/libhdf5_cpp.310.0.3.dylib  /usr/local/lib/libhdf5.310.3.0.dylib && :\n",
      "\n",
      "-- Installing: /Users/pauljonasjost/Documents/GitHub_Folders/pyPESTO/doc/example/tmp/_boehm_JProteomeRes2014/boehm_JProteomeRes2014/./boehm_JProteomeRes2014.py\n",
      "-- Installing: /Users/pauljonasjost/Documents/GitHub_Folders/pyPESTO/doc/example/tmp/_boehm_JProteomeRes2014/boehm_JProteomeRes2014/./_boehm_JProteomeRes2014.cpython-312-darwin.so\n",
      "-- Installing: /Users/pauljonasjost/Documents/GitHub_Folders/pyPESTO/doc/example/tmp/_boehm_JProteomeRes2014/boehm_JProteomeRes2014/lib/libboehm_JProteomeRes2014.a\n",
      "------------------------------ model_ext ------------------------------\n",
      "running AmiciBuildCMakeExtension\n",
      "\n",
      "==> Configuring:\n",
      "$ cmake -S /Users/pauljonasjost/Documents/GitHub_Folders/pyPESTO/doc/example/tmp/_boehm_JProteomeRes2014 -B /Users/pauljonasjost/Documents/GitHub_Folders/pyPESTO/doc/example/tmp/_boehm_JProteomeRes2014/build_model_ext -G Ninja -DCMAKE_MAKE_PROGRAM=/Users/pauljonasjost/.pyenv/versions/3.12.3/bin/ninja -DCMAKE_BUILD_TYPE=Release -DCMAKE_INSTALL_PREFIX:PATH=/Users/pauljonasjost/Documents/GitHub_Folders/pyPESTO/doc/example/tmp/_boehm_JProteomeRes2014/boehm_JProteomeRes2014 -DCMAKE_VERBOSE_MAKEFILE=ON -DCMAKE_MODULE_PATH=/Users/pauljonasjost/Documents/GitHub_Folders/pyPESTO/venvTest/lib/python3.12/site-packages/amici/lib/cmake/SuiteSparse;/Users/pauljonasjost/Documents/GitHub_Folders/pyPESTO/venvTest/lib/python3.12/site-packages/amici/lib64/cmake/SuiteSparse -DKLU_ROOT=/Users/pauljonasjost/Documents/GitHub_Folders/pyPESTO/venvTest/lib/python3.12/site-packages/amici -DAMICI_PYTHON_BUILD_EXT_ONLY=ON -DPython3_EXECUTABLE=/Users/pauljonasjost/Documents/GitHub_Folders/pyPESTO/venvTest/bin/python\n",
      "\n",
      "==> Building:\n",
      "$ cmake --build /Users/pauljonasjost/Documents/GitHub_Folders/pyPESTO/doc/example/tmp/_boehm_JProteomeRes2014/build_model_ext --config Release\n",
      "\n",
      "==> Installing:\n",
      "$ cmake --install /Users/pauljonasjost/Documents/GitHub_Folders/pyPESTO/doc/example/tmp/_boehm_JProteomeRes2014/build_model_ext --config Release\n",
      "\n",
      "\n",
      "CPU times: user 2.27 s, sys: 367 ms, total: 2.64 s\n",
      "Wall time: 49.9 s\n"
     ]
    }
   ],
   "source": [
    "%%time\n",
    "\n",
    "sbml_importer.sbml2amici(\n",
    "    model_name,\n",
    "    model_output_dir,\n",
    "    verbose=True,\n",
    "    observables=observables,\n",
    "    constant_parameters=constant_parameters,\n",
    "    sigmas=sigmas,\n",
    "    \n",
    ")"
   ]
  },
  {
   "cell_type": "markdown",
   "metadata": {
    "collapsed": false,
    "jupyter": {
     "outputs_hidden": false
    },
    "pycharm": {
     "name": "#%% md\n"
    }
   },
   "source": [
    "#### Importing the module and loading the model\n",
    "\n",
    "If everything went well, we are ready to load the newly generated model:"
   ]
  },
  {
   "cell_type": "code",
   "execution_count": 13,
   "metadata": {
    "collapsed": false,
    "jupyter": {
     "outputs_hidden": false
    },
    "pycharm": {
     "name": "#%%\n"
    }
   },
   "outputs": [],
   "source": [
    "model_module = amici.import_model_module(model_name, model_output_dir)"
   ]
  },
  {
   "cell_type": "markdown",
   "metadata": {
    "collapsed": false,
    "jupyter": {
     "outputs_hidden": false
    },
    "pycharm": {
     "name": "#%% md\n"
    }
   },
   "source": [
    "Afterwards, we can get an instance of our model from which we can retrieve information such as parameter names:"
   ]
  },
  {
   "cell_type": "code",
   "execution_count": 14,
   "metadata": {
    "collapsed": false,
    "jupyter": {
     "outputs_hidden": false
    },
    "pycharm": {
     "name": "#%%\n"
    }
   },
   "outputs": [
    {
     "name": "stdout",
     "output_type": "stream",
     "text": [
      "Model parameters: ['Epo_degradation_BaF3', 'k_exp_hetero', 'k_exp_homo', 'k_imp_hetero', 'k_imp_homo', 'k_phos', 'sd_pSTAT5A_rel', 'sd_pSTAT5B_rel', 'sd_rSTAT5A_rel']\n",
      "Model outputs:    ['observable_pSTAT5A_rel', 'observable_pSTAT5B_rel', 'observable_rSTAT5A_rel']\n",
      "Model states:     ['STAT5A', 'STAT5B', 'pApB', 'pApA', 'pBpB', 'nucpApA', 'nucpApB', 'nucpBpB']\n"
     ]
    }
   ],
   "source": [
    "model = model_module.getModel()\n",
    "\n",
    "print(\"Model parameters:\", list(model.getParameterIds()))\n",
    "print(\"Model outputs:   \", list(model.getObservableIds()))\n",
    "print(\"Model states:    \", list(model.getStateIds()))"
   ]
  },
  {
   "cell_type": "markdown",
   "metadata": {
    "collapsed": false,
    "jupyter": {
     "outputs_hidden": false
    },
    "pycharm": {
     "name": "#%% md\n"
    }
   },
   "source": [
    "#### Running simulations and analyzing results\n",
    "\n",
    "After importing the model, we can run simulations using `amici.runAmiciSimulation`. This requires a `Model` instance and a `Solver` instance. But, in order go gain a value of fit, we also need to provide some data."
   ]
  },
  {
   "cell_type": "code",
   "execution_count": null,
   "metadata": {
    "collapsed": false,
    "jupyter": {
     "outputs_hidden": false
    },
    "pycharm": {
     "name": "#%%\n"
    }
   },
   "outputs": [],
   "source": [
    "# we prepare our data as it is reported in the benchmark collection\n",
    "\n",
    "# timepoints\n",
    "timepoints = np.array(\n",
    "    [\n",
    "        0.0,\n",
    "        2.5,\n",
    "        5.0,\n",
    "        10.0,\n",
    "        15.0,\n",
    "        20.0,\n",
    "        30.0,\n",
    "        40.0,\n",
    "        50.0,\n",
    "        60.0,\n",
    "        80.0,\n",
    "        100.0,\n",
    "        120.0,\n",
    "        160.0,\n",
    "        200.0,\n",
    "        240.0,\n",
    "    ]\n",
    ")\n",
    "\n",
    "# measurements\n",
    "meas_pSTAT5A_rel = np.array(\n",
    "    [\n",
    "        7.901073,\n",
    "        66.363494,\n",
    "        81.171324,\n",
    "        94.730308,\n",
    "        95.116483,\n",
    "        91.441717,\n",
    "        91.257099,\n",
    "        93.672298,\n",
    "        88.754233,\n",
    "        85.269703,\n",
    "        81.132395,\n",
    "        76.135928,\n",
    "        65.248059,\n",
    "        42.599659,\n",
    "        25.157798,\n",
    "        15.430182,\n",
    "    ]\n",
    ")\n",
    "meas_pSTAT5B_rel = np.array(\n",
    "    [\n",
    "        4.596533,\n",
    "        29.634546,\n",
    "        46.043806,\n",
    "        81.974734,\n",
    "        80.571609,\n",
    "        79.035720,\n",
    "        75.672380,\n",
    "        71.624720,\n",
    "        69.062863,\n",
    "        67.147384,\n",
    "        60.899476,\n",
    "        54.809258,\n",
    "        43.981290,\n",
    "        29.771458,\n",
    "        20.089017,\n",
    "        10.961845,\n",
    "    ]\n",
    ")\n",
    "meas_rSTAT5A_rel = np.array(\n",
    "    [\n",
    "        14.723168,\n",
    "        33.762342,\n",
    "        36.799851,\n",
    "        49.717602,\n",
    "        46.928120,\n",
    "        47.836575,\n",
    "        46.928727,\n",
    "        40.597753,\n",
    "        43.783664,\n",
    "        44.457388,\n",
    "        41.327159,\n",
    "        41.062733,\n",
    "        39.235830,\n",
    "        36.619461,\n",
    "        34.893714,\n",
    "        32.211077,\n",
    "    ]\n",
    ")"
   ]
  },
  {
   "cell_type": "code",
   "execution_count": null,
   "metadata": {
    "collapsed": false,
    "jupyter": {
     "outputs_hidden": false
    },
    "pycharm": {
     "name": "#%%\n"
    }
   },
   "outputs": [],
   "source": [
    "benchmark_parameters = np.array(\n",
    "    [\n",
    "        -1.568917588,\n",
    "        -4.999704894,\n",
    "        -2.209698782,\n",
    "        -1.786006548,\n",
    "        4.990114009,\n",
    "        4.197735488,\n",
    "        0.585755271,\n",
    "        0.818982819,\n",
    "        0.498684404,\n",
    "    ]\n",
    ")\n",
    "# set timepoints for which we want to simulate the model\n",
    "model.setTimepoints(timepoints)\n",
    "\n",
    "# set fixed parameters for which we want to simulate the model\n",
    "model.setFixedParameters(np.array([0.693, 0.107]))\n",
    "\n",
    "# set parameters to optimal values found in the benchmark collection\n",
    "model.setParameterScale(amici.ParameterScaling.log10)\n",
    "model.setParameters(benchmark_parameters)\n",
    "\n",
    "# Create solver instance\n",
    "solver = model.getSolver()\n",
    "\n",
    "# Run simulation using model parameters from the benchmark collection and default solver options\n",
    "rdata = amici.runAmiciSimulation(model, solver)"
   ]
  },
  {
   "cell_type": "code",
   "execution_count": null,
   "metadata": {
    "collapsed": false,
    "jupyter": {
     "outputs_hidden": false
    },
    "pycharm": {
     "name": "#%%\n"
    }
   },
   "outputs": [],
   "source": [
    "# Create edata instance with dimensions and timepoints\n",
    "edata = amici.ExpData(\n",
    "    3,  # number of observables\n",
    "    0,  # number of event outputs\n",
    "    0,  # maximum number of events\n",
    "    timepoints,  # timepoints\n",
    ")\n",
    "# set observed data\n",
    "edata.setObservedData(meas_pSTAT5A_rel, 0)\n",
    "edata.setObservedData(meas_pSTAT5B_rel, 1)\n",
    "edata.setObservedData(meas_rSTAT5A_rel, 2)\n",
    "\n",
    "# set standard deviations to optimal values found in the benchmark collection\n",
    "edata.setObservedDataStdDev(np.array(16 * [10**0.585755271]), 0)\n",
    "edata.setObservedDataStdDev(np.array(16 * [10**0.818982819]), 1)\n",
    "edata.setObservedDataStdDev(np.array(16 * [10**0.498684404]), 2)"
   ]
  },
  {
   "cell_type": "code",
   "execution_count": null,
   "metadata": {
    "collapsed": false,
    "jupyter": {
     "outputs_hidden": false
    },
    "pycharm": {
     "name": "#%%\n"
    }
   },
   "outputs": [],
   "source": [
    "rdata = amici.runAmiciSimulation(model, solver, edata)\n",
    "\n",
    "print(\"Chi2 value reported in benchmark collection: 47.9765479\")\n",
    "print(f\"chi2 value using AMICI: {rdata['chi2']}\")"
   ]
  },
  {
   "cell_type": "markdown",
   "metadata": {
    "collapsed": false,
    "jupyter": {
     "outputs_hidden": false
    },
    "pycharm": {
     "name": "#%% md\n"
    }
   },
   "source": [
    "#### Creating pyPESTO objective\n",
    "\n",
    "We are now set up to create our pyPESTO objective. This objective is a vital part of the pyPESTO infrastructure as it provides a blackbox interface to call any predefined objective function with some parameters and evaluate it. We can easily create an AmiciObjective by supplying the model, an amici solver and the data.\n",
    "\n",
    "Keep in mind, however, that you can use ANY function you would like for this."
   ]
  },
  {
   "cell_type": "code",
   "execution_count": null,
   "metadata": {
    "collapsed": false,
    "jupyter": {
     "outputs_hidden": false
    },
    "pycharm": {
     "name": "#%%\n"
    }
   },
   "outputs": [],
   "source": [
    "# we make some more adjustments to our model and the solver\n",
    "model.requireSensitivitiesForAllParameters()\n",
    "\n",
    "solver.setSensitivityMethod(amici.SensitivityMethod.forward)\n",
    "solver.setSensitivityOrder(amici.SensitivityOrder.first)\n",
    "\n",
    "\n",
    "objective = pypesto.AmiciObjective(\n",
    "    amici_model=model, amici_solver=solver, edatas=[edata], max_sensi_order=1\n",
    ")"
   ]
  },
  {
   "cell_type": "markdown",
   "metadata": {
    "collapsed": false,
    "jupyter": {
     "outputs_hidden": false
    },
    "pycharm": {
     "name": "#%% md\n"
    }
   },
   "source": [
    "We can now call the objective function directly for any parameter. The value that is put out is the likelihood function. If we want to interact more with the AMICI returns, we can also return this by call and e.g., retrieve the chi2 value."
   ]
  },
  {
   "cell_type": "code",
   "execution_count": null,
   "metadata": {
    "collapsed": false,
    "jupyter": {
     "outputs_hidden": false
    },
    "pycharm": {
     "name": "#%%\n"
    }
   },
   "outputs": [],
   "source": [
    "# the generic objective call\n",
    "print(f\"Objective value: {objective(benchmark_parameters)}\")\n",
    "# a call returning the AMICI data as well\n",
    "obj_call_with_dict = objective(benchmark_parameters, return_dict=True)\n",
    "print(\n",
    "    f'Chi^2 value of the same parameters: {obj_call_with_dict[\"rdatas\"][0][\"chi2\"]}'\n",
    ")"
   ]
  },
  {
   "cell_type": "markdown",
   "metadata": {
    "collapsed": false,
    "jupyter": {
     "outputs_hidden": false
    },
    "pycharm": {
     "name": "#%% md\n"
    }
   },
   "source": [
    "Now this makes the whole process already somewhat easier, but still, getting here took us quite some coding and effort. This will only get more complicated, the more complex the model is. Therefore, in the next part, we will show you how to bypass the tedious lines of code by using PEtab."
   ]
  },
  {
   "cell_type": "markdown",
   "metadata": {
    "collapsed": false,
    "jupyter": {
     "outputs_hidden": false
    },
    "pycharm": {
     "name": "#%% md\n"
    }
   },
   "source": [
    "### Create a pyPESTO problem + objective from Petab"
   ]
  },
  {
   "cell_type": "markdown",
   "metadata": {
    "collapsed": false,
    "jupyter": {
     "outputs_hidden": false
    },
    "pycharm": {
     "name": "#%% md\n"
    }
   },
   "source": [
    "#### Background on PEtab\n",
    "\n",
    "<img src=\"https://github.com/PEtab-dev/PEtab/blob/main/doc/gfx/petab_files.png?raw=true\" width=\"80%\" alt=\"pyPESTO logo\"/>\n",
    "\n",
    "pyPESTO supports the [PEtab](https://github.com/PEtab-dev/PEtab) standard. PEtab is a data format for specifying parameter estimation problems in systems biology.\n",
    "\n",
    "A PEtab problem consist of an [SBML](https://sbml.org) file, defining the model topology and a set of `.tsv` files, defining experimental conditions, observables, measurements and parameters (and their optimization bounds, scale, priors...). All files that make up a PEtab problem can be structured in a `.yaml` file. The `pypesto.Objective` coming from a PEtab problem corresponds to the negative-log-likelihood/negative-log-posterior distribution of the parameters.\n",
    "\n",
    "For more details on PEtab, the interested reader is referred to [PEtab's format definition](https://petab.readthedocs.io/en/latest/documentation_data_format.html), for examples the reader is referred to the [PEtab benchmark collection](https://github.com/Benchmarking-Initiative/Benchmark-Models-PEtab). The Model from _[Böhm et al. JProteomRes 2014](https://pubs.acs.org/doi/abs/10.1021/pr5006923)_ is part of the benchmark collection and will be used as the running example throughout this notebook.\n"
   ]
  },
  {
   "cell_type": "code",
   "execution_count": null,
   "metadata": {
    "collapsed": false,
    "jupyter": {
     "outputs_hidden": false
    },
    "pycharm": {
     "name": "#%%\n"
    }
   },
   "outputs": [],
   "source": [
    "%%capture\n",
    "petab_yaml = f\"./{model_name}/{model_name}.yaml\"\n",
    "\n",
    "petab_problem = petab.Problem.from_yaml(petab_yaml)\n",
    "importer = pypesto.petab.PetabImporter(petab_problem)\n",
    "problem = importer.create_problem(verbose=False)"
   ]
  },
  {
   "cell_type": "code",
   "execution_count": null,
   "metadata": {
    "collapsed": false,
    "jupyter": {
     "outputs_hidden": false
    },
    "pycharm": {
     "name": "#%%\n"
    }
   },
   "outputs": [],
   "source": [
    "# Check the dataframes. First the parameter dataframe\n",
    "petab_problem.parameter_df.head()"
   ]
  },
  {
   "cell_type": "code",
   "execution_count": null,
   "metadata": {
    "collapsed": false,
    "jupyter": {
     "outputs_hidden": false
    },
    "pycharm": {
     "name": "#%%\n"
    }
   },
   "outputs": [],
   "source": [
    "# Check the observable dataframe\n",
    "petab_problem.observable_df.head()"
   ]
  },
  {
   "cell_type": "code",
   "execution_count": null,
   "metadata": {
    "collapsed": false,
    "jupyter": {
     "outputs_hidden": false
    },
    "pycharm": {
     "name": "#%%\n"
    }
   },
   "outputs": [],
   "source": [
    "# Check the measurement dataframe\n",
    "petab_problem.measurement_df.head()"
   ]
  },
  {
   "cell_type": "code",
   "execution_count": null,
   "metadata": {
    "collapsed": false,
    "jupyter": {
     "outputs_hidden": false
    },
    "pycharm": {
     "name": "#%%\n"
    }
   },
   "outputs": [],
   "source": [
    "# check the condition dataframe\n",
    "petab_problem.condition_df.head()"
   ]
  },
  {
   "cell_type": "markdown",
   "metadata": {
    "collapsed": false,
    "jupyter": {
     "outputs_hidden": false
    },
    "pycharm": {
     "name": "#%% md\n"
    }
   },
   "source": [
    "This was really straightforward. With this, we are still able to do all the same things we did before and also adjust solver setting, change the model, etc."
   ]
  },
  {
   "cell_type": "code",
   "execution_count": null,
   "metadata": {
    "collapsed": false,
    "jupyter": {
     "outputs_hidden": false
    },
    "pycharm": {
     "name": "#%%\n"
    }
   },
   "outputs": [],
   "source": [
    "# call the objective function\n",
    "print(f\"Objective value: {problem.objective(benchmark_parameters)}\")\n",
    "# change things in the model\n",
    "problem.objective.amici_model.requireSensitivitiesForAllParameters()\n",
    "# change solver settings\n",
    "print(\n",
    "    f\"Absolute tolerance before change: {problem.objective.amici_solver.getAbsoluteTolerance()}\"\n",
    ")\n",
    "problem.objective.amici_solver.setAbsoluteTolerance(1e-15)\n",
    "print(\n",
    "    f\"Absolute tolerance after change: {problem.objective.amici_solver.getAbsoluteTolerance()}\"\n",
    ")"
   ]
  },
  {
   "cell_type": "markdown",
   "metadata": {
    "collapsed": false,
    "jupyter": {
     "outputs_hidden": false
    },
    "pycharm": {
     "name": "#%% md\n"
    }
   },
   "source": [
    "Now we are good to go and start the first optimization."
   ]
  },
  {
   "cell_type": "markdown",
   "metadata": {
    "collapsed": false,
    "jupyter": {
     "outputs_hidden": false
    },
    "pycharm": {
     "name": "#%% md\n"
    }
   },
   "source": [
    "## 2. Optimization\n",
    "\n",
    "Once setup, the optimization can be done very quickly with default settings. If needed, these settings can be highly individualized and change according to the needs of our model. In this section, we shall go over some of these settings."
   ]
  },
  {
   "cell_type": "markdown",
   "metadata": {
    "collapsed": false,
    "jupyter": {
     "outputs_hidden": false
    },
    "pycharm": {
     "name": "#%% md\n"
    }
   },
   "source": [
    "### Optimizer\n",
    "\n",
    "The optimizer determines the algorithm with which we optimize our model. The main disjunction is between global and local optimizers.\n",
    "\n",
    "pyPESTO provides an interface to many optimizers, such as Fides, ScipyOptimizers, Pyswarm and many more. For a whole list of supported optimizers with settings for each optimizer you can [have a look here](https://pypesto.readthedocs.io/en/latest/api.html#optimize)."
   ]
  },
  {
   "cell_type": "code",
   "execution_count": null,
   "metadata": {
    "collapsed": false,
    "jupyter": {
     "outputs_hidden": false
    },
    "pycharm": {
     "name": "#%%\n"
    }
   },
   "outputs": [],
   "source": [
    "optimizer_options = {\"maxiter\": 1e4, \"fatol\": 1e-12, \"frtol\": 1e-12}\n",
    "\n",
    "optimizer = optimize.FidesOptimizer(\n",
    "    options=optimizer_options, verbose=logging.WARN\n",
    ")"
   ]
  },
  {
   "cell_type": "markdown",
   "metadata": {
    "collapsed": false,
    "jupyter": {
     "outputs_hidden": false
    },
    "pycharm": {
     "name": "#%% md\n"
    }
   },
   "source": [
    "### Startpoint method\n",
    "\n",
    "The startpoint method describes how you want to choose your startpoints, in case you do a multistart optimization. The default here is `uniform` meaning that each startpoint is a uniform sample from the allowed parameter space. The other two notable options are either `latin_hypercube` or a self defined function."
   ]
  },
  {
   "cell_type": "code",
   "execution_count": null,
   "metadata": {
    "collapsed": false,
    "jupyter": {
     "outputs_hidden": false
    },
    "pycharm": {
     "name": "#%%\n"
    }
   },
   "outputs": [],
   "source": [
    "startpoint_method = pypesto.startpoint.uniform"
   ]
  },
  {
   "cell_type": "markdown",
   "metadata": {
    "collapsed": false,
    "jupyter": {
     "outputs_hidden": false
    },
    "pycharm": {
     "name": "#%% md\n"
    }
   },
   "source": [
    "### History options\n",
    "\n",
    "In some cases, it is good to trace what the optimizer did in each step, i.e., the history. There is a multitude of options on what to report here, but the most important one is `trace_record` which turns the history function on and off."
   ]
  },
  {
   "cell_type": "code",
   "execution_count": null,
   "metadata": {
    "collapsed": false,
    "jupyter": {
     "outputs_hidden": false
    },
    "pycharm": {
     "name": "#%%\n"
    }
   },
   "outputs": [],
   "source": [
    "# save optimizer trace\n",
    "history_options = pypesto.HistoryOptions(trace_record=True)"
   ]
  },
  {
   "cell_type": "markdown",
   "metadata": {
    "collapsed": false,
    "jupyter": {
     "outputs_hidden": false
    },
    "pycharm": {
     "name": "#%% md\n"
    }
   },
   "source": [
    "### Optimization options\n",
    "\n",
    "Some further possible options for the optimization. Notably `allow_failed_starts`, which in case of a very complicated objective function, can help get to the desired number of optimizations when turned off. As we do not need this here, we create the default options."
   ]
  },
  {
   "cell_type": "code",
   "execution_count": null,
   "metadata": {
    "collapsed": false,
    "jupyter": {
     "outputs_hidden": false
    },
    "pycharm": {
     "name": "#%%\n"
    }
   },
   "outputs": [],
   "source": [
    "opt_options = optimize.OptimizeOptions()\n",
    "opt_options"
   ]
  },
  {
   "cell_type": "markdown",
   "metadata": {
    "collapsed": false,
    "jupyter": {
     "outputs_hidden": false
    },
    "pycharm": {
     "name": "#%% md\n"
    }
   },
   "source": [
    "### Running the optimization\n",
    "\n",
    "We now only need to decide on the number of starts as well as the engine we want to use for the optimization."
   ]
  },
  {
   "cell_type": "code",
   "execution_count": null,
   "metadata": {
    "collapsed": false,
    "jupyter": {
     "outputs_hidden": false
    },
    "pycharm": {
     "name": "#%%\n"
    }
   },
   "outputs": [],
   "source": [
    "n_starts = 20  # usually a value >= 100 should be used\n",
    "engine = pypesto.engine.MultiProcessEngine()"
   ]
  },
  {
   "cell_type": "code",
   "execution_count": null,
   "metadata": {
    "collapsed": false,
    "jupyter": {
     "outputs_hidden": false
    },
    "pycharm": {
     "name": "#%%\n"
    }
   },
   "outputs": [],
   "source": [
    "%%time\n",
    "result = optimize.minimize(\n",
    "    problem=problem,\n",
    "    optimizer=optimizer,\n",
    "    n_starts=n_starts,\n",
    "    startpoint_method=startpoint_method,\n",
    "    engine=engine,\n",
    "    options=opt_options,\n",
    ")"
   ]
  },
  {
   "cell_type": "markdown",
   "metadata": {
    "collapsed": false,
    "jupyter": {
     "outputs_hidden": false
    },
    "pycharm": {
     "name": "#%% md\n"
    }
   },
   "source": [
    "Now as a first step after the optimization, we can take a look at the summary of the optimizer:"
   ]
  },
  {
   "cell_type": "code",
   "execution_count": null,
   "metadata": {
    "collapsed": false,
    "jupyter": {
     "outputs_hidden": false
    },
    "pycharm": {
     "name": "#%%\n"
    }
   },
   "outputs": [],
   "source": [
    "display(Markdown(result.summary()))"
   ]
  },
  {
   "cell_type": "markdown",
   "metadata": {
    "collapsed": false,
    "jupyter": {
     "outputs_hidden": false
    },
    "pycharm": {
     "name": "#%% md\n"
    }
   },
   "source": [
    "We can see some informative statistics, such as the mean execution time, best and worst values, a small table on the exit messages of the optimizer as well as detailed info on the best optimizer.\n",
    "\n",
    "As our best start is just as good as the reported benchmark value, we shall now further inspect the result thorough some useful visualisations."
   ]
  },
  {
   "cell_type": "markdown",
   "metadata": {
    "collapsed": false,
    "jupyter": {
     "outputs_hidden": false
    },
    "pycharm": {
     "name": "#%% md\n"
    }
   },
   "source": [
    "## 3. Optimization visualization"
   ]
  },
  {
   "cell_type": "markdown",
   "metadata": {
    "collapsed": false,
    "jupyter": {
     "outputs_hidden": false
    },
    "pycharm": {
     "name": "#%% md\n"
    }
   },
   "source": [
    "### Model fit\n",
    "\n",
    "Probably the most useful visualization there is, is one, where we visualize the found parameter dynamics against the measurements. This way we can see whether the fit is qualitatively and/or quantitatively good."
   ]
  },
  {
   "cell_type": "code",
   "execution_count": null,
   "metadata": {
    "collapsed": false,
    "jupyter": {
     "outputs_hidden": false
    },
    "pycharm": {
     "name": "#%%\n"
    }
   },
   "outputs": [],
   "source": [
    "ax = model_fit.visualize_optimized_model_fit(\n",
    "    petab_problem=petab_problem, result=result, pypesto_problem=problem\n",
    ")"
   ]
  },
  {
   "cell_type": "markdown",
   "metadata": {
    "collapsed": false,
    "jupyter": {
     "outputs_hidden": false
    },
    "pycharm": {
     "name": "#%% md\n"
    }
   },
   "source": [
    "### Waterfall plot\n",
    "\n",
    "The waterfall plot is a visualization of the final objective function values of each start. They are sorted from small to high and then plotted. Similar values will get clustered and get the same color.\n",
    "\n",
    "This helps to determine whether the result is reproducible and whether we reliably found a local minimum that we hope to be the global one."
   ]
  },
  {
   "cell_type": "code",
   "execution_count": null,
   "metadata": {
    "collapsed": false,
    "jupyter": {
     "outputs_hidden": false
    },
    "pycharm": {
     "name": "#%%\n"
    }
   },
   "outputs": [],
   "source": [
    "visualize.waterfall(result);"
   ]
  },
  {
   "cell_type": "markdown",
   "metadata": {
    "collapsed": false,
    "jupyter": {
     "outputs_hidden": false
    },
    "pycharm": {
     "name": "#%% md\n"
    }
   },
   "source": [
    "### Parameter plots\n",
    "\n",
    "To visualize the parameters, there is a multitude of options:"
   ]
  },
  {
   "cell_type": "markdown",
   "metadata": {
    "collapsed": false,
    "jupyter": {
     "outputs_hidden": false
    },
    "pycharm": {
     "name": "#%% md\n"
    }
   },
   "source": [
    "#### Parameter overview\n",
    "\n",
    "Here we plot the parameters of all starts within their bounds. This can tell us whether some bounds are always hit and might need to be questioned and if the best starts are similar or differ amongst themselves, hinting already for some non-identifiabilities."
   ]
  },
  {
   "cell_type": "code",
   "execution_count": null,
   "metadata": {
    "collapsed": false,
    "jupyter": {
     "outputs_hidden": false
    },
    "pycharm": {
     "name": "#%%\n"
    }
   },
   "outputs": [],
   "source": [
    "visualize.parameters(result);"
   ]
  },
  {
   "cell_type": "markdown",
   "metadata": {
    "collapsed": false,
    "jupyter": {
     "outputs_hidden": false
    },
    "pycharm": {
     "name": "#%% md\n"
    }
   },
   "source": [
    "#### Parameter correlation plot\n",
    "\n",
    "To further look into possible uncertainties, we can plot the correlation of the final points. Sometimes, pairs of parameters are dependent on each other and fixing one might solve some non-identifiability."
   ]
  },
  {
   "cell_type": "code",
   "execution_count": null,
   "metadata": {
    "collapsed": false,
    "jupyter": {
     "outputs_hidden": false
    },
    "pycharm": {
     "name": "#%%\n"
    }
   },
   "outputs": [],
   "source": [
    "visualize.parameters_correlation_matrix(result);"
   ]
  },
  {
   "cell_type": "markdown",
   "metadata": {
    "collapsed": false,
    "jupyter": {
     "outputs_hidden": false
    },
    "pycharm": {
     "name": "#%% md\n"
    }
   },
   "source": [
    "#### Parameter histogram + scatter\n",
    "\n",
    "In case we found some dependencies and for further investigation, we can also specifically look at the histograms of certain parameters and the pairwise parameter scatter plot."
   ]
  },
  {
   "cell_type": "code",
   "execution_count": null,
   "metadata": {
    "collapsed": false,
    "jupyter": {
     "outputs_hidden": false
    },
    "pycharm": {
     "name": "#%%\n"
    }
   },
   "outputs": [],
   "source": [
    "visualize.parameter_hist(result=result, parameter_name=\"k_exp_hetero\")\n",
    "visualize.parameter_hist(result=result, parameter_name=\"k_imp_homo\");"
   ]
  },
  {
   "cell_type": "code",
   "execution_count": null,
   "metadata": {
    "collapsed": false,
    "jupyter": {
     "outputs_hidden": false
    },
    "pycharm": {
     "name": "#%%\n"
    }
   },
   "outputs": [],
   "source": [
    "visualize.optimization_scatter(result, parameter_indices=[1, 4]);"
   ]
  },
  {
   "cell_type": "markdown",
   "metadata": {
    "collapsed": false,
    "jupyter": {
     "outputs_hidden": false
    },
    "pycharm": {
     "name": "#%% md\n"
    }
   },
   "source": [
    "We definitely need to look further into it, and thus we turn to uncertainty quantification in the next section."
   ]
  },
  {
   "cell_type": "markdown",
   "metadata": {
    "collapsed": false,
    "jupyter": {
     "outputs_hidden": false
    },
    "pycharm": {
     "name": "#%% md\n"
    }
   },
   "source": [
    "## 4. Uncertainty quantification\n",
    "\n",
    "This mainly consists of two parts:\n",
    "* Profile Likelihoods\n",
    "* MCMC sampling"
   ]
  },
  {
   "cell_type": "markdown",
   "metadata": {
    "collapsed": false,
    "jupyter": {
     "outputs_hidden": false
    },
    "pycharm": {
     "name": "#%% md\n"
    }
   },
   "source": [
    "### Profile likelihood\n",
    "\n",
    "The profile likelihood uses an optimization scheme to calculate the confidence intervals for each parameter. We start with the best found parameter set of the optimization. Then in each step, we increase/decrease the parameter of interest, fix it and then run one local optimization. We do this until we either hit the bounds or reach a sufficiently bad fit.\n",
    "\n",
    "To run the profiling, we do not need a lot of setup, as we did this already for the optimization."
   ]
  },
  {
   "cell_type": "code",
   "execution_count": null,
   "metadata": {
    "collapsed": false,
    "jupyter": {
     "outputs_hidden": false
    },
    "pycharm": {
     "name": "#%%\n"
    }
   },
   "outputs": [],
   "source": [
    "%%time\n",
    "\n",
    "result = profile.parameter_profile(\n",
    "    problem=problem,\n",
    "    result=result,\n",
    "    optimizer=optimizer,\n",
    "    engine=engine,\n",
    "    profile_index=[0, 1],\n",
    ")"
   ]
  },
  {
   "cell_type": "markdown",
   "metadata": {
    "collapsed": false,
    "jupyter": {
     "outputs_hidden": false
    },
    "pycharm": {
     "name": "#%% md\n"
    }
   },
   "source": [
    "We can visualize the profiles directly"
   ]
  },
  {
   "cell_type": "code",
   "execution_count": null,
   "metadata": {
    "collapsed": false,
    "jupyter": {
     "outputs_hidden": false
    },
    "pycharm": {
     "name": "#%%\n"
    }
   },
   "outputs": [],
   "source": [
    "# plot profiles\n",
    "pypesto.visualize.profiles(result);"
   ]
  },
  {
   "cell_type": "markdown",
   "metadata": {
    "collapsed": false,
    "jupyter": {
     "outputs_hidden": false
    },
    "pycharm": {
     "name": "#%% md\n"
    }
   },
   "source": [
    "### Sampling\n",
    "\n",
    "We can use MCMC sampling to get a distribution on the posterior of the parameters. Here again, we do not need a lot of setup. We only need to define a sampler, of which pyPESTO offers a multitude."
   ]
  },
  {
   "cell_type": "code",
   "execution_count": null,
   "metadata": {
    "collapsed": false,
    "jupyter": {
     "outputs_hidden": false
    },
    "pycharm": {
     "name": "#%%\n"
    }
   },
   "outputs": [],
   "source": [
    "# Sampling\n",
    "sampler = sample.AdaptiveMetropolisSampler()\n",
    "result = sample.sample(\n",
    "    problem=problem,\n",
    "    sampler=sampler,\n",
    "    n_samples=5000,\n",
    "    result=result,\n",
    ")"
   ]
  },
  {
   "cell_type": "markdown",
   "metadata": {
    "collapsed": false,
    "jupyter": {
     "outputs_hidden": false
    },
    "pycharm": {
     "name": "#%% md\n"
    }
   },
   "source": [
    "For visualization purposes, we can visualize the trace of the objective function value, as well as a scatter plot of the parameters, just like in the optimization. We do omit the scatter plot here, as it has a very large size."
   ]
  },
  {
   "cell_type": "code",
   "execution_count": null,
   "metadata": {
    "collapsed": false,
    "jupyter": {
     "outputs_hidden": false
    },
    "pycharm": {
     "name": "#%%\n"
    }
   },
   "outputs": [],
   "source": [
    "# plot objective function trace\n",
    "visualize.sampling_fval_traces(result);"
   ]
  },
  {
   "cell_type": "code",
   "execution_count": null,
   "metadata": {
    "collapsed": false,
    "jupyter": {
     "outputs_hidden": false
    },
    "pycharm": {
     "name": "#%%\n"
    }
   },
   "outputs": [],
   "source": [
    "visualize.sampling_1d_marginals(result);"
   ]
  },
  {
   "cell_type": "markdown",
   "metadata": {
    "collapsed": false,
    "jupyter": {
     "outputs_hidden": false
    },
    "pycharm": {
     "name": "#%% md\n"
    }
   },
   "source": [
    "## 5. Saving results\n",
    "\n",
    "Lastly, the whole process took quite some time, but is not necessarily finished. It is therefore very useful, to be able to save the result as is. pyPESTO uses the HDF5 format, and with two very short commands we are able to read and write a result from and to an HDF5 file."
   ]
  },
  {
   "cell_type": "markdown",
   "metadata": {
    "collapsed": false,
    "jupyter": {
     "outputs_hidden": false
    },
    "pycharm": {
     "name": "#%% md\n"
    }
   },
   "source": [
    "### Save result object in HDF5 File"
   ]
  },
  {
   "cell_type": "code",
   "execution_count": null,
   "metadata": {
    "collapsed": false,
    "jupyter": {
     "outputs_hidden": false
    },
    "pycharm": {
     "name": "#%%\n"
    }
   },
   "outputs": [],
   "source": [
    "# create temporary file\n",
    "fn = tempfile.NamedTemporaryFile(suffix=\".hdf5\", delete=False)\n",
    "# write result with write_result function.\n",
    "# Choose which parts of the result object to save with\n",
    "# corresponding booleans.\n",
    "store.write_result(\n",
    "    result=result,\n",
    "    filename=fn.name,\n",
    "    problem=True,\n",
    "    optimize=True,\n",
    "    sample=True,\n",
    "    profile=True,\n",
    ")"
   ]
  },
  {
   "cell_type": "markdown",
   "metadata": {
    "collapsed": false,
    "jupyter": {
     "outputs_hidden": false
    },
    "pycharm": {
     "name": "#%% md\n"
    }
   },
   "source": [
    "### Reload results"
   ]
  },
  {
   "cell_type": "code",
   "execution_count": null,
   "metadata": {
    "collapsed": false,
    "jupyter": {
     "outputs_hidden": false
    },
    "pycharm": {
     "name": "#%%\n"
    }
   },
   "outputs": [],
   "source": [
    "# Read result\n",
    "result2 = store.read_result(fn, problem=True)\n",
    "\n",
    "# close file\n",
    "fn.close()"
   ]
  },
  {
   "cell_type": "markdown",
   "metadata": {
    "collapsed": false,
    "jupyter": {
     "outputs_hidden": false
    },
    "pycharm": {
     "name": "#%% md\n"
    }
   },
   "source": [
    "As the warning already suggests, we need to assign the problem again correctly."
   ]
  },
  {
   "cell_type": "code",
   "execution_count": null,
   "metadata": {
    "collapsed": false,
    "jupyter": {
     "outputs_hidden": false
    },
    "pycharm": {
     "name": "#%%\n"
    }
   },
   "outputs": [],
   "source": [
    "result2.problem = problem"
   ]
  },
  {
   "cell_type": "markdown",
   "metadata": {
    "collapsed": false,
    "jupyter": {
     "outputs_hidden": false
    },
    "pycharm": {
     "name": "#%% md\n"
    }
   },
   "source": [
    "Now we are able to quickly load the results and visualize them."
   ]
  },
  {
   "cell_type": "markdown",
   "metadata": {
    "collapsed": false,
    "jupyter": {
     "outputs_hidden": false
    },
    "pycharm": {
     "name": "#%% md\n"
    }
   },
   "source": [
    "### Plot (reloaded) results"
   ]
  },
  {
   "cell_type": "code",
   "execution_count": null,
   "metadata": {
    "collapsed": false,
    "jupyter": {
     "outputs_hidden": false
    },
    "pycharm": {
     "name": "#%%\n"
    }
   },
   "outputs": [],
   "source": [
    "# plot profiles\n",
    "pypesto.visualize.profiles(result2);"
   ]
  }
 ],
 "metadata": {
  "kernelspec": {
   "display_name": "venvTest",
   "language": "python",
   "name": "venvtest"
  },
  "language_info": {
   "codemirror_mode": {
    "name": "ipython",
    "version": 3
   },
   "file_extension": ".py",
   "mimetype": "text/x-python",
   "name": "python",
   "nbconvert_exporter": "python",
   "pygments_lexer": "ipython3",
   "version": "3.12.3"
  }
 },
 "nbformat": 4,
 "nbformat_minor": 4
}
