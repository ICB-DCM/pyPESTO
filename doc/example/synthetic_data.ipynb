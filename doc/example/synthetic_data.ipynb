{
 "cells": [
  {
   "cell_type": "markdown",
   "metadata": {},
   "source": [
    "# Optimization with Synthetic Data\n",
    "In this notebook, optimization is performed with an SBML model and [PEtab](https://github.com/PEtab-dev/PEtab) problem, which includes some measurements.\n",
    "\n",
    "Next, optimization is performed with synthetic data as measurements, which is generated using PEtab and [AMICI](https://github.com/AMICI-dev/AMICI). The ability to recover the parameter vector that was used to generate the synthetic data is demonstrated.\n",
    "\n",
    "## Requirements\n",
    "Additional requirements for this notebook can be installed with `pip install amici petab`."
   ]
  },
  {
   "cell_type": "code",
   "execution_count": null,
   "metadata": {},
   "outputs": [],
   "source": [
    "# install if not done yet\n",
    "# !apt install libatlas-base-dev swig\n",
    "# %pip install pypesto[amici,petab] --quiet"
   ]
  },
  {
   "cell_type": "markdown",
   "metadata": {},
   "source": [
    "**1.** Load required packages. PEtab provides a base class that is designed to be easily extended to support simulation with different tools. Here, the AMICI implementation of this base class is used."
   ]
  },
  {
   "cell_type": "code",
   "execution_count": null,
   "metadata": {},
   "outputs": [],
   "source": [
    "import amici.petab_simulate\n",
    "import matplotlib.pyplot as plt\n",
    "import petab\n",
    "\n",
    "import pypesto.optimize\n",
    "import pypesto.petab\n",
    "import pypesto.visualize\n",
    "\n",
    "\n",
    "# Helper function to get the maximum likelihood estimate as a dictionary from a pyPESTO optimization result.\n",
    "def get_x_mle(optimize_result, pypesto_problem, petab_problem, scaled=True):\n",
    "    if not scaled:\n",
    "        scaling = petab.parameters.get_optimization_parameter_scaling(\n",
    "            petab_problem.parameter_df\n",
    "        )\n",
    "    return {\n",
    "        x_id: (\n",
    "            petab.parameters.unscale(x_value, scaling[x_id])\n",
    "            if not scaled\n",
    "            else x_value\n",
    "        )\n",
    "        for x_id, x_value in zip(\n",
    "            pypesto_problem.x_names, optimize_result[0][\"x\"]\n",
    "        )\n",
    "        # if x_id in scaling\n",
    "    }"
   ]
  },
  {
   "cell_type": "markdown",
   "metadata": {
    "pycharm": {
     "name": "#%% md\n"
    }
   },
   "source": [
    "## Standard Optimization\n",
    "The PEtab problem is used to generate a pyPESTO problem, which is used to estimate model parameters."
   ]
  },
  {
   "cell_type": "markdown",
   "metadata": {
    "pycharm": {
     "name": "#%% md\n"
    }
   },
   "source": [
    "**2.** Load a PEtab problem. The synthetic data returned by the PEtab-derived synthetic data generator (later, an instance of `amici.petab_simulate.PetabSimulator`) will be equivalent to replacing the measurements in the PEtab problem's measurements table with simulated values."
   ]
  },
  {
   "cell_type": "code",
   "execution_count": null,
   "metadata": {
    "pycharm": {
     "name": "#%%\n"
    }
   },
   "outputs": [],
   "source": [
    "petab_yaml_filename = \"conversion_reaction/conversion_reaction.yaml\"\n",
    "petab_problem_original = petab.Problem.from_yaml(petab_yaml_filename)"
   ]
  },
  {
   "cell_type": "markdown",
   "metadata": {
    "pycharm": {
     "name": "#%% md\n"
    }
   },
   "source": [
    "**3.** Create a pyPESTO problem from the PEtab problem. Here, the original PEtab problem is used for parameter estimation (no synthetic data is generated)."
   ]
  },
  {
   "cell_type": "code",
   "execution_count": null,
   "metadata": {
    "pycharm": {
     "name": "#%%\n"
    }
   },
   "outputs": [],
   "source": [
    "pypesto_importer_original = pypesto.petab.PetabImporter(petab_problem_original)\n",
    "pypesto_problem_original = pypesto_importer_original.create_problem(\n",
    "    verbose=False\n",
    ")"
   ]
  },
  {
   "cell_type": "markdown",
   "metadata": {
    "pycharm": {
     "name": "#%% md\n"
    }
   },
   "source": [
    "**4.** Estimate parameters. Multi-start local optimization with 100 starts is used, with the default pyPESTO optimizer."
   ]
  },
  {
   "cell_type": "code",
   "execution_count": null,
   "metadata": {
    "pycharm": {
     "name": "#%%\n"
    }
   },
   "outputs": [],
   "source": [
    "pypesto_result_original = pypesto.optimize.minimize(\n",
    "    pypesto_problem_original, n_starts=20\n",
    ")"
   ]
  },
  {
   "cell_type": "markdown",
   "metadata": {
    "pycharm": {
     "name": "#%% md\n"
    }
   },
   "source": [
    "**5.** Visualize parameter estimation. Here, estimated values for `k1` and `k2` are shown, then a waterfall plot to indicate optimization quality, then a plot of the estimated parameters from the different starts to indicate identifiability.\n",
    "\n",
    "Here, parameter estimation appears to have been successful. In the case of problematic parameter estimation, synthetic data can be used to determine whether parameter estimation can be used to identify known parameter values."
   ]
  },
  {
   "cell_type": "code",
   "execution_count": null,
   "metadata": {
    "pycharm": {
     "name": "#%%\n"
    }
   },
   "outputs": [],
   "source": [
    "x_mle_unscaled_original = get_x_mle(\n",
    "    pypesto_result_original.optimize_result,\n",
    "    pypesto_problem_original,\n",
    "    petab_problem_original,\n",
    "    scaled=False,\n",
    ")\n",
    "print(\"Parameters are estimated to be (linear scale):\")\n",
    "print(\n",
    "    \"\\n\".join(\n",
    "        [\n",
    "            f\"{x_id}: {x_value}\"\n",
    "            for x_id, x_value in x_mle_unscaled_original.items()\n",
    "        ]\n",
    "    )\n",
    ")\n",
    "\n",
    "pypesto.visualize.waterfall(pypesto_result_original)\n",
    "pypesto.visualize.parameters(pypesto_result_original);"
   ]
  },
  {
   "cell_type": "markdown",
   "metadata": {
    "pycharm": {
     "name": "#%% md\n"
    }
   },
   "source": [
    "## Synthetic Optimization\n",
    "Synthetic optimization is similar to a standard optimization, except the PEtab measurements table is replaced with synthetic data that is generated from specified parameters, with noise, and then used for optimization.\n",
    "\n",
    "Here, parameters are specified with a dictionary that is used to update the original PEtab parameters table. An alternative is use a second PEtab YAML file that is identical to the original, except for the parameters table, which would now contain the parameter values to be used for synthetic data generation.\n",
    "\n",
    "### Noise\n",
    "Noise is added to the simulated data according to the:\n",
    "- noise distribution in the PEtab observables table\n",
    "- noise formula in the PEtab observables table, which is used to calculate the scale of the noise distribution\n",
    "- noise parameters in the PEtab measurements table, which are substituted into the noise formula for measurement-specific noise distribution scales"
   ]
  },
  {
   "cell_type": "markdown",
   "metadata": {},
   "source": [
    "**6.** As before, load a PEtab problem. This time, the parameters table is edited to contain parameters values that will be used for synthetic data generation (`synthetic_parameters`). Then, the simulator is used to generate synthetic data, which replaces the measurements table of the PEtab problem for parameter estimation in the next step.\n",
    "\n",
    "Here, synthetic data also has noise added (`noise=True`), which is defined by the PEtab problem as described above. A noise scaling factor can also be specified (here, a small value - `noise_scaling_factor=0.01` - is used, to reduce noise such that the synthetic parameters are more likely to be recovered with parameter estimation).\n",
    "\n",
    "The simulator working directory is then deleted along with its contents."
   ]
  },
  {
   "cell_type": "code",
   "execution_count": null,
   "metadata": {},
   "outputs": [],
   "source": [
    "petab_problem_synthetic = petab.Problem.from_yaml(petab_yaml_filename)\n",
    "\n",
    "synthetic_parameters = {\"k1\": 1.5, \"k2\": 2.5}\n",
    "petab_problem_synthetic.parameter_df[petab.C.NOMINAL_VALUE].update(\n",
    "    synthetic_parameters\n",
    ")\n",
    "\n",
    "simulator = amici.petab_simulate.PetabSimulator(petab_problem_synthetic)\n",
    "# Optional: the AMICI simulator is provided a model, to avoid recompilation\n",
    "petab_problem_synthetic.measurement_df = simulator.simulate(\n",
    "    noise=True,\n",
    "    noise_scaling_factor=0.01,\n",
    "    amici_model=pypesto_problem_original.objective.amici_model,\n",
    "    as_measurement=True,\n",
    ")\n",
    "simulator.remove_working_dir()"
   ]
  },
  {
   "cell_type": "markdown",
   "metadata": {},
   "source": [
    "**7.** Create a pyPESTO problem from the edited PEtab problem, and estimate parameters."
   ]
  },
  {
   "cell_type": "code",
   "execution_count": null,
   "metadata": {},
   "outputs": [],
   "source": [
    "pypesto_importer_synthetic = pypesto.petab.PetabImporter(\n",
    "    petab_problem_synthetic\n",
    ")\n",
    "pypesto_problem_synthetic = pypesto_importer_synthetic.create_problem()\n",
    "pypesto_result_synthetic = pypesto.optimize.minimize(\n",
    "    pypesto_problem_synthetic, n_starts=20\n",
    ")"
   ]
  },
  {
   "cell_type": "markdown",
   "metadata": {},
   "source": [
    "**8.** Visualize parameter estimation. Here, the estimates for `k1` and `k2` are similar to the synthetic parameters, suggesting that parameter estimation works well with this PEtab problem and can be used to identify parameter values successfully (**caveat**: noise is reduced here; parameter estimation can be expected to perform worse with more realistically noisy data)."
   ]
  },
  {
   "cell_type": "code",
   "execution_count": null,
   "metadata": {},
   "outputs": [],
   "source": [
    "x_mle_unscaled_synthetic = get_x_mle(\n",
    "    pypesto_result_synthetic.optimize_result,\n",
    "    pypesto_problem_synthetic,\n",
    "    petab_problem_synthetic,\n",
    "    scaled=False,\n",
    ")\n",
    "print(\"Parameters are estimated to be (linear scale):\")\n",
    "print(\n",
    "    \"\\n\".join(\n",
    "        [\n",
    "            f\"{x_id}: {x_value}\"\n",
    "            for x_id, x_value in x_mle_unscaled_synthetic.items()\n",
    "        ]\n",
    "    )\n",
    ")\n",
    "\n",
    "pypesto.visualize.waterfall(pypesto_result_synthetic)\n",
    "pypesto.visualize.parameters(pypesto_result_synthetic);"
   ]
  }
 ],
 "metadata": {
  "kernelspec": {
   "display_name": "Python 3 (ipykernel)",
   "language": "python",
   "name": "python3"
  },
  "language_info": {
   "codemirror_mode": {
    "name": "ipython",
    "version": 3
   },
   "file_extension": ".py",
   "mimetype": "text/x-python",
   "name": "python",
   "nbconvert_exporter": "python",
   "pygments_lexer": "ipython3",
   "version": "3.10.10"
  }
 },
 "nbformat": 4,
 "nbformat_minor": 4
}
