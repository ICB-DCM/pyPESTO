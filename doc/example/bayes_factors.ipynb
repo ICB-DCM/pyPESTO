{
 "cells": [
  {
   "cell_type": "markdown",
   "id": "2db98323fb940c7f",
   "metadata": {},
   "source": [
    "# Bayes Factor Tutorial\n",
    "\n",
    "Bayes factors are a key concept in Bayesian model comparison, allowing us to compare the relative likelihood of different models given the data. They are computed using the marginal likelihoods (or evidence) of the models. This tutorial will cover various methods for computing marginal likelihoods.\n",
    "\n",
    "You find an introduction and extensive review here: [Llorente et al. (2023)](https://doi.org/10.1137/20M1310849)."
   ]
  },
  {
   "metadata": {},
   "cell_type": "markdown",
   "source": [
    "\n",
    "## Marginal Likelihood\n",
    "\n",
    "The marginal likelihood (or evidence) of a model $\\mathcal{M}$ given data $\\mathcal{D}$ is defined as:\n",
    "\n",
    "$$\n",
    "P(\\mathcal{D} \\mid \\mathcal{M}) = \\int P(\\mathcal{D} \\mid \\theta, \\mathcal{M}) P(\\theta \\mid \\mathcal{M}) \\, d\\theta\n",
    "$$\n",
    "\n",
    "where $\\theta$ are the parameters of the model. This integral averages the likelihood over the prior distribution of the parameters, providing a measure of how well the model explains the data, considering all possible parameter values."
   ],
   "id": "5c56f766bcf7ab48"
  },
  {
   "metadata": {},
   "cell_type": "markdown",
   "source": [
    "## Bayes Factor\n",
    "\n",
    "The Bayes factor comparing two models $\\mathcal{M}_1$ and $\\mathcal{M}_2$ given data $\\mathcal{D}$ is the ratio of their marginal likelihoods:\n",
    "\n",
    "$$\n",
    "\\operatorname{BF}_{12} = \\frac{P(\\mathcal{D} \\mid \\mathcal{M}_1)}{P(\\mathcal{D} \\mid \\mathcal{M}_2)}\n",
    "$$\n",
    "\n",
    "A $\\operatorname{BF}_{12} > 1$ indicates that the data favor model $\\mathcal{M}_1$ over model $\\mathcal{M}_2$, while $\\operatorname{BF}_{12} < 1$ indicates the opposite.\n",
    "\n",
    "Jeffreys (1961) suggested interpreting Bayes factors in half-units on the log10 scale (this was further simplified in Kass and Raftery (1995)):\n",
    "- Not worth more than a bare mention: $0 < \\log_{10} \\operatorname{BF}_{12} \\leq 0.5$\n",
    "- Substantial:$0.5 < \\log_{10}\\operatorname{BF}_{12} \\leq 1$\n",
    "- Strong: $1 < \\log_{10}\\operatorname{BF}_{12} \\leq 2$\n",
    "- Decisive: $\\log_{10}\\operatorname{BF}_{12} < 2$"
   ],
   "id": "6337b6a3"
  },
  {
   "metadata": {},
   "cell_type": "markdown",
   "source": [
    "## Example\n",
    "\n",
    "To illustrate different methods to compute marginal likelihoods we introduce two toy models, for which we can compute the marginal likelihoods also analytically:\n",
    "\n",
    "1. **Mixture of Two Gaussians (True Data Generator)**: Composed of two Gaussian distributions, $\\mathcal{N}(\\mu_1, \\sigma_1^2)$ and $N(\\mu_2, \\sigma_2^2)$, with mixing coefficient $\\pi=0.7$.\n",
    "\n",
    "2. **Single Gaussian (Alternative Model)**: A single Gaussian distribution, $\\mathcal{N}(\\mu, \\sigma^2)$.\n",
    "\n",
    "We sample synthetic data from the first model and create pypesto problems for both models with the same data. \n",
    "The free parameters are the means of both models. \n",
    "For this example, we assume that the standard deviation is known and fixed to the true value.\n",
    "As priors, we assume normal distributions with mean and standard deviation equal to the true values of the true model."
   ],
   "id": "a6b7640cff0280de"
  },
  {
   "cell_type": "code",
   "id": "6eb930b7",
   "metadata": {
    "ExecuteTime": {
     "end_time": "2024-08-12T09:00:21.321024Z",
     "start_time": "2024-08-12T09:00:19.022318Z"
    }
   },
   "source": [
    "from functools import partial\n",
    "from typing import Union\n",
    "\n",
    "import matplotlib.pyplot as plt\n",
    "import numpy as np\n",
    "from scipy import stats\n",
    "from scipy.special import logsumexp\n",
    "\n",
    "from pypesto import sample, optimize, visualize, variational\n",
    "from pypesto.objective import (\n",
    "    AggregatedObjective,\n",
    "    NegLogParameterPriors,\n",
    "    Objective,\n",
    ")\n",
    "from pypesto.problem import Problem"
   ],
   "outputs": [
    {
     "name": "stderr",
     "output_type": "stream",
     "text": [
      "WARNING (pytensor.tensor.blas): Using NumPy C-API based implementation for BLAS functions.\n"
     ]
    }
   ],
   "execution_count": 1
  },
  {
   "metadata": {
    "ExecuteTime": {
     "end_time": "2024-08-12T09:00:21.325787Z",
     "start_time": "2024-08-12T09:00:21.322081Z"
    }
   },
   "cell_type": "code",
   "source": [
    "# model hyperparameters\n",
    "N = 10\n",
    "N2_1 = 3\n",
    "N2_2 = N - N2_1\n",
    "sigma2 = 2.\n",
    "true_params = np.array([-2., 2.])\n",
    "\n",
    "np.random.seed(0)\n",
    "# Alternative Model\n",
    "Y1 = np.random.normal(loc=0., scale=1., size=N)\n",
    "\n",
    "# True Model\n",
    "Y2_1 = np.random.normal(loc=true_params[0], scale=sigma2, size=N2_1)\n",
    "Y2_2 = np.random.normal(loc=true_params[1], scale=sigma2, size=N2_2)\n",
    "Y2 = np.concatenate([Y2_1, Y2_2])\n",
    "mixture_data, sigma = Y2, sigma2\n",
    "n_obs = len(mixture_data)"
   ],
   "id": "ad47e3f67a7896d3",
   "outputs": [],
   "execution_count": 2
  },
  {
   "metadata": {
    "tags": [
     "hide-input"
    ],
    "ExecuteTime": {
     "end_time": "2024-08-12T09:00:21.330185Z",
     "start_time": "2024-08-12T09:00:21.326436Z"
    }
   },
   "cell_type": "code",
   "source": [
    "# evidence\n",
    "def log_evidence_alt(data: np.ndarray, std: float):\n",
    "    n = int(data.size)\n",
    "    y_sum = np.sum(data)\n",
    "    y_sq_sum = np.sum(data**2)\n",
    "\n",
    "    term1 = 1 / (np.sqrt(2 * np.pi) * std)\n",
    "    log_term2 = -0.5 * np.log(n + 1)\n",
    "    inside_exp = -0.5 / (std**2) * (y_sq_sum - (y_sum**2) / (n + 1))\n",
    "    return n * np.log(term1) + log_term2 + inside_exp\n",
    "\n",
    "\n",
    "def log_evidence_true(data: np.ndarray, std: float):\n",
    "    y1 = data[:N2_1]\n",
    "    y2 = data[N2_1:]\n",
    "    n = N2_1 + N2_2\n",
    "\n",
    "    y_mean_1 = np.mean(y1)\n",
    "    y_mean_2 = np.mean(y2)\n",
    "    y_sq_sum = np.sum(y1**2) + np.sum(y2**2)\n",
    "\n",
    "    term1 = (1 / (np.sqrt(2 * np.pi) * std)) ** n\n",
    "    term2 = 1 / (np.sqrt(N2_1 + 1) * np.sqrt(N2_2 + 1))\n",
    "\n",
    "    inside_exp = (\n",
    "        -1\n",
    "        / (2 * std**2)\n",
    "        * (\n",
    "            y_sq_sum\n",
    "            + 8\n",
    "            - (N2_1 * y_mean_1 - 2) ** 2 / (N2_1 + 1)\n",
    "            - (N2_2 * y_mean_2 + 2) ** 2 / (N2_2 + 1)\n",
    "        )\n",
    "    )\n",
    "    return np.log(term1) + np.log(term2) + inside_exp\n",
    "\n",
    "\n",
    "true_log_evidence_alt = log_evidence_alt(mixture_data, sigma)\n",
    "true_log_evidence_true = log_evidence_true(mixture_data, sigma)\n",
    "\n",
    "print(\"True log evidence, true model:\", true_log_evidence_true)\n",
    "print(\"True log evidence, alternative model:\", true_log_evidence_alt)"
   ],
   "id": "2143410833d86594",
   "outputs": [
    {
     "name": "stdout",
     "output_type": "stream",
     "text": [
      "True log evidence, true model: -20.058270674327336\n",
      "True log evidence, alternative model: -21.763688943998588\n"
     ]
    }
   ],
   "execution_count": 3
  },
  {
   "metadata": {
    "tags": [
     "hide-input"
    ],
    "ExecuteTime": {
     "end_time": "2024-08-12T09:00:21.339892Z",
     "start_time": "2024-08-12T09:00:21.330908Z"
    }
   },
   "cell_type": "code",
   "source": [
    "# define likelihood for each model, and build the objective functions for the pyPESTO problem\n",
    "def neg_log_likelihood(params: Union[np.ndarray, list], data: np.ndarray):\n",
    "    # normal distribution\n",
    "    mu, std = params\n",
    "    n = int(data.size)\n",
    "    return (\n",
    "        0.5 * n * np.log(2 * np.pi)\n",
    "        + n * np.log(std)\n",
    "        + np.sum((data - mu) ** 2) / (2 * std**2)\n",
    "    )\n",
    "\n",
    "\n",
    "def neg_log_likelihood_grad(params: Union[np.ndarray, list], data: np.ndarray):\n",
    "    mu, std = params\n",
    "    n = int(data.size)\n",
    "    grad_mu = -np.sum(data - mu) / (std**2)\n",
    "    grad_std = n / std - np.sum((data - mu) ** 2) / (std**3)\n",
    "    return np.array([grad_mu, grad_std])\n",
    "\n",
    "\n",
    "def neg_log_likelihood_hess(params: Union[np.ndarray, list], data: np.ndarray):\n",
    "    mu, std = params\n",
    "    n = int(data.size)\n",
    "    hess_mu_mu = n / (std**2)\n",
    "    hess_mu_std = 2 * np.sum(data - mu) / (std**3)\n",
    "    hess_std_std = -n / (std**2) + 3 * np.sum((data - mu) ** 2) / (std**4)\n",
    "    return np.array([[hess_mu_mu, hess_mu_std], [hess_mu_std, hess_std_std]])\n",
    "\n",
    "\n",
    "def neg_log_likelihood_m2(\n",
    "    params: Union[np.ndarray, list], data: np.ndarray, n_mix: int\n",
    "):\n",
    "    # normal distribution\n",
    "    y1 = data[:n_mix]\n",
    "    y2 = data[n_mix:]\n",
    "    m1, m2, std = params\n",
    "\n",
    "    neg_log_likelihood([m1, std], y1)\n",
    "    term1 = neg_log_likelihood([m1, std], y1)\n",
    "    term2 = neg_log_likelihood([m2, std], y2)\n",
    "    return term1 + term2\n",
    "\n",
    "\n",
    "def neg_log_likelihood_m2_grad(params: np.ndarray, data: np.ndarray, n_mix: int):\n",
    "    m1, m2, std = params\n",
    "    y1 = data[:n_mix]\n",
    "    y2 = data[n_mix:]\n",
    "\n",
    "    grad_m1, grad_std1 = neg_log_likelihood_grad([m1, std], y1)\n",
    "    grad_m2, grad_std2 = neg_log_likelihood_grad([m2, std], y2)\n",
    "    return np.array([grad_m1, grad_m2, grad_std1 + grad_std2])\n",
    "\n",
    "\n",
    "def neg_log_likelihood_m2_hess(params: np.ndarray, data: np.ndarray, n_mix: int):\n",
    "    m1, m2, std = params\n",
    "    y1 = data[:n_mix]\n",
    "    y2 = data[n_mix:]\n",
    "\n",
    "    [[hess_m1_m1, hess_m1_std], [_, hess_std_std1]] = neg_log_likelihood_hess(\n",
    "        [m1, std], y1\n",
    "    )\n",
    "    [[hess_m2_m2, hess_m2_std], [_, hess_std_std2]] = neg_log_likelihood_hess(\n",
    "        [m2, std], y2\n",
    "    )\n",
    "    hess_m1_m2 = 0\n",
    "\n",
    "    return np.array(\n",
    "        [\n",
    "            [hess_m1_m1, hess_m1_m2, hess_m1_std],\n",
    "            [hess_m1_m2, hess_m2_m2, hess_m2_std],\n",
    "            [hess_m1_std, hess_m2_std, hess_std_std1 + hess_std_std2],\n",
    "        ]\n",
    "    )\n",
    "\n",
    "\n",
    "nllh_true = Objective(\n",
    "    fun=partial(neg_log_likelihood_m2, data=mixture_data, n_mix=N2_1),\n",
    "    grad=partial(neg_log_likelihood_m2_grad, data=mixture_data, n_mix=N2_1),\n",
    "    hess=partial(neg_log_likelihood_m2_hess, data=mixture_data, n_mix=N2_1),\n",
    ")\n",
    "nllh_alt = Objective(\n",
    "    fun=partial(neg_log_likelihood, data=mixture_data),\n",
    "    grad=partial(neg_log_likelihood_grad, data=mixture_data),\n",
    "    hess=partial(neg_log_likelihood_hess, data=mixture_data),\n",
    ")\n",
    "\n",
    "\n",
    "def log_normal_density(x: float, mu: float, std: float):\n",
    "    return (\n",
    "        -1 / 2 * np.log(2 * np.pi)\n",
    "        - 1 / 2 * np.log(std**2)\n",
    "        - (x - mu) ** 2 / (2 * std**2)\n",
    "    )\n",
    "\n",
    "\n",
    "def log_normal_density_grad(x: float, mu: float, std: float):\n",
    "    return -(x - mu) / (std**2)\n",
    "\n",
    "\n",
    "def log_normal_density_hess(x: float, mu: float, std: float):\n",
    "    return -1 / (std**2)\n",
    "\n",
    "\n",
    "prior_true = NegLogParameterPriors(\n",
    "    [\n",
    "        {\n",
    "            \"index\": 0,\n",
    "            \"density_fun\": partial(log_normal_density, mu=true_params[0], std=sigma2),\n",
    "            \"density_dx\": partial(\n",
    "                log_normal_density_grad, mu=true_params[0], std=sigma2\n",
    "            ),\n",
    "            \"density_ddx\": partial(\n",
    "                log_normal_density_hess, mu=true_params[0], std=sigma2\n",
    "            ),\n",
    "        },\n",
    "        {\n",
    "            \"index\": 1,\n",
    "            \"density_fun\": partial(log_normal_density, mu=true_params[1], std=sigma2),\n",
    "            \"density_dx\": partial(\n",
    "                log_normal_density_grad, mu=true_params[1], std=sigma2\n",
    "            ),\n",
    "            \"density_ddx\": partial(\n",
    "                log_normal_density_hess, mu=true_params[1], std=sigma2\n",
    "            ),\n",
    "        },\n",
    "    ]\n",
    ")\n",
    "\n",
    "prior_alt = NegLogParameterPriors(\n",
    "    [\n",
    "        {\n",
    "            \"index\": 0,\n",
    "            \"density_fun\": partial(log_normal_density, mu=0., std=1.),\n",
    "            \"density_dx\": partial(log_normal_density_grad, mu=0., std=1.),\n",
    "            \"density_ddx\": partial(\n",
    "                log_normal_density_hess, mu=0., std=1.\n",
    "            ),\n",
    "        }\n",
    "    ]\n",
    ")\n",
    "\n",
    "\n",
    "mixture_problem_true = Problem(\n",
    "    objective=AggregatedObjective(objectives=[nllh_true, prior_true]),\n",
    "    lb=[-10, -10, 0],\n",
    "    ub=[10, 10, 10],\n",
    "    x_names=[\"mu1\", \"mu2\", \"sigma\"],\n",
    "    x_scales=[\"lin\", \"lin\", \"lin\"],\n",
    "    x_fixed_indices=[2],\n",
    "    x_fixed_vals=[sigma],\n",
    "    x_priors_defs=prior_true,\n",
    ")\n",
    "\n",
    "mixture_problem_alt = Problem(\n",
    "    objective=AggregatedObjective(objectives=[nllh_alt, prior_alt]),\n",
    "    lb=[-10, 0],\n",
    "    ub=[10, 10],\n",
    "    x_names=[\"mu\", \"sigma\"],\n",
    "    x_scales=[\"lin\", \"lin\"],\n",
    "    x_fixed_indices=[1],\n",
    "    x_fixed_vals=[sigma],\n",
    "    x_priors_defs=prior_alt,\n",
    ")"
   ],
   "id": "33659ff5eba21345",
   "outputs": [],
   "execution_count": 4
  },
  {
   "cell_type": "code",
   "source": [
    "# to make the code more readable, we define a dictionary with all models\n",
    "# from here on, we use the pyPESTO problem objects, so the code can be reused for any other problem\n",
    "models = {\n",
    "    'mixture_model1': {\n",
    "        'name': 'True-Model',\n",
    "        'true_evidence': true_log_evidence_true,\n",
    "        'prior_mean': np.array([-2, 2]),\n",
    "        'prior_std': np.array([2, 2]),\n",
    "        'prior_cov': np.diag([4, 4]),\n",
    "        'true_params': true_params,\n",
    "        'problem': mixture_problem_true,\n",
    "    },\n",
    "    'mixture_model2': {\n",
    "        'name': 'Alternative-Model',\n",
    "        'true_evidence': true_log_evidence_alt,\n",
    "        'prior_mean': np.array([0]),\n",
    "        'prior_std': np.array([1]),\n",
    "        'prior_cov': np.diag([1]),\n",
    "        'problem': mixture_problem_alt,\n",
    "    }\n",
    "}\n",
    "\n",
    "for m in models.values():         \n",
    "    # neg_log_likelihood is called with full vector, parameters might be still in log space\n",
    "    m['neg_log_likelihood'] = lambda x: m['problem'].objective._objectives[0](\n",
    "        m['problem'].get_full_vector(x=x, x_fixed_vals=m['problem'].x_fixed_vals)\n",
    "    )    "
   ],
   "metadata": {
    "collapsed": false,
    "ExecuteTime": {
     "end_time": "2024-08-12T09:00:21.343721Z",
     "start_time": "2024-08-12T09:00:21.341099Z"
    }
   },
   "id": "cf9af2fa37f3a0cf",
   "outputs": [],
   "execution_count": 5
  },
  {
   "metadata": {},
   "cell_type": "markdown",
   "source": "## Methods for Computing Marginal Likelihoods",
   "id": "e273503367e8bf4d"
  },
  {
   "metadata": {
    "ExecuteTime": {
     "end_time": "2024-08-12T09:00:22.020271Z",
     "start_time": "2024-08-12T09:00:21.590687Z"
    }
   },
   "cell_type": "code",
   "source": [
    "# run optimization for each model\n",
    "for m in models.values(): \n",
    "    m['results'] = optimize.minimize(problem=m['problem'],  n_starts=100)\n",
    "    \n",
    "    if 'true_params' in m.keys():\n",
    "        visualize.parameters(\n",
    "            results=m['results'], reference={'x': m[\"true_params\"], 'fval': m['problem'].objective(m[\"true_params\"])})\n",
    "    else:\n",
    "        visualize.parameters(m['results'])"
   ],
   "id": "95ec6b53c9133332",
   "outputs": [
    {
     "name": "stderr",
     "output_type": "stream",
     "text": [
      "100%|██████████| 100/100 [00:00<00:00, 850.03it/s]\n",
      "100%|██████████| 100/100 [00:00<00:00, 1710.13it/s]\n"
     ]
    },
    {
     "data": {
      "text/plain": [
       "<Figure size 1850x100 with 1 Axes>"
      ],
      "image/png": "[encoded data removed]"
     },
     "metadata": {},
     "output_type": "display_data"
    },
    {
     "data": {
      "text/plain": [
       "<Figure size 1850x50 with 1 Axes>"
      ],
      "image/png": "[encoded data removed]"
     },
     "metadata": {},
     "output_type": "display_data"
    }
   ],
   "execution_count": 6
  },
  {
   "metadata": {},
   "cell_type": "markdown",
   "source": [
    "### 1. Bayesian Information Criterion (BIC)\n",
    "\n",
    "The BIC is a simple and widely-used approximation to the marginal likelihood. It is computed as:\n",
    "\n",
    "$$\n",
    "\\operatorname{BIC} = k \\ln(n) - 2 \\ln(\\hat{L})\n",
    "$$\n",
    "\n",
    "where $k$ is the number of parameters, $n$ is the number of data points, and $\\hat{L}$ is the maximum likelihood estimate. $-\\frac12 \\operatorname{BIC}$ approximates the marginal likelihood under the assumption that the prior is non-informative and the sample size is large.\n",
    "\n",
    "\n",
    "BIC is easy to compute and converges to the marginal likelihood, but it may not capture the full complexity of model selection, especially for complex models or significant prior information as the prior is completely ignored."
   ],
   "id": "ffd895262133fe00"
  },
  {
   "metadata": {
    "ExecuteTime": {
     "end_time": "2024-08-12T09:00:22.432384Z",
     "start_time": "2024-08-12T09:00:22.428845Z"
    }
   },
   "cell_type": "code",
   "source": [
    "for m in models.values(): \n",
    "    m['BIC'] = len(m['problem'].x_free_indices) * np.log(n_obs) + 2 * m['neg_log_likelihood'](m['results'].optimize_result.x[0])\n",
    "    print(m['name'], 'BIC:', -1/2*m['BIC'])"
   ],
   "id": "1b40d72091d00e9f",
   "outputs": [
    {
     "name": "stdout",
     "output_type": "stream",
     "text": [
      "True-Model BIC: -20.432838004532208\n",
      "Alternative-Model BIC: -21.686301291870283\n"
     ]
    }
   ],
   "execution_count": 7
  },
  {
   "metadata": {},
   "cell_type": "markdown",
   "source": [
    "### 2. Laplace Approximation\n",
    "\n",
    "The Laplace approximation estimates the marginal likelihood by approximating the posterior distribution as a Gaussian centered at the maximum a posteriori (MAP) estimate $\\hat{\\theta}$ using the Hessian of the posterior distribution. The marginal likelihood is then approximated as:\n",
    "\n",
    "$$\n",
    "P(\\mathcal{D} \\mid \\mathcal{M}) \\approx (2\\pi)^{k/2} \\left| \\Sigma \\right|^{1/2} P(\\mathcal{D} \\mid \\hat{\\theta}, \\mathcal{M}) P(\\hat{\\theta} \\mid \\mathcal{M})\n",
    "$$\n",
    "\n",
    "where $\\Sigma$ is the covariance matrix of the posterior distribution (unormalized, so likelihood $\\times$ prior).\n",
    "\n",
    "\n",
    "The Laplace approximation is accurate if the posterior is unimodal and roughly Gaussian."
   ],
   "id": "67cb4a7bb781d42"
  },
  {
   "metadata": {
    "ExecuteTime": {
     "end_time": "2024-08-12T09:00:23.263060Z",
     "start_time": "2024-08-12T09:00:23.231814Z"
    }
   },
   "cell_type": "code",
   "source": [
    "%%time\n",
    "for m in models.values(): \n",
    "    laplace_evidences = []\n",
    "    for x in m['results'].optimize_result.x:\n",
    "        log_evidence= optimize.util.laplace_approximation_log_evidence(m['problem'], x)\n",
    "        laplace_evidences.append(log_evidence)\n",
    "                \n",
    "        m['laplace_evidences'] = np.array(laplace_evidences)\n",
    "    print(m['name'], f'laplace approximation: {m[\"laplace_evidences\"][0]}')"
   ],
   "id": "548513d76b8887dd",
   "outputs": [
    {
     "name": "stdout",
     "output_type": "stream",
     "text": [
      "True-Model laplace approximation: -20.058270674327332\n",
      "Alternative-Model laplace approximation: -21.81550659859593\n",
      "CPU times: user 27.3 ms, sys: 4.88 ms, total: 32.2 ms\n",
      "Wall time: 28.8 ms\n"
     ]
    }
   ],
   "execution_count": 8
  },
  {
   "cell_type": "markdown",
   "source": [
    "### 3. Sampling-Based Methods\n",
    "\n",
    "Sampling-based methods, such as Markov Chain Monte Carlo (MCMC) or nested sampling, do not make assumptions about the shape of the posterior and can provide more accurate estimates of the marginal likelihood. However, they can be computationally very intensive."
   ],
   "metadata": {
    "collapsed": false
   },
   "id": "b5ac29500e0e678b"
  },
  {
   "metadata": {},
   "cell_type": "markdown",
   "source": [
    "\n",
    "#### Arithmetic Mean Estimator\n",
    "\n",
    "The arithmetic mean estimator also uses samples from the prior evaluated at the likelihood function to approximate the marginal likelihood:\n",
    "\n",
    "$$\n",
    "P(\\mathcal{D} \\mid \\mathcal{M}) \\approx \\frac{1}{N} \\sum_{i=1}^N P(\\mathcal{D} \\mid \\theta_i, \\mathcal{M})\n",
    "$$\n",
    "\n",
    "The arithmetic mean estimator requires a large number of samples and is very inefficient. It approximates the marginal likelihood from below."
   ],
   "id": "212297d07ef90600"
  },
  {
   "cell_type": "code",
   "source": [
    "%%time\n",
    "for m in models.values():    \n",
    "    prior_sample = np.random.multivariate_normal(mean=m['prior_mean'], \n",
    "                                                 cov=m['prior_cov'],\n",
    "                                                 size=1000)\n",
    "    log_likelihoods = np.array([-m['neg_log_likelihood'](x) for x in prior_sample])\n",
    "    m['arithmetic_log_evidence'] = logsumexp(log_likelihoods) - np.log(log_likelihoods.size)\n",
    "    \n",
    "    print(m['name'], f'arithmetic mean: {m[\"arithmetic_log_evidence\"]}')"
   ],
   "metadata": {
    "collapsed": false,
    "ExecuteTime": {
     "end_time": "2024-08-12T09:00:24.307381Z",
     "start_time": "2024-08-12T09:00:24.251988Z"
    }
   },
   "id": "ec2f000c836abad6",
   "outputs": [
    {
     "name": "stdout",
     "output_type": "stream",
     "text": [
      "True-Model arithmetic mean: -19.987909938105005\n",
      "Alternative-Model arithmetic mean: -21.931602019465995\n",
      "CPU times: user 50.4 ms, sys: 4.27 ms, total: 54.7 ms\n",
      "Wall time: 52.8 ms\n"
     ]
    }
   ],
   "execution_count": 9
  },
  {
   "cell_type": "markdown",
   "source": [
    "#### Harmonic Mean\n",
    "\n",
    "The harmonic mean estimator uses posterior samples to estimate the marginal likelihood:\n",
    "\n",
    "$$\n",
    "P(\\mathcal{D} \\mid \\mathcal{M}) \\approx \\left( \\frac{1}{N} \\sum_{i=1}^N \\frac{1}{P(\\mathcal{D} \\mid \\theta_i, \\mathcal{M})} \\right)^{-1}\n",
    "$$\n",
    "\n",
    "where $\\theta_i$ are samples from the posterior distribution.\n",
    "\n",
    "The harmonic mean estimator approximates the evidence from above but can be unstable and fail catastrophically. A more stable version, the stabilized harmonic mean, also uses samples from the prior (see [Newton and Raftery (1994)](https://doi.org/10.1111/j.2517-6161.1994.tb01956.x)).\n",
    "\n",
    "A further improvement, the learnt harmonic mean estimator, was proposed by [McEwen et al. (2021)](https://api.semanticscholar.org/CorpusID:244709474). The estimator solves the large variance problem by interpreting the harmonic mean estimator as importance sampling and introducing a new target distribution, which is learned from the posterior samples.\n"
   ],
   "metadata": {
    "collapsed": false
   },
   "id": "77ec3e1ec016d0d1"
  },
  {
   "metadata": {
    "ExecuteTime": {
     "end_time": "2024-08-12T09:00:25.193669Z",
     "start_time": "2024-08-12T09:00:24.918315Z"
    }
   },
   "cell_type": "code",
   "source": [
    "%%time\n",
    "for m in models.values(): \n",
    "    results = sample.sample(\n",
    "        problem=m['problem'], \n",
    "        n_samples=1000, \n",
    "        result=m['results'],\n",
    "    )\n",
    "    # compute harmonic mean\n",
    "    m['harmonic_log_evidence'] = sample.util.harmonic_mean_log_evidence(results)\n",
    "    print(m['name'], f'harmonic mean: {m[\"harmonic_log_evidence\"]}')    "
   ],
   "id": "ba4cc742f71fad4",
   "outputs": [
    {
     "name": "stderr",
     "output_type": "stream",
     "text": [
      "100%|██████████| 1000/1000 [00:00<00:00, 7470.83it/s]\n",
      "Elapsed time: 0.13955499999999965\n",
      "Geweke burn-in index: 0\n"
     ]
    },
    {
     "name": "stdout",
     "output_type": "stream",
     "text": [
      "True-Model harmonic mean: -20.054755916734987\n"
     ]
    },
    {
     "name": "stderr",
     "output_type": "stream",
     "text": [
      "100%|██████████| 1000/1000 [00:00<00:00, 8357.85it/s]\n",
      "Elapsed time: 0.12690300000000043\n",
      "Geweke burn-in index: 0\n"
     ]
    },
    {
     "name": "stdout",
     "output_type": "stream",
     "text": [
      "Alternative-Model harmonic mean: -21.75224415267842\n",
      "CPU times: user 263 ms, sys: 18.8 ms, total: 282 ms\n",
      "Wall time: 273 ms\n"
     ]
    }
   ],
   "execution_count": 10
  },
  {
   "metadata": {
    "ExecuteTime": {
     "end_time": "2024-08-12T09:00:25.567411Z",
     "start_time": "2024-08-12T09:00:25.323637Z"
    }
   },
   "cell_type": "code",
   "source": [
    "%%time\n",
    "for m in models.values(): \n",
    "    results = sample.sample(\n",
    "        problem=m['problem'], \n",
    "        n_samples=800, \n",
    "        result=m['results'],\n",
    "    )\n",
    "    # compute stabilized harmonic mean\n",
    "    prior_samples = np.random.multivariate_normal(mean=m['prior_mean'], \n",
    "                                                 cov=m['prior_cov'],\n",
    "                                                 size=200)\n",
    "    m['harmonic_stabilized_log_evidence'] = sample.util.harmonic_mean_log_evidence(\n",
    "        result=results,\n",
    "        prior_samples=prior_samples,\n",
    "        neg_log_likelihood_fun=m['neg_log_likelihood']\n",
    "    )\n",
    "    print(m['name'], f'stabilized harmonic mean: {m[\"harmonic_stabilized_log_evidence\"]}')"
   ],
   "id": "a7272997b60de2e2",
   "outputs": [
    {
     "name": "stderr",
     "output_type": "stream",
     "text": [
      "100%|██████████| 800/800 [00:00<00:00, 7334.21it/s]\n",
      "Elapsed time: 0.11399399999999993\n",
      "Geweke burn-in index: 0\n"
     ]
    },
    {
     "name": "stdout",
     "output_type": "stream",
     "text": [
      "True-Model stabilized harmonic mean: -20.069306261677593\n"
     ]
    },
    {
     "name": "stderr",
     "output_type": "stream",
     "text": [
      "100%|██████████| 800/800 [00:00<00:00, 8352.38it/s]\n",
      "Elapsed time: 0.10178399999999854\n",
      "Geweke burn-in index: 400\n"
     ]
    },
    {
     "name": "stdout",
     "output_type": "stream",
     "text": [
      "Alternative-Model stabilized harmonic mean: -22.008849407899184\n",
      "CPU times: user 234 ms, sys: 16.4 ms, total: 251 ms\n",
      "Wall time: 241 ms\n"
     ]
    }
   ],
   "execution_count": 11
  },
  {
   "cell_type": "markdown",
   "source": [
    "#### Nested Sampling\n",
    "\n",
    "Nested sampling is specifically designed for estimating marginal likelihoods. It provides accurate estimates but may give less accurate posterior samples unless dynamic nested sampling is used. \n",
    "\n",
    "Dynamic nested sampling can improve the accuracy of posterior samples. The package [dynesty](https://dynesty.readthedocs.io/en/stable/) offers a lot of hyperparameters to tune accuracy and efficiency of computing samples from the posterior vs. estimating the marginal likelihood."
   ],
   "metadata": {
    "collapsed": false
   },
   "id": "443bf17c8ae27a15"
  },
  {
   "cell_type": "code",
   "source": [
    "%%time\n",
    "for m in models.values():\n",
    "    # define prior transformation needed for nested sampling\n",
    "    def prior_transform(u):\n",
    "        \"\"\"Transform prior sample from unit cube to normal prior.\"\"\"\n",
    "        t = stats.norm.ppf(u)  # convert to standard normal\n",
    "        c_sqrt = np.linalg.cholesky(m['prior_cov'])  # Cholesky decomposition\n",
    "        u_new = np.dot(c_sqrt, t)  # correlate with appropriate covariance\n",
    "        u_new += m['prior_mean']  # add mean\n",
    "        return u_new\n",
    "\n",
    "    # initialize nested sampler\n",
    "    nested_sampler = sample.DynestySampler(\n",
    "        #sampler_args={'nlive': 250},\n",
    "        run_args={'maxcall': 1000},\n",
    "        dynamic=False  # static sampler is optimized for evidence computation\n",
    "    )\n",
    "    nested_sampler.prior_transform = prior_transform\n",
    "    \n",
    "    # run nested sampling\n",
    "    result_dynesty_sample = sample.sample(\n",
    "        problem=m['problem'],\n",
    "        n_samples=None,\n",
    "        sampler=nested_sampler\n",
    "    )\n",
    "\n",
    "    # extract log evidence\n",
    "    m[f'nested_log_evidence'] = nested_sampler.sampler.results.logz[-1]\n",
    "    print(m['name'], f'nested sampling: {m[\"nested_log_evidence\"]}')"
   ],
   "metadata": {
    "collapsed": false,
    "ExecuteTime": {
     "end_time": "2024-08-12T09:00:26.777516Z",
     "start_time": "2024-08-12T09:00:26.293286Z"
    }
   },
   "id": "c0236f455dfc64d5",
   "outputs": [
    {
     "name": "stderr",
     "output_type": "stream",
     "text": [
      "Assuming 'prior_transform' is correctly specified. If 'x_priors' is not uniform, 'prior_transform' has to be adjusted accordingly.\n",
      "557it [00:00, 2948.24it/s, +500 | bound: 0 | nc: 1 | ncall: 2006 | eff(%): 70.186 | loglstar:   -inf < -18.071 <    inf | logz: -20.121 +/-    nan | dlogz:  0.005 >  0.509]\n",
      "Elapsed time: 0.19602899999999934\n",
      "Assuming 'prior_transform' is correctly specified. If 'x_priors' is not uniform, 'prior_transform' has to be adjusted accordingly.\n"
     ]
    },
    {
     "name": "stdout",
     "output_type": "stream",
     "text": [
      "True-Model nested sampling: -20.12127879730934\n"
     ]
    },
    {
     "name": "stderr",
     "output_type": "stream",
     "text": [
      "539it [00:00, 3146.77it/s, +500 | bound: 0 | nc: 1 | ncall: 2001 | eff(%): 69.221 | loglstar:   -inf < -20.273 <    inf | logz: -21.788 +/-    nan | dlogz:  0.003 >  0.509]\n",
      "Elapsed time: 0.18314699999999995\n"
     ]
    },
    {
     "name": "stdout",
     "output_type": "stream",
     "text": [
      "Alternative-Model nested sampling: -21.788296581256215\n",
      "CPU times: user 461 ms, sys: 38.8 ms, total: 500 ms\n",
      "Wall time: 482 ms\n"
     ]
    }
   ],
   "execution_count": 12
  },
  {
   "cell_type": "markdown",
   "source": [
    "#### Thermodynamic Integration and Steppingstone Sampling\n",
    "\n",
    "These methods are based on the power posterior, where the posterior is raised to a power $t$ and integrated over $t$:\n",
    "\n",
    "$$\n",
    "P(\\mathcal{D} \\mid \\mathcal{M}) = \\int_0^1 \\frac1{Z_t} P(\\mathcal{D} \\mid \\theta, \\mathcal{M})^t P(\\theta \\mid \\mathcal{M})^{1-t} \\, dt\n",
    "$$\n",
    "\n",
    "Parallel tempering is a sampling algorithm that improves accuracy for multimodal posteriors by sampling from different temperatures simultaneously and exchanging samples between parallel chains. It can be used to sample from all power posteriors simultaneously allowing for thermodynamic integration and steppingstone sampling [Annis et al. (2019)](https://doi.org/10.1016/j.jmp.2019.01.005).\n",
    "\n",
    "These methods can be more accurate for complex posteriors but are computationally intensive. Thermodynamic integration relies on integrating the integral over the temperature $t$, while steppingstone sampling approximates the integral with a sum over a finite number of temperatures using an importance sampling estimator. Accuracy can be improved by using more temperatures.\n"
   ],
   "metadata": {
    "collapsed": false
   },
   "id": "dcb16e2efcf4bf0d"
  },
  {
   "metadata": {
    "ExecuteTime": {
     "end_time": "2024-08-12T09:00:30.652971Z",
     "start_time": "2024-08-12T09:00:27.581443Z"
    }
   },
   "cell_type": "code",
   "source": [
    "%%time\n",
    "for m in models.values():\n",
    "    # initialize parallel tempering sampler\n",
    "    ti_sampler = sample.ParallelTemperingSampler(  # not adaptive, since we want fixed temperatures\n",
    "        internal_sampler=sample.AdaptiveMetropolisSampler(),\n",
    "        n_chains=10\n",
    "    )\n",
    "\n",
    "    # run mcmc with parallel tempering\n",
    "    result_ti = sample.sample(\n",
    "                            problem=m['problem'], \n",
    "                            n_samples=1000, \n",
    "                            sampler=ti_sampler,\n",
    "                            result=m['results']\n",
    "                        )    \n",
    "    # compute log evidence via thermodynamic integration\n",
    "    m['thermodynamic_log_evidence'] = ti_sampler.compute_log_evidence(result_ti)\n",
    "    print(m['name'], f'thermodynamic integration: {m[\"thermodynamic_log_evidence\"]}')\n",
    "    \n",
    "    # compute log evidence via steppingstone sampling\n",
    "    m['steppingstone_log_evidence'] = ti_sampler.compute_log_evidence(result_ti, method='steppingstone')\n",
    "    print(m['name'], f'steppingstone sampling: {m[\"steppingstone_log_evidence\"]}')"
   ],
   "id": "13059e00c982d98d",
   "outputs": [
    {
     "name": "stderr",
     "output_type": "stream",
     "text": [
      "Initializing betas with \"beta decay\".\n",
      "100%|██████████| 1000/1000 [00:01<00:00, 684.43it/s]\n",
      "Elapsed time: 1.5045830000000002\n",
      "Geweke burn-in index: 0\n",
      "Geweke burn-in index: 0\n",
      "Initializing betas with \"beta decay\".\n"
     ]
    },
    {
     "name": "stdout",
     "output_type": "stream",
     "text": [
      "True-Model thermodynamic integration: -20.10682989244073\n",
      "True-Model steppingstone sampling: -20.077849668913643\n"
     ]
    },
    {
     "name": "stderr",
     "output_type": "stream",
     "text": [
      "100%|██████████| 1000/1000 [00:01<00:00, 707.41it/s]\n",
      "Elapsed time: 1.4895709999999998\n",
      "Geweke burn-in index: 0\n",
      "Geweke burn-in index: 0\n"
     ]
    },
    {
     "name": "stdout",
     "output_type": "stream",
     "text": [
      "Alternative-Model thermodynamic integration: -21.8901356323028\n",
      "Alternative-Model steppingstone sampling: -21.87289094297379\n",
      "CPU times: user 2.99 s, sys: 201 ms, total: 3.19 s\n",
      "Wall time: 3.07 s\n"
     ]
    }
   ],
   "execution_count": 13
  },
  {
   "cell_type": "markdown",
   "source": [
    "#### Variational Inference\n",
    "\n",
    "Variational inference approximates the posterior with a simpler distribution and can be faster than sampling methods for large problems. The marginal likelihood can be estimated using similar approaches as before, but the accuracy is limited by the choice of variational family.\n",
    "\n",
    "Variational inference optimization is based on the Evidence Lower Bound (ELBO), providing an additional check for the estimator."
   ],
   "metadata": {
    "collapsed": false
   },
   "id": "90fd0f80a9d94b7d"
  },
  {
   "metadata": {
    "ExecuteTime": {
     "end_time": "2024-08-12T09:01:27.791508Z",
     "start_time": "2024-08-12T09:00:30.654048Z"
    }
   },
   "cell_type": "code",
   "source": [
    "%%time\n",
    "for m in models.values():\n",
    "    \n",
    "    # one could define callbacks to check convergence during optimization\n",
    "    # import pymc as pm\n",
    "    # cb = [\n",
    "    #     pm.callbacks.CheckParametersConvergence(\n",
    "    #         tolerance=1e-3, diff='absolute'),\n",
    "    #     pm.callbacks.CheckParametersConvergence(\n",
    "    #         tolerance=1e-3, diff='relative'),\n",
    "    # ]\n",
    "\n",
    "    pypesto_variational_result = variational.variational_fit(\n",
    "        problem=m['problem'],\n",
    "        method='advi',\n",
    "        n_iterations=10000,\n",
    "        n_samples=None,\n",
    "        result=m['results'],\n",
    "        #callbacks=cb,\n",
    "    )\n",
    "    \n",
    "    # negative elbo, this is bound to the evidence (optimization criterion)\n",
    "    vi_lower_bound = np.max(-pypesto_variational_result.variational_result.data.hist)\n",
    "            \n",
    "    # compute harmonic mean from posterior samples\n",
    "    approx_sample = pypesto_variational_result.variational_result.sample(1000)['trace_x'][0]\n",
    "    neg_log_likelihoods = np.array([m['neg_log_likelihood'](ps) for ps in approx_sample])\n",
    "    m['vi_harmonic_log_evidences'] = -logsumexp(neg_log_likelihoods) + np.log(\n",
    "            neg_log_likelihoods.size\n",
    "        )\n",
    "    print(m['name'], f'harmonic mean with variational inference: {m[\"vi_harmonic_log_evidences\"]}')\n",
    "    print(\"Evidence lower bound:\", vi_lower_bound)\n",
    "    \n",
    "    # evidence cannot be smaller than the lower bound\n",
    "    m[\"vi_harmonic_log_evidences\"] = max(m[\"vi_harmonic_log_evidences\"], vi_lower_bound)"
   ],
   "id": "c616b8a566478d0d",
   "outputs": [
    {
     "data": {
      "text/plain": [
       "<IPython.core.display.HTML object>"
      ],
      "text/html": [
       "\n",
       "<style>\n",
       "    /* Turns off some styling */\n",
       "    progress {\n",
       "        /* gets rid of default border in Firefox and Opera. */\n",
       "        border: none;\n",
       "        /* Needs to be in here for Safari polyfill so background images work as expected. */\n",
       "        background-size: auto;\n",
       "    }\n",
       "    progress:not([value]), progress:not([value])::-webkit-progress-bar {\n",
       "        background: repeating-linear-gradient(45deg, #7e7e7e, #7e7e7e 10px, #5c5c5c 10px, #5c5c5c 20px);\n",
       "    }\n",
       "    .progress-bar-interrupted, .progress-bar-interrupted::-webkit-progress-bar {\n",
       "        background: #F44336;\n",
       "    }\n",
       "</style>\n"
      ]
     },
     "metadata": {},
     "output_type": "display_data"
    },
    {
     "data": {
      "text/plain": [
       "<IPython.core.display.HTML object>"
      ],
      "text/html": [
       "\n",
       "    <div>\n",
       "      <progress value='10000' class='' max='10000' style='width:300px; height:20px; vertical-align: middle;'></progress>\n",
       "      100.00% [10000/10000 00:01&lt;00:00 Average Loss = 26.19]\n",
       "    </div>\n",
       "    "
      ]
     },
     "metadata": {},
     "output_type": "display_data"
    },
    {
     "name": "stderr",
     "output_type": "stream",
     "text": [
      "Finished [100%]: Average Loss = 26.192\n",
      "Elapsed time: 3.4685060000000014\n"
     ]
    },
    {
     "name": "stdout",
     "output_type": "stream",
     "text": [
      "True-Model variational inference (harmonic mean): -23.991830601740517\n",
      "Evidence lower bound: -23.323020428266148\n"
     ]
    },
    {
     "data": {
      "text/plain": [
       "<IPython.core.display.HTML object>"
      ],
      "text/html": [
       "\n",
       "<style>\n",
       "    /* Turns off some styling */\n",
       "    progress {\n",
       "        /* gets rid of default border in Firefox and Opera. */\n",
       "        border: none;\n",
       "        /* Needs to be in here for Safari polyfill so background images work as expected. */\n",
       "        background-size: auto;\n",
       "    }\n",
       "    progress:not([value]), progress:not([value])::-webkit-progress-bar {\n",
       "        background: repeating-linear-gradient(45deg, #7e7e7e, #7e7e7e 10px, #5c5c5c 10px, #5c5c5c 20px);\n",
       "    }\n",
       "    .progress-bar-interrupted, .progress-bar-interrupted::-webkit-progress-bar {\n",
       "        background: #F44336;\n",
       "    }\n",
       "</style>\n"
      ]
     },
     "metadata": {},
     "output_type": "display_data"
    },
    {
     "data": {
      "text/plain": [
       "<IPython.core.display.HTML object>"
      ],
      "text/html": [
       "\n",
       "    <div>\n",
       "      <progress value='10000' class='' max='10000' style='width:300px; height:20px; vertical-align: middle;'></progress>\n",
       "      100.00% [10000/10000 00:01&lt;00:00 Average Loss = 25.006]\n",
       "    </div>\n",
       "    "
      ]
     },
     "metadata": {},
     "output_type": "display_data"
    },
    {
     "name": "stderr",
     "output_type": "stream",
     "text": [
      "Finished [100%]: Average Loss = 25.003\n",
      "Elapsed time: 2.3428910000000016\n"
     ]
    },
    {
     "name": "stdout",
     "output_type": "stream",
     "text": [
      "Alternative-Model variational inference (harmonic mean): -26.752186061154937\n",
      "Evidence lower bound: -22.95957932128538\n",
      "CPU times: user 5.17 s, sys: 1.25 s, total: 6.42 s\n",
      "Wall time: 57.1 s\n"
     ]
    }
   ],
   "execution_count": 14
  },
  {
   "metadata": {},
   "cell_type": "markdown",
   "source": "## Comparison",
   "id": "5e6c53b1a6414210"
  },
  {
   "metadata": {
    "ExecuteTime": {
     "end_time": "2024-08-12T09:01:27.795675Z",
     "start_time": "2024-08-12T09:01:27.792711Z"
    }
   },
   "cell_type": "code",
   "source": [
    "labels = [\n",
    "        '-1/2 BIC',\n",
    "        'Arithmetic Mean',\n",
    "        'Laplace', \n",
    "        'Harmonic Mean', \n",
    "        'Stabilized\\nHarmonic Mean',\n",
    "        'Nested Sampling',\n",
    "        'Thermodynamic\\nIntegration',\n",
    "        'Steppingstone\\nSampling',\n",
    "        'Variational Inference\\nHarmonic Mean'\n",
    "]\n",
    "\n",
    "bayes_factors = [\n",
    "    -1/2*models['mixture_model1']['BIC']+1/2*models['mixture_model2']['BIC'],\n",
    "    models['mixture_model1']['arithmetic_log_evidence']-models['mixture_model2']['arithmetic_log_evidence'],\n",
    "    models['mixture_model1']['laplace_evidences'][0]-models['mixture_model2']['laplace_evidences'][0],\n",
    "    models['mixture_model1']['harmonic_log_evidence']-models['mixture_model2']['harmonic_log_evidence'],\n",
    "    models['mixture_model1']['harmonic_stabilized_log_evidence']-models['mixture_model2']['harmonic_stabilized_log_evidence'],\n",
    "    models['mixture_model1']['nested_log_evidence']-models['mixture_model2']['nested_log_evidence'],\n",
    "    models['mixture_model1']['thermodynamic_log_evidence']-models['mixture_model2']['thermodynamic_log_evidence'],\n",
    "    models['mixture_model1']['steppingstone_log_evidence']-models['mixture_model2']['steppingstone_log_evidence'],\n",
    "    models['mixture_model1']['vi_harmonic_log_evidences']-models['mixture_model2']['vi_harmonic_log_evidences']\n",
    "]\n",
    "\n",
    "true_bf = models['mixture_model1']['true_evidence'] - models['mixture_model2']['true_evidence']"
   ],
   "id": "fbb5a071645523d4",
   "outputs": [],
   "execution_count": 15
  },
  {
   "metadata": {
    "ExecuteTime": {
     "end_time": "2024-08-12T09:01:27.995048Z",
     "start_time": "2024-08-12T09:01:27.796425Z"
    }
   },
   "cell_type": "code",
   "source": [
    "fig, ax = plt.subplots(1, 1, tight_layout=True, sharey=True, sharex=True, figsize=(6, 4))\n",
    "colors = ['blue', 'orange']\n",
    "\n",
    "for i, m in enumerate(models.values()):\n",
    "    evidences = [\n",
    "        -1/2*m['BIC'],\n",
    "        m['arithmetic_log_evidence'],\n",
    "        m['laplace_evidences'][0],\n",
    "        m['harmonic_log_evidence'],\n",
    "        m['harmonic_stabilized_log_evidence'],\n",
    "        m['nested_log_evidence'],\n",
    "        m['thermodynamic_log_evidence'],\n",
    "        m['steppingstone_log_evidence'],\n",
    "        m['vi_harmonic_log_evidences']\n",
    "    ]\n",
    "    ax.scatter(x=np.arange(len(evidences)), y=evidences, color=colors[i], label=m['name'])    \n",
    "    ax.axhline(m['true_evidence'], color=colors[i], alpha=0.75, label=f'True evidence of {m[\"name\"]}')\n",
    "    ax.set_xlabel('Estimator')\n",
    "    ax.set_title(f'Comparison of different evidence estimators')\n",
    "    ax.set_xticks(ticks=np.arange(len(evidences)), labels=labels, rotation=60)\n",
    "ax.set_ylabel('Ln Evidence')\n",
    "fig.legend(ncols=1, loc='center right', bbox_to_anchor=(1.5, 0.7))\n",
    "plt.show()"
   ],
   "id": "30fea0ed78548d6b",
   "outputs": [
    {
     "data": {
      "text/plain": [
       "<Figure size 600x400 with 1 Axes>"
      ],
      "image/png": "[encoded data removed]"
     },
     "metadata": {},
     "output_type": "display_data"
    }
   ],
   "execution_count": 16
  },
  {
   "cell_type": "code",
   "source": [
    "fig, ax = plt.subplots(1, 1, tight_layout=True, figsize=(6, 5))\n",
    "ax.axhline(true_bf, linestyle='-', color='r', label='True Bayes Factor')\n",
    "plt.scatter(x=np.arange(len(bayes_factors)), y=bayes_factors, label='Estimates')\n",
    "\n",
    "# add decision thresholds\n",
    "c = lambda x: np.log(np.power(10, x))  # usually defined in log10, convert to ln\n",
    "ax.axhline(c(0), color='red', linestyle='--', label='\"Not worth more than a bare mention\"')\n",
    "ax.axhline(c(0.5), color='orange', linestyle='--', label='\"Substantial\"')\n",
    "ax.axhline(c(1), color='yellow', linestyle='--', label='\"Strong\"')\n",
    "ax.axhline(c(2),  color='green', linestyle='--', label='\"Decisive\"')\n",
    "\n",
    "ax.set_ylabel('Ln Bayes Factor')\n",
    "ax.set_xlabel('Estimator')\n",
    "ax.set_title(f'Bayes Factor of {models[\"mixture_model1\"][\"name\"]} vs. {models[\"mixture_model2\"][\"name\"]}')\n",
    "plt.xticks(ticks=np.arange(len(bayes_factors)), labels=labels, rotation=60)\n",
    "fig.legend(ncols=1, loc='center right', bbox_to_anchor=(1.5, 0.7))\n",
    "plt.show()"
   ],
   "metadata": {
    "collapsed": false,
    "ExecuteTime": {
     "end_time": "2024-08-12T09:01:28.115528Z",
     "start_time": "2024-08-12T09:01:28.001133Z"
    }
   },
   "id": "5d6590690b5c7a30",
   "outputs": [
    {
     "data": {
      "text/plain": [
       "<Figure size 600x500 with 1 Axes>"
      ],
      "image/png": "[encoded data removed]"
     },
     "metadata": {},
     "output_type": "display_data"
    }
   ],
   "execution_count": 17
  },
  {
   "metadata": {},
   "cell_type": "markdown",
   "source": [
    "As expected, nested sampling and the methods based on power posteriors are the most accurate ones.\n",
    "\n",
    "Bayes factors and marginal likelihoods are powerful tools for Bayesian model comparison. While there are various methods to compute marginal likelihoods, each has its strengths and weaknesses. Choosing the appropriate method depends on the specific context, the complexity of the models, and the computational resources available."
   ],
   "id": "6cbfd915823d6989"
  },
  {
   "metadata": {},
   "cell_type": "code",
   "source": "",
   "id": "dc6c042c5c1cf077",
   "outputs": [],
   "execution_count": null
  }
 ],
 "metadata": {
  "kernelspec": {
   "display_name": "Python 3 (ipykernel)",
   "language": "python",
   "name": "python3"
  },
  "language_info": {
   "codemirror_mode": {
    "name": "ipython",
    "version": 3
   },
   "file_extension": ".py",
   "mimetype": "text/x-python",
   "name": "python",
   "nbconvert_exporter": "python",
   "pygments_lexer": "ipython3",
   "version": "3.9.16"
  }
 },
 "nbformat": 4,
 "nbformat_minor": 5
}
