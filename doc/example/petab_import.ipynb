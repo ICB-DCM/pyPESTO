{
 "cells": [
  {
   "cell_type": "markdown",
   "metadata": {},
   "source": [
    "# Model import using the Petab format"
   ]
  },
  {
   "cell_type": "markdown",
   "metadata": {},
   "source": [
    "In this notebook, we illustrate how to use [pyPESTO](https://github.com/icb-dcm/pypesto.git) together with [PEtab](https://github.com/petab-dev/petab.git) and [AMICI](https://github.com/icb-dcm/amici.git). We employ models from the [benchmark collection](https://github.com/benchmarking-initiative/benchmark-models-petab), which we first download:"
   ]
  },
  {
   "cell_type": "code",
   "execution_count": 1,
   "metadata": {},
   "outputs": [
    {
     "name": "stdout",
     "output_type": "stream",
     "text": [
      "fatal: Zielpfad 'tmp/benchmark-models' existiert bereits und ist kein leeres Verzeichnis.\n",
      "Bereits aktuell.\n"
     ]
    }
   ],
   "source": [
    "import pypesto\n",
    "import pypesto.petab\n",
    "import pypesto.optimize as optimize\n",
    "import pypesto.visualize as visualize\n",
    "import amici\n",
    "import petab\n",
    "\n",
    "import os\n",
    "import numpy as np\n",
    "import matplotlib.pyplot as plt\n",
    "\n",
    "%matplotlib inline\n",
    "\n",
    "!git clone --depth 1 https://github.com/Benchmarking-Initiative/Benchmark-Models-PEtab.git tmp/benchmark-models || (cd tmp/benchmark-models && git pull)\n",
    "\n",
    "folder_base = \"tmp/benchmark-models/Benchmark-Models/\""
   ]
  },
  {
   "cell_type": "markdown",
   "metadata": {},
   "source": [
    "## Import"
   ]
  },
  {
   "cell_type": "markdown",
   "metadata": {},
   "source": [
    "### Manage PEtab model"
   ]
  },
  {
   "cell_type": "markdown",
   "metadata": {},
   "source": [
    "A PEtab problem comprises all the information on the model, the data and the parameters to perform parameter estimation. We import a model as a `petab.Problem`."
   ]
  },
  {
   "cell_type": "code",
   "execution_count": 2,
   "metadata": {
    "scrolled": true
   },
   "outputs": [],
   "source": [
    "# a collection of models that can be simulated\n",
    "\n",
    "#model_name = \"Zheng_PNAS2012\"\n",
    "model_name = \"Boehm_JProteomeRes2014\"\n",
    "#model_name = \"Fujita_SciSignal2010\"\n",
    "#model_name = \"Sneyd_PNAS2002\"\n",
    "#model_name = \"Borghans_BiophysChem1997\"\n",
    "#model_name = \"Elowitz_Nature2000\"\n",
    "#model_name = \"Crauste_CellSystems2017\"\n",
    "#model_name = \"Lucarelli_CellSystems2018\"\n",
    "#model_name = \"Schwen_PONE2014\"\n",
    "#model_name = \"Blasi_CellSystems2016\"\n",
    "\n",
    "# the yaml configuration file links to all needed files\n",
    "yaml_config = os.path.join(folder_base, model_name, model_name + '.yaml')\n",
    "\n",
    "# create a petab problem\n",
    "petab_problem = petab.Problem.from_yaml(yaml_config)"
   ]
  },
  {
   "cell_type": "markdown",
   "metadata": {},
   "source": [
    "### Import model to AMICI"
   ]
  },
  {
   "cell_type": "markdown",
   "metadata": {},
   "source": [
    "The model must be imported to pyPESTO and AMICI. Therefore, we create a `pypesto.PetabImporter` from the problem, and create an AMICI model."
   ]
  },
  {
   "cell_type": "code",
   "execution_count": 3,
   "metadata": {
    "scrolled": true
   },
   "outputs": [
    {
     "name": "stdout",
     "output_type": "stream",
     "text": [
      "Model parameters: ['Epo_degradation_BaF3', 'k_exp_hetero', 'k_exp_homo', 'k_imp_hetero', 'k_imp_homo', 'k_phos', 'ratio', 'specC17', 'noiseParameter1_pSTAT5A_rel', 'noiseParameter1_pSTAT5B_rel', 'noiseParameter1_rSTAT5A_rel'] \n",
      "\n",
      "Model const parameters: [] \n",
      "\n",
      "Model outputs:    ['pSTAT5A_rel', 'pSTAT5B_rel', 'rSTAT5A_rel'] \n",
      "\n",
      "Model states:     ['STAT5A', 'STAT5B', 'pApB', 'pApA', 'pBpB', 'nucpApA', 'nucpApB', 'nucpBpB'] \n",
      "\n"
     ]
    }
   ],
   "source": [
    "importer = pypesto.petab.PetabImporter(petab_problem)\n",
    "\n",
    "model = importer.create_model()\n",
    "\n",
    "# some model properties\n",
    "print(\"Model parameters:\", list(model.getParameterIds()), '\\n')\n",
    "print(\"Model const parameters:\", list(model.getFixedParameterIds()), '\\n')\n",
    "print(\"Model outputs:   \", list(model.getObservableIds()), '\\n')\n",
    "print(\"Model states:    \", list(model.getStateIds()), '\\n')"
   ]
  },
  {
   "cell_type": "markdown",
   "metadata": {},
   "source": [
    "### Create objective function"
   ]
  },
  {
   "cell_type": "markdown",
   "metadata": {},
   "source": [
    "To perform parameter estimation, we need to define an objective function, which integrates the model, data, and noise model defined in the PEtab problem."
   ]
  },
  {
   "cell_type": "code",
   "execution_count": 4,
   "metadata": {
    "scrolled": true
   },
   "outputs": [],
   "source": [
    "import libsbml\n",
    "converter_config = libsbml.SBMLLocalParameterConverter()\\\n",
    "    .getDefaultProperties()\n",
    "petab_problem.sbml_document.convert(converter_config)\n",
    "\n",
    "obj = importer.create_objective()\n",
    "\n",
    "# for some models, hyperparamters need to be adjusted\n",
    "#obj.amici_solver.setMaxSteps(10000)\n",
    "#obj.amici_solver.setRelativeTolerance(1e-7)\n",
    "#obj.amici_solver.setAbsoluteTolerance(1e-7)"
   ]
  },
  {
   "cell_type": "markdown",
   "metadata": {},
   "source": [
    "We can request variable derivatives via `sensi_orders`, or function values or residuals as specified via `mode`. Passing `return_dict`, we obtain the direct result of the AMICI simulation."
   ]
  },
  {
   "cell_type": "code",
   "execution_count": 5,
   "metadata": {},
   "outputs": [
    {
     "name": "stdout",
     "output_type": "stream",
     "text": [
      "{'fval': 138.2219980325784, 'grad': array([ 2.20274551e-02,  5.53227528e-02,  5.78848630e-03,  5.39469979e-03,\n",
      "       -4.51595807e-05,  7.91352044e-03,  0.00000000e+00,  1.07805893e-02,\n",
      "        2.40364901e-02,  1.91910649e-02,  0.00000000e+00]), 'rdatas': [<amici.numpy.ReturnDataView object at 0x7f60dbffd340>]}\n"
     ]
    }
   ],
   "source": [
    "ret = obj(petab_problem.x_nominal_scaled, mode='mode_fun', sensi_orders=(0,1), return_dict=True)\n",
    "print(ret)"
   ]
  },
  {
   "cell_type": "markdown",
   "metadata": {},
   "source": [
    "The problem defined in PEtab also defines the fixing of parameters, and parameter bounds. This information is contained in a `pypesto.Problem`."
   ]
  },
  {
   "cell_type": "code",
   "execution_count": 6,
   "metadata": {},
   "outputs": [],
   "source": [
    "problem = importer.create_problem(obj)"
   ]
  },
  {
   "cell_type": "markdown",
   "metadata": {},
   "source": [
    "In particular, the problem accounts for the fixing of parametes."
   ]
  },
  {
   "cell_type": "code",
   "execution_count": 7,
   "metadata": {},
   "outputs": [
    {
     "name": "stdout",
     "output_type": "stream",
     "text": [
      "[6, 10] [0, 1, 2, 3, 4, 5, 7, 8, 9]\n"
     ]
    }
   ],
   "source": [
    "print(problem.x_fixed_indices, problem.x_free_indices)"
   ]
  },
  {
   "cell_type": "markdown",
   "metadata": {},
   "source": [
    "The problem creates a copy of he objective function that takes into account the fixed parameters. The objective function is able to calculate function values and derivatives. A finite difference check whether the computed gradient is accurate:"
   ]
  },
  {
   "cell_type": "code",
   "execution_count": 8,
   "metadata": {},
   "outputs": [
    {
     "name": "stdout",
     "output_type": "stream",
     "text": [
      "(138.2219980325784, array([ 2.20274551e-02,  5.53227528e-02,  5.78848630e-03,  5.39469979e-03,\n",
      "       -4.51595807e-05,  7.91352044e-03,  1.07805893e-02,  2.40364901e-02,\n",
      "        1.91910649e-02]))\n"
     ]
    }
   ],
   "source": [
    "objective = problem.objective\n",
    "ret = objective(petab_problem.x_nominal_free_scaled, sensi_orders=(0,1))\n",
    "print(ret)"
   ]
  },
  {
   "cell_type": "code",
   "execution_count": 9,
   "metadata": {},
   "outputs": [
    {
     "name": "stdout",
     "output_type": "stream",
     "text": [
      "fd:  [0.01251672 0.05435043 0.01127779 0.00407249 0.00251655 0.00484676\n",
      " 0.01077929 0.02403519 0.01918976]\n",
      "l2 difference:  0.011800321295168533\n"
     ]
    }
   ],
   "source": [
    "eps = 1e-4\n",
    "\n",
    "def fd(x):\n",
    "    grad = np.zeros_like(x)\n",
    "    j = 0\n",
    "    for i, xi in enumerate(x):\n",
    "        mask = np.zeros_like(x)\n",
    "        mask[i] += eps\n",
    "        valinc, _ = objective(x+mask, sensi_orders=(0,1))\n",
    "        valdec, _ = objective(x-mask, sensi_orders=(0,1))\n",
    "        grad[j] = (valinc - valdec) / (2*eps)\n",
    "        j += 1\n",
    "    return grad\n",
    "\n",
    "fdval = fd(petab_problem.x_nominal_free_scaled)\n",
    "print(\"fd: \", fdval)\n",
    "print(\"l2 difference: \", np.linalg.norm(ret[1] - fdval))"
   ]
  },
  {
   "cell_type": "markdown",
   "metadata": {},
   "source": [
    "### In short"
   ]
  },
  {
   "cell_type": "markdown",
   "metadata": {},
   "source": [
    "All of the previous steps can be shortened by directly creating an importer object and then a problem:"
   ]
  },
  {
   "cell_type": "code",
   "execution_count": 10,
   "metadata": {},
   "outputs": [],
   "source": [
    "importer = pypesto.petab.PetabImporter.from_yaml(yaml_config)\n",
    "problem = importer.create_problem()"
   ]
  },
  {
   "cell_type": "markdown",
   "metadata": {},
   "source": [
    "## Run optimization"
   ]
  },
  {
   "cell_type": "markdown",
   "metadata": {},
   "source": [
    "Given the problem, we can perform optimization. We can specify an optimizer to use, and a parallelization engine to speed things up."
   ]
  },
  {
   "cell_type": "code",
   "execution_count": null,
   "metadata": {
    "scrolled": true
   },
   "outputs": [
    {
     "name": "stderr",
     "output_type": "stream",
     "text": [
      "Engine set up to use up to 8 processes in total. The number was automatically determined and might not be appropriate on some systems.\n",
      "[Warning] AMICI:CVODES:CVode:ERR_FAILURE: AMICI ERROR: in module CVODES in function CVode : At t = 94.0005 and h = 1.64835e-05, the error test failed repeatedly or with |h| = hmin. \n",
      "[Warning] AMICI:simulation: AMICI forward simulation failed at t = 94.000459:\n",
      "AMICI failed to integrate the forward problem\n",
      "\n",
      "[Warning] AMICI:CVODES:CVode:ERR_FAILURE: AMICI ERROR: in module CVODES in function CVode : At t = 94.0005 and h = 1.64835e-05, the error test failed repeatedly or with |h| = hmin. \n",
      "[Warning] AMICI:simulation: AMICI forward simulation failed at t = 94.000459:\n",
      "AMICI failed to integrate the forward problem\n",
      "\n"
     ]
    }
   ],
   "source": [
    "optimizer = optimize.ScipyOptimizer()\n",
    "\n",
    "# engine = pypesto.engine.SingleCoreEngine()\n",
    "engine = pypesto.engine.MultiProcessEngine()\n",
    "\n",
    "# do the optimization\n",
    "result = optimize.minimize(problem=problem, optimizer=optimizer,\n",
    "                           n_starts=10, engine=engine)"
   ]
  },
  {
   "cell_type": "markdown",
   "metadata": {},
   "source": [
    "## Predict"
   ]
  },
  {
   "cell_type": "markdown",
   "metadata": {},
   "source": [
    "### Create prediction function"
   ]
  },
  {
   "cell_type": "markdown",
   "metadata": {},
   "source": [
    "We can use pyPESTO for predictions: Any function of the model observables can be computed by using a post-processing function, which can be passed to the model prediction."
   ]
  },
  {
   "cell_type": "code",
   "execution_count": null,
   "metadata": {
    "scrolled": true
   },
   "outputs": [],
   "source": [
    "# create a prediction function, which approximates, e.g., integral over time of an observable.\n",
    "\n",
    "def post_process_y(ys_list: list):\n",
    "    # we will need the output timepoints in this example\n",
    "    timepoints = [0., 2.5, 5., 10., 15., 20., 30., 40., 50., 60., 80., 100., 120., 160., 200., 240.]\n",
    "\n",
    "    # define outputs\n",
    "    outputs = []\n",
    "    # iterate over simulation conditions (in this example, there is only one)\n",
    "    for ys in ys_list:\n",
    "        # In this example, we're only interested in the first observable\n",
    "        y = list(ys[:,0])\n",
    "        integral = [0.,]\n",
    "        for i, iy in enumerate(y[:-1]):\n",
    "            integral.append(integral[-1] + (timepoints[i+1] - timepoints[i]) * (y[i+1] + iy) / 2)\n",
    "        \n",
    "        # add the integral to the outputs (one output per condition)\n",
    "        outputs.append(integral)\n",
    "        \n",
    "    return outputs\n",
    "\n",
    "pred = importer.create_prediction(obj, \n",
    "                                  post_processing=post_process_y,\n",
    "                                  observables=['y0_integral',])"
   ]
  },
  {
   "cell_type": "markdown",
   "metadata": {},
   "source": [
    "We can request variable derivatives via `sensi_orders` also for predictions."
   ]
  },
  {
   "cell_type": "code",
   "execution_count": null,
   "metadata": {},
   "outputs": [],
   "source": [
    "ret = pred(petab_problem.x_nominal_scaled, sensi_orders=(0,1))\n",
    "print('timepoints:', ret.conditions[0].timepoints)\n",
    "print('observables:', ret.conditions[0].observables)\n",
    "print('output_', ret.conditions[0].output)"
   ]
  },
  {
   "cell_type": "markdown",
   "metadata": {},
   "source": [
    "## Visualize"
   ]
  },
  {
   "cell_type": "markdown",
   "metadata": {},
   "source": [
    "The results are contained in a `pypesto.Result` object. It contains e.g. the optimal function values."
   ]
  },
  {
   "cell_type": "code",
   "execution_count": null,
   "metadata": {},
   "outputs": [],
   "source": [
    "result.optimize_result.get_for_key('fval')"
   ]
  },
  {
   "cell_type": "markdown",
   "metadata": {},
   "source": [
    "We can use the standard pyPESTO plotting routines to visualize and analyze the results."
   ]
  },
  {
   "cell_type": "code",
   "execution_count": null,
   "metadata": {},
   "outputs": [],
   "source": [
    "ref = visualize.create_references(\n",
    "    x=petab_problem.x_nominal_scaled, fval=obj(petab_problem.x_nominal_scaled))\n",
    "\n",
    "visualize.waterfall(result, reference=ref, scale_y='lin')\n",
    "visualize.parameters(result, reference=ref)"
   ]
  }
 ],
 "metadata": {
  "kernelspec": {
   "display_name": "devpy38",
   "language": "python",
   "name": "devpy38"
  },
  "language_info": {
   "codemirror_mode": {
    "name": "ipython",
    "version": 3
   },
   "file_extension": ".py",
   "mimetype": "text/x-python",
   "name": "python",
   "nbconvert_exporter": "python",
   "pygments_lexer": "ipython3",
   "version": "3.8.0"
  },
  "pycharm": {
   "stem_cell": {
    "cell_type": "raw",
    "metadata": {
     "collapsed": false
    },
    "source": []
   }
  },
  "toc": {
   "base_numbering": 1,
   "nav_menu": {},
   "number_sections": true,
   "sideBar": true,
   "skip_h1_title": false,
   "title_cell": "Table of Contents",
   "title_sidebar": "Contents",
   "toc_cell": false,
   "toc_position": {},
   "toc_section_display": true,
   "toc_window_display": false
  }
 },
 "nbformat": 4,
 "nbformat_minor": 4
}
