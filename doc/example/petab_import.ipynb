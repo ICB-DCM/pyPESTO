{
 "cells": [
  {
   "cell_type": "markdown",
   "metadata": {},
   "source": [
    "# Model import using the Petab format"
   ]
  },
  {
   "cell_type": "markdown",
   "metadata": {},
   "source": [
    "In this notebook, we illustrate using pyPESTO together with PEtab and AMICI. We employ models from the benchmark collection, which we first download:"
   ]
  },
  {
   "cell_type": "code",
   "execution_count": 2,
   "metadata": {},
   "outputs": [
    {
     "name": "stdout",
     "output_type": "stream",
     "text": [
      "fatal: destination path 'tmp/benchmark-models' already exists and is not an empty directory.\n",
      "Already up to date.\n"
     ]
    }
   ],
   "source": [
    "import pypesto\n",
    "import amici\n",
    "import petab\n",
    "\n",
    "import os\n",
    "import numpy as np\n",
    "import matplotlib.pyplot as plt\n",
    "\n",
    "%matplotlib inline\n",
    "\n",
    "# Download benchmark models - Note: 200MB :(\n",
    "!git clone --depth 1 https://github.com/LeonardSchmiester/Benchmark-Models.git tmp/benchmark-models || (cd tmp/benchmark-models && git pull)"
   ]
  },
  {
   "cell_type": "markdown",
   "metadata": {},
   "source": [
    "## Manage PEtab model"
   ]
  },
  {
   "cell_type": "markdown",
   "metadata": {},
   "source": [
    "A PEtab problem comprises all the information on the model, the data and the parameters to perform parameter estimation:"
   ]
  },
  {
   "cell_type": "code",
   "execution_count": 97,
   "metadata": {
    "scrolled": true
   },
   "outputs": [
    {
     "data": {
      "text/plain": [
       "[({},\n",
       "  {'d': 1.0,\n",
       "   'a_k8': 'a_k8',\n",
       "   'a_k5_k5k12': 'a_k5_k5k12',\n",
       "   'a_k12_k5k12': 'a_k12_k5k12',\n",
       "   'a_k16_k12k16': 'a_k16_k12k16',\n",
       "   'a_k5k12_k5k8k12': 'a_k5k12_k5k8k12',\n",
       "   'a_k12k16_k8k12k16': 'a_k12k16_k8k12k16',\n",
       "   'a_k8k12k16_4ac': 'a_k8k12k16_4ac',\n",
       "   'a_basal': 'a_basal',\n",
       "   'noiseParameter1_observable_k12': 'sd_k12',\n",
       "   'noiseParameter1_observable_k8k12k16': 'sd_k8k12k16',\n",
       "   'noiseParameter1_observable_k5k12': 'sd_k5k12',\n",
       "   'noiseParameter1_observable_k12k16': 'sd_k12k16',\n",
       "   'noiseParameter1_observable_k8': 'sd_k8',\n",
       "   'noiseParameter1_observable_k5k16': 'sd_k5k16',\n",
       "   'noiseParameter1_observable_0ac': 'sd_0ac',\n",
       "   'noiseParameter1_observable_k16': 'sd_k16',\n",
       "   'noiseParameter1_observable_4ac': 'sd_4ac',\n",
       "   'noiseParameter1_observable_k8k16': 'sd_k8k16',\n",
       "   'noiseParameter1_observable_k8k12': 'sd_k8k12',\n",
       "   'noiseParameter1_observable_k5': 'sd_k5',\n",
       "   'noiseParameter1_observable_k5k8': 'sd_k5k8',\n",
       "   'noiseParameter1_observable_k5k12k16': 'sd_k5k12k16',\n",
       "   'noiseParameter1_observable_k5k8k16': 'sd_k5k8k16',\n",
       "   'noiseParameter1_observable_k5k8k12': 'sd_k5k8k12'})]"
      ]
     },
     "execution_count": 97,
     "metadata": {},
     "output_type": "execute_result"
    }
   ],
   "source": [
    "folder_base = \"tmp/benchmark-models/hackathon_contributions_new_data_format/\"\n",
    "model_name = \"Zheng_PNAS2012\"\n",
    "model_name = \"Boehm_JProteomeRes2014\"\n",
    "model_name = \"Fujita_SciSignal2010\"\n",
    "model_name = \"Sneyd_PNAS2002\"\n",
    "model_name = \"Borghans_BiophysChem1997\"\n",
    "model_name = \"Elowitz_Nature2000\"\n",
    "model_name = \"Crauste_CellSystems2017\"\n",
    "#model_name = \"Lucarelli_CellSystems2018\"\n",
    "#model_name = \"Schwen_PONE2014\"\n",
    "model_name = \"Blasi_CellSystems2016\"\n",
    "yaml_config = os.path.join(folder_base, model_name, model_name + '.yaml')\n",
    "\n",
    "petab_problem = petab.Problem.from_yaml(yaml_config)\n",
    "\n",
    "# e.g.\n",
    "petab_problem.get_optimization_to_simulation_parameter_mapping()"
   ]
  },
  {
   "cell_type": "markdown",
   "metadata": {},
   "source": [
    "## Import model to AMICI"
   ]
  },
  {
   "cell_type": "markdown",
   "metadata": {},
   "source": [
    "The model must be imported to AMICI:"
   ]
  },
  {
   "cell_type": "code",
   "execution_count": 98,
   "metadata": {
    "scrolled": true
   },
   "outputs": [
    {
     "name": "stderr",
     "output_type": "stream",
     "text": [
      "2020-02-20 17:08:06.098 - amici.petab_import - INFO - Importing model ...\n",
      "2020-02-20 17:08:06.105 - amici.petab_import - INFO - Model name is 'Blasi_CellSystems2016'. Writing model code to '/home/yannik/pypesto/doc/example/amici_models/Blasi_CellSystems2016'.\n",
      "2020-02-20 17:08:06.107 - amici.petab_import - INFO - Species: 16\n",
      "2020-02-20 17:08:06.108 - amici.petab_import - INFO - Global parameters: 34\n",
      "2020-02-20 17:08:06.109 - amici.petab_import - INFO - Reactions: 32\n",
      "2020-02-20 17:08:06.177 - amici.petab_import - INFO - Observables: 16\n",
      "2020-02-20 17:08:06.178 - amici.petab_import - INFO - Sigmas: 16\n",
      "2020-02-20 17:08:06.198 - amici.petab_import - DEBUG - Adding output parameters to model: {'noiseParameter1_observable_k12', 'noiseParameter1_observable_k8k12k16', 'noiseParameter1_observable_k5k12', 'noiseParameter1_observable_k12k16', 'noiseParameter1_observable_k8', 'noiseParameter1_observable_k5k16', 'noiseParameter1_observable_0ac', 'noiseParameter1_observable_k16', 'noiseParameter1_observable_4ac', 'noiseParameter1_observable_k8k16', 'noiseParameter1_observable_k8k12', 'noiseParameter1_observable_k5', 'noiseParameter1_observable_k5k8', 'noiseParameter1_observable_k5k12k16', 'noiseParameter1_observable_k5k8k16', 'noiseParameter1_observable_k5k8k12'}\n",
      "2020-02-20 17:08:06.200 - amici.petab_import - DEBUG - Condition table: (1, 1)\n",
      "2020-02-20 17:08:06.204 - amici.petab_import - DEBUG - Fixed parameters are []\n",
      "2020-02-20 17:08:06.213 - amici.petab_import - INFO - Overall fixed parameters: 0\n",
      "2020-02-20 17:08:06.214 - amici.petab_import - INFO - Variable parameters: 50\n",
      "2020-02-20 17:08:06.229 - amici.sbml_import - INFO - Finished processing SBML parameters            (2.19E-03s)\n",
      "2020-02-20 17:08:06.242 - amici.sbml_import - INFO - Finished processing SBML species               (7.30E-03s)\n",
      "2020-02-20 17:08:06.349 - amici.sbml_import - INFO - Finished processing SBML reactions             (1.06E-01s)\n",
      "2020-02-20 17:08:06.350 - amici.sbml_import - INFO - Finished processing SBML compartments          (1.64E-04s)\n",
      "2020-02-20 17:08:06.660 - amici.sbml_import - INFO - Finished processing SBML rules                 (3.10E-01s)\n",
      "2020-02-20 17:08:06.886 - amici.sbml_import - INFO - Finished processing SBML observables           (1.75E-01s)\n",
      "2020-02-20 17:08:07.045 - amici.ode_export - INFO - Finished writing J.cpp                          (1.44E-01s)\n",
      "2020-02-20 17:08:07.125 - amici.ode_export - INFO - Finished writing JB.cpp                         (8.01E-02s)\n",
      "2020-02-20 17:08:07.149 - amici.ode_export - INFO - Finished writing JDiag.cpp                      (2.29E-02s)\n",
      "2020-02-20 17:08:07.223 - amici.ode_export - INFO - Finished writing JSparse.cpp                    (7.35E-02s)\n",
      "2020-02-20 17:08:07.288 - amici.ode_export - INFO - Finished writing JSparseB.cpp                   (6.39E-02s)\n",
      "2020-02-20 17:08:07.345 - amici.ode_export - INFO - Finished writing Jy.cpp                         (5.62E-02s)\n",
      "2020-02-20 17:08:07.523 - amici.ode_export - INFO - Finished writing dJydsigmay.cpp                 (1.77E-01s)\n",
      "2020-02-20 17:08:07.658 - amici.ode_export - INFO - Finished writing dJydy.cpp                      (1.34E-01s)\n",
      "2020-02-20 17:08:07.743 - amici.ode_export - INFO - Finished writing dwdp.cpp                       (8.43E-02s)\n",
      "2020-02-20 17:08:07.761 - amici.ode_export - INFO - Finished writing dwdx.cpp                       (1.72E-02s)\n",
      "2020-02-20 17:08:07.795 - amici.ode_export - INFO - Finished writing dxdotdw.cpp                    (3.18E-02s)\n",
      "2020-02-20 17:08:07.865 - amici.ode_export - INFO - Finished writing dxdotdp_explicit.cpp           (6.97E-02s)\n",
      "2020-02-20 17:08:07.937 - amici.ode_export - INFO - Finished writing dydx.cpp                       (3.43E-02s)\n",
      "2020-02-20 17:08:07.955 - amici.ode_export - INFO - Finished writing dydp.cpp                       (1.80E-02s)\n",
      "2020-02-20 17:08:07.979 - amici.ode_export - INFO - Finished writing dsigmaydp.cpp                  (2.29E-02s)\n",
      "2020-02-20 17:08:07.986 - amici.ode_export - INFO - Finished writing sigmay.cpp                     (5.76E-03s)\n",
      "2020-02-20 17:08:08.013 - amici.ode_export - INFO - Finished writing w.cpp                          (2.67E-02s)\n",
      "2020-02-20 17:08:08.016 - amici.ode_export - INFO - Finished writing x0.cpp                         (1.99E-03s)\n",
      "2020-02-20 17:08:08.019 - amici.ode_export - INFO - Finished writing x0_fixedParameters.cpp         (1.37E-03s)\n",
      "2020-02-20 17:08:08.043 - amici.ode_export - INFO - Finished writing sx0.cpp                        (2.37E-02s)\n",
      "2020-02-20 17:08:08.084 - amici.ode_export - INFO - Finished writing sx0_fixedParameters.cpp        (4.05E-02s)\n",
      "2020-02-20 17:08:08.119 - amici.ode_export - INFO - Finished writing xdot.cpp                       (3.38E-02s)\n",
      "2020-02-20 17:08:08.123 - amici.ode_export - INFO - Finished writing y.cpp                          (4.19E-03s)\n",
      "2020-02-20 17:08:08.128 - amici.ode_export - INFO - Finished writing x_rdata.cpp                    (4.17E-03s)\n",
      "2020-02-20 17:08:08.130 - amici.ode_export - INFO - Finished writing total_cl.cpp                   (8.24E-04s)\n",
      "2020-02-20 17:08:08.135 - amici.ode_export - INFO - Finished writing x_solver.cpp                   (4.70E-03s)\n",
      "2020-02-20 17:08:08.147 - amici.ode_export - INFO - Finished generating cpp code                    (1.25E+00s)\n",
      "2020-02-20 17:08:21.638 - amici.ode_export - INFO - Finished compiling cpp code                     (1.35E+01s)\n",
      "2020-02-20 17:08:21.643 - amici.petab_import - INFO - Finished Importing PEtab model                (1.55E+01s)\n"
     ]
    },
    {
     "name": "stdout",
     "output_type": "stream",
     "text": [
      "running build_ext\n",
      "building 'Blasi_CellSystems2016._Blasi_CellSystems2016' extension\n",
      "swigging swig/Blasi_CellSystems2016.i to swig/Blasi_CellSystems2016_wrap.cpp\n",
      "swig -python -c++ -modern -outdir Blasi_CellSystems2016 -I/home/yannik/amici/python/sdist/amici/swig -I/home/yannik/amici/python/sdist/amici/include -o swig/Blasi_CellSystems2016_wrap.cpp swig/Blasi_CellSystems2016.i\n",
      "creating build\n",
      "creating build/temp.linux-x86_64-3.7\n",
      "creating build/temp.linux-x86_64-3.7/swig\n",
      "gcc -pthread -B /home/yannik/anaconda3/compiler_compat -Wl,--sysroot=/ -Wsign-compare -DNDEBUG -g -fwrapv -O3 -Wall -fPIC -I/home/yannik/pypesto/doc/example/amici_models/Blasi_CellSystems2016 -I/home/yannik/amici/python/sdist/amici/include -I/home/yannik/amici/python/sdist/amici/ThirdParty/gsl -I/home/yannik/amici/python/sdist/amici/ThirdParty/sundials/include -I/home/yannik/amici/python/sdist/amici/ThirdParty/SuiteSparse/include -I/usr/include/hdf5/serial -I/home/yannik/anaconda3/include/python3.7m -c swig/Blasi_CellSystems2016_wrap.cpp -o build/temp.linux-x86_64-3.7/swig/Blasi_CellSystems2016_wrap.o -std=c++11\n",
      "gcc -pthread -B /home/yannik/anaconda3/compiler_compat -Wl,--sysroot=/ -Wsign-compare -DNDEBUG -g -fwrapv -O3 -Wall -fPIC -I/home/yannik/pypesto/doc/example/amici_models/Blasi_CellSystems2016 -I/home/yannik/amici/python/sdist/amici/include -I/home/yannik/amici/python/sdist/amici/ThirdParty/gsl -I/home/yannik/amici/python/sdist/amici/ThirdParty/sundials/include -I/home/yannik/amici/python/sdist/amici/ThirdParty/SuiteSparse/include -I/usr/include/hdf5/serial -I/home/yannik/anaconda3/include/python3.7m -c Blasi_CellSystems2016_y.cpp -o build/temp.linux-x86_64-3.7/Blasi_CellSystems2016_y.o -std=c++11\n",
      "gcc -pthread -B /home/yannik/anaconda3/compiler_compat -Wl,--sysroot=/ -Wsign-compare -DNDEBUG -g -fwrapv -O3 -Wall -fPIC -I/home/yannik/pypesto/doc/example/amici_models/Blasi_CellSystems2016 -I/home/yannik/amici/python/sdist/amici/include -I/home/yannik/amici/python/sdist/amici/ThirdParty/gsl -I/home/yannik/amici/python/sdist/amici/ThirdParty/sundials/include -I/home/yannik/amici/python/sdist/amici/ThirdParty/SuiteSparse/include -I/usr/include/hdf5/serial -I/home/yannik/anaconda3/include/python3.7m -c Blasi_CellSystems2016_x0_fixedParameters.cpp -o build/temp.linux-x86_64-3.7/Blasi_CellSystems2016_x0_fixedParameters.o -std=c++11\n",
      "gcc -pthread -B /home/yannik/anaconda3/compiler_compat -Wl,--sysroot=/ -Wsign-compare -DNDEBUG -g -fwrapv -O3 -Wall -fPIC -I/home/yannik/pypesto/doc/example/amici_models/Blasi_CellSystems2016 -I/home/yannik/amici/python/sdist/amici/include -I/home/yannik/amici/python/sdist/amici/ThirdParty/gsl -I/home/yannik/amici/python/sdist/amici/ThirdParty/sundials/include -I/home/yannik/amici/python/sdist/amici/ThirdParty/SuiteSparse/include -I/usr/include/hdf5/serial -I/home/yannik/anaconda3/include/python3.7m -c Blasi_CellSystems2016_total_cl.cpp -o build/temp.linux-x86_64-3.7/Blasi_CellSystems2016_total_cl.o -std=c++11\n",
      "gcc -pthread -B /home/yannik/anaconda3/compiler_compat -Wl,--sysroot=/ -Wsign-compare -DNDEBUG -g -fwrapv -O3 -Wall -fPIC -I/home/yannik/pypesto/doc/example/amici_models/Blasi_CellSystems2016 -I/home/yannik/amici/python/sdist/amici/include -I/home/yannik/amici/python/sdist/amici/ThirdParty/gsl -I/home/yannik/amici/python/sdist/amici/ThirdParty/sundials/include -I/home/yannik/amici/python/sdist/amici/ThirdParty/SuiteSparse/include -I/usr/include/hdf5/serial -I/home/yannik/anaconda3/include/python3.7m -c Blasi_CellSystems2016_JSparse.cpp -o build/temp.linux-x86_64-3.7/Blasi_CellSystems2016_JSparse.o -std=c++11\n",
      "gcc -pthread -B /home/yannik/anaconda3/compiler_compat -Wl,--sysroot=/ -Wsign-compare -DNDEBUG -g -fwrapv -O3 -Wall -fPIC -I/home/yannik/pypesto/doc/example/amici_models/Blasi_CellSystems2016 -I/home/yannik/amici/python/sdist/amici/include -I/home/yannik/amici/python/sdist/amici/ThirdParty/gsl -I/home/yannik/amici/python/sdist/amici/ThirdParty/sundials/include -I/home/yannik/amici/python/sdist/amici/ThirdParty/SuiteSparse/include -I/usr/include/hdf5/serial -I/home/yannik/anaconda3/include/python3.7m -c Blasi_CellSystems2016_dJydy_rowvals.cpp -o build/temp.linux-x86_64-3.7/Blasi_CellSystems2016_dJydy_rowvals.o -std=c++11\n",
      "gcc -pthread -B /home/yannik/anaconda3/compiler_compat -Wl,--sysroot=/ -Wsign-compare -DNDEBUG -g -fwrapv -O3 -Wall -fPIC -I/home/yannik/pypesto/doc/example/amici_models/Blasi_CellSystems2016 -I/home/yannik/amici/python/sdist/amici/include -I/home/yannik/amici/python/sdist/amici/ThirdParty/gsl -I/home/yannik/amici/python/sdist/amici/ThirdParty/sundials/include -I/home/yannik/amici/python/sdist/amici/ThirdParty/SuiteSparse/include -I/usr/include/hdf5/serial -I/home/yannik/anaconda3/include/python3.7m -c Blasi_CellSystems2016_x0.cpp -o build/temp.linux-x86_64-3.7/Blasi_CellSystems2016_x0.o -std=c++11\n",
      "gcc -pthread -B /home/yannik/anaconda3/compiler_compat -Wl,--sysroot=/ -Wsign-compare -DNDEBUG -g -fwrapv -O3 -Wall -fPIC -I/home/yannik/pypesto/doc/example/amici_models/Blasi_CellSystems2016 -I/home/yannik/amici/python/sdist/amici/include -I/home/yannik/amici/python/sdist/amici/ThirdParty/gsl -I/home/yannik/amici/python/sdist/amici/ThirdParty/sundials/include -I/home/yannik/amici/python/sdist/amici/ThirdParty/SuiteSparse/include -I/usr/include/hdf5/serial -I/home/yannik/anaconda3/include/python3.7m -c Blasi_CellSystems2016_x_solver.cpp -o build/temp.linux-x86_64-3.7/Blasi_CellSystems2016_x_solver.o -std=c++11\n",
      "gcc -pthread -B /home/yannik/anaconda3/compiler_compat -Wl,--sysroot=/ -Wsign-compare -DNDEBUG -g -fwrapv -O3 -Wall -fPIC -I/home/yannik/pypesto/doc/example/amici_models/Blasi_CellSystems2016 -I/home/yannik/amici/python/sdist/amici/include -I/home/yannik/amici/python/sdist/amici/ThirdParty/gsl -I/home/yannik/amici/python/sdist/amici/ThirdParty/sundials/include -I/home/yannik/amici/python/sdist/amici/ThirdParty/SuiteSparse/include -I/usr/include/hdf5/serial -I/home/yannik/anaconda3/include/python3.7m -c Blasi_CellSystems2016_dxdotdw_colptrs.cpp -o build/temp.linux-x86_64-3.7/Blasi_CellSystems2016_dxdotdw_colptrs.o -std=c++11\n",
      "gcc -pthread -B /home/yannik/anaconda3/compiler_compat -Wl,--sysroot=/ -Wsign-compare -DNDEBUG -g -fwrapv -O3 -Wall -fPIC -I/home/yannik/pypesto/doc/example/amici_models/Blasi_CellSystems2016 -I/home/yannik/amici/python/sdist/amici/include -I/home/yannik/amici/python/sdist/amici/ThirdParty/gsl -I/home/yannik/amici/python/sdist/amici/ThirdParty/sundials/include -I/home/yannik/amici/python/sdist/amici/ThirdParty/SuiteSparse/include -I/usr/include/hdf5/serial -I/home/yannik/anaconda3/include/python3.7m -c Blasi_CellSystems2016_dJydy_colptrs.cpp -o build/temp.linux-x86_64-3.7/Blasi_CellSystems2016_dJydy_colptrs.o -std=c++11\n",
      "gcc -pthread -B /home/yannik/anaconda3/compiler_compat -Wl,--sysroot=/ -Wsign-compare -DNDEBUG -g -fwrapv -O3 -Wall -fPIC -I/home/yannik/pypesto/doc/example/amici_models/Blasi_CellSystems2016 -I/home/yannik/amici/python/sdist/amici/include -I/home/yannik/amici/python/sdist/amici/ThirdParty/gsl -I/home/yannik/amici/python/sdist/amici/ThirdParty/sundials/include -I/home/yannik/amici/python/sdist/amici/ThirdParty/SuiteSparse/include -I/usr/include/hdf5/serial -I/home/yannik/anaconda3/include/python3.7m -c Blasi_CellSystems2016_sx0_fixedParameters.cpp -o build/temp.linux-x86_64-3.7/Blasi_CellSystems2016_sx0_fixedParameters.o -std=c++11\n",
      "gcc -pthread -B /home/yannik/anaconda3/compiler_compat -Wl,--sysroot=/ -Wsign-compare -DNDEBUG -g -fwrapv -O3 -Wall -fPIC -I/home/yannik/pypesto/doc/example/amici_models/Blasi_CellSystems2016 -I/home/yannik/amici/python/sdist/amici/include -I/home/yannik/amici/python/sdist/amici/ThirdParty/gsl -I/home/yannik/amici/python/sdist/amici/ThirdParty/sundials/include -I/home/yannik/amici/python/sdist/amici/ThirdParty/SuiteSparse/include -I/usr/include/hdf5/serial -I/home/yannik/anaconda3/include/python3.7m -c Blasi_CellSystems2016_JSparse_rowvals.cpp -o build/temp.linux-x86_64-3.7/Blasi_CellSystems2016_JSparse_rowvals.o -std=c++11\n",
      "gcc -pthread -B /home/yannik/anaconda3/compiler_compat -Wl,--sysroot=/ -Wsign-compare -DNDEBUG -g -fwrapv -O3 -Wall -fPIC -I/home/yannik/pypesto/doc/example/amici_models/Blasi_CellSystems2016 -I/home/yannik/amici/python/sdist/amici/include -I/home/yannik/amici/python/sdist/amici/ThirdParty/gsl -I/home/yannik/amici/python/sdist/amici/ThirdParty/sundials/include -I/home/yannik/amici/python/sdist/amici/ThirdParty/SuiteSparse/include -I/usr/include/hdf5/serial -I/home/yannik/anaconda3/include/python3.7m -c Blasi_CellSystems2016_xdot.cpp -o build/temp.linux-x86_64-3.7/Blasi_CellSystems2016_xdot.o -std=c++11\n",
      "gcc -pthread -B /home/yannik/anaconda3/compiler_compat -Wl,--sysroot=/ -Wsign-compare -DNDEBUG -g -fwrapv -O3 -Wall -fPIC -I/home/yannik/pypesto/doc/example/amici_models/Blasi_CellSystems2016 -I/home/yannik/amici/python/sdist/amici/include -I/home/yannik/amici/python/sdist/amici/ThirdParty/gsl -I/home/yannik/amici/python/sdist/amici/ThirdParty/sundials/include -I/home/yannik/amici/python/sdist/amici/ThirdParty/SuiteSparse/include -I/usr/include/hdf5/serial -I/home/yannik/anaconda3/include/python3.7m -c Blasi_CellSystems2016_dwdp_colptrs.cpp -o build/temp.linux-x86_64-3.7/Blasi_CellSystems2016_dwdp_colptrs.o -std=c++11\n",
      "gcc -pthread -B /home/yannik/anaconda3/compiler_compat -Wl,--sysroot=/ -Wsign-compare -DNDEBUG -g -fwrapv -O3 -Wall -fPIC -I/home/yannik/pypesto/doc/example/amici_models/Blasi_CellSystems2016 -I/home/yannik/amici/python/sdist/amici/include -I/home/yannik/amici/python/sdist/amici/ThirdParty/gsl -I/home/yannik/amici/python/sdist/amici/ThirdParty/sundials/include -I/home/yannik/amici/python/sdist/amici/ThirdParty/SuiteSparse/include -I/usr/include/hdf5/serial -I/home/yannik/anaconda3/include/python3.7m -c Blasi_CellSystems2016_dxdotdw_rowvals.cpp -o build/temp.linux-x86_64-3.7/Blasi_CellSystems2016_dxdotdw_rowvals.o -std=c++11\n",
      "gcc -pthread -B /home/yannik/anaconda3/compiler_compat -Wl,--sysroot=/ -Wsign-compare -DNDEBUG -g -fwrapv -O3 -Wall -fPIC -I/home/yannik/pypesto/doc/example/amici_models/Blasi_CellSystems2016 -I/home/yannik/amici/python/sdist/amici/include -I/home/yannik/amici/python/sdist/amici/ThirdParty/gsl -I/home/yannik/amici/python/sdist/amici/ThirdParty/sundials/include -I/home/yannik/amici/python/sdist/amici/ThirdParty/SuiteSparse/include -I/usr/include/hdf5/serial -I/home/yannik/anaconda3/include/python3.7m -c Blasi_CellSystems2016_dxdotdp_implicit_rowvals.cpp -o build/temp.linux-x86_64-3.7/Blasi_CellSystems2016_dxdotdp_implicit_rowvals.o -std=c++11\n",
      "gcc -pthread -B /home/yannik/anaconda3/compiler_compat -Wl,--sysroot=/ -Wsign-compare -DNDEBUG -g -fwrapv -O3 -Wall -fPIC -I/home/yannik/pypesto/doc/example/amici_models/Blasi_CellSystems2016 -I/home/yannik/amici/python/sdist/amici/include -I/home/yannik/amici/python/sdist/amici/ThirdParty/gsl -I/home/yannik/amici/python/sdist/amici/ThirdParty/sundials/include -I/home/yannik/amici/python/sdist/amici/ThirdParty/SuiteSparse/include -I/usr/include/hdf5/serial -I/home/yannik/anaconda3/include/python3.7m -c Blasi_CellSystems2016_dxdotdp_explicit_rowvals.cpp -o build/temp.linux-x86_64-3.7/Blasi_CellSystems2016_dxdotdp_explicit_rowvals.o -std=c++11\n",
      "gcc -pthread -B /home/yannik/anaconda3/compiler_compat -Wl,--sysroot=/ -Wsign-compare -DNDEBUG -g -fwrapv -O3 -Wall -fPIC -I/home/yannik/pypesto/doc/example/amici_models/Blasi_CellSystems2016 -I/home/yannik/amici/python/sdist/amici/include -I/home/yannik/amici/python/sdist/amici/ThirdParty/gsl -I/home/yannik/amici/python/sdist/amici/ThirdParty/sundials/include -I/home/yannik/amici/python/sdist/amici/ThirdParty/SuiteSparse/include -I/usr/include/hdf5/serial -I/home/yannik/anaconda3/include/python3.7m -c Blasi_CellSystems2016_JSparseB_colptrs.cpp -o build/temp.linux-x86_64-3.7/Blasi_CellSystems2016_JSparseB_colptrs.o -std=c++11\n",
      "gcc -pthread -B /home/yannik/anaconda3/compiler_compat -Wl,--sysroot=/ -Wsign-compare -DNDEBUG -g -fwrapv -O3 -Wall -fPIC -I/home/yannik/pypesto/doc/example/amici_models/Blasi_CellSystems2016 -I/home/yannik/amici/python/sdist/amici/include -I/home/yannik/amici/python/sdist/amici/ThirdParty/gsl -I/home/yannik/amici/python/sdist/amici/ThirdParty/sundials/include -I/home/yannik/amici/python/sdist/amici/ThirdParty/SuiteSparse/include -I/usr/include/hdf5/serial -I/home/yannik/anaconda3/include/python3.7m -c Blasi_CellSystems2016_dydp.cpp -o build/temp.linux-x86_64-3.7/Blasi_CellSystems2016_dydp.o -std=c++11\n",
      "gcc -pthread -B /home/yannik/anaconda3/compiler_compat -Wl,--sysroot=/ -Wsign-compare -DNDEBUG -g -fwrapv -O3 -Wall -fPIC -I/home/yannik/pypesto/doc/example/amici_models/Blasi_CellSystems2016 -I/home/yannik/amici/python/sdist/amici/include -I/home/yannik/amici/python/sdist/amici/ThirdParty/gsl -I/home/yannik/amici/python/sdist/amici/ThirdParty/sundials/include -I/home/yannik/amici/python/sdist/amici/ThirdParty/SuiteSparse/include -I/usr/include/hdf5/serial -I/home/yannik/anaconda3/include/python3.7m -c Blasi_CellSystems2016_dydx.cpp -o build/temp.linux-x86_64-3.7/Blasi_CellSystems2016_dydx.o -std=c++11\n",
      "gcc -pthread -B /home/yannik/anaconda3/compiler_compat -Wl,--sysroot=/ -Wsign-compare -DNDEBUG -g -fwrapv -O3 -Wall -fPIC -I/home/yannik/pypesto/doc/example/amici_models/Blasi_CellSystems2016 -I/home/yannik/amici/python/sdist/amici/include -I/home/yannik/amici/python/sdist/amici/ThirdParty/gsl -I/home/yannik/amici/python/sdist/amici/ThirdParty/sundials/include -I/home/yannik/amici/python/sdist/amici/ThirdParty/SuiteSparse/include -I/usr/include/hdf5/serial -I/home/yannik/anaconda3/include/python3.7m -c Blasi_CellSystems2016_x_rdata.cpp -o build/temp.linux-x86_64-3.7/Blasi_CellSystems2016_x_rdata.o -std=c++11\n",
      "gcc -pthread -B /home/yannik/anaconda3/compiler_compat -Wl,--sysroot=/ -Wsign-compare -DNDEBUG -g -fwrapv -O3 -Wall -fPIC -I/home/yannik/pypesto/doc/example/amici_models/Blasi_CellSystems2016 -I/home/yannik/amici/python/sdist/amici/include -I/home/yannik/amici/python/sdist/amici/ThirdParty/gsl -I/home/yannik/amici/python/sdist/amici/ThirdParty/sundials/include -I/home/yannik/amici/python/sdist/amici/ThirdParty/SuiteSparse/include -I/usr/include/hdf5/serial -I/home/yannik/anaconda3/include/python3.7m -c Blasi_CellSystems2016_JSparseB_rowvals.cpp -o build/temp.linux-x86_64-3.7/Blasi_CellSystems2016_JSparseB_rowvals.o -std=c++11\n",
      "gcc -pthread -B /home/yannik/anaconda3/compiler_compat -Wl,--sysroot=/ -Wsign-compare -DNDEBUG -g -fwrapv -O3 -Wall -fPIC -I/home/yannik/pypesto/doc/example/amici_models/Blasi_CellSystems2016 -I/home/yannik/amici/python/sdist/amici/include -I/home/yannik/amici/python/sdist/amici/ThirdParty/gsl -I/home/yannik/amici/python/sdist/amici/ThirdParty/sundials/include -I/home/yannik/amici/python/sdist/amici/ThirdParty/SuiteSparse/include -I/usr/include/hdf5/serial -I/home/yannik/anaconda3/include/python3.7m -c Blasi_CellSystems2016_dwdx.cpp -o build/temp.linux-x86_64-3.7/Blasi_CellSystems2016_dwdx.o -std=c++11\n",
      "gcc -pthread -B /home/yannik/anaconda3/compiler_compat -Wl,--sysroot=/ -Wsign-compare -DNDEBUG -g -fwrapv -O3 -Wall -fPIC -I/home/yannik/pypesto/doc/example/amici_models/Blasi_CellSystems2016 -I/home/yannik/amici/python/sdist/amici/include -I/home/yannik/amici/python/sdist/amici/ThirdParty/gsl -I/home/yannik/amici/python/sdist/amici/ThirdParty/sundials/include -I/home/yannik/amici/python/sdist/amici/ThirdParty/SuiteSparse/include -I/usr/include/hdf5/serial -I/home/yannik/anaconda3/include/python3.7m -c Blasi_CellSystems2016_JDiag.cpp -o build/temp.linux-x86_64-3.7/Blasi_CellSystems2016_JDiag.o -std=c++11\n",
      "gcc -pthread -B /home/yannik/anaconda3/compiler_compat -Wl,--sysroot=/ -Wsign-compare -DNDEBUG -g -fwrapv -O3 -Wall -fPIC -I/home/yannik/pypesto/doc/example/amici_models/Blasi_CellSystems2016 -I/home/yannik/amici/python/sdist/amici/include -I/home/yannik/amici/python/sdist/amici/ThirdParty/gsl -I/home/yannik/amici/python/sdist/amici/ThirdParty/sundials/include -I/home/yannik/amici/python/sdist/amici/ThirdParty/SuiteSparse/include -I/usr/include/hdf5/serial -I/home/yannik/anaconda3/include/python3.7m -c Blasi_CellSystems2016_dwdp_rowvals.cpp -o build/temp.linux-x86_64-3.7/Blasi_CellSystems2016_dwdp_rowvals.o -std=c++11\n",
      "gcc -pthread -B /home/yannik/anaconda3/compiler_compat -Wl,--sysroot=/ -Wsign-compare -DNDEBUG -g -fwrapv -O3 -Wall -fPIC -I/home/yannik/pypesto/doc/example/amici_models/Blasi_CellSystems2016 -I/home/yannik/amici/python/sdist/amici/include -I/home/yannik/amici/python/sdist/amici/ThirdParty/gsl -I/home/yannik/amici/python/sdist/amici/ThirdParty/sundials/include -I/home/yannik/amici/python/sdist/amici/ThirdParty/SuiteSparse/include -I/usr/include/hdf5/serial -I/home/yannik/anaconda3/include/python3.7m -c Blasi_CellSystems2016_dJydsigmay.cpp -o build/temp.linux-x86_64-3.7/Blasi_CellSystems2016_dJydsigmay.o -std=c++11\n",
      "gcc -pthread -B /home/yannik/anaconda3/compiler_compat -Wl,--sysroot=/ -Wsign-compare -DNDEBUG -g -fwrapv -O3 -Wall -fPIC -I/home/yannik/pypesto/doc/example/amici_models/Blasi_CellSystems2016 -I/home/yannik/amici/python/sdist/amici/include -I/home/yannik/amici/python/sdist/amici/ThirdParty/gsl -I/home/yannik/amici/python/sdist/amici/ThirdParty/sundials/include -I/home/yannik/amici/python/sdist/amici/ThirdParty/SuiteSparse/include -I/usr/include/hdf5/serial -I/home/yannik/anaconda3/include/python3.7m -c Blasi_CellSystems2016_JSparseB.cpp -o build/temp.linux-x86_64-3.7/Blasi_CellSystems2016_JSparseB.o -std=c++11\n",
      "gcc -pthread -B /home/yannik/anaconda3/compiler_compat -Wl,--sysroot=/ -Wsign-compare -DNDEBUG -g -fwrapv -O3 -Wall -fPIC -I/home/yannik/pypesto/doc/example/amici_models/Blasi_CellSystems2016 -I/home/yannik/amici/python/sdist/amici/include -I/home/yannik/amici/python/sdist/amici/ThirdParty/gsl -I/home/yannik/amici/python/sdist/amici/ThirdParty/sundials/include -I/home/yannik/amici/python/sdist/amici/ThirdParty/SuiteSparse/include -I/usr/include/hdf5/serial -I/home/yannik/anaconda3/include/python3.7m -c Blasi_CellSystems2016_dwdx_colptrs.cpp -o build/temp.linux-x86_64-3.7/Blasi_CellSystems2016_dwdx_colptrs.o -std=c++11\n",
      "gcc -pthread -B /home/yannik/anaconda3/compiler_compat -Wl,--sysroot=/ -Wsign-compare -DNDEBUG -g -fwrapv -O3 -Wall -fPIC -I/home/yannik/pypesto/doc/example/amici_models/Blasi_CellSystems2016 -I/home/yannik/amici/python/sdist/amici/include -I/home/yannik/amici/python/sdist/amici/ThirdParty/gsl -I/home/yannik/amici/python/sdist/amici/ThirdParty/sundials/include -I/home/yannik/amici/python/sdist/amici/ThirdParty/SuiteSparse/include -I/usr/include/hdf5/serial -I/home/yannik/anaconda3/include/python3.7m -c Blasi_CellSystems2016_dwdp.cpp -o build/temp.linux-x86_64-3.7/Blasi_CellSystems2016_dwdp.o -std=c++11\n",
      "gcc -pthread -B /home/yannik/anaconda3/compiler_compat -Wl,--sysroot=/ -Wsign-compare -DNDEBUG -g -fwrapv -O3 -Wall -fPIC -I/home/yannik/pypesto/doc/example/amici_models/Blasi_CellSystems2016 -I/home/yannik/amici/python/sdist/amici/include -I/home/yannik/amici/python/sdist/amici/ThirdParty/gsl -I/home/yannik/amici/python/sdist/amici/ThirdParty/sundials/include -I/home/yannik/amici/python/sdist/amici/ThirdParty/SuiteSparse/include -I/usr/include/hdf5/serial -I/home/yannik/anaconda3/include/python3.7m -c Blasi_CellSystems2016_Jy.cpp -o build/temp.linux-x86_64-3.7/Blasi_CellSystems2016_Jy.o -std=c++11\n",
      "gcc -pthread -B /home/yannik/anaconda3/compiler_compat -Wl,--sysroot=/ -Wsign-compare -DNDEBUG -g -fwrapv -O3 -Wall -fPIC -I/home/yannik/pypesto/doc/example/amici_models/Blasi_CellSystems2016 -I/home/yannik/amici/python/sdist/amici/include -I/home/yannik/amici/python/sdist/amici/ThirdParty/gsl -I/home/yannik/amici/python/sdist/amici/ThirdParty/sundials/include -I/home/yannik/amici/python/sdist/amici/ThirdParty/SuiteSparse/include -I/usr/include/hdf5/serial -I/home/yannik/anaconda3/include/python3.7m -c Blasi_CellSystems2016_dxdotdp_explicit.cpp -o build/temp.linux-x86_64-3.7/Blasi_CellSystems2016_dxdotdp_explicit.o -std=c++11\n",
      "gcc -pthread -B /home/yannik/anaconda3/compiler_compat -Wl,--sysroot=/ -Wsign-compare -DNDEBUG -g -fwrapv -O3 -Wall -fPIC -I/home/yannik/pypesto/doc/example/amici_models/Blasi_CellSystems2016 -I/home/yannik/amici/python/sdist/amici/include -I/home/yannik/amici/python/sdist/amici/ThirdParty/gsl -I/home/yannik/amici/python/sdist/amici/ThirdParty/sundials/include -I/home/yannik/amici/python/sdist/amici/ThirdParty/SuiteSparse/include -I/usr/include/hdf5/serial -I/home/yannik/anaconda3/include/python3.7m -c Blasi_CellSystems2016_J.cpp -o build/temp.linux-x86_64-3.7/Blasi_CellSystems2016_J.o -std=c++11\n",
      "gcc -pthread -B /home/yannik/anaconda3/compiler_compat -Wl,--sysroot=/ -Wsign-compare -DNDEBUG -g -fwrapv -O3 -Wall -fPIC -I/home/yannik/pypesto/doc/example/amici_models/Blasi_CellSystems2016 -I/home/yannik/amici/python/sdist/amici/include -I/home/yannik/amici/python/sdist/amici/ThirdParty/gsl -I/home/yannik/amici/python/sdist/amici/ThirdParty/sundials/include -I/home/yannik/amici/python/sdist/amici/ThirdParty/SuiteSparse/include -I/usr/include/hdf5/serial -I/home/yannik/anaconda3/include/python3.7m -c Blasi_CellSystems2016_dJydy.cpp -o build/temp.linux-x86_64-3.7/Blasi_CellSystems2016_dJydy.o -std=c++11\n",
      "gcc -pthread -B /home/yannik/anaconda3/compiler_compat -Wl,--sysroot=/ -Wsign-compare -DNDEBUG -g -fwrapv -O3 -Wall -fPIC -I/home/yannik/pypesto/doc/example/amici_models/Blasi_CellSystems2016 -I/home/yannik/amici/python/sdist/amici/include -I/home/yannik/amici/python/sdist/amici/ThirdParty/gsl -I/home/yannik/amici/python/sdist/amici/ThirdParty/sundials/include -I/home/yannik/amici/python/sdist/amici/ThirdParty/SuiteSparse/include -I/usr/include/hdf5/serial -I/home/yannik/anaconda3/include/python3.7m -c wrapfunctions.cpp -o build/temp.linux-x86_64-3.7/wrapfunctions.o -std=c++11\n",
      "gcc -pthread -B /home/yannik/anaconda3/compiler_compat -Wl,--sysroot=/ -Wsign-compare -DNDEBUG -g -fwrapv -O3 -Wall -fPIC -I/home/yannik/pypesto/doc/example/amici_models/Blasi_CellSystems2016 -I/home/yannik/amici/python/sdist/amici/include -I/home/yannik/amici/python/sdist/amici/ThirdParty/gsl -I/home/yannik/amici/python/sdist/amici/ThirdParty/sundials/include -I/home/yannik/amici/python/sdist/amici/ThirdParty/SuiteSparse/include -I/usr/include/hdf5/serial -I/home/yannik/anaconda3/include/python3.7m -c Blasi_CellSystems2016_JSparse_colptrs.cpp -o build/temp.linux-x86_64-3.7/Blasi_CellSystems2016_JSparse_colptrs.o -std=c++11\n",
      "gcc -pthread -B /home/yannik/anaconda3/compiler_compat -Wl,--sysroot=/ -Wsign-compare -DNDEBUG -g -fwrapv -O3 -Wall -fPIC -I/home/yannik/pypesto/doc/example/amici_models/Blasi_CellSystems2016 -I/home/yannik/amici/python/sdist/amici/include -I/home/yannik/amici/python/sdist/amici/ThirdParty/gsl -I/home/yannik/amici/python/sdist/amici/ThirdParty/sundials/include -I/home/yannik/amici/python/sdist/amici/ThirdParty/SuiteSparse/include -I/usr/include/hdf5/serial -I/home/yannik/anaconda3/include/python3.7m -c Blasi_CellSystems2016_sigmay.cpp -o build/temp.linux-x86_64-3.7/Blasi_CellSystems2016_sigmay.o -std=c++11\n",
      "gcc -pthread -B /home/yannik/anaconda3/compiler_compat -Wl,--sysroot=/ -Wsign-compare -DNDEBUG -g -fwrapv -O3 -Wall -fPIC -I/home/yannik/pypesto/doc/example/amici_models/Blasi_CellSystems2016 -I/home/yannik/amici/python/sdist/amici/include -I/home/yannik/amici/python/sdist/amici/ThirdParty/gsl -I/home/yannik/amici/python/sdist/amici/ThirdParty/sundials/include -I/home/yannik/amici/python/sdist/amici/ThirdParty/SuiteSparse/include -I/usr/include/hdf5/serial -I/home/yannik/anaconda3/include/python3.7m -c Blasi_CellSystems2016_w.cpp -o build/temp.linux-x86_64-3.7/Blasi_CellSystems2016_w.o -std=c++11\n",
      "gcc -pthread -B /home/yannik/anaconda3/compiler_compat -Wl,--sysroot=/ -Wsign-compare -DNDEBUG -g -fwrapv -O3 -Wall -fPIC -I/home/yannik/pypesto/doc/example/amici_models/Blasi_CellSystems2016 -I/home/yannik/amici/python/sdist/amici/include -I/home/yannik/amici/python/sdist/amici/ThirdParty/gsl -I/home/yannik/amici/python/sdist/amici/ThirdParty/sundials/include -I/home/yannik/amici/python/sdist/amici/ThirdParty/SuiteSparse/include -I/usr/include/hdf5/serial -I/home/yannik/anaconda3/include/python3.7m -c Blasi_CellSystems2016_dxdotdw.cpp -o build/temp.linux-x86_64-3.7/Blasi_CellSystems2016_dxdotdw.o -std=c++11\n",
      "gcc -pthread -B /home/yannik/anaconda3/compiler_compat -Wl,--sysroot=/ -Wsign-compare -DNDEBUG -g -fwrapv -O3 -Wall -fPIC -I/home/yannik/pypesto/doc/example/amici_models/Blasi_CellSystems2016 -I/home/yannik/amici/python/sdist/amici/include -I/home/yannik/amici/python/sdist/amici/ThirdParty/gsl -I/home/yannik/amici/python/sdist/amici/ThirdParty/sundials/include -I/home/yannik/amici/python/sdist/amici/ThirdParty/SuiteSparse/include -I/usr/include/hdf5/serial -I/home/yannik/anaconda3/include/python3.7m -c Blasi_CellSystems2016_sx0.cpp -o build/temp.linux-x86_64-3.7/Blasi_CellSystems2016_sx0.o -std=c++11\n",
      "gcc -pthread -B /home/yannik/anaconda3/compiler_compat -Wl,--sysroot=/ -Wsign-compare -DNDEBUG -g -fwrapv -O3 -Wall -fPIC -I/home/yannik/pypesto/doc/example/amici_models/Blasi_CellSystems2016 -I/home/yannik/amici/python/sdist/amici/include -I/home/yannik/amici/python/sdist/amici/ThirdParty/gsl -I/home/yannik/amici/python/sdist/amici/ThirdParty/sundials/include -I/home/yannik/amici/python/sdist/amici/ThirdParty/SuiteSparse/include -I/usr/include/hdf5/serial -I/home/yannik/anaconda3/include/python3.7m -c Blasi_CellSystems2016_dsigmaydp.cpp -o build/temp.linux-x86_64-3.7/Blasi_CellSystems2016_dsigmaydp.o -std=c++11\n",
      "gcc -pthread -B /home/yannik/anaconda3/compiler_compat -Wl,--sysroot=/ -Wsign-compare -DNDEBUG -g -fwrapv -O3 -Wall -fPIC -I/home/yannik/pypesto/doc/example/amici_models/Blasi_CellSystems2016 -I/home/yannik/amici/python/sdist/amici/include -I/home/yannik/amici/python/sdist/amici/ThirdParty/gsl -I/home/yannik/amici/python/sdist/amici/ThirdParty/sundials/include -I/home/yannik/amici/python/sdist/amici/ThirdParty/SuiteSparse/include -I/usr/include/hdf5/serial -I/home/yannik/anaconda3/include/python3.7m -c Blasi_CellSystems2016_dwdx_rowvals.cpp -o build/temp.linux-x86_64-3.7/Blasi_CellSystems2016_dwdx_rowvals.o -std=c++11\n",
      "gcc -pthread -B /home/yannik/anaconda3/compiler_compat -Wl,--sysroot=/ -Wsign-compare -DNDEBUG -g -fwrapv -O3 -Wall -fPIC -I/home/yannik/pypesto/doc/example/amici_models/Blasi_CellSystems2016 -I/home/yannik/amici/python/sdist/amici/include -I/home/yannik/amici/python/sdist/amici/ThirdParty/gsl -I/home/yannik/amici/python/sdist/amici/ThirdParty/sundials/include -I/home/yannik/amici/python/sdist/amici/ThirdParty/SuiteSparse/include -I/usr/include/hdf5/serial -I/home/yannik/anaconda3/include/python3.7m -c Blasi_CellSystems2016_dxdotdp_implicit_colptrs.cpp -o build/temp.linux-x86_64-3.7/Blasi_CellSystems2016_dxdotdp_implicit_colptrs.o -std=c++11\n",
      "gcc -pthread -B /home/yannik/anaconda3/compiler_compat -Wl,--sysroot=/ -Wsign-compare -DNDEBUG -g -fwrapv -O3 -Wall -fPIC -I/home/yannik/pypesto/doc/example/amici_models/Blasi_CellSystems2016 -I/home/yannik/amici/python/sdist/amici/include -I/home/yannik/amici/python/sdist/amici/ThirdParty/gsl -I/home/yannik/amici/python/sdist/amici/ThirdParty/sundials/include -I/home/yannik/amici/python/sdist/amici/ThirdParty/SuiteSparse/include -I/usr/include/hdf5/serial -I/home/yannik/anaconda3/include/python3.7m -c Blasi_CellSystems2016_dxdotdp_explicit_colptrs.cpp -o build/temp.linux-x86_64-3.7/Blasi_CellSystems2016_dxdotdp_explicit_colptrs.o -std=c++11\n",
      "gcc -pthread -B /home/yannik/anaconda3/compiler_compat -Wl,--sysroot=/ -Wsign-compare -DNDEBUG -g -fwrapv -O3 -Wall -fPIC -I/home/yannik/pypesto/doc/example/amici_models/Blasi_CellSystems2016 -I/home/yannik/amici/python/sdist/amici/include -I/home/yannik/amici/python/sdist/amici/ThirdParty/gsl -I/home/yannik/amici/python/sdist/amici/ThirdParty/sundials/include -I/home/yannik/amici/python/sdist/amici/ThirdParty/SuiteSparse/include -I/usr/include/hdf5/serial -I/home/yannik/anaconda3/include/python3.7m -c Blasi_CellSystems2016_JB.cpp -o build/temp.linux-x86_64-3.7/Blasi_CellSystems2016_JB.o -std=c++11\n",
      "g++ -pthread -shared -B /home/yannik/anaconda3/compiler_compat -L/home/yannik/anaconda3/lib -Wl,-rpath=/home/yannik/anaconda3/lib -Wl,--no-as-needed -Wl,--sysroot=/ build/temp.linux-x86_64-3.7/swig/Blasi_CellSystems2016_wrap.o build/temp.linux-x86_64-3.7/Blasi_CellSystems2016_y.o build/temp.linux-x86_64-3.7/Blasi_CellSystems2016_x0_fixedParameters.o build/temp.linux-x86_64-3.7/Blasi_CellSystems2016_total_cl.o build/temp.linux-x86_64-3.7/Blasi_CellSystems2016_JSparse.o build/temp.linux-x86_64-3.7/Blasi_CellSystems2016_dJydy_rowvals.o build/temp.linux-x86_64-3.7/Blasi_CellSystems2016_x0.o build/temp.linux-x86_64-3.7/Blasi_CellSystems2016_x_solver.o build/temp.linux-x86_64-3.7/Blasi_CellSystems2016_dxdotdw_colptrs.o build/temp.linux-x86_64-3.7/Blasi_CellSystems2016_dJydy_colptrs.o build/temp.linux-x86_64-3.7/Blasi_CellSystems2016_sx0_fixedParameters.o build/temp.linux-x86_64-3.7/Blasi_CellSystems2016_JSparse_rowvals.o build/temp.linux-x86_64-3.7/Blasi_CellSystems2016_xdot.o build/temp.linux-x86_64-3.7/Blasi_CellSystems2016_dwdp_colptrs.o build/temp.linux-x86_64-3.7/Blasi_CellSystems2016_dxdotdw_rowvals.o build/temp.linux-x86_64-3.7/Blasi_CellSystems2016_dxdotdp_implicit_rowvals.o build/temp.linux-x86_64-3.7/Blasi_CellSystems2016_dxdotdp_explicit_rowvals.o build/temp.linux-x86_64-3.7/Blasi_CellSystems2016_JSparseB_colptrs.o build/temp.linux-x86_64-3.7/Blasi_CellSystems2016_dydp.o build/temp.linux-x86_64-3.7/Blasi_CellSystems2016_dydx.o build/temp.linux-x86_64-3.7/Blasi_CellSystems2016_x_rdata.o build/temp.linux-x86_64-3.7/Blasi_CellSystems2016_JSparseB_rowvals.o build/temp.linux-x86_64-3.7/Blasi_CellSystems2016_dwdx.o build/temp.linux-x86_64-3.7/Blasi_CellSystems2016_JDiag.o build/temp.linux-x86_64-3.7/Blasi_CellSystems2016_dwdp_rowvals.o build/temp.linux-x86_64-3.7/Blasi_CellSystems2016_dJydsigmay.o build/temp.linux-x86_64-3.7/Blasi_CellSystems2016_JSparseB.o build/temp.linux-x86_64-3.7/Blasi_CellSystems2016_dwdx_colptrs.o build/temp.linux-x86_64-3.7/Blasi_CellSystems2016_dwdp.o build/temp.linux-x86_64-3.7/Blasi_CellSystems2016_Jy.o build/temp.linux-x86_64-3.7/Blasi_CellSystems2016_dxdotdp_explicit.o build/temp.linux-x86_64-3.7/Blasi_CellSystems2016_J.o build/temp.linux-x86_64-3.7/Blasi_CellSystems2016_dJydy.o build/temp.linux-x86_64-3.7/wrapfunctions.o build/temp.linux-x86_64-3.7/Blasi_CellSystems2016_JSparse_colptrs.o build/temp.linux-x86_64-3.7/Blasi_CellSystems2016_sigmay.o build/temp.linux-x86_64-3.7/Blasi_CellSystems2016_w.o build/temp.linux-x86_64-3.7/Blasi_CellSystems2016_dxdotdw.o build/temp.linux-x86_64-3.7/Blasi_CellSystems2016_sx0.o build/temp.linux-x86_64-3.7/Blasi_CellSystems2016_dsigmaydp.o build/temp.linux-x86_64-3.7/Blasi_CellSystems2016_dwdx_rowvals.o build/temp.linux-x86_64-3.7/Blasi_CellSystems2016_dxdotdp_implicit_colptrs.o build/temp.linux-x86_64-3.7/Blasi_CellSystems2016_dxdotdp_explicit_colptrs.o build/temp.linux-x86_64-3.7/Blasi_CellSystems2016_JB.o -L/usr/lib/x86_64-linux-gnu/hdf5/serial -L/home/yannik/amici/python/sdist/amici/libs -lamici -lsundials -lsuitesparse -lcblas -lhdf5_hl_cpp -lhdf5_hl -lhdf5_cpp -lhdf5 -o /home/yannik/pypesto/doc/example/amici_models/Blasi_CellSystems2016/Blasi_CellSystems2016/_Blasi_CellSystems2016.cpython-37m-x86_64-linux-gnu.so\n",
      "\n",
      "Model parameters: ['d', 'a_k8', 'a_k5_k5k12', 'a_k12_k5k12', 'a_k16_k12k16', 'a_k5k12_k5k8k12', 'a_k12k16_k8k12k16', 'a_k8k12k16_4ac', 'a_basal', 'noiseParameter1_observable_k12', 'noiseParameter1_observable_k8k12k16', 'noiseParameter1_observable_k5k12', 'noiseParameter1_observable_k12k16', 'noiseParameter1_observable_k8', 'noiseParameter1_observable_k5k16', 'noiseParameter1_observable_0ac', 'noiseParameter1_observable_k16', 'noiseParameter1_observable_4ac', 'noiseParameter1_observable_k8k16', 'noiseParameter1_observable_k8k12', 'noiseParameter1_observable_k5', 'noiseParameter1_observable_k5k8', 'noiseParameter1_observable_k5k12k16', 'noiseParameter1_observable_k5k8k16', 'noiseParameter1_observable_k5k8k12'] \n",
      "\n",
      "Model const parameters: [] \n",
      "\n",
      "Model outputs:    ['observable_0ac', 'observable_4ac', 'observable_k12', 'observable_k12k16', 'observable_k16', 'observable_k5', 'observable_k5k12', 'observable_k5k12k16', 'observable_k5k16', 'observable_k5k8', 'observable_k5k8k12', 'observable_k5k8k16', 'observable_k8', 'observable_k8k12', 'observable_k8k12k16', 'observable_k8k16'] \n",
      "\n",
      "Model states:     ['x_0ac', 'x_k8', 'x_k5', 'x_k12', 'x_k16', 'x_k5k8', 'x_k5k12', 'x_k5k16', 'x_k8k12', 'x_k8k16', 'x_k12k16', 'x_k5k8k12', 'x_k5k8k16', 'x_k5k12k16', 'x_k8k12k16', 'x_4ac'] \n",
      "\n"
     ]
    }
   ],
   "source": [
    "importer = pypesto.PetabImporter(petab_problem)\n",
    "\n",
    "model = importer.create_model()\n",
    "\n",
    "print(\"Model parameters:\", list(model.getParameterIds()), '\\n')\n",
    "print(\"Model const parameters:\", list(model.getFixedParameterIds()), '\\n')\n",
    "print(\"Model outputs:   \", list(model.getObservableIds()), '\\n')\n",
    "print(\"Model states:    \", list(model.getStateIds()), '\\n')"
   ]
  },
  {
   "cell_type": "markdown",
   "metadata": {},
   "source": [
    "## Create objective function"
   ]
  },
  {
   "cell_type": "code",
   "execution_count": 99,
   "metadata": {
    "scrolled": true
   },
   "outputs": [
    {
     "name": "stderr",
     "output_type": "stream",
     "text": [
      "[Warning] AMICI:mex:simulation: AMICI simulation failed:\n",
      "NewtonSolver routine SUNLinSolSetup_KLU failed with error code -7\n",
      "Error occured in:\n",
      "0       0x7f37170393cb amici::AmiException::AmiException(char const*, ...) + 283\n",
      "1       0x7f371703951f amici::NewtonFailure::NewtonFailure(int, char const*) + 31\n",
      "2       0x7f3716ecce20 /home/yannik/amici/python/sdist/amici/_amici.cpython-37m-x86_64-linux-gnu.so(+0xbae20) [0x7f3716ecce20]\n",
      "3       0x7f371703dde4 amici::NewtonSolver::computeNewtonSensis(amici::AmiVectorArray&) + 36\n",
      "4       0x7f371703d7dd amici::SteadystateProblem::workSteadyStateProblem(amici::ReturnData*, amici::Solver*, amici::\n"
     ]
    },
    {
     "ename": "TypeError",
     "evalue": "argument of type 'NoneType' is not iterable",
     "output_type": "error",
     "traceback": [
      "\u001b[0;31m---------------------------------------------------------------------------\u001b[0m",
      "\u001b[0;31mTypeError\u001b[0m                                 Traceback (most recent call last)",
      "\u001b[0;32m<ipython-input-99-5ff1cef028c2>\u001b[0m in \u001b[0;36m<module>\u001b[0;34m\u001b[0m\n\u001b[1;32m     11\u001b[0m \u001b[0;31m#obj.amici_solver.setAbsoluteTolerance(1e-7)\u001b[0m\u001b[0;34m\u001b[0m\u001b[0;34m\u001b[0m\u001b[0;34m\u001b[0m\u001b[0m\n\u001b[1;32m     12\u001b[0m \u001b[0;34m\u001b[0m\u001b[0m\n\u001b[0;32m---> 13\u001b[0;31m \u001b[0mret\u001b[0m \u001b[0;34m=\u001b[0m \u001b[0mobj\u001b[0m\u001b[0;34m(\u001b[0m\u001b[0mpetab_problem\u001b[0m\u001b[0;34m.\u001b[0m\u001b[0mx_nominal_scaled\u001b[0m\u001b[0;34m,\u001b[0m \u001b[0msensi_orders\u001b[0m\u001b[0;34m=\u001b[0m\u001b[0;34m(\u001b[0m\u001b[0;36m0\u001b[0m\u001b[0;34m,\u001b[0m\u001b[0;36m1\u001b[0m\u001b[0;34m)\u001b[0m\u001b[0;34m,\u001b[0m \u001b[0mreturn_dict\u001b[0m\u001b[0;34m=\u001b[0m\u001b[0;32mTrue\u001b[0m\u001b[0;34m)\u001b[0m\u001b[0;34m\u001b[0m\u001b[0;34m\u001b[0m\u001b[0m\n\u001b[0m\u001b[1;32m     14\u001b[0m \u001b[0mprint\u001b[0m\u001b[0;34m(\u001b[0m\u001b[0mret\u001b[0m\u001b[0;34m)\u001b[0m\u001b[0;34m\u001b[0m\u001b[0;34m\u001b[0m\u001b[0m\n",
      "\u001b[0;32m~/pypesto/pypesto/objective/objective.py\u001b[0m in \u001b[0;36m__call__\u001b[0;34m(self, x, sensi_orders, mode, return_dict)\u001b[0m\n\u001b[1;32m    231\u001b[0m \u001b[0;34m\u001b[0m\u001b[0m\n\u001b[1;32m    232\u001b[0m         \u001b[0;31m# compute result\u001b[0m\u001b[0;34m\u001b[0m\u001b[0;34m\u001b[0m\u001b[0;34m\u001b[0m\u001b[0m\n\u001b[0;32m--> 233\u001b[0;31m         \u001b[0mresult\u001b[0m \u001b[0;34m=\u001b[0m \u001b[0mself\u001b[0m\u001b[0;34m.\u001b[0m\u001b[0m_call_unprocessed\u001b[0m\u001b[0;34m(\u001b[0m\u001b[0mx\u001b[0m\u001b[0;34m,\u001b[0m \u001b[0msensi_orders\u001b[0m\u001b[0;34m,\u001b[0m \u001b[0mmode\u001b[0m\u001b[0;34m)\u001b[0m\u001b[0;34m\u001b[0m\u001b[0;34m\u001b[0m\u001b[0m\n\u001b[0m\u001b[1;32m    234\u001b[0m \u001b[0;34m\u001b[0m\u001b[0m\n\u001b[1;32m    235\u001b[0m         \u001b[0;31m# post-process\u001b[0m\u001b[0;34m\u001b[0m\u001b[0;34m\u001b[0m\u001b[0;34m\u001b[0m\u001b[0m\n",
      "\u001b[0;32m~/pypesto/pypesto/objective/objective.py\u001b[0m in \u001b[0;36m_call_unprocessed\u001b[0;34m(self, x, sensi_orders, mode)\u001b[0m\n\u001b[1;32m    251\u001b[0m         \"\"\"\n\u001b[1;32m    252\u001b[0m         \u001b[0;32mif\u001b[0m \u001b[0mmode\u001b[0m \u001b[0;34m==\u001b[0m \u001b[0mMODE_FUN\u001b[0m\u001b[0;34m:\u001b[0m\u001b[0;34m\u001b[0m\u001b[0;34m\u001b[0m\u001b[0m\n\u001b[0;32m--> 253\u001b[0;31m             \u001b[0mresult\u001b[0m \u001b[0;34m=\u001b[0m \u001b[0mself\u001b[0m\u001b[0;34m.\u001b[0m\u001b[0m_call_mode_fun\u001b[0m\u001b[0;34m(\u001b[0m\u001b[0mx\u001b[0m\u001b[0;34m,\u001b[0m \u001b[0msensi_orders\u001b[0m\u001b[0;34m)\u001b[0m\u001b[0;34m\u001b[0m\u001b[0;34m\u001b[0m\u001b[0m\n\u001b[0m\u001b[1;32m    254\u001b[0m         \u001b[0;32melif\u001b[0m \u001b[0mmode\u001b[0m \u001b[0;34m==\u001b[0m \u001b[0mMODE_RES\u001b[0m\u001b[0;34m:\u001b[0m\u001b[0;34m\u001b[0m\u001b[0;34m\u001b[0m\u001b[0m\n\u001b[1;32m    255\u001b[0m             \u001b[0mresult\u001b[0m \u001b[0;34m=\u001b[0m \u001b[0mself\u001b[0m\u001b[0;34m.\u001b[0m\u001b[0m_call_mode_res\u001b[0m\u001b[0;34m(\u001b[0m\u001b[0mx\u001b[0m\u001b[0;34m,\u001b[0m \u001b[0msensi_orders\u001b[0m\u001b[0;34m)\u001b[0m\u001b[0;34m\u001b[0m\u001b[0;34m\u001b[0m\u001b[0m\n",
      "\u001b[0;32m~/pypesto/pypesto/objective/objective.py\u001b[0m in \u001b[0;36m_call_mode_fun\u001b[0;34m(self, x, sensi_orders)\u001b[0m\n\u001b[1;32m    263\u001b[0m         \"\"\"\n\u001b[1;32m    264\u001b[0m         \u001b[0;32mif\u001b[0m \u001b[0mself\u001b[0m\u001b[0;34m.\u001b[0m\u001b[0mfun_accept_sensi_orders\u001b[0m\u001b[0;34m:\u001b[0m\u001b[0;34m\u001b[0m\u001b[0;34m\u001b[0m\u001b[0m\n\u001b[0;32m--> 265\u001b[0;31m             \u001b[0mresult\u001b[0m \u001b[0;34m=\u001b[0m \u001b[0mself\u001b[0m\u001b[0;34m.\u001b[0m\u001b[0mfun\u001b[0m\u001b[0;34m(\u001b[0m\u001b[0mx\u001b[0m\u001b[0;34m,\u001b[0m \u001b[0msensi_orders\u001b[0m\u001b[0;34m)\u001b[0m\u001b[0;34m\u001b[0m\u001b[0;34m\u001b[0m\u001b[0m\n\u001b[0m\u001b[1;32m    266\u001b[0m             \u001b[0;32mif\u001b[0m \u001b[0;32mnot\u001b[0m \u001b[0misinstance\u001b[0m\u001b[0;34m(\u001b[0m\u001b[0mresult\u001b[0m\u001b[0;34m,\u001b[0m \u001b[0mdict\u001b[0m\u001b[0;34m)\u001b[0m\u001b[0;34m:\u001b[0m\u001b[0;34m\u001b[0m\u001b[0;34m\u001b[0m\u001b[0m\n\u001b[1;32m    267\u001b[0m                 result = Objective.output_to_dict(\n",
      "\u001b[0;32m~/pypesto/pypesto/objective/amici_objective.py\u001b[0m in \u001b[0;36mfun\u001b[0;34m(x, sensi_orders)\u001b[0m\n\u001b[1;32m    190\u001b[0m         \"\"\"\n\u001b[1;32m    191\u001b[0m         \u001b[0;32mdef\u001b[0m \u001b[0mfun\u001b[0m\u001b[0;34m(\u001b[0m\u001b[0mx\u001b[0m\u001b[0;34m,\u001b[0m \u001b[0msensi_orders\u001b[0m\u001b[0;34m)\u001b[0m\u001b[0;34m:\u001b[0m\u001b[0;34m\u001b[0m\u001b[0;34m\u001b[0m\u001b[0m\n\u001b[0;32m--> 192\u001b[0;31m             \u001b[0;32mreturn\u001b[0m \u001b[0mself\u001b[0m\u001b[0;34m.\u001b[0m\u001b[0m_call_amici\u001b[0m\u001b[0;34m(\u001b[0m\u001b[0mx\u001b[0m\u001b[0;34m,\u001b[0m \u001b[0msensi_orders\u001b[0m\u001b[0;34m,\u001b[0m \u001b[0mMODE_FUN\u001b[0m\u001b[0;34m)\u001b[0m\u001b[0;34m\u001b[0m\u001b[0;34m\u001b[0m\u001b[0m\n\u001b[0m\u001b[1;32m    193\u001b[0m \u001b[0;34m\u001b[0m\u001b[0m\n\u001b[1;32m    194\u001b[0m         \u001b[0;32mreturn\u001b[0m \u001b[0mfun\u001b[0m\u001b[0;34m\u001b[0m\u001b[0;34m\u001b[0m\u001b[0m\n",
      "\u001b[0;32m~/pypesto/pypesto/objective/petab_import.py\u001b[0m in \u001b[0;36m_call_amici\u001b[0;34m(self, x, sensi_orders, mode)\u001b[0m\n\u001b[1;32m    446\u001b[0m \u001b[0;34m\u001b[0m\u001b[0m\n\u001b[1;32m    447\u001b[0m         \u001b[0mnllh\u001b[0m \u001b[0;34m=\u001b[0m \u001b[0;34m-\u001b[0m \u001b[0mret\u001b[0m\u001b[0;34m[\u001b[0m\u001b[0;34m'llh'\u001b[0m\u001b[0;34m]\u001b[0m\u001b[0;34m\u001b[0m\u001b[0;34m\u001b[0m\u001b[0m\n\u001b[0;32m--> 448\u001b[0;31m         \u001b[0msnllh\u001b[0m \u001b[0;34m=\u001b[0m \u001b[0;34m-\u001b[0m \u001b[0mself\u001b[0m\u001b[0;34m.\u001b[0m\u001b[0mpar_dct_to_arr\u001b[0m\u001b[0;34m(\u001b[0m\u001b[0mret\u001b[0m\u001b[0;34m[\u001b[0m\u001b[0;34m'sllh'\u001b[0m\u001b[0;34m]\u001b[0m\u001b[0;34m)\u001b[0m \u001b[0;32mif\u001b[0m \u001b[0msensi_order\u001b[0m \u001b[0;34m>\u001b[0m \u001b[0;36m0\u001b[0m \u001b[0;32melse\u001b[0m \u001b[0;32mNone\u001b[0m\u001b[0;34m\u001b[0m\u001b[0;34m\u001b[0m\u001b[0m\n\u001b[0m\u001b[1;32m    449\u001b[0m \u001b[0;34m\u001b[0m\u001b[0m\n\u001b[1;32m    450\u001b[0m         return {\n",
      "\u001b[0;32m~/pypesto/pypesto/objective/petab_import.py\u001b[0m in \u001b[0;36mpar_dct_to_arr\u001b[0;34m(self, x_dct)\u001b[0m\n\u001b[1;32m    459\u001b[0m     \u001b[0;32mdef\u001b[0m \u001b[0mpar_dct_to_arr\u001b[0m\u001b[0;34m(\u001b[0m\u001b[0mself\u001b[0m\u001b[0;34m,\u001b[0m \u001b[0mx_dct\u001b[0m\u001b[0;34m)\u001b[0m\u001b[0;34m:\u001b[0m\u001b[0;34m\u001b[0m\u001b[0;34m\u001b[0m\u001b[0m\n\u001b[1;32m    460\u001b[0m         return np.array([x_dct[_id] if _id in x_dct else np.nan\n\u001b[0;32m--> 461\u001b[0;31m                          for _id in self.x_ids])\n\u001b[0m\u001b[1;32m    462\u001b[0m \u001b[0;34m\u001b[0m\u001b[0m\n\u001b[1;32m    463\u001b[0m     \u001b[0;32mdef\u001b[0m \u001b[0m__getstate__\u001b[0m\u001b[0;34m(\u001b[0m\u001b[0mself\u001b[0m\u001b[0;34m)\u001b[0m\u001b[0;34m:\u001b[0m\u001b[0;34m\u001b[0m\u001b[0;34m\u001b[0m\u001b[0m\n",
      "\u001b[0;32m~/pypesto/pypesto/objective/petab_import.py\u001b[0m in \u001b[0;36m<listcomp>\u001b[0;34m(.0)\u001b[0m\n\u001b[1;32m    459\u001b[0m     \u001b[0;32mdef\u001b[0m \u001b[0mpar_dct_to_arr\u001b[0m\u001b[0;34m(\u001b[0m\u001b[0mself\u001b[0m\u001b[0;34m,\u001b[0m \u001b[0mx_dct\u001b[0m\u001b[0;34m)\u001b[0m\u001b[0;34m:\u001b[0m\u001b[0;34m\u001b[0m\u001b[0;34m\u001b[0m\u001b[0m\n\u001b[1;32m    460\u001b[0m         return np.array([x_dct[_id] if _id in x_dct else np.nan\n\u001b[0;32m--> 461\u001b[0;31m                          for _id in self.x_ids])\n\u001b[0m\u001b[1;32m    462\u001b[0m \u001b[0;34m\u001b[0m\u001b[0m\n\u001b[1;32m    463\u001b[0m     \u001b[0;32mdef\u001b[0m \u001b[0m__getstate__\u001b[0m\u001b[0;34m(\u001b[0m\u001b[0mself\u001b[0m\u001b[0;34m)\u001b[0m\u001b[0;34m:\u001b[0m\u001b[0;34m\u001b[0m\u001b[0;34m\u001b[0m\u001b[0m\n",
      "\u001b[0;31mTypeError\u001b[0m: argument of type 'NoneType' is not iterable"
     ]
    }
   ],
   "source": [
    "import libsbml\n",
    "converter_config = libsbml.SBMLLocalParameterConverter()\\\n",
    "    .getDefaultProperties()\n",
    "petab_problem.sbml_document.convert(converter_config)\n",
    "\n",
    "obj = importer.create_objective()\n",
    "obj.use_amici_petab_simulate = False\n",
    "obj.use_amici_petab_simulate = True\n",
    "#obj.amici_solver.setMaxSteps(10000)\n",
    "#obj.amici_solver.setRelativeTolerance(1e-7)\n",
    "#obj.amici_solver.setAbsoluteTolerance(1e-7)\n",
    "\n",
    "ret = obj(petab_problem.x_nominal_scaled, sensi_orders=(0,1), return_dict=True)\n",
    "print(ret)"
   ]
  },
  {
   "cell_type": "code",
   "execution_count": 109,
   "metadata": {},
   "outputs": [
    {
     "name": "stdout",
     "output_type": "stream",
     "text": [
      "{'fval': inf, 'grad': array([nan, nan, nan, nan, nan, nan, nan, nan, nan, nan, nan, nan, nan,\n",
      "       nan, nan, nan, nan, nan, nan, nan, nan, nan, nan, nan, nan]), 'hess': array([[nan, nan, nan, nan, nan, nan, nan, nan, nan, nan, nan, nan, nan,\n",
      "        nan, nan, nan, nan, nan, nan, nan, nan, nan, nan, nan, nan],\n",
      "       [nan, nan, nan, nan, nan, nan, nan, nan, nan, nan, nan, nan, nan,\n",
      "        nan, nan, nan, nan, nan, nan, nan, nan, nan, nan, nan, nan],\n",
      "       [nan, nan, nan, nan, nan, nan, nan, nan, nan, nan, nan, nan, nan,\n",
      "        nan, nan, nan, nan, nan, nan, nan, nan, nan, nan, nan, nan],\n",
      "       [nan, nan, nan, nan, nan, nan, nan, nan, nan, nan, nan, nan, nan,\n",
      "        nan, nan, nan, nan, nan, nan, nan, nan, nan, nan, nan, nan],\n",
      "       [nan, nan, nan, nan, nan, nan, nan, nan, nan, nan, nan, nan, nan,\n",
      "        nan, nan, nan, nan, nan, nan, nan, nan, nan, nan, nan, nan],\n",
      "       [nan, nan, nan, nan, nan, nan, nan, nan, nan, nan, nan, nan, nan,\n",
      "        nan, nan, nan, nan, nan, nan, nan, nan, nan, nan, nan, nan],\n",
      "       [nan, nan, nan, nan, nan, nan, nan, nan, nan, nan, nan, nan, nan,\n",
      "        nan, nan, nan, nan, nan, nan, nan, nan, nan, nan, nan, nan],\n",
      "       [nan, nan, nan, nan, nan, nan, nan, nan, nan, nan, nan, nan, nan,\n",
      "        nan, nan, nan, nan, nan, nan, nan, nan, nan, nan, nan, nan],\n",
      "       [nan, nan, nan, nan, nan, nan, nan, nan, nan, nan, nan, nan, nan,\n",
      "        nan, nan, nan, nan, nan, nan, nan, nan, nan, nan, nan, nan],\n",
      "       [nan, nan, nan, nan, nan, nan, nan, nan, nan, nan, nan, nan, nan,\n",
      "        nan, nan, nan, nan, nan, nan, nan, nan, nan, nan, nan, nan],\n",
      "       [nan, nan, nan, nan, nan, nan, nan, nan, nan, nan, nan, nan, nan,\n",
      "        nan, nan, nan, nan, nan, nan, nan, nan, nan, nan, nan, nan],\n",
      "       [nan, nan, nan, nan, nan, nan, nan, nan, nan, nan, nan, nan, nan,\n",
      "        nan, nan, nan, nan, nan, nan, nan, nan, nan, nan, nan, nan],\n",
      "       [nan, nan, nan, nan, nan, nan, nan, nan, nan, nan, nan, nan, nan,\n",
      "        nan, nan, nan, nan, nan, nan, nan, nan, nan, nan, nan, nan],\n",
      "       [nan, nan, nan, nan, nan, nan, nan, nan, nan, nan, nan, nan, nan,\n",
      "        nan, nan, nan, nan, nan, nan, nan, nan, nan, nan, nan, nan],\n",
      "       [nan, nan, nan, nan, nan, nan, nan, nan, nan, nan, nan, nan, nan,\n",
      "        nan, nan, nan, nan, nan, nan, nan, nan, nan, nan, nan, nan],\n",
      "       [nan, nan, nan, nan, nan, nan, nan, nan, nan, nan, nan, nan, nan,\n",
      "        nan, nan, nan, nan, nan, nan, nan, nan, nan, nan, nan, nan],\n",
      "       [nan, nan, nan, nan, nan, nan, nan, nan, nan, nan, nan, nan, nan,\n",
      "        nan, nan, nan, nan, nan, nan, nan, nan, nan, nan, nan, nan],\n",
      "       [nan, nan, nan, nan, nan, nan, nan, nan, nan, nan, nan, nan, nan,\n",
      "        nan, nan, nan, nan, nan, nan, nan, nan, nan, nan, nan, nan],\n",
      "       [nan, nan, nan, nan, nan, nan, nan, nan, nan, nan, nan, nan, nan,\n",
      "        nan, nan, nan, nan, nan, nan, nan, nan, nan, nan, nan, nan],\n",
      "       [nan, nan, nan, nan, nan, nan, nan, nan, nan, nan, nan, nan, nan,\n",
      "        nan, nan, nan, nan, nan, nan, nan, nan, nan, nan, nan, nan],\n",
      "       [nan, nan, nan, nan, nan, nan, nan, nan, nan, nan, nan, nan, nan,\n",
      "        nan, nan, nan, nan, nan, nan, nan, nan, nan, nan, nan, nan],\n",
      "       [nan, nan, nan, nan, nan, nan, nan, nan, nan, nan, nan, nan, nan,\n",
      "        nan, nan, nan, nan, nan, nan, nan, nan, nan, nan, nan, nan],\n",
      "       [nan, nan, nan, nan, nan, nan, nan, nan, nan, nan, nan, nan, nan,\n",
      "        nan, nan, nan, nan, nan, nan, nan, nan, nan, nan, nan, nan],\n",
      "       [nan, nan, nan, nan, nan, nan, nan, nan, nan, nan, nan, nan, nan,\n",
      "        nan, nan, nan, nan, nan, nan, nan, nan, nan, nan, nan, nan],\n",
      "       [nan, nan, nan, nan, nan, nan, nan, nan, nan, nan, nan, nan, nan,\n",
      "        nan, nan, nan, nan, nan, nan, nan, nan, nan, nan, nan, nan]]), 'res': array([nan, nan, nan, nan, nan, nan, nan, nan, nan, nan, nan, nan, nan,\n",
      "       nan, nan, nan, nan, nan, nan, nan, nan, nan, nan, nan, nan, nan,\n",
      "       nan, nan, nan, nan, nan, nan, nan, nan, nan, nan, nan, nan, nan,\n",
      "       nan, nan, nan, nan, nan, nan, nan, nan, nan, nan, nan, nan, nan,\n",
      "       nan, nan, nan, nan, nan, nan, nan, nan, nan, nan, nan, nan, nan,\n",
      "       nan, nan, nan, nan, nan, nan, nan, nan, nan, nan, nan, nan, nan,\n",
      "       nan, nan, nan, nan, nan, nan, nan, nan, nan, nan, nan, nan, nan,\n",
      "       nan, nan, nan, nan, nan, nan, nan, nan, nan, nan, nan, nan, nan,\n",
      "       nan, nan, nan, nan, nan, nan, nan, nan, nan, nan, nan, nan, nan,\n",
      "       nan, nan, nan, nan, nan, nan, nan, nan, nan, nan, nan, nan, nan,\n",
      "       nan, nan, nan, nan, nan, nan, nan, nan, nan, nan, nan, nan, nan,\n",
      "       nan, nan, nan, nan, nan, nan, nan, nan, nan, nan, nan, nan, nan,\n",
      "       nan, nan, nan, nan, nan, nan, nan, nan, nan, nan, nan, nan, nan,\n",
      "       nan, nan, nan, nan, nan, nan, nan, nan, nan, nan, nan, nan, nan,\n",
      "       nan, nan, nan, nan, nan, nan, nan, nan, nan, nan, nan, nan, nan,\n",
      "       nan, nan, nan, nan, nan, nan, nan, nan, nan, nan, nan, nan, nan,\n",
      "       nan, nan, nan, nan, nan, nan, nan, nan, nan, nan, nan, nan, nan,\n",
      "       nan, nan, nan, nan, nan, nan, nan, nan, nan, nan, nan, nan, nan,\n",
      "       nan, nan, nan, nan, nan, nan, nan, nan, nan, nan, nan, nan, nan,\n",
      "       nan, nan, nan, nan, nan, nan, nan, nan, nan, nan, nan, nan, nan,\n",
      "       nan, nan, nan, nan, nan, nan, nan, nan, nan, nan, nan, nan, nan,\n",
      "       nan, nan, nan, nan, nan, nan, nan, nan, nan, nan, nan, nan, nan,\n",
      "       nan, nan]), 'sres': array([[nan, nan, nan, ..., nan, nan, nan],\n",
      "       [nan, nan, nan, ..., nan, nan, nan],\n",
      "       [nan, nan, nan, ..., nan, nan, nan],\n",
      "       ...,\n",
      "       [nan, nan, nan, ..., nan, nan, nan],\n",
      "       [nan, nan, nan, ..., nan, nan, nan],\n",
      "       [nan, nan, nan, ..., nan, nan, nan]]), 'rdatas': [<amici.numpy.ReturnDataView object at 0x7f3704476198>]}\n"
     ]
    },
    {
     "name": "stderr",
     "output_type": "stream",
     "text": [
      "[Warning] AMICI:mex:simulation: AMICI simulation failed:\n",
      "NewtonSolver routine SUNLinSolSetup_KLU failed with error code -7\n",
      "Error occured in:\n",
      "0       0x7f37170393cb amici::AmiException::AmiException(char const*, ...) + 283\n",
      "1       0x7f371703951f amici::NewtonFailure::NewtonFailure(int, char const*) + 31\n",
      "2       0x7f3716ecce20 /home/yannik/amici/python/sdist/amici/_amici.cpython-37m-x86_64-linux-gnu.so(+0xbae20) [0x7f3716ecce20]\n",
      "3       0x7f371703dde4 amici::NewtonSolver::computeNewtonSensis(amici::AmiVectorArray&) + 36\n",
      "4       0x7f371703d7dd amici::SteadystateProblem::workSteadyStateProblem(amici::ReturnData*, amici::Solver*, amici::\n"
     ]
    }
   ],
   "source": [
    "import libsbml\n",
    "converter_config = libsbml.SBMLLocalParameterConverter()\\\n",
    "    .getDefaultProperties()\n",
    "petab_problem.sbml_document.convert(converter_config)\n",
    "\n",
    "obj = importer.create_objective()\n",
    "obj.use_amici_petab_simulate = False\n",
    "#obj.use_amici_petab_simulate = True\n",
    "obj.amici_solver.setMaxSteps(int(1e8))\n",
    "obj.amici_solver.setRelativeTolerance(1e-3)\n",
    "obj.amici_solver.setAbsoluteTolerance(1e-3)\n",
    "\n",
    "ret = obj(petab_problem.x_nominal_scaled, sensi_orders=(0,1), return_dict=True)\n",
    "print(ret)"
   ]
  },
  {
   "cell_type": "markdown",
   "metadata": {},
   "source": [
    "A finite difference check whether the computed gradient is accurate:"
   ]
  },
  {
   "cell_type": "code",
   "execution_count": 90,
   "metadata": {},
   "outputs": [
    {
     "name": "stdout",
     "output_type": "stream",
     "text": [
      "(705.466017524963, array([ 6.34756146e-03, -1.16046357e+00,  3.42169007e-02,  1.80795077e-03,\n",
      "       -1.56324231e-01, -5.29533107e-02, -2.28458061e-01, -1.31790645e-01,\n",
      "        3.50842575e-04, -1.58891356e-02, -4.03938646e-03, -7.63816449e-06,\n",
      "       -5.79297297e-06, -2.16723178e-03,  1.57876121e-02, -2.21175966e-02,\n",
      "       -1.14897007e-02,  1.34624435e-02,  2.14947779e-03,  3.54312356e-02,\n",
      "       -3.60753539e-05,  3.93259245e-04, -2.17525930e-04,  4.19452777e-03,\n",
      "        1.07924477e-02, -1.10546725e-02,  2.10872379e-02,  4.64243515e+02,\n",
      "       -4.78534818e+01, -1.55898315e-03]))\n"
     ]
    }
   ],
   "source": [
    "problem = importer.create_problem(obj)\n",
    "\n",
    "objective = problem.objective\n",
    "objective.use_amici_petab_simulate=False\n",
    "#objective.use_amici_petab_simulate=True\n",
    "ret = objective(petab_problem.x_nominal_free_scaled, sensi_orders=(0,1))\n",
    "print(ret)"
   ]
  },
  {
   "cell_type": "code",
   "execution_count": 91,
   "metadata": {},
   "outputs": [
    {
     "name": "stdout",
     "output_type": "stream",
     "text": [
      "fd:  [ 6.34479420e-03 -1.16046371e+00  3.47561797e-02  1.04984053e-03\n",
      " -1.55593593e-01 -5.31396569e-02 -2.28669794e-01 -1.30682287e-01\n",
      "  8.19879347e-04 -1.55749859e-02 -4.03938657e-03 -7.63805019e-06\n",
      " -5.79348125e-06 -2.16723151e-03  1.46463077e-02 -2.14635349e-02\n",
      " -1.08506066e-02  1.39981711e-02  2.53270684e-03  3.54406774e-02\n",
      " -3.60546437e-05  3.93264372e-04 -2.17490879e-04  4.19452590e-03\n",
      "  1.07924478e-02 -1.10608335e-02  2.10820679e-02  4.64242898e+02\n",
      " -4.78534828e+01 -1.57949160e-03]\n",
      "l2 difference:  0.002445391736261386\n"
     ]
    }
   ],
   "source": [
    "eps = 1e-4\n",
    "\n",
    "def fd(x):\n",
    "    grad = np.zeros_like(x)\n",
    "    j = 0\n",
    "    for i, xi in enumerate(x):\n",
    "        mask = np.zeros_like(x)\n",
    "        mask[i] += eps\n",
    "        valinc, _ = objective(x+mask, sensi_orders=(0,1))\n",
    "        valdec, _ = objective(x-mask, sensi_orders=(0,1))\n",
    "        grad[j] = (valinc - valdec) / (2*eps)\n",
    "        j += 1\n",
    "    return grad\n",
    "fdval = fd(petab_problem.x_nominal_free_scaled)\n",
    "print(\"fd: \", fdval)\n",
    "print(\"l2 difference: \", np.linalg.norm(ret[1] - fdval))"
   ]
  },
  {
   "cell_type": "markdown",
   "metadata": {},
   "source": [
    "## Run optimization"
   ]
  },
  {
   "cell_type": "code",
   "execution_count": 92,
   "metadata": {},
   "outputs": [
    {
     "name": "stdout",
     "output_type": "stream",
     "text": [
      "[] [0, 1, 2, 3, 4, 5, 6, 7, 8, 9, 10, 11, 12, 13, 14, 15, 16, 17, 18, 19, 20, 21, 22, 23, 24, 25, 26, 27, 28, 29]\n"
     ]
    }
   ],
   "source": [
    "print(problem.x_fixed_indices, problem.x_free_indices)"
   ]
  },
  {
   "cell_type": "code",
   "execution_count": 93,
   "metadata": {
    "scrolled": true
   },
   "outputs": [
    {
     "name": "stderr",
     "output_type": "stream",
     "text": [
      "Engine set up to use up to 4 processes in total. The number was automatically determined and might not be appropriate on some systems.\n"
     ]
    },
    {
     "ename": "KeyboardInterrupt",
     "evalue": "",
     "output_type": "error",
     "traceback": [
      "\u001b[0;31m---------------------------------------------------------------------------\u001b[0m",
      "\u001b[0;31mKeyboardInterrupt\u001b[0m                         Traceback (most recent call last)",
      "\u001b[0;32m<ipython-input-93-ef59e6078f8b>\u001b[0m in \u001b[0;36m<module>\u001b[0;34m\u001b[0m\n\u001b[1;32m      6\u001b[0m \u001b[0;31m# do the optimization\u001b[0m\u001b[0;34m\u001b[0m\u001b[0;34m\u001b[0m\u001b[0;34m\u001b[0m\u001b[0m\n\u001b[1;32m      7\u001b[0m result = pypesto.minimize(problem=problem, optimizer=optimizer,\n\u001b[0;32m----> 8\u001b[0;31m                           n_starts=10, engine=engine)\n\u001b[0m",
      "\u001b[0;32m~/pypesto/pypesto/optimize/optimize.py\u001b[0m in \u001b[0;36mminimize\u001b[0;34m(problem, optimizer, n_starts, startpoint_method, result, engine, options)\u001b[0m\n\u001b[1;32m    128\u001b[0m \u001b[0;34m\u001b[0m\u001b[0m\n\u001b[1;32m    129\u001b[0m     \u001b[0;31m# do multistart optimization\u001b[0m\u001b[0;34m\u001b[0m\u001b[0;34m\u001b[0m\u001b[0;34m\u001b[0m\u001b[0m\n\u001b[0;32m--> 130\u001b[0;31m     \u001b[0mret\u001b[0m \u001b[0;34m=\u001b[0m \u001b[0mengine\u001b[0m\u001b[0;34m.\u001b[0m\u001b[0mexecute\u001b[0m\u001b[0;34m(\u001b[0m\u001b[0mtasks\u001b[0m\u001b[0;34m)\u001b[0m\u001b[0;34m\u001b[0m\u001b[0;34m\u001b[0m\u001b[0m\n\u001b[0m\u001b[1;32m    131\u001b[0m \u001b[0;34m\u001b[0m\u001b[0m\n\u001b[1;32m    132\u001b[0m     \u001b[0;31m# aggregate results\u001b[0m\u001b[0;34m\u001b[0m\u001b[0;34m\u001b[0m\u001b[0;34m\u001b[0m\u001b[0m\n",
      "\u001b[0;32m~/pypesto/pypesto/engine/multi_process.py\u001b[0m in \u001b[0;36mexecute\u001b[0;34m(self, tasks)\u001b[0m\n\u001b[1;32m     51\u001b[0m \u001b[0;34m\u001b[0m\u001b[0m\n\u001b[1;32m     52\u001b[0m         \u001b[0;32mwith\u001b[0m \u001b[0mPool\u001b[0m\u001b[0;34m(\u001b[0m\u001b[0mprocesses\u001b[0m\u001b[0;34m=\u001b[0m\u001b[0mn_procs\u001b[0m\u001b[0;34m)\u001b[0m \u001b[0;32mas\u001b[0m \u001b[0mpool\u001b[0m\u001b[0;34m:\u001b[0m\u001b[0;34m\u001b[0m\u001b[0;34m\u001b[0m\u001b[0m\n\u001b[0;32m---> 53\u001b[0;31m             \u001b[0mresults\u001b[0m \u001b[0;34m=\u001b[0m \u001b[0mpool\u001b[0m\u001b[0;34m.\u001b[0m\u001b[0mmap\u001b[0m\u001b[0;34m(\u001b[0m\u001b[0mwork\u001b[0m\u001b[0;34m,\u001b[0m \u001b[0mpickled_tasks\u001b[0m\u001b[0;34m)\u001b[0m\u001b[0;34m\u001b[0m\u001b[0;34m\u001b[0m\u001b[0m\n\u001b[0m\u001b[1;32m     54\u001b[0m \u001b[0;34m\u001b[0m\u001b[0m\n\u001b[1;32m     55\u001b[0m         \u001b[0;32mreturn\u001b[0m \u001b[0mresults\u001b[0m\u001b[0;34m\u001b[0m\u001b[0;34m\u001b[0m\u001b[0m\n",
      "\u001b[0;32m~/anaconda3/lib/python3.7/multiprocessing/pool.py\u001b[0m in \u001b[0;36mmap\u001b[0;34m(self, func, iterable, chunksize)\u001b[0m\n\u001b[1;32m    266\u001b[0m         \u001b[0;32min\u001b[0m \u001b[0ma\u001b[0m \u001b[0mlist\u001b[0m \u001b[0mthat\u001b[0m \u001b[0;32mis\u001b[0m \u001b[0mreturned\u001b[0m\u001b[0;34m.\u001b[0m\u001b[0;34m\u001b[0m\u001b[0;34m\u001b[0m\u001b[0m\n\u001b[1;32m    267\u001b[0m         '''\n\u001b[0;32m--> 268\u001b[0;31m         \u001b[0;32mreturn\u001b[0m \u001b[0mself\u001b[0m\u001b[0;34m.\u001b[0m\u001b[0m_map_async\u001b[0m\u001b[0;34m(\u001b[0m\u001b[0mfunc\u001b[0m\u001b[0;34m,\u001b[0m \u001b[0miterable\u001b[0m\u001b[0;34m,\u001b[0m \u001b[0mmapstar\u001b[0m\u001b[0;34m,\u001b[0m \u001b[0mchunksize\u001b[0m\u001b[0;34m)\u001b[0m\u001b[0;34m.\u001b[0m\u001b[0mget\u001b[0m\u001b[0;34m(\u001b[0m\u001b[0;34m)\u001b[0m\u001b[0;34m\u001b[0m\u001b[0;34m\u001b[0m\u001b[0m\n\u001b[0m\u001b[1;32m    269\u001b[0m \u001b[0;34m\u001b[0m\u001b[0m\n\u001b[1;32m    270\u001b[0m     \u001b[0;32mdef\u001b[0m \u001b[0mstarmap\u001b[0m\u001b[0;34m(\u001b[0m\u001b[0mself\u001b[0m\u001b[0;34m,\u001b[0m \u001b[0mfunc\u001b[0m\u001b[0;34m,\u001b[0m \u001b[0miterable\u001b[0m\u001b[0;34m,\u001b[0m \u001b[0mchunksize\u001b[0m\u001b[0;34m=\u001b[0m\u001b[0;32mNone\u001b[0m\u001b[0;34m)\u001b[0m\u001b[0;34m:\u001b[0m\u001b[0;34m\u001b[0m\u001b[0;34m\u001b[0m\u001b[0m\n",
      "\u001b[0;32m~/anaconda3/lib/python3.7/multiprocessing/pool.py\u001b[0m in \u001b[0;36mget\u001b[0;34m(self, timeout)\u001b[0m\n\u001b[1;32m    649\u001b[0m \u001b[0;34m\u001b[0m\u001b[0m\n\u001b[1;32m    650\u001b[0m     \u001b[0;32mdef\u001b[0m \u001b[0mget\u001b[0m\u001b[0;34m(\u001b[0m\u001b[0mself\u001b[0m\u001b[0;34m,\u001b[0m \u001b[0mtimeout\u001b[0m\u001b[0;34m=\u001b[0m\u001b[0;32mNone\u001b[0m\u001b[0;34m)\u001b[0m\u001b[0;34m:\u001b[0m\u001b[0;34m\u001b[0m\u001b[0;34m\u001b[0m\u001b[0m\n\u001b[0;32m--> 651\u001b[0;31m         \u001b[0mself\u001b[0m\u001b[0;34m.\u001b[0m\u001b[0mwait\u001b[0m\u001b[0;34m(\u001b[0m\u001b[0mtimeout\u001b[0m\u001b[0;34m)\u001b[0m\u001b[0;34m\u001b[0m\u001b[0;34m\u001b[0m\u001b[0m\n\u001b[0m\u001b[1;32m    652\u001b[0m         \u001b[0;32mif\u001b[0m \u001b[0;32mnot\u001b[0m \u001b[0mself\u001b[0m\u001b[0;34m.\u001b[0m\u001b[0mready\u001b[0m\u001b[0;34m(\u001b[0m\u001b[0;34m)\u001b[0m\u001b[0;34m:\u001b[0m\u001b[0;34m\u001b[0m\u001b[0;34m\u001b[0m\u001b[0m\n\u001b[1;32m    653\u001b[0m             \u001b[0;32mraise\u001b[0m \u001b[0mTimeoutError\u001b[0m\u001b[0;34m\u001b[0m\u001b[0;34m\u001b[0m\u001b[0m\n",
      "\u001b[0;32m~/anaconda3/lib/python3.7/multiprocessing/pool.py\u001b[0m in \u001b[0;36mwait\u001b[0;34m(self, timeout)\u001b[0m\n\u001b[1;32m    646\u001b[0m \u001b[0;34m\u001b[0m\u001b[0m\n\u001b[1;32m    647\u001b[0m     \u001b[0;32mdef\u001b[0m \u001b[0mwait\u001b[0m\u001b[0;34m(\u001b[0m\u001b[0mself\u001b[0m\u001b[0;34m,\u001b[0m \u001b[0mtimeout\u001b[0m\u001b[0;34m=\u001b[0m\u001b[0;32mNone\u001b[0m\u001b[0;34m)\u001b[0m\u001b[0;34m:\u001b[0m\u001b[0;34m\u001b[0m\u001b[0;34m\u001b[0m\u001b[0m\n\u001b[0;32m--> 648\u001b[0;31m         \u001b[0mself\u001b[0m\u001b[0;34m.\u001b[0m\u001b[0m_event\u001b[0m\u001b[0;34m.\u001b[0m\u001b[0mwait\u001b[0m\u001b[0;34m(\u001b[0m\u001b[0mtimeout\u001b[0m\u001b[0;34m)\u001b[0m\u001b[0;34m\u001b[0m\u001b[0;34m\u001b[0m\u001b[0m\n\u001b[0m\u001b[1;32m    649\u001b[0m \u001b[0;34m\u001b[0m\u001b[0m\n\u001b[1;32m    650\u001b[0m     \u001b[0;32mdef\u001b[0m \u001b[0mget\u001b[0m\u001b[0;34m(\u001b[0m\u001b[0mself\u001b[0m\u001b[0;34m,\u001b[0m \u001b[0mtimeout\u001b[0m\u001b[0;34m=\u001b[0m\u001b[0;32mNone\u001b[0m\u001b[0;34m)\u001b[0m\u001b[0;34m:\u001b[0m\u001b[0;34m\u001b[0m\u001b[0;34m\u001b[0m\u001b[0m\n",
      "\u001b[0;32m~/anaconda3/lib/python3.7/threading.py\u001b[0m in \u001b[0;36mwait\u001b[0;34m(self, timeout)\u001b[0m\n\u001b[1;32m    550\u001b[0m             \u001b[0msignaled\u001b[0m \u001b[0;34m=\u001b[0m \u001b[0mself\u001b[0m\u001b[0;34m.\u001b[0m\u001b[0m_flag\u001b[0m\u001b[0;34m\u001b[0m\u001b[0;34m\u001b[0m\u001b[0m\n\u001b[1;32m    551\u001b[0m             \u001b[0;32mif\u001b[0m \u001b[0;32mnot\u001b[0m \u001b[0msignaled\u001b[0m\u001b[0;34m:\u001b[0m\u001b[0;34m\u001b[0m\u001b[0;34m\u001b[0m\u001b[0m\n\u001b[0;32m--> 552\u001b[0;31m                 \u001b[0msignaled\u001b[0m \u001b[0;34m=\u001b[0m \u001b[0mself\u001b[0m\u001b[0;34m.\u001b[0m\u001b[0m_cond\u001b[0m\u001b[0;34m.\u001b[0m\u001b[0mwait\u001b[0m\u001b[0;34m(\u001b[0m\u001b[0mtimeout\u001b[0m\u001b[0;34m)\u001b[0m\u001b[0;34m\u001b[0m\u001b[0;34m\u001b[0m\u001b[0m\n\u001b[0m\u001b[1;32m    553\u001b[0m             \u001b[0;32mreturn\u001b[0m \u001b[0msignaled\u001b[0m\u001b[0;34m\u001b[0m\u001b[0;34m\u001b[0m\u001b[0m\n\u001b[1;32m    554\u001b[0m \u001b[0;34m\u001b[0m\u001b[0m\n",
      "\u001b[0;32m~/anaconda3/lib/python3.7/threading.py\u001b[0m in \u001b[0;36mwait\u001b[0;34m(self, timeout)\u001b[0m\n\u001b[1;32m    294\u001b[0m         \u001b[0;32mtry\u001b[0m\u001b[0;34m:\u001b[0m    \u001b[0;31m# restore state no matter what (e.g., KeyboardInterrupt)\u001b[0m\u001b[0;34m\u001b[0m\u001b[0;34m\u001b[0m\u001b[0m\n\u001b[1;32m    295\u001b[0m             \u001b[0;32mif\u001b[0m \u001b[0mtimeout\u001b[0m \u001b[0;32mis\u001b[0m \u001b[0;32mNone\u001b[0m\u001b[0;34m:\u001b[0m\u001b[0;34m\u001b[0m\u001b[0;34m\u001b[0m\u001b[0m\n\u001b[0;32m--> 296\u001b[0;31m                 \u001b[0mwaiter\u001b[0m\u001b[0;34m.\u001b[0m\u001b[0macquire\u001b[0m\u001b[0;34m(\u001b[0m\u001b[0;34m)\u001b[0m\u001b[0;34m\u001b[0m\u001b[0;34m\u001b[0m\u001b[0m\n\u001b[0m\u001b[1;32m    297\u001b[0m                 \u001b[0mgotit\u001b[0m \u001b[0;34m=\u001b[0m \u001b[0;32mTrue\u001b[0m\u001b[0;34m\u001b[0m\u001b[0;34m\u001b[0m\u001b[0m\n\u001b[1;32m    298\u001b[0m             \u001b[0;32melse\u001b[0m\u001b[0;34m:\u001b[0m\u001b[0;34m\u001b[0m\u001b[0;34m\u001b[0m\u001b[0m\n",
      "\u001b[0;31mKeyboardInterrupt\u001b[0m: "
     ]
    }
   ],
   "source": [
    "optimizer = pypesto.ScipyOptimizer()\n",
    "\n",
    "engine = pypesto.SingleCoreEngine()\n",
    "engine = pypesto.MultiProcessEngine()\n",
    "\n",
    "# do the optimization\n",
    "result = pypesto.minimize(problem=problem, optimizer=optimizer,\n",
    "                          n_starts=10, engine=engine)"
   ]
  },
  {
   "cell_type": "markdown",
   "metadata": {},
   "source": [
    "## Visualize"
   ]
  },
  {
   "cell_type": "code",
   "execution_count": 68,
   "metadata": {},
   "outputs": [
    {
     "ename": "ValueError",
     "evalue": "The condensed distance matrix must contain only finite values.",
     "output_type": "error",
     "traceback": [
      "\u001b[0;31m---------------------------------------------------------------------------\u001b[0m",
      "\u001b[0;31mValueError\u001b[0m                                Traceback (most recent call last)",
      "\u001b[0;32m<ipython-input-68-f7dfada581e2>\u001b[0m in \u001b[0;36m<module>\u001b[0;34m\u001b[0m\n\u001b[1;32m      3\u001b[0m \u001b[0mref\u001b[0m \u001b[0;34m=\u001b[0m \u001b[0mpypesto\u001b[0m\u001b[0;34m.\u001b[0m\u001b[0mvisualize\u001b[0m\u001b[0;34m.\u001b[0m\u001b[0mcreate_references\u001b[0m\u001b[0;34m(\u001b[0m\u001b[0mx\u001b[0m\u001b[0;34m=\u001b[0m\u001b[0mpetab_problem\u001b[0m\u001b[0;34m.\u001b[0m\u001b[0mx_nominal_scaled\u001b[0m\u001b[0;34m,\u001b[0m \u001b[0mfval\u001b[0m\u001b[0;34m=\u001b[0m\u001b[0mobj\u001b[0m\u001b[0;34m(\u001b[0m\u001b[0mpetab_problem\u001b[0m\u001b[0;34m.\u001b[0m\u001b[0mx_nominal_scaled\u001b[0m\u001b[0;34m)\u001b[0m\u001b[0;34m)\u001b[0m\u001b[0;34m\u001b[0m\u001b[0;34m\u001b[0m\u001b[0m\n\u001b[1;32m      4\u001b[0m \u001b[0;34m\u001b[0m\u001b[0m\n\u001b[0;32m----> 5\u001b[0;31m \u001b[0mpypesto\u001b[0m\u001b[0;34m.\u001b[0m\u001b[0mvisualize\u001b[0m\u001b[0;34m.\u001b[0m\u001b[0mwaterfall\u001b[0m\u001b[0;34m(\u001b[0m\u001b[0mresult\u001b[0m\u001b[0;34m,\u001b[0m \u001b[0mreference\u001b[0m\u001b[0;34m=\u001b[0m\u001b[0mref\u001b[0m\u001b[0;34m,\u001b[0m \u001b[0mscale_y\u001b[0m\u001b[0;34m=\u001b[0m\u001b[0;34m'lin'\u001b[0m\u001b[0;34m)\u001b[0m\u001b[0;34m\u001b[0m\u001b[0;34m\u001b[0m\u001b[0m\n\u001b[0m\u001b[1;32m      6\u001b[0m \u001b[0mpypesto\u001b[0m\u001b[0;34m.\u001b[0m\u001b[0mvisualize\u001b[0m\u001b[0;34m.\u001b[0m\u001b[0mparameters\u001b[0m\u001b[0;34m(\u001b[0m\u001b[0mresult\u001b[0m\u001b[0;34m,\u001b[0m \u001b[0mreference\u001b[0m\u001b[0;34m=\u001b[0m\u001b[0mref\u001b[0m\u001b[0;34m)\u001b[0m\u001b[0;34m\u001b[0m\u001b[0;34m\u001b[0m\u001b[0m\n",
      "\u001b[0;32m~/pypesto/pypesto/visualize/waterfall.py\u001b[0m in \u001b[0;36mwaterfall\u001b[0;34m(results, ax, size, y_limits, scale_y, offset_y, start_indices, reference, colors, legends)\u001b[0m\n\u001b[1;32m     82\u001b[0m         ax = waterfall_lowlevel(fvals=fvals, scale_y=scale_y,\n\u001b[1;32m     83\u001b[0m                                 \u001b[0moffset_y\u001b[0m\u001b[0;34m=\u001b[0m\u001b[0moffset_y\u001b[0m\u001b[0;34m,\u001b[0m \u001b[0max\u001b[0m\u001b[0;34m=\u001b[0m\u001b[0max\u001b[0m\u001b[0;34m,\u001b[0m \u001b[0msize\u001b[0m\u001b[0;34m=\u001b[0m\u001b[0msize\u001b[0m\u001b[0;34m,\u001b[0m\u001b[0;34m\u001b[0m\u001b[0;34m\u001b[0m\u001b[0m\n\u001b[0;32m---> 84\u001b[0;31m                                 colors=colors[j], legend_text=legends[j])\n\u001b[0m\u001b[1;32m     85\u001b[0m \u001b[0;34m\u001b[0m\u001b[0m\n\u001b[1;32m     86\u001b[0m     \u001b[0;31m# parse and apply plotting options\u001b[0m\u001b[0;34m\u001b[0m\u001b[0;34m\u001b[0m\u001b[0;34m\u001b[0m\u001b[0m\n",
      "\u001b[0;32m~/pypesto/pypesto/visualize/waterfall.py\u001b[0m in \u001b[0;36mwaterfall_lowlevel\u001b[0;34m(fvals, scale_y, offset_y, ax, size, colors, legend_text)\u001b[0m\n\u001b[1;32m    146\u001b[0m     \u001b[0;31m# note: this has to happen before sorting\u001b[0m\u001b[0;34m\u001b[0m\u001b[0;34m\u001b[0m\u001b[0;34m\u001b[0m\u001b[0m\n\u001b[1;32m    147\u001b[0m     \u001b[0;31m# to get the same colors in different plots\u001b[0m\u001b[0;34m\u001b[0m\u001b[0;34m\u001b[0m\u001b[0;34m\u001b[0m\u001b[0m\n\u001b[0;32m--> 148\u001b[0;31m     \u001b[0mcolors\u001b[0m \u001b[0;34m=\u001b[0m \u001b[0massign_colors\u001b[0m\u001b[0;34m(\u001b[0m\u001b[0mfvals\u001b[0m\u001b[0;34m,\u001b[0m \u001b[0mcolors\u001b[0m\u001b[0;34m=\u001b[0m\u001b[0mcolors\u001b[0m\u001b[0;34m)\u001b[0m\u001b[0;34m\u001b[0m\u001b[0;34m\u001b[0m\u001b[0m\n\u001b[0m\u001b[1;32m    149\u001b[0m \u001b[0;34m\u001b[0m\u001b[0m\n\u001b[1;32m    150\u001b[0m     \u001b[0;31m# sort\u001b[0m\u001b[0;34m\u001b[0m\u001b[0;34m\u001b[0m\u001b[0;34m\u001b[0m\u001b[0m\n",
      "\u001b[0;32m~/pypesto/pypesto/visualize/clust_color.py\u001b[0m in \u001b[0;36massign_colors\u001b[0;34m(vals, colors, balance_alpha, highlight_global)\u001b[0m\n\u001b[1;32m    175\u001b[0m     \u001b[0;32mif\u001b[0m \u001b[0mcolors\u001b[0m \u001b[0;32mis\u001b[0m \u001b[0;32mNone\u001b[0m\u001b[0;34m:\u001b[0m\u001b[0;34m\u001b[0m\u001b[0;34m\u001b[0m\u001b[0m\n\u001b[1;32m    176\u001b[0m         return assign_clustered_colors(vals, balance_alpha=balance_alpha,\n\u001b[0;32m--> 177\u001b[0;31m                                        highlight_global=highlight_global)\n\u001b[0m\u001b[1;32m    178\u001b[0m \u001b[0;34m\u001b[0m\u001b[0m\n\u001b[1;32m    179\u001b[0m     \u001b[0;31m# The user passed values and colors: parse them first!\u001b[0m\u001b[0;34m\u001b[0m\u001b[0;34m\u001b[0m\u001b[0;34m\u001b[0m\u001b[0m\n",
      "\u001b[0;32m~/pypesto/pypesto/visualize/clust_color.py\u001b[0m in \u001b[0;36massign_clustered_colors\u001b[0;34m(vals, balance_alpha, highlight_global)\u001b[0m\n\u001b[1;32m     85\u001b[0m \u001b[0;34m\u001b[0m\u001b[0m\n\u001b[1;32m     86\u001b[0m     \u001b[0;31m# assign clusters\u001b[0m\u001b[0;34m\u001b[0m\u001b[0;34m\u001b[0m\u001b[0;34m\u001b[0m\u001b[0m\n\u001b[0;32m---> 87\u001b[0;31m     \u001b[0mclusters\u001b[0m\u001b[0;34m,\u001b[0m \u001b[0mcluster_size\u001b[0m \u001b[0;34m=\u001b[0m \u001b[0massign_clusters\u001b[0m\u001b[0;34m(\u001b[0m\u001b[0mvals\u001b[0m\u001b[0;34m)\u001b[0m\u001b[0;34m\u001b[0m\u001b[0;34m\u001b[0m\u001b[0m\n\u001b[0m\u001b[1;32m     88\u001b[0m \u001b[0;34m\u001b[0m\u001b[0m\n\u001b[1;32m     89\u001b[0m     \u001b[0;31m# create list of colors, which has the correct shape\u001b[0m\u001b[0;34m\u001b[0m\u001b[0;34m\u001b[0m\u001b[0;34m\u001b[0m\u001b[0m\n",
      "\u001b[0;32m~/pypesto/pypesto/visualize/clust_color.py\u001b[0m in \u001b[0;36massign_clusters\u001b[0;34m(vals)\u001b[0m\n\u001b[1;32m     40\u001b[0m     \u001b[0;31m# get clustering based on distance\u001b[0m\u001b[0;34m\u001b[0m\u001b[0;34m\u001b[0m\u001b[0;34m\u001b[0m\u001b[0m\n\u001b[1;32m     41\u001b[0m     clust = cluster.hierarchy.fcluster(\n\u001b[0;32m---> 42\u001b[0;31m         \u001b[0mcluster\u001b[0m\u001b[0;34m.\u001b[0m\u001b[0mhierarchy\u001b[0m\u001b[0;34m.\u001b[0m\u001b[0mlinkage\u001b[0m\u001b[0;34m(\u001b[0m\u001b[0mvals\u001b[0m\u001b[0;34m)\u001b[0m\u001b[0;34m,\u001b[0m\u001b[0;34m\u001b[0m\u001b[0;34m\u001b[0m\u001b[0m\n\u001b[0m\u001b[1;32m     43\u001b[0m         t=0.1, criterion='distance')\n\u001b[1;32m     44\u001b[0m \u001b[0;34m\u001b[0m\u001b[0m\n",
      "\u001b[0;32m~/anaconda3/lib/python3.7/site-packages/scipy/cluster/hierarchy.py\u001b[0m in \u001b[0;36mlinkage\u001b[0;34m(y, method, metric, optimal_ordering)\u001b[0m\n\u001b[1;32m   1059\u001b[0m \u001b[0;34m\u001b[0m\u001b[0m\n\u001b[1;32m   1060\u001b[0m     \u001b[0;32mif\u001b[0m \u001b[0;32mnot\u001b[0m \u001b[0mnp\u001b[0m\u001b[0;34m.\u001b[0m\u001b[0mall\u001b[0m\u001b[0;34m(\u001b[0m\u001b[0mnp\u001b[0m\u001b[0;34m.\u001b[0m\u001b[0misfinite\u001b[0m\u001b[0;34m(\u001b[0m\u001b[0my\u001b[0m\u001b[0;34m)\u001b[0m\u001b[0;34m)\u001b[0m\u001b[0;34m:\u001b[0m\u001b[0;34m\u001b[0m\u001b[0;34m\u001b[0m\u001b[0m\n\u001b[0;32m-> 1061\u001b[0;31m         raise ValueError(\"The condensed distance matrix must contain only \"\n\u001b[0m\u001b[1;32m   1062\u001b[0m                          \"finite values.\")\n\u001b[1;32m   1063\u001b[0m \u001b[0;34m\u001b[0m\u001b[0m\n",
      "\u001b[0;31mValueError\u001b[0m: The condensed distance matrix must contain only finite values."
     ]
    },
    {
     "data": {
      "image/png": "[encoded data removed]",
      "text/plain": [
       "<Figure size 1332x756 with 1 Axes>"
      ]
     },
     "metadata": {
      "needs_background": "light"
     },
     "output_type": "display_data"
    }
   ],
   "source": [
    "import pypesto.visualize\n",
    "\n",
    "ref = pypesto.visualize.create_references(x=petab_problem.x_nominal_scaled, fval=obj(petab_problem.x_nominal_scaled))\n",
    "\n",
    "pypesto.visualize.waterfall(result, reference=ref, scale_y='lin')\n",
    "pypesto.visualize.parameters(result, reference=ref)"
   ]
  },
  {
   "cell_type": "code",
   "execution_count": null,
   "metadata": {},
   "outputs": [],
   "source": []
  }
 ],
 "metadata": {
  "kernelspec": {
   "display_name": "Python 3",
   "language": "python",
   "name": "python3"
  },
  "language_info": {
   "codemirror_mode": {
    "name": "ipython",
    "version": 3
   },
   "file_extension": ".py",
   "mimetype": "text/x-python",
   "name": "python",
   "nbconvert_exporter": "python",
   "pygments_lexer": "ipython3",
   "version": "3.7.3"
  },
  "pycharm": {
   "stem_cell": {
    "cell_type": "raw",
    "metadata": {
     "collapsed": false
    },
    "source": []
   }
  },
  "toc": {
   "base_numbering": 1,
   "nav_menu": {},
   "number_sections": true,
   "sideBar": true,
   "skip_h1_title": false,
   "title_cell": "Table of Contents",
   "title_sidebar": "Contents",
   "toc_cell": false,
   "toc_position": {},
   "toc_section_display": true,
   "toc_window_display": false
  }
 },
 "nbformat": 4,
 "nbformat_minor": 2
}
