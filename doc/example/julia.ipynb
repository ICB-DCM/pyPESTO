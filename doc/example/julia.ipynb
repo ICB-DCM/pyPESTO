{
 "cells": [
  {
   "cell_type": "markdown",
   "id": "30e86301-dc5d-41c3-9a6e-9f6e065777f6",
   "metadata": {},
   "source": [
    "# Julia objectives\n",
    "\n",
    "This notebook demonstrates the application of pyPESTO to objective functions defined in [Julia](https://julialang.org/)."
   ]
  },
  {
   "cell_type": "raw",
   "id": "f0830515-c042-42ae-82b0-24212743de7a",
   "metadata": {
    "raw_mimetype": "text/restructuredtext",
    "tags": []
   },
   "source": [
    "pyPESTO's Julia interface is the class :class:`JuliaObjective <pypesto.objective.julia.JuliaObjective>`."
   ]
  },
  {
   "cell_type": "markdown",
   "id": "6670c3ef-30d3-4d24-b9ff-bd5732d3204c",
   "metadata": {},
   "source": [
    "As demonstration example, we use an [SIR disease dynamcis model](https://en.wikipedia.org/wiki/Compartmental_models_in_epidemiology). For simulation, we use [DifferentialEquations.jl](https://diffeq.sciml.ai/stable/).\n",
    "\n",
    "The code consists of multiple functions in the file `model_julia/SIR.jl`, wrapped in the namespace of a module `SIR`. We first speficy the reaction network via `Catalyst` (this is optional, one can also directly start with the differential equations), and then translate them to an ordinary differential equation (ODE) model in `OrdinaryDiffEq`. Then, we create synthetic observed `data` with normal noise. After that, we define a quadratic cost function `fun` (the negative log-likelihood under an additive normal noise model). We use backwards automatic differentiation via `Zygote` to derive also the gradient `grad` (there exist various derivative calculation methods, including forward and adjoint, and continuous and discrete sensitivities, see [SciMLSensitivity.jl](https://sensitivity.sciml.ai/dev/)):"
   ]
  },
  {
   "cell_type": "code",
   "execution_count": null,
   "id": "ce619530-f9c0-4c7f-ba8f-e1c5a55fda4f",
   "metadata": {},
   "outputs": [],
   "source": [
    "from pypesto.objective.julia import display_source_ipython\n",
    "\n",
    "display_source_ipython(\"model_julia/SIR.jl\")"
   ]
  },
  {
   "cell_type": "markdown",
   "id": "693d13ef-a268-4f78-9b04-15b47f2f78a7",
   "metadata": {},
   "source": [
    "We make the cost function and gradient known to `JuliaObjective`. Importing module and dependencies, and initializing some operations, can take some time due to pre-processing."
   ]
  },
  {
   "cell_type": "code",
   "execution_count": null,
   "id": "96df9672-94ad-4671-9ff4-d6e426e321ce",
   "metadata": {},
   "outputs": [],
   "source": [
    "import pypesto\n",
    "from pypesto.objective.julia import JuliaObjective"
   ]
  },
  {
   "cell_type": "code",
   "execution_count": null,
   "id": "724abb5f-3ce2-4ac5-89fe-2b48f89d8733",
   "metadata": {},
   "outputs": [],
   "source": [
    "%%time\n",
    "\n",
    "obj = JuliaObjective(\n",
    "    module=\"SIR\",\n",
    "    source_file=\"model_julia/SIR.jl\",\n",
    "    fun=\"fun\",\n",
    "    grad=\"grad\",\n",
    ")"
   ]
  },
  {
   "cell_type": "markdown",
   "id": "74cb4837-24fd-48a5-8160-a6c0818ff493",
   "metadata": {},
   "source": [
    "That's it -- now we have an objective function that we can simply use in pyPESTO like any other. Internally, it delegates all calls to Julia and translates results."
   ]
  },
  {
   "cell_type": "markdown",
   "id": "6d771a36-3af0-4027-b120-1f93d542d1d6",
   "metadata": {},
   "source": [
    "## Comments\n",
    "\n",
    "Before continuing with the workflow, some comments:"
   ]
  },
  {
   "cell_type": "markdown",
   "id": "61e7b5f4-9603-4e86-b7c0-f401f47e7ace",
   "metadata": {},
   "source": [
    "When calling a function for the first time, Julia performs some internal pre-processing. Subsequent function calls are much more efficient."
   ]
  },
  {
   "cell_type": "code",
   "execution_count": null,
   "id": "8579d6f5-193e-444f-a8ff-44ae90293470",
   "metadata": {},
   "outputs": [],
   "source": [
    "import numpy as np\n",
    "\n",
    "x = np.array([-4.0, -2.0])\n",
    "\n",
    "%time print(obj.get_fval(x))\n",
    "%time print(obj.get_fval(x))\n",
    "%time print(obj.get_grad(x))\n",
    "%time print(obj.get_grad(x))"
   ]
  },
  {
   "cell_type": "markdown",
   "id": "ea509992-7938-415d-bb09-ae8061318c21",
   "metadata": {},
   "source": [
    "The outputs are already numpy arrays (in custom Julia objectives, it needs to be made sure that return objects can be parsed to floats and numpy arrays in Python)."
   ]
  },
  {
   "cell_type": "code",
   "execution_count": null,
   "id": "38c8c4aa-3faf-4f96-bf9d-271fb8a8d8b9",
   "metadata": {},
   "outputs": [],
   "source": [
    "type(obj.get_grad(x))"
   ]
  },
  {
   "cell_type": "markdown",
   "id": "0ef22f29-db86-4e8b-89a1-b3b91f4f5dcf",
   "metadata": {},
   "source": [
    "Here, we use backward automatic differentiation to calculate the gradient. We can verify its correctness via finite difference checks:"
   ]
  },
  {
   "cell_type": "code",
   "execution_count": null,
   "id": "9a43d18f-ccf8-4c3f-a30a-2ad824e1e87c",
   "metadata": {},
   "outputs": [],
   "source": [
    "from pypesto import FD\n",
    "\n",
    "fd = FD(obj, grad=True)\n",
    "\n",
    "fd.get_grad(x)"
   ]
  },
  {
   "cell_type": "markdown",
   "id": "c146e002-37c1-43d0-8a10-a04f0e85c41f",
   "metadata": {},
   "source": [
    "Further, we can use the `JuliaObjective.get()` function to directly access any variable in the Julia module:"
   ]
  },
  {
   "cell_type": "code",
   "execution_count": null,
   "id": "3b826499-e4c7-443e-9a59-d8d90e10d3b4",
   "metadata": {},
   "outputs": [],
   "source": [
    "sol_true = np.asarray(obj.get(\"sol_true\"))\n",
    "data = obj.get(\"data\")\n",
    "\n",
    "import matplotlib.pyplot as plt\n",
    "\n",
    "for i, label in zip(range(3), [\"S\", \"I\", \"R\"]):\n",
    "    plt.plot(sol_true[i], color=f\"C{i}\", label=label)\n",
    "    plt.plot(data[i], 'x', color=f\"C{i}\")\n",
    "plt.legend();"
   ]
  },
  {
   "cell_type": "markdown",
   "id": "5d8f7a25-bda1-4fa1-a7c1-76b479931d8e",
   "metadata": {},
   "source": [
    "## Inference problem\n",
    "\n",
    "Let us define an inference problem by specifying parameter bounds. Note that we use a log10-transformation of parameters in `fun`."
   ]
  },
  {
   "cell_type": "code",
   "execution_count": null,
   "id": "d38e3540-9693-4b24-a734-cabdb5159d36",
   "metadata": {},
   "outputs": [],
   "source": [
    "from pypesto import Problem\n",
    "\n",
    "# parameter boundaries\n",
    "lb, ub = [-5.0, -3.0], [-3.0, -1.0]\n",
    "\n",
    "# estimation problem\n",
    "problem = Problem(obj, lb=lb, ub=ub)"
   ]
  },
  {
   "cell_type": "markdown",
   "id": "ad70b6b4-5ce2-40dc-804c-bb0fad505bfc",
   "metadata": {},
   "source": [
    "## Optimization\n",
    "\n",
    "Let us perform an optimization:"
   ]
  },
  {
   "cell_type": "code",
   "execution_count": null,
   "id": "c2267d70-85fc-46cd-bb81-5bf7742c8d84",
   "metadata": {},
   "outputs": [],
   "source": [
    "%%time\n",
    "\n",
    "# optimize\n",
    "from pypesto import optimize\n",
    "\n",
    "result = optimize.minimize(problem)"
   ]
  },
  {
   "cell_type": "markdown",
   "id": "10c96d72-ecfc-425d-932b-fd30e5387415",
   "metadata": {},
   "source": [
    "The objective function evaluations are quite fast!\n",
    "\n",
    "We can also use parallelization, by passing a `pypesto.engine.MultiProcessEngine` to the `minimize` function."
   ]
  },
  {
   "cell_type": "code",
   "execution_count": null,
   "id": "2b929224-6fa6-4f63-8892-37b2475b3738",
   "metadata": {},
   "outputs": [],
   "source": [
    "%%time\n",
    "\n",
    "from pypesto.engine import MultiProcessEngine\n",
    "\n",
    "engine = MultiProcessEngine()\n",
    "result = optimize.minimize(problem, engine=engine, n_starts=100)"
   ]
  },
  {
   "cell_type": "code",
   "execution_count": null,
   "id": "05888c10-1027-4580-aa0a-1076410579c6",
   "metadata": {},
   "outputs": [],
   "source": [
    "from pypesto import visualize\n",
    "\n",
    "visualize.waterfall(result);"
   ]
  },
  {
   "cell_type": "markdown",
   "id": "e6ce3918-062c-48ed-bf2a-d5622223ec96",
   "metadata": {},
   "source": [
    "## Sampling\n",
    "\n",
    "Last, let us perform sampling from the log-posterior with implicitly defined uniform prior via the parameter bounds:"
   ]
  },
  {
   "cell_type": "code",
   "execution_count": null,
   "id": "b88b414b-598a-40f1-876e-ef1255a50c93",
   "metadata": {},
   "outputs": [],
   "source": [
    "%%time\n",
    "\n",
    "from pypesto import sample\n",
    "\n",
    "sampler = sample.AdaptiveParallelTemperingSampler(\n",
    "    internal_sampler=sample.AdaptiveMetropolisSampler(), n_chains=3\n",
    ")\n",
    "\n",
    "result = sample.sample(\n",
    "    problem, n_samples=10000, sampler=sampler, result=result\n",
    ")"
   ]
  },
  {
   "cell_type": "code",
   "execution_count": null,
   "id": "1fa22993-8100-4ec4-9b75-64ea745e77f1",
   "metadata": {},
   "outputs": [],
   "source": [
    "pypesto.sample.geweke_test(result)\n",
    "visualize.sampling_parameter_traces(\n",
    "    result, use_problem_bounds=False, size=(12, 5)\n",
    ");"
   ]
  },
  {
   "cell_type": "code",
   "execution_count": null,
   "id": "e64acdf3-b4dd-4b9a-9bc3-aa5a219f937a",
   "metadata": {},
   "outputs": [],
   "source": [
    "visualize.sampling_scatter(result, size=[13, 6]);"
   ]
  }
 ],
 "metadata": {
  "kernelspec": {
   "display_name": "python-jl",
   "language": "python",
   "name": "python-jl"
  },
  "language_info": {
   "codemirror_mode": {
    "name": "ipython",
    "version": 3
   },
   "file_extension": ".py",
   "mimetype": "text/x-python",
   "name": "python",
   "nbconvert_exporter": "python",
   "pygments_lexer": "ipython3",
   "version": "3.10.4"
  }
 },
 "nbformat": 4,
 "nbformat_minor": 5
}
