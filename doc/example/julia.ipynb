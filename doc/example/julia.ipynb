{
 "cells": [
  {
   "cell_type": "markdown",
   "id": "30e86301-dc5d-41c3-9a6e-9f6e065777f6",
   "metadata": {},
   "source": [
    "# Julia objectives\n",
    "\n",
    "This notebook demonstrates the application of pyPESTO to objective functions defined in [Julia](https://julialang.org/)."
   ]
  },
  {
   "cell_type": "markdown",
   "id": "0a583dee-d47a-4464-83a1-30774e4dabda",
   "metadata": {},
   "source": [
    "- there is an issue in minimize with the SIR model\n",
    "- LR model runs without Error but all waterfall fvals are the same (prob. bec. global minimum reached)"
   ]
  },
  {
   "cell_type": "raw",
   "id": "f0830515-c042-42ae-82b0-24212743de7a",
   "metadata": {
    "raw_mimetype": "text/restructuredtext",
    "tags": []
   },
   "source": [
    "pyPESTO's Julia interface is the class :class:`JuliaObjective <pypesto.objective.julia.JuliaObjective>`."
   ]
  },
  {
   "cell_type": "markdown",
   "id": "6670c3ef-30d3-4d24-b9ff-bd5732d3204c",
   "metadata": {},
   "source": [
    "As demonstration example, we use an [SIR disease dynamcis model](https://en.wikipedia.org/wiki/Compartmental_models_in_epidemiology). For simulation, we use [DifferentialEquations.jl](https://diffeq.sciml.ai/stable/).\n",
    "\n",
    "The code consists of multiple functions in the file `model_julia/SIR.jl`, wrapped in the namespace of a module `SIR`. We first speficy the reaction network via `Catalyst` (this is optional, one can also directly start with the differential equations), and then translate them to an ordinary differential equation (ODE) model in `OrdinaryDiffEq`. Then, we create synthetic observed `data` with normal noise. After that, we define a quadratic cost function `fun` (the negative log-likelihood under an additive normal noise model). We use forward automatic differentiation via `ForwardDiff` to derive also the gradient `grad` (there exist various derivative calculation methods, including forward and adjoint, and continuous and discrete sensitivities, see [SciMLSensitivity.jl](https://sensitivity.sciml.ai/dev/)):"
   ]
  },
  {
   "cell_type": "code",
   "execution_count": 1,
   "id": "ce619530-f9c0-4c7f-ba8f-e1c5a55fda4f",
   "metadata": {},
   "outputs": [
    {
     "data": {
      "text/html": [
       "<style type=\"text/css\">pre { line-height: 125%; }\n",
       "td.linenos .normal { color: inherit; background-color: transparent; padding-left: 5px; padding-right: 5px; }\n",
       "span.linenos { color: inherit; background-color: transparent; padding-left: 5px; padding-right: 5px; }\n",
       "td.linenos .special { color: #000000; background-color: #ffffc0; padding-left: 5px; padding-right: 5px; }\n",
       "span.linenos.special { color: #000000; background-color: #ffffc0; padding-left: 5px; padding-right: 5px; }\n",
       ".highlight .hll { background-color: #ffffcc }\n",
       ".highlight { background: #f8f8f8; }\n",
       ".highlight .c { color: #3D7B7B; font-style: italic } /* Comment */\n",
       ".highlight .err { border: 1px solid #FF0000 } /* Error */\n",
       ".highlight .k { color: #008000; font-weight: bold } /* Keyword */\n",
       ".highlight .o { color: #666666 } /* Operator */\n",
       ".highlight .ch { color: #3D7B7B; font-style: italic } /* Comment.Hashbang */\n",
       ".highlight .cm { color: #3D7B7B; font-style: italic } /* Comment.Multiline */\n",
       ".highlight .cp { color: #9C6500 } /* Comment.Preproc */\n",
       ".highlight .cpf { color: #3D7B7B; font-style: italic } /* Comment.PreprocFile */\n",
       ".highlight .c1 { color: #3D7B7B; font-style: italic } /* Comment.Single */\n",
       ".highlight .cs { color: #3D7B7B; font-style: italic } /* Comment.Special */\n",
       ".highlight .gd { color: #A00000 } /* Generic.Deleted */\n",
       ".highlight .ge { font-style: italic } /* Generic.Emph */\n",
       ".highlight .ges { font-weight: bold; font-style: italic } /* Generic.EmphStrong */\n",
       ".highlight .gr { color: #E40000 } /* Generic.Error */\n",
       ".highlight .gh { color: #000080; font-weight: bold } /* Generic.Heading */\n",
       ".highlight .gi { color: #008400 } /* Generic.Inserted */\n",
       ".highlight .go { color: #717171 } /* Generic.Output */\n",
       ".highlight .gp { color: #000080; font-weight: bold } /* Generic.Prompt */\n",
       ".highlight .gs { font-weight: bold } /* Generic.Strong */\n",
       ".highlight .gu { color: #800080; font-weight: bold } /* Generic.Subheading */\n",
       ".highlight .gt { color: #0044DD } /* Generic.Traceback */\n",
       ".highlight .kc { color: #008000; font-weight: bold } /* Keyword.Constant */\n",
       ".highlight .kd { color: #008000; font-weight: bold } /* Keyword.Declaration */\n",
       ".highlight .kn { color: #008000; font-weight: bold } /* Keyword.Namespace */\n",
       ".highlight .kp { color: #008000 } /* Keyword.Pseudo */\n",
       ".highlight .kr { color: #008000; font-weight: bold } /* Keyword.Reserved */\n",
       ".highlight .kt { color: #B00040 } /* Keyword.Type */\n",
       ".highlight .m { color: #666666 } /* Literal.Number */\n",
       ".highlight .s { color: #BA2121 } /* Literal.String */\n",
       ".highlight .na { color: #687822 } /* Name.Attribute */\n",
       ".highlight .nb { color: #008000 } /* Name.Builtin */\n",
       ".highlight .nc { color: #0000FF; font-weight: bold } /* Name.Class */\n",
       ".highlight .no { color: #880000 } /* Name.Constant */\n",
       ".highlight .nd { color: #AA22FF } /* Name.Decorator */\n",
       ".highlight .ni { color: #717171; font-weight: bold } /* Name.Entity */\n",
       ".highlight .ne { color: #CB3F38; font-weight: bold } /* Name.Exception */\n",
       ".highlight .nf { color: #0000FF } /* Name.Function */\n",
       ".highlight .nl { color: #767600 } /* Name.Label */\n",
       ".highlight .nn { color: #0000FF; font-weight: bold } /* Name.Namespace */\n",
       ".highlight .nt { color: #008000; font-weight: bold } /* Name.Tag */\n",
       ".highlight .nv { color: #19177C } /* Name.Variable */\n",
       ".highlight .ow { color: #AA22FF; font-weight: bold } /* Operator.Word */\n",
       ".highlight .w { color: #bbbbbb } /* Text.Whitespace */\n",
       ".highlight .mb { color: #666666 } /* Literal.Number.Bin */\n",
       ".highlight .mf { color: #666666 } /* Literal.Number.Float */\n",
       ".highlight .mh { color: #666666 } /* Literal.Number.Hex */\n",
       ".highlight .mi { color: #666666 } /* Literal.Number.Integer */\n",
       ".highlight .mo { color: #666666 } /* Literal.Number.Oct */\n",
       ".highlight .sa { color: #BA2121 } /* Literal.String.Affix */\n",
       ".highlight .sb { color: #BA2121 } /* Literal.String.Backtick */\n",
       ".highlight .sc { color: #BA2121 } /* Literal.String.Char */\n",
       ".highlight .dl { color: #BA2121 } /* Literal.String.Delimiter */\n",
       ".highlight .sd { color: #BA2121; font-style: italic } /* Literal.String.Doc */\n",
       ".highlight .s2 { color: #BA2121 } /* Literal.String.Double */\n",
       ".highlight .se { color: #AA5D1F; font-weight: bold } /* Literal.String.Escape */\n",
       ".highlight .sh { color: #BA2121 } /* Literal.String.Heredoc */\n",
       ".highlight .si { color: #A45A77; font-weight: bold } /* Literal.String.Interpol */\n",
       ".highlight .sx { color: #008000 } /* Literal.String.Other */\n",
       ".highlight .sr { color: #A45A77 } /* Literal.String.Regex */\n",
       ".highlight .s1 { color: #BA2121 } /* Literal.String.Single */\n",
       ".highlight .ss { color: #19177C } /* Literal.String.Symbol */\n",
       ".highlight .bp { color: #008000 } /* Name.Builtin.Pseudo */\n",
       ".highlight .fm { color: #0000FF } /* Name.Function.Magic */\n",
       ".highlight .vc { color: #19177C } /* Name.Variable.Class */\n",
       ".highlight .vg { color: #19177C } /* Name.Variable.Global */\n",
       ".highlight .vi { color: #19177C } /* Name.Variable.Instance */\n",
       ".highlight .vm { color: #19177C } /* Name.Variable.Magic */\n",
       ".highlight .il { color: #666666 } /* Literal.Number.Integer.Long */</style><div class=\"highlight\"><pre><span></span><span class=\"c\"># ODE model of SIR disease dynamics</span>\n",
       "\n",
       "<span class=\"k\">module</span><span class=\"w\"> </span><span class=\"n\">SIR</span>\n",
       "\n",
       "<span class=\"c\"># Install dependencies</span>\n",
       "<span class=\"k\">import</span><span class=\"w\"> </span><span class=\"n\">Pkg</span>\n",
       "<span class=\"n\">Pkg</span><span class=\"o\">.</span><span class=\"n\">add</span><span class=\"p\">([</span><span class=\"s\">&quot;Catalyst&quot;</span><span class=\"p\">,</span><span class=\"w\"> </span><span class=\"s\">&quot;OrdinaryDiffEq&quot;</span><span class=\"p\">,</span><span class=\"w\"> </span><span class=\"s\">&quot;ForwardDiff&quot;</span><span class=\"p\">,</span><span class=\"w\"> </span><span class=\"s\">&quot;SciMLSensitivity&quot;</span><span class=\"p\">])</span>\n",
       "<span class=\"n\">Pkg</span><span class=\"o\">.</span><span class=\"n\">precompile</span><span class=\"p\">()</span>\n",
       "\n",
       "<span class=\"c\"># Define reaction network</span>\n",
       "<span class=\"k\">using</span><span class=\"w\"> </span><span class=\"n\">Catalyst</span><span class=\"o\">:</span><span class=\"w\"> </span><span class=\"nd\">@reaction_network</span>\n",
       "<span class=\"n\">sir_model</span><span class=\"w\"> </span><span class=\"o\">=</span><span class=\"w\"> </span><span class=\"nd\">@reaction_network</span><span class=\"w\"> </span><span class=\"k\">begin</span>\n",
       "<span class=\"w\">    </span><span class=\"n\">r1</span><span class=\"p\">,</span><span class=\"w\"> </span><span class=\"n\">S</span><span class=\"w\"> </span><span class=\"o\">+</span><span class=\"w\"> </span><span class=\"n\">I</span><span class=\"w\"> </span><span class=\"o\">--&gt;</span><span class=\"w\"> </span><span class=\"mi\">2</span><span class=\"n\">I</span>\n",
       "<span class=\"w\">    </span><span class=\"n\">r2</span><span class=\"p\">,</span><span class=\"w\"> </span><span class=\"n\">I</span><span class=\"w\"> </span><span class=\"o\">--&gt;</span><span class=\"w\"> </span><span class=\"n\">R</span>\n",
       "<span class=\"k\">end</span>\n",
       "\n",
       "<span class=\"c\"># Ground truth parameter</span>\n",
       "<span class=\"n\">p_true</span><span class=\"w\"> </span><span class=\"o\">=</span><span class=\"w\"> </span><span class=\"p\">[</span><span class=\"mf\">0.0001</span><span class=\"p\">,</span><span class=\"w\"> </span><span class=\"mf\">0.01</span><span class=\"p\">]</span>\n",
       "<span class=\"c\"># Initial state</span>\n",
       "<span class=\"n\">u0</span><span class=\"w\"> </span><span class=\"o\">=</span><span class=\"w\"> </span><span class=\"p\">[</span><span class=\"mi\">999</span><span class=\"p\">;</span><span class=\"w\"> </span><span class=\"mi\">1</span><span class=\"p\">;</span><span class=\"w\"> </span><span class=\"mi\">0</span><span class=\"p\">]</span>\n",
       "<span class=\"c\"># Time span</span>\n",
       "<span class=\"n\">tspan</span><span class=\"w\"> </span><span class=\"o\">=</span><span class=\"w\"> </span><span class=\"p\">(</span><span class=\"mf\">0.0</span><span class=\"p\">,</span><span class=\"w\"> </span><span class=\"mf\">250.0</span><span class=\"p\">)</span>\n",
       "\n",
       "<span class=\"c\"># Formulate as ODE problem</span>\n",
       "<span class=\"k\">using</span><span class=\"w\"> </span><span class=\"n\">OrdinaryDiffEq</span><span class=\"o\">:</span><span class=\"w\"> </span><span class=\"n\">ODEProblem</span><span class=\"p\">,</span><span class=\"w\"> </span><span class=\"n\">solve</span><span class=\"p\">,</span><span class=\"w\"> </span><span class=\"n\">Tsit5</span>\n",
       "<span class=\"n\">prob</span><span class=\"w\"> </span><span class=\"o\">=</span><span class=\"w\"> </span><span class=\"n\">ODEProblem</span><span class=\"p\">(</span><span class=\"n\">sir_model</span><span class=\"p\">,</span><span class=\"w\"> </span><span class=\"n\">u0</span><span class=\"p\">,</span><span class=\"w\"> </span><span class=\"n\">tspan</span><span class=\"p\">,</span><span class=\"w\"> </span><span class=\"n\">p_true</span><span class=\"p\">)</span>\n",
       "\n",
       "<span class=\"c\"># True trajectory</span>\n",
       "<span class=\"n\">sol_true</span><span class=\"w\"> </span><span class=\"o\">=</span><span class=\"w\"> </span><span class=\"n\">solve</span><span class=\"p\">(</span><span class=\"n\">prob</span><span class=\"p\">,</span><span class=\"w\"> </span><span class=\"n\">Tsit5</span><span class=\"p\">(),</span><span class=\"w\"> </span><span class=\"n\">saveat</span><span class=\"o\">=</span><span class=\"mi\">25</span><span class=\"p\">)</span>\n",
       "\n",
       "<span class=\"c\"># Observed data</span>\n",
       "<span class=\"k\">using</span><span class=\"w\"> </span><span class=\"n\">Random</span><span class=\"o\">:</span><span class=\"w\"> </span><span class=\"n\">randn</span><span class=\"p\">,</span><span class=\"w\"> </span><span class=\"n\">MersenneTwister</span>\n",
       "<span class=\"n\">sigma</span><span class=\"w\"> </span><span class=\"o\">=</span><span class=\"w\"> </span><span class=\"mf\">40.0</span>\n",
       "<span class=\"n\">rng</span><span class=\"w\"> </span><span class=\"o\">=</span><span class=\"w\"> </span><span class=\"n\">MersenneTwister</span><span class=\"p\">(</span><span class=\"mi\">1234</span><span class=\"p\">)</span>\n",
       "<span class=\"n\">data</span><span class=\"w\"> </span><span class=\"o\">=</span><span class=\"w\"> </span><span class=\"n\">sol_true</span><span class=\"w\"> </span><span class=\"o\">.+</span><span class=\"w\"> </span><span class=\"n\">sigma</span><span class=\"w\"> </span><span class=\"o\">*</span><span class=\"w\"> </span><span class=\"n\">randn</span><span class=\"p\">(</span><span class=\"n\">rng</span><span class=\"p\">,</span><span class=\"w\"> </span><span class=\"n\">size</span><span class=\"p\">(</span><span class=\"n\">sol_true</span><span class=\"p\">))</span>\n",
       "\n",
       "<span class=\"k\">using</span><span class=\"w\"> </span><span class=\"n\">SciMLSensitivity</span><span class=\"o\">:</span><span class=\"w\"> </span><span class=\"n\">remake</span>\n",
       "\n",
       "<span class=\"c\"># Define log-likelihood</span>\n",
       "<span class=\"k\">function</span><span class=\"w\"> </span><span class=\"n\">fun</span><span class=\"p\">(</span><span class=\"n\">p</span><span class=\"p\">)</span>\n",
       "<span class=\"w\">    </span><span class=\"c\"># untransform parameters</span>\n",
       "<span class=\"w\">    </span><span class=\"n\">p</span><span class=\"w\"> </span><span class=\"o\">=</span><span class=\"w\"> </span><span class=\"mf\">10.0</span><span class=\"w\"> </span><span class=\"o\">.^</span><span class=\"w\"> </span><span class=\"n\">p</span>\n",
       "<span class=\"w\">    </span><span class=\"c\"># simulate</span>\n",
       "<span class=\"w\">    </span><span class=\"n\">_prob</span><span class=\"w\"> </span><span class=\"o\">=</span><span class=\"w\"> </span><span class=\"n\">remake</span><span class=\"p\">(</span><span class=\"n\">prob</span><span class=\"p\">,</span><span class=\"w\"> </span><span class=\"n\">p</span><span class=\"o\">=</span><span class=\"n\">p</span><span class=\"p\">)</span>\n",
       "<span class=\"w\">    </span><span class=\"n\">sol_sim</span><span class=\"w\"> </span><span class=\"o\">=</span><span class=\"w\"> </span><span class=\"n\">solve</span><span class=\"p\">(</span><span class=\"n\">_prob</span><span class=\"p\">,</span><span class=\"w\"> </span><span class=\"n\">Tsit5</span><span class=\"p\">(),</span><span class=\"w\"> </span><span class=\"n\">saveat</span><span class=\"o\">=</span><span class=\"mi\">25</span><span class=\"p\">)</span>\n",
       "<span class=\"w\">    </span><span class=\"c\"># calculate log-likelihood</span>\n",
       "<span class=\"w\">    </span><span class=\"mf\">0.5</span><span class=\"w\"> </span><span class=\"o\">*</span><span class=\"w\"> </span><span class=\"p\">(</span><span class=\"n\">log</span><span class=\"p\">(</span><span class=\"mi\">2</span><span class=\"w\"> </span><span class=\"o\">*</span><span class=\"w\"> </span><span class=\"nb\">pi</span><span class=\"w\"> </span><span class=\"o\">*</span><span class=\"w\"> </span><span class=\"n\">sigma</span><span class=\"o\">^</span><span class=\"mi\">2</span><span class=\"p\">)</span><span class=\"w\"> </span><span class=\"o\">+</span><span class=\"w\"> </span><span class=\"n\">sum</span><span class=\"p\">((</span><span class=\"n\">sol_sim</span><span class=\"w\"> </span><span class=\"o\">.-</span><span class=\"w\"> </span><span class=\"n\">data</span><span class=\"p\">)</span><span class=\"o\">.^</span><span class=\"mi\">2</span><span class=\"p\">)</span><span class=\"w\"> </span><span class=\"o\">/</span><span class=\"w\"> </span><span class=\"n\">sigma</span><span class=\"o\">^</span><span class=\"mi\">2</span><span class=\"p\">)</span>\n",
       "<span class=\"k\">end</span>\n",
       "\n",
       "<span class=\"c\"># Define gradient and Hessian</span>\n",
       "<span class=\"k\">using</span><span class=\"w\"> </span><span class=\"n\">ForwardDiff</span><span class=\"o\">:</span><span class=\"w\"> </span><span class=\"n\">gradient</span><span class=\"p\">,</span><span class=\"w\"> </span><span class=\"n\">hessian</span>\n",
       "\n",
       "<span class=\"k\">function</span><span class=\"w\"> </span><span class=\"n\">grad</span><span class=\"p\">(</span><span class=\"n\">p</span><span class=\"p\">)</span>\n",
       "<span class=\"w\">    </span><span class=\"n\">gradient</span><span class=\"p\">(</span><span class=\"n\">fun</span><span class=\"p\">,</span><span class=\"w\"> </span><span class=\"n\">p</span><span class=\"p\">)</span>\n",
       "<span class=\"k\">end</span>\n",
       "\n",
       "<span class=\"k\">function</span><span class=\"w\"> </span><span class=\"n\">hess</span><span class=\"p\">(</span><span class=\"n\">p</span><span class=\"p\">)</span>\n",
       "<span class=\"w\">    </span><span class=\"n\">hessian</span><span class=\"p\">(</span><span class=\"n\">fun</span><span class=\"p\">,</span><span class=\"w\"> </span><span class=\"n\">p</span><span class=\"p\">)</span>\n",
       "<span class=\"k\">end</span>\n",
       "\n",
       "<span class=\"k\">end</span><span class=\"w\">  </span><span class=\"c\"># module</span>\n",
       "</pre></div>\n"
      ],
      "text/plain": [
       "<IPython.core.display.HTML object>"
      ]
     },
     "execution_count": 1,
     "metadata": {},
     "output_type": "execute_result"
    }
   ],
   "source": [
    "from pypesto.objective.julia import display_source_ipython\n",
    "\n",
    "display_source_ipython(\"model_julia/SIR.jl\")"
   ]
  },
  {
   "cell_type": "markdown",
   "id": "693d13ef-a268-4f78-9b04-15b47f2f78a7",
   "metadata": {},
   "source": [
    "We make the cost function and gradient known to `JuliaObjective`. Importing module and dependencies, and initializing some operations, can take some time due to pre-processing."
   ]
  },
  {
   "cell_type": "code",
   "execution_count": 2,
   "id": "96df9672-94ad-4671-9ff4-d6e426e321ce",
   "metadata": {},
   "outputs": [],
   "source": [
    "import pypesto\n",
    "from pypesto.objective.julia import JuliaObjective"
   ]
  },
  {
   "cell_type": "code",
   "execution_count": 3,
   "id": "724abb5f-3ce2-4ac5-89fe-2b48f89d8733",
   "metadata": {},
   "outputs": [
    {
     "name": "stdout",
     "output_type": "stream",
     "text": [
      "Detected IPython. Loading juliacall extension. See https://juliapy.github.io/PythonCall.jl/stable/compat/#IPython\n",
      "CPU times: user 20.4 s, sys: 749 ms, total: 21.1 s\n",
      "Wall time: 20.9 s\n"
     ]
    }
   ],
   "source": [
    "%%time\n",
    "\n",
    "obj = JuliaObjective(\n",
    "    module=\"SIR\",\n",
    "    source_file=\"model_julia/SIR.jl\",\n",
    "    fun=\"fun\",\n",
    "    grad=\"grad\"\n",
    ")"
   ]
  },
  {
   "cell_type": "markdown",
   "id": "74cb4837-24fd-48a5-8160-a6c0818ff493",
   "metadata": {},
   "source": [
    "That's it -- now we have an objective function that we can simply use in pyPESTO like any other. Internally, it delegates all calls to Julia and translates results."
   ]
  },
  {
   "cell_type": "markdown",
   "id": "6d771a36-3af0-4027-b120-1f93d542d1d6",
   "metadata": {},
   "source": [
    "## Comments\n",
    "\n",
    "Before continuing with the workflow, some comments:"
   ]
  },
  {
   "cell_type": "markdown",
   "id": "61e7b5f4-9603-4e86-b7c0-f401f47e7ace",
   "metadata": {},
   "source": [
    "When calling a function for the first time, Julia performs some internal pre-processing. Subsequent function calls are much more efficient."
   ]
  },
  {
   "cell_type": "code",
   "execution_count": 4,
   "id": "8579d6f5-193e-444f-a8ff-44ae90293470",
   "metadata": {},
   "outputs": [
    {
     "name": "stdout",
     "output_type": "stream",
     "text": [
      "23.122284878899872\n",
      "CPU times: user 1.14 s, sys: 16.4 ms, total: 1.15 s\n",
      "Wall time: 1.14 s\n",
      "23.122284878899872\n",
      "CPU times: user 220 µs, sys: 21 µs, total: 241 µs\n",
      "Wall time: 244 µs\n",
      "[-38.82769857  19.95270485]\n",
      "CPU times: user 2.53 s, sys: 24.3 ms, total: 2.55 s\n",
      "Wall time: 2.54 s\n",
      "[-38.82769857  19.95270485]\n",
      "CPU times: user 317 µs, sys: 28 µs, total: 345 µs\n",
      "Wall time: 324 µs\n"
     ]
    }
   ],
   "source": [
    "import numpy as np\n",
    "\n",
    "x = np.array([-4.0, -2.0])\n",
    "\n",
    "%time print(obj.get_fval(x))\n",
    "%time print(obj.get_fval(x))\n",
    "%time print(obj.get_grad(x))\n",
    "%time print(obj.get_grad(x))"
   ]
  },
  {
   "cell_type": "markdown",
   "id": "ea509992-7938-415d-bb09-ae8061318c21",
   "metadata": {},
   "source": [
    "The outputs are already numpy arrays (in custom Julia objectives, it needs to be made sure that return objects can be parsed to floats and numpy arrays in Python)."
   ]
  },
  {
   "cell_type": "code",
   "execution_count": 5,
   "id": "5187707e-6933-47d6-b775-f080a320fa3d",
   "metadata": {},
   "outputs": [
    {
     "data": {
      "text/plain": [
       "numpy.ndarray"
      ]
     },
     "execution_count": 5,
     "metadata": {},
     "output_type": "execute_result"
    }
   ],
   "source": [
    "type(obj.get_grad(x))"
   ]
  },
  {
   "cell_type": "markdown",
   "id": "0ef22f29-db86-4e8b-89a1-b3b91f4f5dcf",
   "metadata": {},
   "source": [
    "Here, we use backward automatic differentiation to calculate the gradient. We can verify its correctness via finite difference checks:"
   ]
  },
  {
   "cell_type": "code",
   "execution_count": 6,
   "id": "9a43d18f-ccf8-4c3f-a30a-2ad824e1e87c",
   "metadata": {},
   "outputs": [
    {
     "data": {
      "text/plain": [
       "array([-38.75164233,  19.96612076])"
      ]
     },
     "execution_count": 6,
     "metadata": {},
     "output_type": "execute_result"
    }
   ],
   "source": [
    "from pypesto import FD\n",
    "\n",
    "fd = FD(obj, grad=True)\n",
    "\n",
    "fd.get_grad(x)"
   ]
  },
  {
   "cell_type": "markdown",
   "id": "c146e002-37c1-43d0-8a10-a04f0e85c41f",
   "metadata": {},
   "source": [
    "Further, we can use the `JuliaObjective.get()` function to directly access any variable in the Julia module. Make sure to catch the `Julia` data types appropriately."
   ]
  },
  {
   "cell_type": "code",
   "execution_count": 7,
   "id": "3b826499-e4c7-443e-9a59-d8d90e10d3b4",
   "metadata": {},
   "outputs": [
    {
     "data": {
      "image/png": "[encoded data removed]",
      "text/plain": [
       "<Figure size 640x480 with 1 Axes>"
      ]
     },
     "metadata": {},
     "output_type": "display_data"
    }
   ],
   "source": [
    "sol_true_t = np.asarray(obj.get(\"sol_true\").t)\n",
    "sol_true_u = np.asarray([np.asarray(i) for i in obj.get(\"sol_true\").u])\n",
    "data = np.asarray(obj.get(\"data\")).T\n",
    "\n",
    "import matplotlib.pyplot as plt\n",
    "\n",
    "for i, label in zip(range(3), [\"S\", \"I\", \"R\"]):\n",
    "    plt.plot(sol_true_t, sol_true_u[:, i], color=f\"C{i}\", label=label)\n",
    "    plt.plot(sol_true_t, data[:, i], \"x\", color=f\"C{i}\")\n",
    "plt.legend();"
   ]
  },
  {
   "cell_type": "markdown",
   "id": "5d8f7a25-bda1-4fa1-a7c1-76b479931d8e",
   "metadata": {},
   "source": [
    "## Inference problem\n",
    "\n",
    "Let us define an inference problem by specifying parameter bounds. Note that we use a log10-transformation of parameters in `fun`."
   ]
  },
  {
   "cell_type": "code",
   "execution_count": 8,
   "id": "d38e3540-9693-4b24-a734-cabdb5159d36",
   "metadata": {},
   "outputs": [],
   "source": [
    "from pypesto import Problem\n",
    "\n",
    "# parameter boundaries\n",
    "lb, ub = [-5.0, -3.0], [-3.0, -1.0]\n",
    "\n",
    "# estimation problem\n",
    "problem = Problem(obj, lb=lb, ub=ub)"
   ]
  },
  {
   "cell_type": "markdown",
   "id": "ad70b6b4-5ce2-40dc-804c-bb0fad505bfc",
   "metadata": {},
   "source": [
    "## Optimization\n",
    "\n",
    "Let us perform an optimization:"
   ]
  },
  {
   "cell_type": "code",
   "execution_count": 9,
   "id": "c2267d70-85fc-46cd-bb81-5bf7742c8d84",
   "metadata": {},
   "outputs": [
    {
     "name": "stderr",
     "output_type": "stream",
     "text": [
      "100%|████████████████████████████████████████████████████████████████████| 100/100 [00:00<00:00, 390.36it/s]\n"
     ]
    },
    {
     "name": "stdout",
     "output_type": "stream",
     "text": [
      "CPU times: user 267 ms, sys: 275 µs, total: 267 ms\n",
      "Wall time: 266 ms\n"
     ]
    }
   ],
   "source": [
    "%%time\n",
    "\n",
    "# optimize\n",
    "from pypesto import optimize\n",
    "\n",
    "result = optimize.minimize(problem, n_starts=10)"
   ]
  },
  {
   "cell_type": "markdown",
   "id": "10c96d72-ecfc-425d-932b-fd30e5387415",
   "metadata": {},
   "source": [
    "The objective function evaluations are quite fast!\n",
    "\n",
    "We can also use parallelization, by passing a `pypesto.engine.MultiProcessEngine` to the `minimize` function."
   ]
  },
  {
   "cell_type": "code",
   "execution_count": 10,
   "id": "2b929224-6fa6-4f63-8892-37b2475b3738",
   "metadata": {},
   "outputs": [
    {
     "name": "stderr",
     "output_type": "stream",
     "text": [
      "Engine will use up to 8 processes (= CPU count).\n",
      "100%|███████████████████████████████████████████████████████████████████| 100/100 [00:00<00:00, 1456.04it/s]\n"
     ]
    },
    {
     "name": "stdout",
     "output_type": "stream",
     "text": [
      "CPU times: user 46.9 ms, sys: 268 ms, total: 315 ms\n",
      "Wall time: 418 ms\n"
     ]
    }
   ],
   "source": [
    "%%time\n",
    "\n",
    "from pypesto.engine import MultiProcessEngine\n",
    "\n",
    "engine = MultiProcessEngine()\n",
    "result = optimize.minimize(problem, engine=engine, n_starts=100)"
   ]
  },
  {
   "cell_type": "code",
   "execution_count": 11,
   "id": "05888c10-1027-4580-aa0a-1076410579c6",
   "metadata": {},
   "outputs": [
    {
     "data": {
      "image/png": "[encoded data removed]",
      "text/plain": [
       "<Figure size 1850x1050 with 1 Axes>"
      ]
     },
     "metadata": {},
     "output_type": "display_data"
    }
   ],
   "source": [
    "from pypesto import visualize\n",
    "\n",
    "visualize.waterfall(result);"
   ]
  },
  {
   "cell_type": "markdown",
   "id": "e6ce3918-062c-48ed-bf2a-d5622223ec96",
   "metadata": {},
   "source": [
    "### Downstream pyPESTO pipeline\n",
    "\n",
    "This setup is compatible with further `pyPESTO` functionalities, e.g. as saving the results to `hdf5`, more visualization functions, and [sampling](https://github.com/ICB-DCM/pyPESTO/blob/main/doc/example/sampler_study.ipynb)."
   ]
  },
  {
   "cell_type": "code",
   "execution_count": null,
   "id": "418acef2-6fbe-4c6c-a9ed-65aca6bbdb91",
   "metadata": {},
   "outputs": [],
   "source": []
  }
 ],
 "metadata": {
  "kernelspec": {
   "display_name": "developer",
   "language": "python",
   "name": "developer"
  },
  "language_info": {
   "codemirror_mode": {
    "name": "ipython",
    "version": 3
   },
   "file_extension": ".py",
   "mimetype": "text/x-python",
   "name": "python",
   "nbconvert_exporter": "python",
   "pygments_lexer": "ipython3",
   "version": "3.11.4"
  }
 },
 "nbformat": 4,
 "nbformat_minor": 5
}
