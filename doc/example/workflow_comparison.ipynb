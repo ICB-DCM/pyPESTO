{
 "cells": [
  {
   "cell_type": "markdown",
   "metadata": {
    "collapsed": false
   },
   "source": [
    "# Parameter Optimization Workflow with pyPESTO\n",
    "\n",
    "---\n",
    "---\n",
    "This Jupyter notebook aims to demonstrate a comprehensive parameter optimization workflow for dynamical models. In this tutorial, we will explore the differences in complexity and efficiency that arise when performing parameter optimization with and without the use of pyPESTO.\n",
    "\n",
    "The primary objectives of this notebook are twofold:\n",
    "\n",
    "1. **General Workflow:** We will walk through a step-by-step process for parameter optimization of dynamical models. By following this workflow, you will gain a clear understanding of the essential steps involved and how they contribute to the overall optimization process.\n",
    "\n",
    "2. **Benefits of pyPESTO:** Throughout the notebook, we will highlight the key advantages of using pyPESTO in each step of the workflow. pyPESTO is a powerful Python package specifically designed for parameter estimation and optimization tasks. By leveraging its capabilities, you can significantly enhance the efficiency and effectiveness of your parameter optimization tasks.\n",
    "\n",
    "\n",
    "This notebook is divided into several sections, each focusing on a specific aspect of the parameter optimization workflow. Here's an overview of what you can expect to find in each section:\n",
    "\n",
    "\n",
    "---\n",
    "**Contents**\n",
    "\n",
    "1. **Objective Function:** Here, we will discuss the creation of an appropriate objective function that quantifies the goodness-of-fit between a model and observed data. We will demonstrate how pyPESTO simplifies this process and provides various options for objective function definition.\n",
    "2. **Parameter Estimation:** This section will cover the parameter estimation via optimization. We show the general workflow and and how pyPESTO eases the setup to be flexible for a variety of optimizers. We will also at analyzing and interpreting the obtained results. pyPESTO offers visualization and analysis tools that facilitate this task, and we will showcase their usefulness.\n",
    "3. **Profiling:** In this section, we will explore the profiling capabilities of pyPESTO, which allow us to identify and optimize computationally expensive parts of the parameter optimization workflow.\n",
    "4. **Sampling:** Here, we will delve into the sampling techniques, their setup for an optimization problem and how pyPESTO facilitates the process.\n",
    "5. **Result Storage:** This section will focus on storing and organizing the results obtained from the parameter optimization workflow. We will explore the different options provided by pyPESTO for result storage.\n",
    "\n",
    "---\n",
    "\n",
    "\n",
    "By the end of this notebook, you will have gained valuable insights into the parameter optimization workflow for dynamical models. Moreover, you will have a clear understanding of the benefits that pyPESTO brings to each step of this workflow. This tutorial will equip you with the knowledge and tools necessary to streamline your parameter optimization tasks and obtain more accurate results."
   ]
  },
  {
   "cell_type": "code",
   "execution_count": 3,
   "metadata": {
    "ExecuteTime": {
     "end_time": "2023-07-13T09:24:44.842827Z",
     "start_time": "2023-07-13T09:24:44.811471Z"
    },
    "collapsed": false
   },
   "outputs": [],
   "source": [
    "# import\n",
    "import logging\n",
    "import os\n",
    "import random\n",
    "import tempfile\n",
    "from pprint import pprint\n",
    "\n",
    "import amici\n",
    "import benchmark_models_petab as models\n",
    "import matplotlib as mpl\n",
    "import numpy as np\n",
    "import petab\n",
    "import scipy.optimize\n",
    "from IPython.display import Markdown, display\n",
    "\n",
    "import pypesto.optimize as optimize\n",
    "import pypesto.petab\n",
    "import pypesto.profile as profile\n",
    "import pypesto.sample as sample\n",
    "import pypesto.store as store\n",
    "import pypesto.visualize as visualize\n",
    "import pypesto.visualize.model_fit as model_fit\n",
    "\n",
    "mpl.rcParams['figure.dpi'] = 100\n",
    "mpl.rcParams['font.size'] = 18\n",
    "\n",
    "random.seed(1912)\n",
    "\n",
    "\n",
    "# name of the model that will also be the name of the python module\n",
    "model_name = \"boehm_JProteomeRes2014\"\n",
    "\n",
    "# output directory\n",
    "model_output_dir = \"tmp/\" + model_name"
   ]
  },
  {
   "cell_type": "markdown",
   "metadata": {
    "collapsed": false
   },
   "source": [
    "## 1. Create an objective function"
   ]
  },
  {
   "cell_type": "markdown",
   "metadata": {
    "collapsed": false
   },
   "source": [
    "The [Böhm et al. JProteomRes 2014](https://pubs.acs.org/doi/abs/10.1021/pr5006923) model, we will use in this notebook is a [PEtab](https://github.com/PEtab-dev/PEtab) model from the [PEtab Benchmark collection](https://github.com/Benchmarking-Initiative/Benchmark-Models-PEtab). For simulation purposes we will use [AMICI](https://github.com/AMICI-dev/AMICI). PEtab is a data format specification that standardises parameter estimation problems in systems biology. AMICI is a multi-language simulation tool for differential expression models specified in SBML format."
   ]
  },
  {
   "cell_type": "markdown",
   "metadata": {
    "collapsed": false
   },
   "source": [
    "Loading the model via PEtab and AMICI already speeds up the whole workflow by leaps and bounds and is pretty straightforward:"
   ]
  },
  {
   "cell_type": "code",
   "execution_count": 4,
   "metadata": {
    "ExecuteTime": {
     "end_time": "2023-07-13T09:24:47.602789Z",
     "start_time": "2023-07-13T09:24:47.547768Z"
    },
    "collapsed": false
   },
   "outputs": [
    {
     "name": "stderr",
     "output_type": "stream",
     "text": [
      "2023-07-14 12:24:39.814 - amici.petab_import - INFO - Importing model ...\n",
      "2023-07-14 12:24:39.816 - amici.petab_import - INFO - Validating PEtab problem ...\n",
      "2023-07-14 12:24:40.033 - amici.petab_import - INFO - Model name is 'FullModel'.\n",
      "Writing model code to '/Users/pauljonasjost/Documents/GitHub_Folders/pyPESTO/doc/example/amici_models/FullModel'.\n",
      "2023-07-14 12:24:40.035 - amici.petab_import - INFO - Species: 8\n",
      "2023-07-14 12:24:40.037 - amici.petab_import - INFO - Global parameters: 15\n",
      "2023-07-14 12:24:40.038 - amici.petab_import - INFO - Reactions: 9\n",
      "2023-07-14 12:24:40.092 - amici.petab_import - INFO - Observables: 3\n",
      "2023-07-14 12:24:40.093 - amici.petab_import - INFO - Sigmas: 3\n",
      "2023-07-14 12:24:40.102 - amici.petab_import - DEBUG - Adding output parameters to model: ['noiseParameter1_pSTAT5A_rel', 'noiseParameter1_pSTAT5B_rel', 'noiseParameter1_rSTAT5A_rel']\n",
      "2023-07-14 12:24:40.103 - amici.petab_import - DEBUG - Adding initial assignments for dict_keys([])\n",
      "2023-07-14 12:24:40.125 - amici.petab_import - DEBUG - Condition table: (1, 1)\n",
      "2023-07-14 12:24:40.127 - amici.petab_import - DEBUG - Fixed parameters are ['ratio', 'specC17']\n",
      "2023-07-14 12:24:40.128 - amici.petab_import - INFO - Overall fixed parameters: 2\n",
      "2023-07-14 12:24:40.131 - amici.petab_import - INFO - Variable parameters: 16\n",
      "2023-07-14 12:24:40.159 - amici.sbml_import - DEBUG - Finished processing SBML annotations        ++ (1.76E-04s)\n",
      "2023-07-14 12:24:40.195 - amici.sbml_import - DEBUG - Finished gathering local SBML symbols       ++ (2.45E-02s)\n",
      "2023-07-14 12:24:40.230 - amici.sbml_import - DEBUG - Finished processing SBML parameters         ++ (2.45E-02s)\n",
      "2023-07-14 12:24:40.242 - amici.sbml_import - DEBUG - Finished processing SBML compartments       ++ (2.52E-04s)\n",
      "2023-07-14 12:24:40.269 - amici.sbml_import - DEBUG - Finished processing SBML species initials  +++ (7.16E-03s)\n",
      "2023-07-14 12:24:40.278 - amici.sbml_import - DEBUG - Finished processing SBML rate rules        +++ (4.84E-05s)\n",
      "2023-07-14 12:24:40.279 - amici.sbml_import - DEBUG - Finished processing SBML species            ++ (2.66E-02s)\n",
      "2023-07-14 12:24:40.295 - amici.sbml_import - DEBUG - Finished processing SBML reactions          ++ (6.28E-03s)\n",
      "2023-07-14 12:24:40.318 - amici.sbml_import - DEBUG - Finished processing SBML rules              ++ (1.23E-02s)\n",
      "2023-07-14 12:24:40.327 - amici.sbml_import - DEBUG - Finished processing SBML events             ++ (8.54E-05s)\n",
      "2023-07-14 12:24:40.339 - amici.sbml_import - DEBUG - Finished processing SBML initial assignments++ (1.23E-04s)\n",
      "2023-07-14 12:24:40.352 - amici.sbml_import - DEBUG - Finished processing SBML species references ++ (3.29E-04s)\n",
      "2023-07-14 12:24:40.353 - amici.sbml_import - DEBUG - Finished importing SBML                      + (2.05E-01s)\n",
      "2023-07-14 12:24:40.413 - amici.sbml_import - DEBUG - Finished processing SBML observables         + (4.51E-02s)\n",
      "2023-07-14 12:24:40.422 - amici.sbml_import - DEBUG - Finished processing SBML event observables   + (3.43E-06s)\n",
      "2023-07-14 12:24:40.498 - amici.de_export - DEBUG - Finished running smart_multiply               ++ (2.36E-03s)\n",
      "2023-07-14 12:24:40.609 - amici.de_export - DEBUG - Finished simplifying xdot                    +++ (6.51E-03s)\n",
      "2023-07-14 12:24:40.610 - amici.de_export - DEBUG - Finished computing xdot                       ++ (1.60E-02s)\n",
      "2023-07-14 12:24:40.632 - amici.de_export - DEBUG - Finished simplifying x0                      +++ (1.67E-03s)\n",
      "2023-07-14 12:24:40.633 - amici.de_export - DEBUG - Finished computing x0                         ++ (1.15E-02s)\n",
      "2023-07-14 12:24:40.635 - amici.de_export - DEBUG - Finished importing SbmlImporter                + (1.46E-01s)\n",
      "2023-07-14 12:24:40.696 - amici.de_export - DEBUG - Finished simplifying Jy                     ++++ (2.44E-02s)\n",
      "2023-07-14 12:24:40.697 - amici.de_export - DEBUG - Finished computing Jy                        +++ (3.30E-02s)\n",
      "2023-07-14 12:24:40.764 - amici.de_export - DEBUG - Finished simplifying y                      ++++ (4.65E-02s)\n",
      "2023-07-14 12:24:40.765 - amici.de_export - DEBUG - Finished computing y                         +++ (5.63E-02s)\n",
      "2023-07-14 12:24:40.782 - amici.de_export - DEBUG - Finished simplifying sigmay                 ++++ (1.53E-04s)\n",
      "2023-07-14 12:24:40.783 - amici.de_export - DEBUG - Finished computing sigmay                    +++ (8.89E-03s)\n",
      "2023-07-14 12:24:40.809 - amici.de_export - DEBUG - Finished writing Jy.cpp                       ++ (1.53E-01s)\n",
      "2023-07-14 12:24:40.871 - amici.de_export - DEBUG - Finished running smart_jacobian             ++++ (3.60E-02s)\n",
      "2023-07-14 12:24:40.894 - amici.de_export - DEBUG - Finished simplifying dJydsigma              ++++ (1.17E-02s)\n",
      "2023-07-14 12:24:40.895 - amici.de_export - DEBUG - Finished computing dJydsigma                 +++ (6.95E-02s)\n",
      "2023-07-14 12:24:40.901 - amici.de_export - DEBUG - Finished writing dJydsigma.cpp                ++ (8.30E-02s)\n",
      "2023-07-14 12:24:40.941 - amici.de_export - DEBUG - Finished running smart_jacobian             ++++ (1.64E-02s)\n",
      "2023-07-14 12:24:40.966 - amici.de_export - DEBUG - Finished simplifying dJydy                  ++++ (1.53E-02s)\n",
      "2023-07-14 12:24:40.967 - amici.de_export - DEBUG - Finished computing dJydy                     +++ (4.88E-02s)\n",
      "2023-07-14 12:24:40.976 - amici.de_export - DEBUG - Finished writing dJydy.cpp                    ++ (6.45E-02s)\n",
      "2023-07-14 12:24:41.001 - amici.de_export - DEBUG - Finished simplifying Jz                     ++++ (1.04E-04s)\n",
      "2023-07-14 12:24:41.002 - amici.de_export - DEBUG - Finished computing Jz                        +++ (9.08E-03s)\n",
      "2023-07-14 12:24:41.012 - amici.de_export - DEBUG - Finished computing z                         +++ (1.35E-04s)\n",
      "2023-07-14 12:24:41.028 - amici.de_export - DEBUG - Finished simplifying sigmaz                 ++++ (1.06E-04s)\n",
      "2023-07-14 12:24:41.029 - amici.de_export - DEBUG - Finished computing sigmaz                    +++ (7.59E-03s)\n",
      "2023-07-14 12:24:41.029 - amici.de_export - DEBUG - Finished writing Jz.cpp                       ++ (4.34E-02s)\n",
      "2023-07-14 12:24:41.054 - amici.de_export - DEBUG - Finished running smart_jacobian             ++++ (7.08E-05s)\n",
      "2023-07-14 12:24:41.063 - amici.de_export - DEBUG - Finished simplifying dJzdsigma              ++++ (8.91E-05s)\n",
      "2023-07-14 12:24:41.063 - amici.de_export - DEBUG - Finished computing dJzdsigma                 +++ (1.64E-02s)\n",
      "2023-07-14 12:24:41.064 - amici.de_export - DEBUG - Finished writing dJzdsigma.cpp                ++ (2.49E-02s)\n",
      "2023-07-14 12:24:41.089 - amici.de_export - DEBUG - Finished running smart_jacobian             ++++ (7.21E-05s)\n",
      "2023-07-14 12:24:41.101 - amici.de_export - DEBUG - Finished simplifying dJzdz                  ++++ (9.49E-05s)\n",
      "2023-07-14 12:24:41.102 - amici.de_export - DEBUG - Finished computing dJzdz                     +++ (2.00E-02s)\n",
      "2023-07-14 12:24:41.103 - amici.de_export - DEBUG - Finished writing dJzdz.cpp                    ++ (2.82E-02s)\n",
      "2023-07-14 12:24:41.131 - amici.de_export - DEBUG - Finished simplifying Jrz                    ++++ (1.04E-04s)\n",
      "2023-07-14 12:24:41.132 - amici.de_export - DEBUG - Finished computing Jrz                       +++ (8.50E-03s)\n",
      "2023-07-14 12:24:41.141 - amici.de_export - DEBUG - Finished computing rz                        +++ (1.37E-04s)\n",
      "2023-07-14 12:24:41.142 - amici.de_export - DEBUG - Finished writing Jrz.cpp                      ++ (2.66E-02s)\n",
      "2023-07-14 12:24:41.170 - amici.de_export - DEBUG - Finished running smart_jacobian             ++++ (7.14E-05s)\n",
      "2023-07-14 12:24:41.179 - amici.de_export - DEBUG - Finished simplifying dJrzdsigma             ++++ (9.07E-05s)\n",
      "2023-07-14 12:24:41.180 - amici.de_export - DEBUG - Finished computing dJrzdsigma                +++ (1.91E-02s)\n",
      "2023-07-14 12:24:41.181 - amici.de_export - DEBUG - Finished writing dJrzdsigma.cpp               ++ (2.77E-02s)\n",
      "2023-07-14 12:24:41.205 - amici.de_export - DEBUG - Finished running smart_jacobian             ++++ (6.64E-05s)\n",
      "2023-07-14 12:24:41.215 - amici.de_export - DEBUG - Finished simplifying dJrzdz                 ++++ (1.54E-04s)\n",
      "2023-07-14 12:24:41.216 - amici.de_export - DEBUG - Finished computing dJrzdz                    +++ (1.73E-02s)\n",
      "2023-07-14 12:24:41.217 - amici.de_export - DEBUG - Finished writing dJrzdz.cpp                   ++ (2.57E-02s)\n",
      "2023-07-14 12:24:41.245 - amici.de_export - DEBUG - Finished simplifying root                   ++++ (1.52E-04s)\n",
      "2023-07-14 12:24:41.246 - amici.de_export - DEBUG - Finished computing root                      +++ (1.07E-02s)\n",
      "2023-07-14 12:24:41.248 - amici.de_export - DEBUG - Finished writing root.cpp                     ++ (2.13E-02s)\n",
      "2023-07-14 12:24:41.383 - amici.de_export - DEBUG - Finished simplifying w                     +++++ (9.32E-02s)\n",
      "2023-07-14 12:24:41.385 - amici.de_export - DEBUG - Finished computing w                        ++++ (1.03E-01s)\n",
      "2023-07-14 12:24:41.450 - amici.de_export - DEBUG - Finished running smart_jacobian             ++++ (5.58E-02s)\n",
      "2023-07-14 12:24:41.470 - amici.de_export - DEBUG - Finished simplifying dwdp                   ++++ (1.03E-02s)\n",
      "2023-07-14 12:24:41.471 - amici.de_export - DEBUG - Finished computing dwdp                      +++ (1.99E-01s)\n",
      "2023-07-14 12:24:41.489 - amici.de_export - DEBUG - Finished simplifying spl                    ++++ (1.80E-04s)\n",
      "2023-07-14 12:24:41.490 - amici.de_export - DEBUG - Finished computing spl                       +++ (8.03E-03s)\n",
      "2023-07-14 12:24:41.507 - amici.de_export - DEBUG - Finished simplifying sspl                   ++++ (1.04E-04s)\n",
      "2023-07-14 12:24:41.508 - amici.de_export - DEBUG - Finished computing sspl                      +++ (8.10E-03s)\n",
      "2023-07-14 12:24:41.513 - amici.de_export - DEBUG - Finished writing dwdp.cpp                     ++ (2.52E-01s)\n",
      "2023-07-14 12:24:41.612 - amici.de_export - DEBUG - Finished running smart_jacobian             ++++ (7.05E-02s)\n",
      "2023-07-14 12:24:41.698 - amici.de_export - DEBUG - Finished simplifying dwdx                   ++++ (7.69E-02s)\n",
      "2023-07-14 12:24:41.699 - amici.de_export - DEBUG - Finished computing dwdx                      +++ (1.66E-01s)\n",
      "2023-07-14 12:24:41.735 - amici.de_export - DEBUG - Finished writing dwdx.cpp                     ++ (2.12E-01s)\n",
      "2023-07-14 12:24:41.745 - amici.de_export - DEBUG - Finished writing create_splines.cpp           ++ (4.29E-04s)\n",
      "2023-07-14 12:24:41.781 - amici.de_export - DEBUG - Finished simplifying spline_values         +++++ (1.14E-04s)\n",
      "2023-07-14 12:24:41.782 - amici.de_export - DEBUG - Finished computing spline_values            ++++ (9.02E-03s)\n",
      "2023-07-14 12:24:41.792 - amici.de_export - DEBUG - Finished running smart_jacobian             ++++ (8.02E-05s)\n",
      "2023-07-14 12:24:41.802 - amici.de_export - DEBUG - Finished simplifying dspline_valuesdp       ++++ (9.86E-05s)\n",
      "2023-07-14 12:24:41.803 - amici.de_export - DEBUG - Finished computing dspline_valuesdp          +++ (3.85E-02s)\n",
      "2023-07-14 12:24:41.804 - amici.de_export - DEBUG - Finished writing dspline_valuesdp.cpp         ++ (4.80E-02s)\n",
      "2023-07-14 12:24:41.839 - amici.de_export - DEBUG - Finished simplifying spline_slopes         +++++ (1.17E-04s)\n",
      "2023-07-14 12:24:41.841 - amici.de_export - DEBUG - Finished computing spline_slopes            ++++ (9.41E-03s)\n",
      "2023-07-14 12:24:41.850 - amici.de_export - DEBUG - Finished running smart_jacobian             ++++ (7.64E-05s)\n",
      "2023-07-14 12:24:41.859 - amici.de_export - DEBUG - Finished simplifying dspline_slopesdp       ++++ (9.42E-05s)\n",
      "2023-07-14 12:24:41.859 - amici.de_export - DEBUG - Finished computing dspline_slopesdp          +++ (3.62E-02s)\n",
      "2023-07-14 12:24:41.860 - amici.de_export - DEBUG - Finished writing dspline_slopesdp.cpp         ++ (4.44E-02s)\n",
      "2023-07-14 12:24:41.893 - amici.de_export - DEBUG - Finished running smart_jacobian             ++++ (6.71E-03s)\n",
      "2023-07-14 12:24:41.908 - amici.de_export - DEBUG - Finished simplifying dwdw                   ++++ (4.24E-03s)\n",
      "2023-07-14 12:24:41.909 - amici.de_export - DEBUG - Finished computing dwdw                      +++ (3.02E-02s)\n",
      "2023-07-14 12:24:41.912 - amici.de_export - DEBUG - Finished writing dwdw.cpp                     ++ (4.13E-02s)\n",
      "2023-07-14 12:24:41.956 - amici.de_export - DEBUG - Finished running smart_jacobian             ++++ (1.78E-02s)\n",
      "2023-07-14 12:24:41.966 - amici.de_export - DEBUG - Finished simplifying dxdotdw                ++++ (3.93E-04s)\n",
      "2023-07-14 12:24:41.967 - amici.de_export - DEBUG - Finished computing dxdotdw                   +++ (3.55E-02s)\n",
      "2023-07-14 12:24:41.975 - amici.de_export - DEBUG - Finished writing dxdotdw.cpp                  ++ (5.18E-02s)\n",
      "2023-07-14 12:24:42.002 - amici.de_export - DEBUG - Finished running smart_jacobian             ++++ (8.63E-04s)\n",
      "2023-07-14 12:24:42.011 - amici.de_export - DEBUG - Finished simplifying dxdotdx_explicit       ++++ (9.85E-05s)\n",
      "2023-07-14 12:24:42.012 - amici.de_export - DEBUG - Finished computing dxdotdx_explicit          +++ (1.90E-02s)\n",
      "2023-07-14 12:24:42.014 - amici.de_export - DEBUG - Finished writing dxdotdx_explicit.cpp         ++ (2.80E-02s)\n",
      "2023-07-14 12:24:42.043 - amici.de_export - DEBUG - Finished running smart_jacobian             ++++ (1.27E-03s)\n",
      "2023-07-14 12:24:42.053 - amici.de_export - DEBUG - Finished simplifying dxdotdp_explicit       ++++ (9.22E-05s)\n",
      "2023-07-14 12:24:42.053 - amici.de_export - DEBUG - Finished computing dxdotdp_explicit          +++ (1.99E-02s)\n",
      "2023-07-14 12:24:42.055 - amici.de_export - DEBUG - Finished writing dxdotdp_explicit.cpp         ++ (3.07E-02s)\n",
      "2023-07-14 12:24:42.095 - amici.de_export - DEBUG - Finished running smart_jacobian            +++++ (2.08E-03s)\n",
      "2023-07-14 12:24:42.170 - amici.de_export - DEBUG - Finished simplifying dydx                  +++++ (6.54E-02s)\n",
      "2023-07-14 12:24:42.171 - amici.de_export - DEBUG - Finished computing dydx                     ++++ (8.50E-02s)\n",
      "2023-07-14 12:24:42.191 - amici.de_export - DEBUG - Finished running smart_jacobian            +++++ (2.75E-04s)\n",
      "2023-07-14 12:24:42.207 - amici.de_export - DEBUG - Finished simplifying dydw                  +++++ (9.83E-05s)\n",
      "2023-07-14 12:24:42.209 - amici.de_export - DEBUG - Finished computing dydw                     ++++ (2.70E-02s)\n",
      "2023-07-14 12:24:42.289 - amici.de_export - DEBUG - Finished simplifying dydx                   ++++ (6.90E-02s)\n",
      "2023-07-14 12:24:42.290 - amici.de_export - DEBUG - Finished computing dydx                      +++ (2.13E-01s)\n",
      "2023-07-14 12:24:42.318 - amici.de_export - DEBUG - Finished writing dydx.cpp                     ++ (2.49E-01s)\n",
      "2023-07-14 12:24:42.355 - amici.de_export - DEBUG - Finished running smart_jacobian            +++++ (4.37E-04s)\n",
      "2023-07-14 12:24:42.369 - amici.de_export - DEBUG - Finished simplifying dydp                  +++++ (1.40E-04s)\n",
      "2023-07-14 12:24:42.371 - amici.de_export - DEBUG - Finished computing dydp                     ++++ (2.75E-02s)\n",
      "2023-07-14 12:24:42.387 - amici.de_export - DEBUG - Finished simplifying dydp                   ++++ (1.36E-04s)\n",
      "2023-07-14 12:24:42.388 - amici.de_export - DEBUG - Finished computing dydp                      +++ (5.28E-02s)\n",
      "2023-07-14 12:24:42.390 - amici.de_export - DEBUG - Finished writing dydp.cpp                     ++ (6.36E-02s)\n",
      "2023-07-14 12:24:42.416 - amici.de_export - DEBUG - Finished computing dzdx                      +++ (2.20E-04s)\n",
      "2023-07-14 12:24:42.418 - amici.de_export - DEBUG - Finished writing dzdx.cpp                     ++ (1.11E-02s)\n",
      "2023-07-14 12:24:42.443 - amici.de_export - DEBUG - Finished computing dzdp                      +++ (1.39E-04s)\n",
      "2023-07-14 12:24:42.444 - amici.de_export - DEBUG - Finished writing dzdp.cpp                     ++ (9.14E-03s)\n",
      "2023-07-14 12:24:42.468 - amici.de_export - DEBUG - Finished computing drzdx                     +++ (2.08E-04s)\n",
      "2023-07-14 12:24:42.469 - amici.de_export - DEBUG - Finished writing drzdx.cpp                    ++ (1.24E-02s)\n",
      "2023-07-14 12:24:42.488 - amici.de_export - DEBUG - Finished computing drzdp                     +++ (1.47E-04s)\n",
      "2023-07-14 12:24:42.489 - amici.de_export - DEBUG - Finished writing drzdp.cpp                    ++ (8.68E-03s)\n",
      "2023-07-14 12:24:42.512 - amici.de_export - DEBUG - Finished running smart_jacobian             ++++ (2.34E-04s)\n",
      "2023-07-14 12:24:42.522 - amici.de_export - DEBUG - Finished simplifying dsigmaydy              ++++ (9.21E-05s)\n",
      "2023-07-14 12:24:42.523 - amici.de_export - DEBUG - Finished computing dsigmaydy                 +++ (1.76E-02s)\n",
      "2023-07-14 12:24:42.523 - amici.de_export - DEBUG - Finished writing dsigmaydy.cpp                ++ (2.53E-02s)\n",
      "2023-07-14 12:24:42.550 - amici.de_export - DEBUG - Finished running smart_jacobian             ++++ (9.00E-04s)\n",
      "2023-07-14 12:24:42.560 - amici.de_export - DEBUG - Finished simplifying dsigmaydp              ++++ (1.76E-04s)\n",
      "2023-07-14 12:24:42.561 - amici.de_export - DEBUG - Finished computing dsigmaydp                 +++ (1.86E-02s)\n",
      "2023-07-14 12:24:42.565 - amici.de_export - DEBUG - Finished writing dsigmaydp.cpp                ++ (3.00E-02s)\n",
      "2023-07-14 12:24:42.577 - amici.de_export - DEBUG - Finished writing sigmay.cpp                   ++ (1.01E-03s)\n",
      "2023-07-14 12:24:42.604 - amici.de_export - DEBUG - Finished running smart_jacobian             ++++ (8.00E-05s)\n",
      "2023-07-14 12:24:42.615 - amici.de_export - DEBUG - Finished simplifying dsigmazdp              ++++ (9.82E-05s)\n",
      "2023-07-14 12:24:42.616 - amici.de_export - DEBUG - Finished computing dsigmazdp                 +++ (2.03E-02s)\n",
      "2023-07-14 12:24:42.617 - amici.de_export - DEBUG - Finished writing dsigmazdp.cpp                ++ (2.90E-02s)\n",
      "2023-07-14 12:24:42.627 - amici.de_export - DEBUG - Finished writing sigmaz.cpp                   ++ (4.69E-05s)\n",
      "2023-07-14 12:24:42.644 - amici.de_export - DEBUG - Finished computing stau                      +++ (1.44E-04s)\n",
      "2023-07-14 12:24:42.645 - amici.de_export - DEBUG - Finished writing stau.cpp                     ++ (8.37E-03s)\n",
      "2023-07-14 12:24:42.662 - amici.de_export - DEBUG - Finished computing deltax                    +++ (1.42E-04s)\n",
      "2023-07-14 12:24:42.663 - amici.de_export - DEBUG - Finished writing deltax.cpp                   ++ (8.46E-03s)\n",
      "2023-07-14 12:24:42.679 - amici.de_export - DEBUG - Finished computing deltasx                   +++ (1.79E-04s)\n",
      "2023-07-14 12:24:42.681 - amici.de_export - DEBUG - Finished writing deltasx.cpp                  ++ (8.78E-03s)\n",
      "2023-07-14 12:24:42.698 - amici.de_export - DEBUG - Finished writing w.cpp                        ++ (8.02E-03s)\n",
      "2023-07-14 12:24:42.708 - amici.de_export - DEBUG - Finished writing x0.cpp                       ++ (1.73E-03s)\n",
      "2023-07-14 12:24:42.734 - amici.de_export - DEBUG - Finished simplifying x0_fixedParameters     ++++ (1.07E-03s)\n",
      "2023-07-14 12:24:42.735 - amici.de_export - DEBUG - Finished computing x0_fixedParameters        +++ (9.37E-03s)\n",
      "2023-07-14 12:24:42.738 - amici.de_export - DEBUG - Finished writing x0_fixedParameters.cpp       ++ (1.93E-02s)\n",
      "2023-07-14 12:24:42.765 - amici.de_export - DEBUG - Finished running smart_jacobian             ++++ (1.94E-03s)\n",
      "2023-07-14 12:24:42.779 - amici.de_export - DEBUG - Finished simplifying sx0                    ++++ (1.15E-04s)\n",
      "2023-07-14 12:24:42.780 - amici.de_export - DEBUG - Finished computing sx0                       +++ (2.48E-02s)\n",
      "2023-07-14 12:24:42.781 - amici.de_export - DEBUG - Finished writing sx0.cpp                      ++ (3.40E-02s)\n",
      "2023-07-14 12:24:42.808 - amici.de_export - DEBUG - Finished running smart_jacobian             ++++ (3.29E-04s)\n",
      "2023-07-14 12:24:42.817 - amici.de_export - DEBUG - Finished running smart_jacobian             ++++ (3.04E-04s)\n",
      "2023-07-14 12:24:42.826 - amici.de_export - DEBUG - Finished simplifying sx0_fixedParameters    ++++ (9.65E-05s)\n",
      "2023-07-14 12:24:42.827 - amici.de_export - DEBUG - Finished computing sx0_fixedParameters       +++ (2.69E-02s)\n",
      "2023-07-14 12:24:42.829 - amici.de_export - DEBUG - Finished writing sx0_fixedParameters.cpp      ++ (3.70E-02s)\n",
      "2023-07-14 12:24:42.853 - amici.de_export - DEBUG - Finished writing xdot.cpp                     ++ (1.35E-02s)\n",
      "2023-07-14 12:24:42.872 - amici.de_export - DEBUG - Finished writing y.cpp                        ++ (7.28E-03s)\n",
      "2023-07-14 12:24:42.907 - amici.de_export - DEBUG - Finished simplifying x_rdata                ++++ (1.73E-04s)\n",
      "2023-07-14 12:24:42.909 - amici.de_export - DEBUG - Finished computing x_rdata                   +++ (1.01E-02s)\n",
      "2023-07-14 12:24:42.913 - amici.de_export - DEBUG - Finished writing x_rdata.cpp                  ++ (2.78E-02s)\n",
      "2023-07-14 12:24:42.944 - amici.de_export - DEBUG - Finished simplifying total_cl               ++++ (1.11E-04s)\n",
      "2023-07-14 12:24:42.944 - amici.de_export - DEBUG - Finished computing total_cl                  +++ (8.44E-03s)\n",
      "2023-07-14 12:24:42.945 - amici.de_export - DEBUG - Finished writing total_cl.cpp                 ++ (1.77E-02s)\n",
      "2023-07-14 12:24:42.979 - amici.de_export - DEBUG - Finished running smart_jacobian             ++++ (1.44E-04s)\n",
      "2023-07-14 12:24:42.988 - amici.de_export - DEBUG - Finished simplifying dtotal_cldp            ++++ (9.25E-05s)\n",
      "2023-07-14 12:24:42.989 - amici.de_export - DEBUG - Finished computing dtotal_cldp               +++ (2.10E-02s)\n",
      "2023-07-14 12:24:42.990 - amici.de_export - DEBUG - Finished writing dtotal_cldp.cpp              ++ (3.13E-02s)\n",
      "2023-07-14 12:24:43.016 - amici.de_export - DEBUG - Finished simplifying dtotal_cldx_rdata      ++++ (1.10E-04s)\n",
      "2023-07-14 12:24:43.016 - amici.de_export - DEBUG - Finished computing dtotal_cldx_rdata         +++ (8.35E-03s)\n",
      "2023-07-14 12:24:43.017 - amici.de_export - DEBUG - Finished writing dtotal_cldx_rdata.cpp        ++ (1.65E-02s)\n",
      "2023-07-14 12:24:43.041 - amici.de_export - DEBUG - Finished simplifying x_solver               ++++ (1.57E-04s)\n",
      "2023-07-14 12:24:43.042 - amici.de_export - DEBUG - Finished computing x_solver                  +++ (7.38E-03s)\n",
      "2023-07-14 12:24:43.044 - amici.de_export - DEBUG - Finished writing x_solver.cpp                 ++ (1.71E-02s)\n",
      "2023-07-14 12:24:43.072 - amici.de_export - DEBUG - Finished simplifying dx_rdatadx_solver      ++++ (5.54E-04s)\n",
      "2023-07-14 12:24:43.073 - amici.de_export - DEBUG - Finished computing dx_rdatadx_solver         +++ (9.46E-03s)\n",
      "2023-07-14 12:24:43.075 - amici.de_export - DEBUG - Finished writing dx_rdatadx_solver.cpp        ++ (2.14E-02s)\n",
      "2023-07-14 12:24:43.101 - amici.de_export - DEBUG - Finished simplifying dx_rdatadp             ++++ (6.98E-04s)\n",
      "2023-07-14 12:24:43.102 - amici.de_export - DEBUG - Finished computing dx_rdatadp                +++ (9.48E-03s)\n",
      "2023-07-14 12:24:43.103 - amici.de_export - DEBUG - Finished writing dx_rdatadp.cpp               ++ (1.86E-02s)\n",
      "2023-07-14 12:24:43.131 - amici.de_export - DEBUG - Finished running smart_jacobian             ++++ (7.82E-05s)\n",
      "2023-07-14 12:24:43.140 - amici.de_export - DEBUG - Finished simplifying dx_rdatadtcl           ++++ (1.01E-04s)\n",
      "2023-07-14 12:24:43.141 - amici.de_export - DEBUG - Finished computing dx_rdatadtcl              +++ (1.83E-02s)\n",
      "2023-07-14 12:24:43.142 - amici.de_export - DEBUG - Finished writing dx_rdatadtcl.cpp             ++ (2.66E-02s)\n",
      "2023-07-14 12:24:43.154 - amici.de_export - DEBUG - Finished writing z.cpp                        ++ (6.68E-05s)\n",
      "2023-07-14 12:24:43.163 - amici.de_export - DEBUG - Finished writing rz.cpp                       ++ (5.32E-05s)\n",
      "2023-07-14 12:24:43.187 - amici.de_export - DEBUG - Finished generating cpp code                   + (2.54E+00s)\n",
      "2023-07-14 12:25:35.236 - amici.de_export - DEBUG - Finished compiling cpp code                    + (5.20E+01s)\n",
      "2023-07-14 12:25:35.538 - amici.petab_import - INFO - Finished Importing PEtab model                 (5.57E+01s)\n",
      "2023-07-14 12:25:35.546 - amici.petab_import - INFO - Successfully loaded model FullModel from /Users/pauljonasjost/Documents/GitHub_Folders/pyPESTO/doc/example/amici_models/FullModel.\n"
     ]
    }
   ],
   "source": [
    "%%capture\n",
    "# PEtab problem loading\n",
    "petab_yaml = f\"./{model_name}/{model_name}.yaml\"\n",
    "\n",
    "petab_problem = petab.Problem.from_yaml(petab_yaml)\n",
    "\n",
    "# AMICI model complilation\n",
    "amici_model = amici.petab_import.import_petab_problem(\n",
    "    petab_problem, force_compile=True\n",
    ")"
   ]
  },
  {
   "cell_type": "markdown",
   "metadata": {
    "collapsed": false
   },
   "source": [
    "AMICI allows us to construct an objective function from the PEtab problem, already considering the noise distribution assumed for this model. We can also simulate the problem for a parameter with this simple setup."
   ]
  },
  {
   "cell_type": "code",
   "execution_count": 5,
   "metadata": {
    "ExecuteTime": {
     "end_time": "2023-07-13T09:24:50.218430Z",
     "start_time": "2023-07-13T09:24:48.971684Z"
    },
    "collapsed": false
   },
   "outputs": [
    {
     "name": "stdout",
     "output_type": "stream",
     "text": [
      "PEtab benchmark parameters\n",
      "{'edatas': [<Swig Object of type 'std::vector< amici::ExpData * >::value_type' at 0x13348bcf0\n",
      "  condition 'model1_data1' starting at t=0.0 with custom parameter scales, constants, parameters\n",
      "  16x3 time-resolved datapoints\n",
      "    (48/48 measurements & 0/48 sigmas set)\n",
      "  10x0 event-resolved datapoints\n",
      "    (0/0 measurements & 0/0 sigmas set)\n",
      ">],\n",
      " 'llh': -138.22199656856435,\n",
      " 'rdatas': [<ReturnDataView(<amici.amici.ReturnData; proxy of <Swig Object of type 'std::unique_ptr< amici::ReturnData >::pointer' at 0x1335bfa20> >)>],\n",
      " 'sllh': None}\n",
      "Individualized parameters\n",
      "{'edatas': [<Swig Object of type 'std::vector< amici::ExpData * >::value_type' at 0x1334889c0\n",
      "  condition 'model1_data1' starting at t=0.0 with custom parameter scales, constants, parameters\n",
      "  16x3 time-resolved datapoints\n",
      "    (48/48 measurements & 0/48 sigmas set)\n",
      "  10x0 event-resolved datapoints\n",
      "    (0/0 measurements & 0/0 sigmas set)\n",
      ">],\n",
      " 'llh': -185.54291970899519,\n",
      " 'rdatas': [<ReturnDataView(<amici.amici.ReturnData; proxy of <Swig Object of type 'std::unique_ptr< amici::ReturnData >::pointer' at 0x1335bfba0> >)>],\n",
      " 'sllh': None}\n"
     ]
    }
   ],
   "source": [
    "# Simulation with PEtab nominal parameter values\n",
    "print(\"PEtab benchmark parameters\")\n",
    "pprint(amici.petab_objective.simulate_petab(petab_problem, amici_model))\n",
    "\n",
    "# Simulation with specified parameter values\n",
    "parameters = np.array([-1.5, -5.0, -2.2, -1.7, 5.0, 4.2, 0.5, 0.8, 0.5])\n",
    "ids = list(amici_model.getParameterIds())\n",
    "ids[6:] = [\"sd_pSTAT5A_rel\", \"sd_pSTAT5B_rel\", \"sd_rSTAT5A_rel\"]\n",
    "\n",
    "print(\"Individualized parameters\")\n",
    "pprint(\n",
    "    amici.petab_objective.simulate_petab(\n",
    "        petab_problem,\n",
    "        amici_model,\n",
    "        problem_parameters={x_id: x_i for x_id, x_i in zip(ids, parameters)},\n",
    "        scaled_parameters=True,\n",
    "    )\n",
    ")"
   ]
  },
  {
   "cell_type": "markdown",
   "metadata": {
    "collapsed": false
   },
   "source": [
    "We can see, that to call the objective function, we need to supply the parameters in a dictionary format. This is not really suitable for parameter optimization. Therefore we need to create some kind of parameter mapping."
   ]
  },
  {
   "cell_type": "code",
   "execution_count": 6,
   "metadata": {
    "collapsed": false
   },
   "outputs": [
    {
     "name": "stdout",
     "output_type": "stream",
     "text": [
      "185.54291970899519\n"
     ]
    }
   ],
   "source": [
    "class objective:\n",
    "    \"\"\"\n",
    "    A very basic implementation to an objective function for AMICI, that can call the objective function just based on the parameters.\n",
    "    \"\"\"\n",
    "\n",
    "    def __init__(self, petab_problem: petab.Problem, model: amici.Model):\n",
    "        \"\"\"Constructor for objective.\"\"\"\n",
    "        self.petab_problem = petab_problem\n",
    "        self.model = model\n",
    "        self.x_ids = list(self.model.getParameterIds())\n",
    "        # nned to change the names for the last ones\n",
    "        self.x_ids[6:] = [\"sd_pSTAT5A_rel\", \"sd_pSTAT5B_rel\", \"sd_rSTAT5A_rel\"]\n",
    "\n",
    "    def x_dct(self, x: np.ndarray):\n",
    "        \"\"\"\n",
    "        Turn array of parameters to dictionary usable for objective call.\n",
    "        \"\"\"\n",
    "        return {x_id: x_i for x_id, x_i in zip(self.x_ids, x)}\n",
    "\n",
    "    def __call__(self, x: np.ndarray):\n",
    "        \"\"\"Call the objective function\"\"\"\n",
    "        return -amici.petab_objective.simulate_petab(\n",
    "            petab_problem,\n",
    "            amici_model,\n",
    "            problem_parameters=self.x_dct(x),\n",
    "            scaled_parameters=True,\n",
    "        )[\"llh\"]\n",
    "\n",
    "\n",
    "# Test it out\n",
    "obj = objective(petab_problem, amici_model)\n",
    "pprint(obj(parameters))"
   ]
  },
  {
   "cell_type": "markdown",
   "metadata": {
    "collapsed": false
   },
   "source": [
    "### Summary\n",
    "\n",
    "We have a very basic functioning of an objective function for this specific problem. Some things that we have not yet considered and that will need additional code for are:\n",
    "* As we can see, petab and amici are both very helpful already, but what if we do not have a model in PEtab format or do want to use something different than Amici? The amount of coding we would have to do would probably increase by a considerable amount.\n",
    "* What if we have multiple simulation conditions? We would have to adjust the parameter mapping, be able to change parameters that we normal would not want to change etc.\n",
    "* What if our system starts in a steady state? In this case we would have to preequilibrate, something that amici can do, but we would need to account for that additionally (and it would most likely also include an additional simulation condition).\n",
    "* For later analysis we would like to be able to not only get the objective function but also the residuals, something that we can change in amici but we would have to account for this flexibility additionally.\n",
    "* If we fix a parameter (for optimization), we would have to create a different parameter mapping (same for unfixing a parameter).\n",
    "* We have a very basic objective function, what if we want to include prior knowledge of parameters?\n",
    "\n",
    "This is most likely not the complete list but can already can get yield quite substantial coding effort. While each problem can be tackled, it is a lot of code lines, and we would need to rewrite it each time if we want to change something (or invest even more work and make the design of the objective function flexible).\n",
    "\n",
    "In short: **There is a need for a tool, that can account for all these variables in the objective function formulation**"
   ]
  },
  {
   "cell_type": "markdown",
   "metadata": {
    "collapsed": false
   },
   "source": [
    "This is one of the things, pyPESTO takes care of for you. We support a multitude of objective functions (jax, aesara, amici, julia models, self written). For PEtab models with AMICI, we take care of the parameter mapping, multiple simulation conditions (incl. preequilibration), changing between residuals and objective function and fixing parameters.\n",
    "\n",
    "While there is a lot of possibility for individualization, in its most basic form, creating an objective from a petab file accounting for all of the above, is boiled down to four lines in pyPESTO:"
   ]
  },
  {
   "cell_type": "code",
   "execution_count": 7,
   "metadata": {
    "collapsed": false
   },
   "outputs": [
    {
     "data": {
      "text/plain": [
       "185.54291970899519"
      ]
     },
     "execution_count": 7,
     "metadata": {},
     "output_type": "execute_result"
    }
   ],
   "source": [
    "petab_yaml = f\"./{model_name}/{model_name}.yaml\"\n",
    "\n",
    "petab_problem = petab.Problem.from_yaml(petab_yaml)\n",
    "importer = pypesto.petab.PetabImporter(petab_problem)\n",
    "problem = importer.create_problem()\n",
    "\n",
    "problem.objective(parameters)"
   ]
  },
  {
   "cell_type": "markdown",
   "metadata": {
    "collapsed": false
   },
   "source": [
    "## 2. Optimization"
   ]
  },
  {
   "cell_type": "markdown",
   "metadata": {
    "collapsed": false
   },
   "source": [
    "After creating our objective function, we can now set up an optimization problem. For this we will need\n",
    "* Parameter bounds\n",
    "* startpoints for the multistart local optimization\n",
    "* an optimizer"
   ]
  },
  {
   "cell_type": "code",
   "execution_count": 17,
   "metadata": {
    "collapsed": false
   },
   "outputs": [
    {
     "name": "stdout",
     "output_type": "stream",
     "text": [
      "[  message: STOP: TOTAL NO. of f AND g EVALUATIONS EXCEEDS LIMIT\n",
      "  success: False\n",
      "   status: 1\n",
      "      fun: 235.14760253249028\n",
      "        x: [-1.993e+00  5.348e-01 -4.877e+00  1.370e+00 -4.970e+00\n",
      "             3.000e+00  1.620e+00  1.588e+00  1.300e+00]\n",
      "      nit: 23\n",
      "      jac: [-1.848e+01  5.192e+00 -3.586e+00  2.337e+00  1.234e+01\n",
      "            -1.380e+01 -4.796e+00  1.376e-01  2.570e-01]\n",
      "     nfev: 510\n",
      "     njev: 51\n",
      " hess_inv: <9x9 LbfgsInvHessProduct with dtype=float64>,\n",
      "   message: STOP: TOTAL NO. of f AND g EVALUATIONS EXCEEDS LIMIT\n",
      "  success: False\n",
      "   status: 1\n",
      "      fun: 233.92094063157725\n",
      "        x: [-4.824e+00  2.649e+00 -4.758e+00 -4.919e+00 -4.939e+00\n",
      "             3.000e+00  1.530e+00  2.088e+00  9.758e-01]\n",
      "      nit: 11\n",
      "      jac: [ 7.318e+00  8.911e+01  2.765e+00  1.075e+02  3.747e+01\n",
      "            -1.968e+01 -9.820e+00  3.315e+01 -7.564e+00]\n",
      "     nfev: 560\n",
      "     njev: 56\n",
      " hess_inv: <9x9 LbfgsInvHessProduct with dtype=float64>,\n",
      "   message: CONVERGENCE: REL_REDUCTION_OF_F_<=_FACTR*EPSMCH\n",
      "  success: True\n",
      "   status: 0\n",
      "      fun: 249.74599818894404\n",
      "        x: [-6.298e-01  6.166e-02 -2.532e+00  2.653e+00  2.143e+00\n",
      "            -3.057e+00  1.873e+00  1.759e+00  1.299e+00]\n",
      "      nit: 25\n",
      "      jac: [ 0.000e+00  5.684e-06  0.000e+00  5.684e-06  5.684e-06\n",
      "             0.000e+00  2.842e-06 -5.684e-06  1.137e-05]\n",
      "     nfev: 290\n",
      "     njev: 29\n",
      " hess_inv: <9x9 LbfgsInvHessProduct with dtype=float64>,\n",
      "   message: CONVERGENCE: REL_REDUCTION_OF_F_<=_FACTR*EPSMCH\n",
      "  success: True\n",
      "   status: 0\n",
      "      fun: 249.74599529644127\n",
      "        x: [-5.000e+00 -5.000e+00 -5.000e+00 -5.000e+00 -5.000e+00\n",
      "            -5.000e+00  1.873e+00  1.759e+00  1.299e+00]\n",
      "      nit: 14\n",
      "      jac: [ 0.000e+00  0.000e+00  0.000e+00  0.000e+00  0.000e+00\n",
      "            -5.684e-06 -2.842e-06 -5.684e-06 -2.842e-06]\n",
      "     nfev: 350\n",
      "     njev: 35\n",
      " hess_inv: <9x9 LbfgsInvHessProduct with dtype=float64>]\n"
     ]
    }
   ],
   "source": [
    "# bounds\n",
    "ub = 3 * np.ones(len(parameters))\n",
    "lb = -5 * np.ones(len(parameters))\n",
    "\n",
    "# number of starts\n",
    "n_starts = 4\n",
    "\n",
    "# draw uniformly distributed parameters within these bounds\n",
    "x_guesses = np.random.random((n_starts, len(lb))) * (ub - lb) + lb\n",
    "\n",
    "# optimize\n",
    "results = []\n",
    "for x0 in x_guesses:\n",
    "    results.append(\n",
    "        scipy.optimize.minimize(\n",
    "            obj,\n",
    "            x0,\n",
    "            bounds=zip(lb, ub),\n",
    "            tol=1e-12,\n",
    "            options={\"maxfun\": 500},\n",
    "            method=\"L-BFGS-B\",\n",
    "        )\n",
    "    )\n",
    "pprint(results)"
   ]
  },
  {
   "cell_type": "markdown",
   "metadata": {},
   "source": [
    "This is smoothly running and does not take too much code. But again, we did not consider quite a few things regarding this problem:\n",
    "* The Optimizer internally uses finite differences, which is inaccurate for very stiff models. Constructing sensitivities and integrating them into the optimization canbe quite tedious.\n",
    "* There is no tracking of the history, we only get the end point. If we want to analyze this in more detail we need to implement this into the objective function.\n",
    "* Many times, especcially for larger models, we might want to change the optimizer depending on the performance. A detailed analysis on this would require some setup.\n",
    "* For bigger models and more starts, parallelization becomes a key component to ensure efficency. This was also not considered here.\n",
    "* Especially when considering multiple optimizers, the lack of a quasi standardised result format becomes apparent und thus one would either have to write a proper result class or individualize all downstream analysis for each optimizer."
   ]
  },
  {
   "cell_type": "code",
   "execution_count": 14,
   "metadata": {},
   "outputs": [
    {
     "name": "stderr",
     "output_type": "stream",
     "text": [
      "Engine will use up to 8 processes (= CPU count).\n",
      "100%|██████████| 4/4 [00:07<00:00,  1.88s/it]\n"
     ]
    },
    {
     "data": {
      "text/markdown": [
       "## Optimization Result \n",
       "\n",
       "* number of starts: 4 \n",
       "* best value: 149.58816245414047, id=2\n",
       "* worst value: 386.8475361953154, id=0\n",
       "* number of non-finite values: 0\n",
       "\n",
       "* execution time summary:\n",
       "\t* Mean execution time: 1.468s\n",
       "\t* Maximum execution time: 4.074s,\tid=2\n",
       "\t* Minimum execution time: 0.092s,\tid=0\n",
       "* summary of optimizer messages:\n",
       "\n",
       "  |   Count | Message                                         |\n",
       "  |--------:|:------------------------------------------------|\n",
       "  |       4 | CONVERGENCE: REL_REDUCTION_OF_F_<=_FACTR*EPSMCH |\n",
       "\n",
       "* best value found (approximately) 1 time(s)\n",
       "* number of plateaus found: 1\n",
       "\n",
       "A summary of the best run:\n",
       "\n",
       "### Optimizer Result\n",
       "\n",
       "* optimizer used: <ScipyOptimizer method=L-BFGS-B options={'maxfun': 1000, 'disp': False}>\n",
       "* message: CONVERGENCE: REL_REDUCTION_OF_F_<=_FACTR*EPSMCH \n",
       "* number of evaluations: 161\n",
       "* time taken to optimize: 4.074s\n",
       "* startpoint: [-4.00247348  2.35675745 -3.97224376 -0.45702765 -2.4478275   0.97998309\n",
       "  1.97011869 -0.76769131  4.25235683]\n",
       "* endpoint: [-1.61857539  2.59927492  0.06608522 -1.58801737  5.          4.13592119\n",
       "  0.93088504  0.69594878  0.5847842 ]\n",
       "* final objective value: 149.58816245414047\n",
       "* final gradient value: [-3.35139476e-04 -7.70631309e-04 -3.93828506e-05 -8.69338761e-05\n",
       " -1.09782993e-05 -6.15403452e-05 -2.32471761e-04 -1.51965117e-04\n",
       " -5.02761456e-05]\n"
      ],
      "text/plain": [
       "<IPython.core.display.Markdown object>"
      ]
     },
     "metadata": {},
     "output_type": "display_data"
    }
   ],
   "source": [
    "results_pypesto = optimize.minimize(\n",
    "    problem=problem,\n",
    "    optimizer=optimize.ScipyOptimizer(),\n",
    "    n_starts=n_starts,\n",
    "    engine=pypesto.engine.MultiProcessEngine(),\n",
    ")\n",
    "display(Markdown(results_pypesto.summary()))"
   ]
  },
  {
   "cell_type": "markdown",
   "metadata": {},
   "source": [
    "## Profiling"
   ]
  },
  {
   "cell_type": "markdown",
   "metadata": {},
   "source": [
    "When it comes to profiling, we have the main apparatus already fleshed out with a working optimizer and our objective function. We still need a wrapper around the objective function as well as the geneal setup for the profiling, which includes selecting startpoints and cutoffs. For the sake of computation time, we will limit the maximum number of steps the scipy optimizer takes to 50."
   ]
  },
  {
   "cell_type": "code",
   "execution_count": 33,
   "metadata": {},
   "outputs": [
    {
     "name": "stdout",
     "output_type": "stream",
     "text": [
      "direction: -1\n",
      "\t next step\n",
      "\t next step\n",
      "\t next step\n",
      "\t next step\n",
      "direction: 1\n",
      "\t next step\n",
      "\t next step\n",
      "\t next step\n",
      "\t next step\n",
      "\t next step\n",
      "\t next step\n",
      "\t next step\n",
      "\t next step\n",
      "\t next step\n",
      "\t next step\n",
      "\t next step\n",
      "\t next step\n",
      "\t next step\n",
      "\t next step\n",
      "\t next step\n",
      "\t next step\n",
      "\t next step\n",
      "\t next step\n",
      "\t next step\n",
      "\t next step\n",
      "\t next step\n",
      "\t next step\n",
      "\t next step\n",
      "\t next step\n",
      "\t next step\n",
      "\t next step\n",
      "\t next step\n",
      "\t next step\n",
      "\t next step\n",
      "\t next step\n",
      "\t next step\n",
      "\t next step\n",
      "\t next step\n",
      "\t next step\n",
      "\t next step\n",
      "\t next step\n",
      "\t next step\n",
      "\t next step\n",
      "\t next step\n",
      "\t next step\n",
      "\t next step\n",
      "\t next step\n",
      "\t next step\n",
      "\t next step\n",
      "\t next step\n",
      "\t next step\n",
      "\t next step\n",
      "\t next step\n",
      "\t next step\n",
      "\t next step\n",
      "\t next step\n",
      "\t next step\n",
      "\t next step\n",
      "\t next step\n",
      "\t next step\n",
      "\t next step\n",
      "\t next step\n",
      "\t next step\n",
      "\t next step\n",
      "\t next step\n",
      "\t next step\n",
      "\t next step\n",
      "\t next step\n",
      "\t next step\n",
      "\t next step\n",
      "\t next step\n",
      "\t next step\n",
      "\t next step\n",
      "\t next step\n",
      "\t next step\n",
      "\t next step\n",
      "\t next step\n",
      "\t next step\n",
      "\t next step\n",
      "\t next step\n",
      "\t next step\n",
      "\t next step\n",
      "\t next step\n",
      "\t next step\n",
      "\t next step\n",
      "\t next step\n",
      "\t next step\n",
      "you should stop now\n"
     ]
    }
   ],
   "source": [
    "# sort the results\n",
    "results_sorted = sorted(results, key=lambda a: a[\"fun\"])\n",
    "\n",
    "# we optimimize the first parameter\n",
    "x_start = results_sorted[0][\"x\"][1:]\n",
    "x_fixed = results_sorted[0][\"x\"][0]\n",
    "fval_min = results_sorted[0][\"fun\"]\n",
    "\n",
    "# determine stepsize, ratios\n",
    "stepsize = 0.05\n",
    "ratio_min = 0.145\n",
    "x_profile = [results_sorted[0][\"x\"]]\n",
    "fval_profile = [results_sorted[0][\"fun\"]]\n",
    "\n",
    "for direction, bound in zip([-1, 1], (-5, 3)):  # profile in both directions\n",
    "    print(f\"direction: {direction}\")\n",
    "    x0_curr = x_fixed\n",
    "    x_rest = x_start\n",
    "    run = True\n",
    "    while direction * (x0_curr - bound) < 0 and run:\n",
    "        x0_curr += stepsize * direction\n",
    "\n",
    "        # define objective for fixed parameter\n",
    "        def fix_obj(x: np.ndarray):\n",
    "            x = np.insert(x, 0, x0_curr)\n",
    "            return obj(x)\n",
    "\n",
    "        res_step = scipy.optimize.minimize(\n",
    "            fix_obj,\n",
    "            x_rest,\n",
    "            bounds=zip(lb[:-1], ub[:-1]),\n",
    "            tol=1e-12,\n",
    "            options={\"maxfun\": 50},\n",
    "            method=\"L-BFGS-B\",\n",
    "        )\n",
    "        # update profiles\n",
    "        if direction == 1:\n",
    "            x_profile.append(np.insert(res_step[\"x\"], 0, x0_curr))\n",
    "            fval_profile = np.append(fval_profile, res_step[\"fun\"])\n",
    "            if np.exp(fval_min - fval_profile[-1]) <= ratio_min:\n",
    "                run = False\n",
    "        if direction == -1:\n",
    "            x_profile.insert(0, np.insert(res_step[\"x\"], 0, x0_curr))\n",
    "            fval_profile = np.insert(fval_profile, 0, res_step[\"fun\"])\n",
    "            if np.exp(fval_min - fval_profile[0]) <= ratio_min:\n",
    "                run = False\n",
    "        x_rest = res_step[\"x\"]"
   ]
  },
  {
   "cell_type": "code",
   "execution_count": 42,
   "metadata": {},
   "outputs": [
    {
     "data": {
      "image/png": "[encoded data removed]",
      "text/plain": [
       "<Figure size 640x480 with 1 Axes>"
      ]
     },
     "metadata": {},
     "output_type": "display_data"
    }
   ],
   "source": [
    "import matplotlib.pyplot as plt\n",
    "\n",
    "plt.plot(\n",
    "    [x[0] for x in x_profile], np.exp(np.min(fval_profile) - fval_profile)\n",
    ");"
   ]
  },
  {
   "cell_type": "markdown",
   "metadata": {},
   "source": [
    "This is a very basic implementation and again, we did not take into account the following things:\n",
    "* If we want to profile all parameters, we will want to parallelize this to save time.\n",
    "* We chose a very unflexible stepsize, in general we would want to be able to adjust this during the process.\n",
    "* As this is still an optimization, the things discussed in the last step are also valid here in largest parts.\n",
    "\n",
    "pyPESTO takes care of those things and integrates the profiling directly into the Result object"
   ]
  },
  {
   "cell_type": "code",
   "execution_count": 44,
   "metadata": {},
   "outputs": [
    {
     "name": "stderr",
     "output_type": "stream",
     "text": [
      "Engine will use up to 8 processes (= CPU count).\n",
      "100%|██████████| 1/1 [00:11<00:00, 11.46s/it]\n"
     ]
    },
    {
     "data": {
      "image/png": "[encoded data removed]",
      "text/plain": [
       "<Figure size 1850x650 with 1 Axes>"
      ]
     },
     "metadata": {},
     "output_type": "display_data"
    }
   ],
   "source": [
    "result = profile.parameter_profile(\n",
    "    problem=problem,\n",
    "    result=results_pypesto,\n",
    "    optimizer=optimize.ScipyOptimizer(),\n",
    "    engine=pypesto.engine.MultiProcessEngine(),\n",
    "    profile_index=[0],\n",
    ")\n",
    "\n",
    "visualize.profiles(result);"
   ]
  },
  {
   "cell_type": "markdown",
   "metadata": {},
   "source": [
    "## Sampling"
   ]
  },
  {
   "cell_type": "markdown",
   "metadata": {},
   "source": [
    "pyPESTO also supports Bayesian sampling methods. These are used to retrieve posterior distributions and measure uncertainty. While there are many available sampling methods, setting them up for a more complex objective function can be time intensive and comparing different ones even more so."
   ]
  },
  {
   "cell_type": "code",
   "execution_count": null,
   "metadata": {},
   "outputs": [],
   "source": [
    "import emcee\n",
    "\n",
    "n_samples = 1000\n",
    "\n",
    "\n",
    "# set up the sampler\n",
    "# rewrite nll to llh\n",
    "def log_prob(x):\n",
    "    \"\"\"Log-probability density function.\"\"\"\n",
    "    # check if parameter lies within bounds\n",
    "    if any(x < lb) or any(x > ub):\n",
    "        return -np.inf\n",
    "    # invert sign\n",
    "    return -1.0 * obj(x)\n",
    "\n",
    "\n",
    "sampler = emcee.EnsembleSampler(nwalkers=1, ndim=len(ub), log_prob_fn=log_prob)\n",
    "self.sampler.run_mcmc(initial_state=self.state, nsteps=n_samples)"
   ]
  }
 ],
 "metadata": {
  "kernelspec": {
   "display_name": "Python 3",
   "language": "python",
   "name": "python3"
  },
  "language_info": {
   "codemirror_mode": {
    "name": "ipython",
    "version": 3
   },
   "file_extension": ".py",
   "mimetype": "text/x-python",
   "name": "python",
   "nbconvert_exporter": "python",
   "pygments_lexer": "ipython3",
   "version": "3.10.2"
  }
 },
 "nbformat": 4,
 "nbformat_minor": 0
}
