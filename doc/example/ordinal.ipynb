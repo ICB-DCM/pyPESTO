{
 "cells": [
  {
   "attachments": {},
   "cell_type": "markdown",
   "metadata": {},
   "source": [
    "# Parameter estimation using ordinal data"
   ]
  },
  {
   "attachments": {},
   "cell_type": "markdown",
   "metadata": {},
   "source": [
    "This Notebook explains the use of ordinal data for parameter estimation, as described in [Schmiester et al. (2020)](https://doi.org/10.1007/s00285-020-01522-w) and [Schmiester et al. (2021)](https://doi.org/10.1093/bioinformatics/btab512). \n",
    "An example model is provided in `pypesto/doc/example/example_ordinal`.\n",
    "\n",
    "Ordinal data is defined as the data for which the mutual ordering of the measurements is known. The implementation allows for indistinguishable measurements, i.e. multiple measurements which cannot be ordinally distinguished from each other and are part of the same ordinal level.\n",
    "\n",
    "For the integration of ordinal data, we employ the optimal scaling approach. In this approach, each ordinal datapoint is defined as being part of a category, where the mutual ordering of categories of the same observable is known. The category interval bounds are numerically optimized and quantitative surrogate measurements are calculated to represent the ordinal measurements. This constitutes the inner subproblem of the hierarchical optimization problem.\n",
    "\n",
    "Details on the optimal scaling approach can be found in Shepard, 1962 (https://doi.org/10.1007/BF02289621).\n",
    "Details on the application of the gradient-based optimal scaling approach to mechanistic modeling\n",
    "with ordinal data can be found in Schmiester et al. 2020 (https://doi.org/10.1007/s00285-020-01522-w)\n",
    "and Schmiester et al. 2021 (https://doi.org/10.1093/bioinformatics/btab512)."
   ]
  },
  {
   "attachments": {},
   "cell_type": "markdown",
   "metadata": {},
   "source": [
    "## Import model from the petab_problem"
   ]
  },
  {
   "cell_type": "code",
   "execution_count": 1,
   "metadata": {},
   "outputs": [],
   "source": [
    "import matplotlib.pyplot as plt\n",
    "import numpy as np\n",
    "import petab\n",
    "\n",
    "import pypesto\n",
    "import pypesto.logging\n",
    "import pypesto.optimize as optimize\n",
    "from pypesto.hierarchical.optimal_scaling import OptimalScalingInnerSolver\n",
    "from pypesto.petab import PetabImporter\n",
    "from pypesto.visualize import plot_categories_from_pypesto_result"
   ]
  },
  {
   "attachments": {},
   "cell_type": "markdown",
   "metadata": {},
   "source": [
    "To use ordinal data for parameter estimation, in pyPESTO we use the optimal scaling approach as in the referenced papers. Since the optimal scaling approach is implemented in the hierarchical manner, it requires us to specify `hierarchical=True` when importing the `petab_problem`:"
   ]
  },
  {
   "cell_type": "code",
   "execution_count": 2,
   "metadata": {},
   "outputs": [],
   "source": [
    "petab_folder = './example_ordinal/'\n",
    "yaml_file = 'example_ordinal.yaml'\n",
    "\n",
    "petab_problem = petab.Problem.from_yaml(petab_folder + yaml_file)\n",
    "\n",
    "importer = PetabImporter(petab_problem, hierarchical=True)"
   ]
  },
  {
   "attachments": {},
   "cell_type": "markdown",
   "metadata": {},
   "source": [
    "The `petab_problem` has to be specified in the usual PEtab formulation. The ordinal measurements have to be specified in the `measurement.tsv` file by adding `ordinal` in the `measurementType` column, and the ordering of measurements has to be specified in the `measurementCategory` column by assigning each measurement to a category:"
   ]
  },
  {
   "cell_type": "code",
   "execution_count": 3,
   "metadata": {},
   "outputs": [
    {
     "data": {
      "text/html": [
       "<div>\n",
       "<style scoped>\n",
       "    .dataframe tbody tr th:only-of-type {\n",
       "        vertical-align: middle;\n",
       "    }\n",
       "\n",
       "    .dataframe tbody tr th {\n",
       "        vertical-align: top;\n",
       "    }\n",
       "\n",
       "    .dataframe thead th {\n",
       "        text-align: right;\n",
       "    }\n",
       "</style>\n",
       "<table border=\"1\" class=\"dataframe\">\n",
       "  <thead>\n",
       "    <tr style=\"text-align: right;\">\n",
       "      <th></th>\n",
       "      <th>observableId</th>\n",
       "      <th>preequilibrationConditionId</th>\n",
       "      <th>simulationConditionId</th>\n",
       "      <th>measurement</th>\n",
       "      <th>time</th>\n",
       "      <th>observableParameters</th>\n",
       "      <th>noiseParameters</th>\n",
       "      <th>observableTransformation</th>\n",
       "      <th>noiseDistribution</th>\n",
       "      <th>measurementType</th>\n",
       "      <th>measurementCategory</th>\n",
       "    </tr>\n",
       "  </thead>\n",
       "  <tbody>\n",
       "    <tr>\n",
       "      <th>0</th>\n",
       "      <td>Activity</td>\n",
       "      <td>NaN</td>\n",
       "      <td>Inhibitor_0</td>\n",
       "      <td>0</td>\n",
       "      <td>5</td>\n",
       "      <td>NaN</td>\n",
       "      <td>1</td>\n",
       "      <td>lin</td>\n",
       "      <td>normal</td>\n",
       "      <td>ordinal</td>\n",
       "      <td>2</td>\n",
       "    </tr>\n",
       "    <tr>\n",
       "      <th>1</th>\n",
       "      <td>Activity</td>\n",
       "      <td>NaN</td>\n",
       "      <td>Inhibitor_3</td>\n",
       "      <td>0</td>\n",
       "      <td>5</td>\n",
       "      <td>NaN</td>\n",
       "      <td>1</td>\n",
       "      <td>lin</td>\n",
       "      <td>normal</td>\n",
       "      <td>ordinal</td>\n",
       "      <td>2</td>\n",
       "    </tr>\n",
       "    <tr>\n",
       "      <th>2</th>\n",
       "      <td>Activity</td>\n",
       "      <td>NaN</td>\n",
       "      <td>Inhibitor_10</td>\n",
       "      <td>0</td>\n",
       "      <td>5</td>\n",
       "      <td>NaN</td>\n",
       "      <td>1</td>\n",
       "      <td>lin</td>\n",
       "      <td>normal</td>\n",
       "      <td>ordinal</td>\n",
       "      <td>3</td>\n",
       "    </tr>\n",
       "    <tr>\n",
       "      <th>3</th>\n",
       "      <td>Activity</td>\n",
       "      <td>NaN</td>\n",
       "      <td>Inhibitor_25</td>\n",
       "      <td>0</td>\n",
       "      <td>5</td>\n",
       "      <td>NaN</td>\n",
       "      <td>1</td>\n",
       "      <td>lin</td>\n",
       "      <td>normal</td>\n",
       "      <td>ordinal</td>\n",
       "      <td>3</td>\n",
       "    </tr>\n",
       "    <tr>\n",
       "      <th>4</th>\n",
       "      <td>Activity</td>\n",
       "      <td>NaN</td>\n",
       "      <td>Inhibitor_35</td>\n",
       "      <td>0</td>\n",
       "      <td>5</td>\n",
       "      <td>NaN</td>\n",
       "      <td>1</td>\n",
       "      <td>lin</td>\n",
       "      <td>normal</td>\n",
       "      <td>ordinal</td>\n",
       "      <td>2</td>\n",
       "    </tr>\n",
       "    <tr>\n",
       "      <th>5</th>\n",
       "      <td>Activity</td>\n",
       "      <td>NaN</td>\n",
       "      <td>Inhibitor_50</td>\n",
       "      <td>0</td>\n",
       "      <td>5</td>\n",
       "      <td>NaN</td>\n",
       "      <td>1</td>\n",
       "      <td>lin</td>\n",
       "      <td>normal</td>\n",
       "      <td>ordinal</td>\n",
       "      <td>1</td>\n",
       "    </tr>\n",
       "    <tr>\n",
       "      <th>6</th>\n",
       "      <td>Activity</td>\n",
       "      <td>NaN</td>\n",
       "      <td>Inhibitor_75</td>\n",
       "      <td>0</td>\n",
       "      <td>5</td>\n",
       "      <td>NaN</td>\n",
       "      <td>1</td>\n",
       "      <td>lin</td>\n",
       "      <td>normal</td>\n",
       "      <td>ordinal</td>\n",
       "      <td>1</td>\n",
       "    </tr>\n",
       "    <tr>\n",
       "      <th>7</th>\n",
       "      <td>Activity</td>\n",
       "      <td>NaN</td>\n",
       "      <td>Inhibitor_100</td>\n",
       "      <td>0</td>\n",
       "      <td>5</td>\n",
       "      <td>NaN</td>\n",
       "      <td>1</td>\n",
       "      <td>lin</td>\n",
       "      <td>normal</td>\n",
       "      <td>ordinal</td>\n",
       "      <td>1</td>\n",
       "    </tr>\n",
       "    <tr>\n",
       "      <th>8</th>\n",
       "      <td>Activity</td>\n",
       "      <td>NaN</td>\n",
       "      <td>Inhibitor_300</td>\n",
       "      <td>0</td>\n",
       "      <td>5</td>\n",
       "      <td>NaN</td>\n",
       "      <td>1</td>\n",
       "      <td>lin</td>\n",
       "      <td>normal</td>\n",
       "      <td>ordinal</td>\n",
       "      <td>1</td>\n",
       "    </tr>\n",
       "    <tr>\n",
       "      <th>9</th>\n",
       "      <td>Ybar</td>\n",
       "      <td>NaN</td>\n",
       "      <td>Inhibitor_0</td>\n",
       "      <td>0</td>\n",
       "      <td>5</td>\n",
       "      <td>NaN</td>\n",
       "      <td>1</td>\n",
       "      <td>lin</td>\n",
       "      <td>normal</td>\n",
       "      <td>ordinal</td>\n",
       "      <td>1</td>\n",
       "    </tr>\n",
       "    <tr>\n",
       "      <th>10</th>\n",
       "      <td>Ybar</td>\n",
       "      <td>NaN</td>\n",
       "      <td>Inhibitor_3</td>\n",
       "      <td>0</td>\n",
       "      <td>5</td>\n",
       "      <td>NaN</td>\n",
       "      <td>1</td>\n",
       "      <td>lin</td>\n",
       "      <td>normal</td>\n",
       "      <td>ordinal</td>\n",
       "      <td>1</td>\n",
       "    </tr>\n",
       "    <tr>\n",
       "      <th>11</th>\n",
       "      <td>Ybar</td>\n",
       "      <td>NaN</td>\n",
       "      <td>Inhibitor_10</td>\n",
       "      <td>0</td>\n",
       "      <td>5</td>\n",
       "      <td>NaN</td>\n",
       "      <td>1</td>\n",
       "      <td>lin</td>\n",
       "      <td>normal</td>\n",
       "      <td>ordinal</td>\n",
       "      <td>1</td>\n",
       "    </tr>\n",
       "    <tr>\n",
       "      <th>12</th>\n",
       "      <td>Ybar</td>\n",
       "      <td>NaN</td>\n",
       "      <td>Inhibitor_25</td>\n",
       "      <td>0</td>\n",
       "      <td>5</td>\n",
       "      <td>NaN</td>\n",
       "      <td>1</td>\n",
       "      <td>lin</td>\n",
       "      <td>normal</td>\n",
       "      <td>ordinal</td>\n",
       "      <td>2</td>\n",
       "    </tr>\n",
       "    <tr>\n",
       "      <th>13</th>\n",
       "      <td>Ybar</td>\n",
       "      <td>NaN</td>\n",
       "      <td>Inhibitor_35</td>\n",
       "      <td>0</td>\n",
       "      <td>5</td>\n",
       "      <td>NaN</td>\n",
       "      <td>1</td>\n",
       "      <td>lin</td>\n",
       "      <td>normal</td>\n",
       "      <td>ordinal</td>\n",
       "      <td>2</td>\n",
       "    </tr>\n",
       "    <tr>\n",
       "      <th>14</th>\n",
       "      <td>Ybar</td>\n",
       "      <td>NaN</td>\n",
       "      <td>Inhibitor_50</td>\n",
       "      <td>0</td>\n",
       "      <td>5</td>\n",
       "      <td>NaN</td>\n",
       "      <td>1</td>\n",
       "      <td>lin</td>\n",
       "      <td>normal</td>\n",
       "      <td>ordinal</td>\n",
       "      <td>3</td>\n",
       "    </tr>\n",
       "    <tr>\n",
       "      <th>15</th>\n",
       "      <td>Ybar</td>\n",
       "      <td>NaN</td>\n",
       "      <td>Inhibitor_75</td>\n",
       "      <td>0</td>\n",
       "      <td>5</td>\n",
       "      <td>NaN</td>\n",
       "      <td>1</td>\n",
       "      <td>lin</td>\n",
       "      <td>normal</td>\n",
       "      <td>ordinal</td>\n",
       "      <td>3</td>\n",
       "    </tr>\n",
       "    <tr>\n",
       "      <th>16</th>\n",
       "      <td>Ybar</td>\n",
       "      <td>NaN</td>\n",
       "      <td>Inhibitor_100</td>\n",
       "      <td>0</td>\n",
       "      <td>5</td>\n",
       "      <td>NaN</td>\n",
       "      <td>1</td>\n",
       "      <td>lin</td>\n",
       "      <td>normal</td>\n",
       "      <td>ordinal</td>\n",
       "      <td>3</td>\n",
       "    </tr>\n",
       "    <tr>\n",
       "      <th>17</th>\n",
       "      <td>Ybar</td>\n",
       "      <td>NaN</td>\n",
       "      <td>Inhibitor_300</td>\n",
       "      <td>0</td>\n",
       "      <td>5</td>\n",
       "      <td>NaN</td>\n",
       "      <td>1</td>\n",
       "      <td>lin</td>\n",
       "      <td>normal</td>\n",
       "      <td>ordinal</td>\n",
       "      <td>3</td>\n",
       "    </tr>\n",
       "  </tbody>\n",
       "</table>\n",
       "</div>"
      ],
      "text/plain": [
       "   observableId  preequilibrationConditionId simulationConditionId  \\\n",
       "0      Activity                          NaN           Inhibitor_0   \n",
       "1      Activity                          NaN           Inhibitor_3   \n",
       "2      Activity                          NaN          Inhibitor_10   \n",
       "3      Activity                          NaN          Inhibitor_25   \n",
       "4      Activity                          NaN          Inhibitor_35   \n",
       "5      Activity                          NaN          Inhibitor_50   \n",
       "6      Activity                          NaN          Inhibitor_75   \n",
       "7      Activity                          NaN         Inhibitor_100   \n",
       "8      Activity                          NaN         Inhibitor_300   \n",
       "9          Ybar                          NaN           Inhibitor_0   \n",
       "10         Ybar                          NaN           Inhibitor_3   \n",
       "11         Ybar                          NaN          Inhibitor_10   \n",
       "12         Ybar                          NaN          Inhibitor_25   \n",
       "13         Ybar                          NaN          Inhibitor_35   \n",
       "14         Ybar                          NaN          Inhibitor_50   \n",
       "15         Ybar                          NaN          Inhibitor_75   \n",
       "16         Ybar                          NaN         Inhibitor_100   \n",
       "17         Ybar                          NaN         Inhibitor_300   \n",
       "\n",
       "    measurement  time  observableParameters  noiseParameters  \\\n",
       "0             0     5                   NaN                1   \n",
       "1             0     5                   NaN                1   \n",
       "2             0     5                   NaN                1   \n",
       "3             0     5                   NaN                1   \n",
       "4             0     5                   NaN                1   \n",
       "5             0     5                   NaN                1   \n",
       "6             0     5                   NaN                1   \n",
       "7             0     5                   NaN                1   \n",
       "8             0     5                   NaN                1   \n",
       "9             0     5                   NaN                1   \n",
       "10            0     5                   NaN                1   \n",
       "11            0     5                   NaN                1   \n",
       "12            0     5                   NaN                1   \n",
       "13            0     5                   NaN                1   \n",
       "14            0     5                   NaN                1   \n",
       "15            0     5                   NaN                1   \n",
       "16            0     5                   NaN                1   \n",
       "17            0     5                   NaN                1   \n",
       "\n",
       "   observableTransformation noiseDistribution measurementType  \\\n",
       "0                       lin            normal         ordinal   \n",
       "1                       lin            normal         ordinal   \n",
       "2                       lin            normal         ordinal   \n",
       "3                       lin            normal         ordinal   \n",
       "4                       lin            normal         ordinal   \n",
       "5                       lin            normal         ordinal   \n",
       "6                       lin            normal         ordinal   \n",
       "7                       lin            normal         ordinal   \n",
       "8                       lin            normal         ordinal   \n",
       "9                       lin            normal         ordinal   \n",
       "10                      lin            normal         ordinal   \n",
       "11                      lin            normal         ordinal   \n",
       "12                      lin            normal         ordinal   \n",
       "13                      lin            normal         ordinal   \n",
       "14                      lin            normal         ordinal   \n",
       "15                      lin            normal         ordinal   \n",
       "16                      lin            normal         ordinal   \n",
       "17                      lin            normal         ordinal   \n",
       "\n",
       "    measurementCategory  \n",
       "0                     2  \n",
       "1                     2  \n",
       "2                     3  \n",
       "3                     3  \n",
       "4                     2  \n",
       "5                     1  \n",
       "6                     1  \n",
       "7                     1  \n",
       "8                     1  \n",
       "9                     1  \n",
       "10                    1  \n",
       "11                    1  \n",
       "12                    2  \n",
       "13                    2  \n",
       "14                    3  \n",
       "15                    3  \n",
       "16                    3  \n",
       "17                    3  "
      ]
     },
     "metadata": {},
     "output_type": "display_data"
    }
   ],
   "source": [
    "from pandas import option_context\n",
    "\n",
    "with option_context('display.max_colwidth', 400):\n",
    "    display(petab_problem.measurement_df)"
   ]
  },
  {
   "attachments": {},
   "cell_type": "markdown",
   "metadata": {},
   "source": [
    "For ordinal measurements, the `measurement` column will be ignored.\n",
    "\n",
    "Measurements with a larger category number will be constrained to be higher in the ordering. Multiple measurements can be assigned to the same category. If this is done, these measurements will be treated as indistinguishable. \n",
    "\n",
    "#### Note on inclusion of additional data types:\n",
    "It is possible to include observables with different types of data to the same `petab_problem`. Refer to the notebooks on using [nonlinear-monotone data](nonlinear_monotone.ipynb) and [censored data](censored.ipynb) for details on integration of other data types. If the `measurementType` column is left empty for all measurements of an observable, the observable will be treated as quantitative."
   ]
  },
  {
   "attachments": {},
   "cell_type": "markdown",
   "metadata": {},
   "source": [
    "## Construct the objective and pypesto problem"
   ]
  },
  {
   "attachments": {},
   "cell_type": "markdown",
   "metadata": {},
   "source": [
    "Different options can be used for the optimal scaling approach:\n",
    "\n",
    "- method: `standard` / `reduced`\n",
    "- reparameterized: `True` / `False`\n",
    "- interval_constraints: `max` / `max-min`\n",
    "- min_gap: Any float value\n",
    "\n",
    "It is recommended to use the reduced method with reparameterization as it is the most efficient and robust choice.\n",
    "\n",
    "When no options are provided, the default is the reduced and reparameterized formulation with max as interval constraint and `min_gap=1e-16`."
   ]
  },
  {
   "attachments": {},
   "cell_type": "markdown",
   "metadata": {},
   "source": [
    "Now when we construct the `objective`, it will construct all objects of the optimal scaling inner optimization:\n",
    "\n",
    "- `OptimalScalingInnerSolver`\n",
    "- `OptimalScalingAmiciCalculator`\n",
    "- `OptimalScalingProblem`\n",
    "\n",
    "Specifically, the `OptimalScalingInnerSolver` will be constructed with default settings.  "
   ]
  },
  {
   "cell_type": "code",
   "execution_count": 4,
   "metadata": {},
   "outputs": [],
   "source": [
    "objective = importer.create_objective()"
   ]
  },
  {
   "attachments": {},
   "cell_type": "markdown",
   "metadata": {},
   "source": [
    "To give non-default options to the `OptimalScalingInnerSolver` and `OptimalScalingProblem`, one can pass them as arguments when constructing the `objective`:"
   ]
  },
  {
   "cell_type": "code",
   "execution_count": 5,
   "metadata": {},
   "outputs": [],
   "source": [
    "objective = importer.create_objective(\n",
    "    inner_options={\n",
    "        \"method\": 'reduced',\n",
    "        \"reparameterized\": True,\n",
    "        \"interval_constraints\": \"max\",\n",
    "        \"min_gap\": 0.1,\n",
    "    },\n",
    ")"
   ]
  },
  {
   "attachments": {},
   "cell_type": "markdown",
   "metadata": {},
   "source": [
    "Alternatively, we could've even given them to the `importer constructor`, they would be passed all the way to the inner solver."
   ]
  },
  {
   "attachments": {},
   "cell_type": "markdown",
   "metadata": {},
   "source": [
    "Now let's construct the pyPESTO problem and optimizer. We're going to use a gradint-based optimizer for a faster optimization, but gradient-free optimizers can be used in the same way:"
   ]
  },
  {
   "cell_type": "code",
   "execution_count": 6,
   "metadata": {},
   "outputs": [],
   "source": [
    "problem = importer.create_problem(objective)\n",
    "\n",
    "engine = pypesto.engine.SingleCoreEngine()\n",
    "\n",
    "optimizer = optimize.ScipyOptimizer(\n",
    "    method=\"L-BFGS-B\",\n",
    "    options={\"disp\": None, \"ftol\": 2.220446049250313e-09, \"gtol\": 1e-5},\n",
    ")\n",
    "n_starts = 10\n",
    "np.random.seed(n_starts)"
   ]
  },
  {
   "attachments": {},
   "cell_type": "markdown",
   "metadata": {},
   "source": [
    "## Run optimization using optimal scaling approach"
   ]
  },
  {
   "attachments": {},
   "cell_type": "markdown",
   "metadata": {},
   "source": [
    "If we want to change options of the `OptimalScalingInnerSolver` a new instance of it with new options can be passed to the correct inner calculator. Since in our problem there is only one data type and so one inner problem, we pass it to the first inner calculator  `problem.objective.calculator.inner_calculators[0]`.\n",
    "\n",
    "In case of multiple inner problems, one would have to check the instance of the inner calculator, find the `OptimalScalingAmiciCalculator` and pass the new inner solver to it."
   ]
  },
  {
   "attachments": {},
   "cell_type": "markdown",
   "metadata": {},
   "source": [
    "#### Run optimization using the reduced and reparameterized approach"
   ]
  },
  {
   "cell_type": "code",
   "execution_count": 7,
   "metadata": {
    "scrolled": true
   },
   "outputs": [
    {
     "name": "stderr",
     "output_type": "stream",
     "text": [
      "100%|██████████| 10/10 [00:09<00:00,  1.06it/s]\n"
     ]
    }
   ],
   "source": [
    "np.random.seed(n_starts)\n",
    "problem.objective.calculator.inner_calculators[\n",
    "    0\n",
    "].inner_solver = OptimalScalingInnerSolver(\n",
    "    options={\n",
    "        'method': 'reduced',\n",
    "        'reparameterized': True,\n",
    "        'interval_constraints': 'max',\n",
    "        'min_gap': 1e-10,\n",
    "    }\n",
    ")\n",
    "\n",
    "res_reduced_reparameterized = optimize.minimize(\n",
    "    problem, n_starts=n_starts, optimizer=optimizer, engine=engine\n",
    ")"
   ]
  },
  {
   "attachments": {},
   "cell_type": "markdown",
   "metadata": {},
   "source": [
    "#### Run optimization using the reduced non-reparameterized approach"
   ]
  },
  {
   "cell_type": "code",
   "execution_count": 8,
   "metadata": {},
   "outputs": [
    {
     "name": "stderr",
     "output_type": "stream",
     "text": [
      "100%|██████████| 10/10 [00:09<00:00,  1.04it/s]\n"
     ]
    }
   ],
   "source": [
    "np.random.seed(n_starts)\n",
    "problem.objective.calculator.inner_calculators[\n",
    "    0\n",
    "].inner_solver = OptimalScalingInnerSolver(\n",
    "    options={\n",
    "        'method': 'reduced',\n",
    "        'reparameterized': False,\n",
    "        'interval_constraints': 'max',\n",
    "        'min_gap': 1e-10,\n",
    "    }\n",
    ")\n",
    "\n",
    "res_reduced = optimize.minimize(\n",
    "    problem, n_starts=n_starts, optimizer=optimizer, engine=engine\n",
    ")"
   ]
  },
  {
   "attachments": {},
   "cell_type": "markdown",
   "metadata": {},
   "source": [
    "#### Run optimization using the standard approach"
   ]
  },
  {
   "cell_type": "code",
   "execution_count": 9,
   "metadata": {},
   "outputs": [
    {
     "name": "stderr",
     "output_type": "stream",
     "text": [
      "100%|██████████| 10/10 [00:09<00:00,  1.04it/s]\n"
     ]
    }
   ],
   "source": [
    "np.random.seed(n_starts)\n",
    "problem.objective.calculator.inner_calculators[\n",
    "    0\n",
    "].inner_solver = OptimalScalingInnerSolver(\n",
    "    options={\n",
    "        'method': 'standard',\n",
    "        'reparameterized': False,\n",
    "        'interval_constraints': 'max',\n",
    "        'min_gap': 1e-10,\n",
    "    }\n",
    ")\n",
    "\n",
    "res_standard = optimize.minimize(\n",
    "    problem, n_starts=n_starts, optimizer=optimizer, engine=engine\n",
    ")"
   ]
  },
  {
   "attachments": {},
   "cell_type": "markdown",
   "metadata": {},
   "source": [
    "## Compare results"
   ]
  },
  {
   "cell_type": "markdown",
   "metadata": {},
   "source": [
    "Reduced formulation leads to improved computation times"
   ]
  },
  {
   "cell_type": "code",
   "execution_count": 10,
   "metadata": {},
   "outputs": [
    {
     "name": "stdout",
     "output_type": "stream",
     "text": [
      "Mean computation time for standard approach: 0.9591359615325927\n",
      "Mean computation time for reduced approach: 0.9587480783462524\n",
      "Mean computation time for reduced reparameterized approach: 0.9444998025894165\n"
     ]
    }
   ],
   "source": [
    "time_standard = res_standard.optimize_result.get_for_key('time')\n",
    "print(f\"Mean computation time for standard approach: {np.mean(time_standard)}\")\n",
    "\n",
    "time_reduced = res_reduced.optimize_result.get_for_key('time')\n",
    "print(f\"Mean computation time for reduced approach: {np.mean(time_reduced)}\")\n",
    "\n",
    "time_reduced_reparameterized = (\n",
    "    res_reduced_reparameterized.optimize_result.get_for_key('time')\n",
    ")\n",
    "print(\n",
    "    f\"Mean computation time for reduced reparameterized approach: {np.mean(time_reduced_reparameterized)}\"\n",
    ")"
   ]
  },
  {
   "attachments": {},
   "cell_type": "markdown",
   "metadata": {},
   "source": [
    "All approaches yield the same objective function values"
   ]
  },
  {
   "cell_type": "code",
   "execution_count": 11,
   "metadata": {},
   "outputs": [
    {
     "data": {
      "text/plain": [
       "<AxesSubplot: title={'center': 'Waterfall plot'}, xlabel='Ordered optimizer run', ylabel='Objective value (offset=9.994e-01)'>"
      ]
     },
     "execution_count": 11,
     "metadata": {},
     "output_type": "execute_result"
    },
    {
     "data": {
      "image/png": "[encoded data removed]",
      "text/plain": [
       "<Figure size 1850x1050 with 1 Axes>"
      ]
     },
     "metadata": {},
     "output_type": "display_data"
    }
   ],
   "source": [
    "from pypesto.visualize import waterfall\n",
    "\n",
    "waterfall(\n",
    "    [res_standard, res_reduced, res_reduced_reparameterized], order_by_id=True\n",
    ")"
   ]
  },
  {
   "attachments": {},
   "cell_type": "markdown",
   "metadata": {},
   "source": [
    "To be sure the function values are the same we can look at them directly as well:"
   ]
  },
  {
   "cell_type": "code",
   "execution_count": 12,
   "metadata": {},
   "outputs": [
    {
     "name": "stdout",
     "output_type": "stream",
     "text": [
      "[[0.0019888825676075647], [0.001988882370072136], [0.001988882910838056]]\n",
      "[[0.0005749912862480574], [0.000574991288188709], [0.0005749912568270656]]\n",
      "[[0.0019873258450258152], [0.00198732584677828], [0.001987325844380883]]\n",
      "[[0.000575277818265601], [0.0005752778595524745], [0.0005752778031689591]]\n",
      "[[0.001988829061937092], [0.0019888290614633627], [0.0019888291358973434]]\n",
      "[[0.0005764328010595188], [0.0005764329969969911], [0.0005764329960499568]]\n",
      "[[0.0005747398568712971], [0.0005747398648398072], [0.0005747398437695331]]\n",
      "[[0.0005735607865200714], [0.0005737543524337683], [0.0005767971102241927]]\n",
      "[[0.0005735594279397531], [0.0005735611260351738], [0.0005741377033402549]]\n",
      "[[0.0005735572044450639], [0.000573961371293838], [0.0005736263264256104]]\n"
     ]
    }
   ],
   "source": [
    "for start_id in range(10):\n",
    "    print(\n",
    "        [\n",
    "            [\n",
    "                res.fval\n",
    "                for res in result.optimize_result.as_list()\n",
    "                if res.id == str(start_id)\n",
    "            ]\n",
    "            for result in [\n",
    "                res_standard,\n",
    "                res_reduced,\n",
    "                res_reduced_reparameterized,\n",
    "            ]\n",
    "        ]\n",
    "    )"
   ]
  },
  {
   "attachments": {},
   "cell_type": "markdown",
   "metadata": {},
   "source": [
    "For any results, we can plot the optimized categories using the `plot_categories_from_pypesto_result` method."
   ]
  },
  {
   "cell_type": "code",
   "execution_count": 13,
   "metadata": {},
   "outputs": [
    {
     "data": {
      "image/png": "[encoded data removed]",
      "text/plain": [
       "<Figure size 1000x1000 with 2 Axes>"
      ]
     },
     "metadata": {},
     "output_type": "display_data"
    }
   ],
   "source": [
    "plot_categories_from_pypesto_result(res_standard, figsize=(10, 10))\n",
    "plt.show()"
   ]
  },
  {
   "attachments": {},
   "cell_type": "markdown",
   "metadata": {},
   "source": [
    "In this plot we can see that all surrogate data is inside their respective categories. So the ordering given in the measurements is fully satisfied. This constitutes a perfect fit of the data in the ordinal sense.  "
   ]
  }
 ],
 "metadata": {
  "kernelspec": {
   "display_name": "dev_venv",
   "language": "python",
   "name": "python3"
  },
  "language_info": {
   "codemirror_mode": {
    "name": "ipython",
    "version": 3
   },
   "file_extension": ".py",
   "mimetype": "text/x-python",
   "name": "python",
   "nbconvert_exporter": "python",
   "pygments_lexer": "ipython3",
   "version": "3.10.10"
  },
  "vscode": {
   "interpreter": {
    "hash": "b4f64b1cfeae9987d9a74471fe6faf49d769577c41c664ee1b5af662a144b184"
   }
  }
 },
 "nbformat": 4,
 "nbformat_minor": 2
}
