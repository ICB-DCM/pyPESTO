{
 "cells": [
  {
   "cell_type": "markdown",
   "metadata": {},
   "source": [
    "# Model selection - Example"
   ]
  },
  {
   "cell_type": "markdown",
   "metadata": {},
   "source": [
    "## Example model\n",
    "With the true model measurement data are simulated. In the comprehensive model an unneccessary model outflow is added. So, in model selection the true model should be preferred. "
   ]
  },
  {
   "cell_type": "markdown",
   "metadata": {},
   "source": [
    "![](model_selection_network.jpeg)\n"
   ]
  },
  {
   "cell_type": "markdown",
   "metadata": {},
   "source": [
    "The model selection specification could look like this:\n",
    "\n",
    "| modelId | SBML                             | \\\\(\\theta\\\\)1 | \\\\(\\theta\\\\)2 | \\\\(\\theta\\\\)3 |\n",
    "|:---------|:----------------------------------|:----|:----|:----|\n",
    "| M1      | model_modelSelection_example.xml | -  | -  | -  |\n",
    "| M2      | model_modelSelection_example.xml | 0  | -  | -  |\n",
    "| M3      | model_modelSelection_example.xml | -  | -  | 0  |\n",
    "| M4      | model_modelSelection_example.xml | -  | 0  | -  |\n",
    "| M5      | model_modelSelection_example.xml | 0  | 0  | -  |\n",
    "| M6      | model_modelSelection_example.xml | -  | 0  | 0  |\n",
    "| M7      | model_modelSelection_example.xml | 0  | -  | 0  |"
   ]
  },
  {
   "cell_type": "markdown",
   "metadata": {},
   "source": [
    "Here, we show a typical workflow for the model selection. First, a [PEtab](https://github.com/petab-dev/petab) problem is created."
   ]
  },
  {
   "cell_type": "code",
   "execution_count": 1,
   "metadata": {
    "scrolled": false
   },
   "outputs": [],
   "source": [
    "import pypesto\n",
    "import petab\n",
    "\n",
    "# import to petab\n",
    "petab_problem = petab.Problem.from_yaml('./model_selection/example_modelSelection.yaml')\n",
    "# import to pypesto\n",
    "importer = pypesto.PetabImporter(petab_problem)\n",
    "# create problem\n",
    "problem = importer.create_problem()\n",
    "# import to pypesto\n",
    "importer = pypesto.PetabImporter(petab_problem)\n",
    "# create problem\n",
    "problem = importer.create_problem()"
   ]
  },
  {
   "cell_type": "code",
   "execution_count": null,
   "metadata": {},
   "outputs": [],
   "source": []
  },
  {
   "cell_type": "code",
   "execution_count": null,
   "metadata": {},
   "outputs": [],
   "source": []
  },
  {
   "cell_type": "markdown",
   "metadata": {},
   "source": [
    "## PEtab independend example"
   ]
  },
  {
   "cell_type": "code",
   "execution_count": 2,
   "metadata": {},
   "outputs": [],
   "source": [
    "# result object of pyPESTO-model selection\n",
    "selection_history = {\n",
    "    'm0_0': {\n",
    "        'AIC': 5,\n",
    "        'BIC': 3,\n",
    "        'compared_model_id': 'm1_0'\n",
    "    },\n",
    "    'm0_1': {\n",
    "        'AIC': 7,\n",
    "        'BIC': 6,\n",
    "        'compared_model_id': 'PYPESTO_INITIAL_MODEL'\n",
    "    },\n",
    "    'm1_0': {\n",
    "        'AIC': 5.5,\n",
    "        'BIC': 5,\n",
    "        'compared_model_id': 'PYPESTO_INITIAL_MODEL'\n",
    "    },\n",
    "    'm2_0': {\n",
    "        'AIC': 2,\n",
    "        'BIC': 1,\n",
    "        'compared_model_id': 'm1_0'\n",
    "    },\n",
    "    'm2_1': {\n",
    "        'AIC': 1,\n",
    "        'BIC': 0.8,\n",
    "        'compared_model_id': 'm2_0'\n",
    "    },\n",
    "}"
   ]
  },
  {
   "cell_type": "code",
   "execution_count": 8,
   "metadata": {},
   "outputs": [],
   "source": [
    "import pypesto.visualize.model_selection as visu\n"
   ]
  },
  {
   "cell_type": "code",
   "execution_count": 9,
   "metadata": {},
   "outputs": [
    {
     "data": {
      "image/png": "[encoded data removed]",
      "text/plain": [
       "<Figure size 360x288 with 1 Axes>"
      ]
     },
     "metadata": {
      "needs_background": "light"
     },
     "output_type": "display_data"
    },
    {
     "data": {
      "image/png": "[encoded data removed]",
      "text/plain": [
       "<Figure size 360x288 with 1 Axes>"
      ]
     },
     "metadata": {
      "needs_background": "light"
     },
     "output_type": "display_data"
    }
   ],
   "source": [
    "ax = visu.plot_modelselection(selection_history,\n",
    "                         aic_or_bic='AIC',\n",
    "                         mode='absolute')\n",
    "ax = visu.plot_modelselection(selection_history,\n",
    "                         aic_or_bic='AIC',\n",
    "                         mode='delta')"
   ]
  },
  {
   "cell_type": "code",
   "execution_count": 10,
   "metadata": {},
   "outputs": [
    {
     "data": {
      "image/png": "[encoded data removed]",
      "text/plain": [
       "<Figure size 360x288 with 1 Axes>"
      ]
     },
     "metadata": {
      "needs_background": "light"
     },
     "output_type": "display_data"
    },
    {
     "data": {
      "image/png": "[encoded data removed]",
      "text/plain": [
       "<Figure size 360x288 with 1 Axes>"
      ]
     },
     "metadata": {
      "needs_background": "light"
     },
     "output_type": "display_data"
    }
   ],
   "source": [
    "ax = visu.plot_modelselection(selection_history,\n",
    "                         aic_or_bic='BIC',\n",
    "                         mode='absolute')\n",
    "ax = visu.plot_modelselection(selection_history,\n",
    "                         aic_or_bic='BIC',\n",
    "                         mode='delta')"
   ]
  },
  {
   "cell_type": "code",
   "execution_count": null,
   "metadata": {},
   "outputs": [],
   "source": []
  }
 ],
 "metadata": {
  "kernelspec": {
   "display_name": "Python 3",
   "language": "python",
   "name": "python3"
  },
  "language_info": {
   "codemirror_mode": {
    "name": "ipython",
    "version": 3
   },
   "file_extension": ".py",
   "mimetype": "text/x-python",
   "name": "python",
   "nbconvert_exporter": "python",
   "pygments_lexer": "ipython3",
   "version": "3.6.9"
  }
 },
 "nbformat": 4,
 "nbformat_minor": 2
}
