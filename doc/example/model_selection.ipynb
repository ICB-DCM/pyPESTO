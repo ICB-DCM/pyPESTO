{
 "cells": [
  {
   "cell_type": "markdown",
   "metadata": {},
   "source": [
    "# Model selection - Example"
   ]
  },
  {
   "cell_type": "markdown",
   "metadata": {},
   "source": [
    "## Example model\n",
    "With the true model measurement data are simulated. In the comprehensive model an unneccessary model outflow is added. So, in model selection the true model should be preferred. "
   ]
  },
  {
   "cell_type": "markdown",
   "metadata": {},
   "source": [
    "![](model_selection_network.jpeg)\n"
   ]
  },
  {
   "cell_type": "markdown",
   "metadata": {},
   "source": [
    "# Model Space Specifications File\n",
    "\n",
    "The model selection specification file can be written in the following compressed format.\n",
    "\n",
    "| modelId | YAML                             | $k1$ | $k2$ | $k3$ |\n",
    "|:---------|:----------------------------------|:----|:----|:----|\n",
    "| M1      | example_modelSelection.yaml | 0;-  | 0;-  | 0;-  |\n",
    "\n",
    "Alternatively, models can be explicitly specified. The below table is equivalent to the above table.\n",
    "\n",
    "| modelId | YAML                             | $k1$ | $k2$ | $k3$ |\n",
    "|:---------|:----------------------------------|:----|:----|:----|\n",
    "| M1_0\t| example_modelSelection.yaml\t| 0\t  | 0   |\t0 | \n",
    "| M1_1\t| example_modelSelection.yaml\t| 0\t  | 0\t| - |\n",
    "| M1_2\t| example_modelSelection.yaml\t| 0\t  | - |\t0 |\n",
    "| M1_3\t| example_modelSelection.yaml\t| - |\t0\t| 0 |\n",
    "| M1_4\t| example_modelSelection.yaml\t| 0\t  | - |\t- |\n",
    "| M1_5\t| example_modelSelection.yaml\t| - |\t0   |\t- |\n",
    "| M1_6\t| example_modelSelection.yaml\t| - |\t- |\t0 |\n",
    "| M1_7\t| example_modelSelection.yaml\t| - |\t- |\t- |\n",
    "\n",
    "Either of the above tables (as [.tsv](https://en.wikipedia.org/wiki/Tab-separated_values) files) are valid inputs. Any combinations of cells in the compressed or explicit format is also acceptable, including the following example.\n",
    "\n",
    "| modelId | YAML                             | $k1$ | $k2$ | $k3$ |\n",
    "|:---------|:----------------------------------|:----|:----|:----|\n",
    "| M1      | example_modelSelection.yaml | 0;-  | 0;-  | 0  |\n",
    "| M2      | example_modelSelection.yaml | 0;-  | 0;-  | -  |\n",
    "\n",
    "Due to the topology of the example model, setting $k1$ to zero can result in a model with no dynamics. Hence, for this example, some parameters are set to non-zero fixed values. These parameters are not considered as estimated values in criterion (e.g. AIC) calculations.\n",
    "\n",
    "Internally, estimated parameters (`-`) are represented by `float('nan')`."
   ]
  },
  {
   "cell_type": "code",
   "execution_count": 1,
   "metadata": {},
   "outputs": [
    {
     "name": "stdout",
     "output_type": "stream",
     "text": [
      "modelId\tYAML\tk1\tk2\tk3\n",
      "M1_0_0\texample_modelSelection.yaml\t0\t0\t0\n",
      "M1_1_0\texample_modelSelection.yaml\t0.2\t0.1\tnan\n",
      "M1_2_0\texample_modelSelection.yaml\t0.2\tnan\t0\n",
      "M1_3_0\texample_modelSelection.yaml\tnan\t0.1\t0\n",
      "M1_4_0\texample_modelSelection.yaml\t0.2\tnan\tnan\n",
      "M1_5_0\texample_modelSelection.yaml\tnan\t0.1\tnan\n",
      "M1_6_0\texample_modelSelection.yaml\tnan\tnan\t0\n",
      "M1_7_0\texample_modelSelection.yaml\tnan\tnan\tnan\n",
      "\n"
     ]
    }
   ],
   "source": [
    "model_spec_file = './model_selection/modelSelectionSpecification_example_modelSelection.tsv'\n",
    "from pypesto.model_selection import unpack_file\n",
    "f = unpack_file(model_spec_file)\n",
    "f.seek(0)\n",
    "print(f.read())"
   ]
  },
  {
   "cell_type": "markdown",
   "metadata": {},
   "source": [
    "# Forward Selection, Multiple Searches\n",
    "Here, we show a typical workflow for model selection. First, a [PEtab](https://github.com/petab-dev/petab) problem is created. This is used to initialise a `ModelSelector`, along with a model specifications file."
   ]
  },
  {
   "cell_type": "code",
   "execution_count": 2,
   "metadata": {
    "scrolled": false
   },
   "outputs": [],
   "source": [
    "petab_YAML = './model_selection/example_modelSelection.yaml'\n",
    "import pypesto\n",
    "import petab\n",
    "petab_problem = petab.Problem.from_yaml(petab_YAML)\n",
    "selector = pypesto.ModelSelector(petab_problem, model_spec_file)"
   ]
  },
  {
   "cell_type": "markdown",
   "metadata": {},
   "source": [
    "Models can be selected with a model selection algorithm ([forward](https://en.wikipedia.org/wiki/Stepwise_regression)) and a comparison criterion ([AIC](https://en.wikipedia.org/wiki/Akaike_information_criterion))."
   ]
  },
  {
   "cell_type": "code",
   "execution_count": 3,
   "metadata": {},
   "outputs": [
    {
     "name": "stdout",
     "output_type": "stream",
     "text": [
      "[{'AIC': 42.97523003111246,\n",
      "  'BIC': 42.14226790802468,\n",
      "  'MLE': [('k1', 0.0),\n",
      "          ('k2', 0.0),\n",
      "          ('k3', 0.0),\n",
      "          ('sigma_x2', 4.462298367629622)],\n",
      "  'compared_modelId': 'PYPESTO_INITIAL_MODEL',\n",
      "  'modelId': 'M1_0_0',\n",
      "  'row': {'YAML': 'example_modelSelection.yaml',\n",
      "          'k1': 0.0,\n",
      "          'k2': 0.0,\n",
      "          'k3': 0.0,\n",
      "          'modelId': 'M1_0_0'}},\n",
      " {'AIC': -6.175406081123061,\n",
      "  'BIC': -6.383646611895006,\n",
      "  'MLE': [('k1', 0.2),\n",
      "          ('k2', 0.1),\n",
      "          ('k3', -5.551115123125783e-17),\n",
      "          ('sigma_x2', 0.12242920104294609)],\n",
      "  'compared_modelId': 'M1_0_0',\n",
      "  'modelId': 'M1_1_0',\n",
      "  'row': {'YAML': 'example_modelSelection.yaml',\n",
      "          'k1': 0.2,\n",
      "          'k2': 0.1,\n",
      "          'k3': nan,\n",
      "          'modelId': 'M1_1_0'}}]\n",
      "\n",
      "\n",
      "Selection history\n",
      "-----------------\n",
      "{'M1_0_0': {'AIC': 42.97523003111246,\n",
      "            'BIC': 42.14226790802468,\n",
      "            'MLE': [('k1', 0.0),\n",
      "                    ('k2', 0.0),\n",
      "                    ('k3', 0.0),\n",
      "                    ('sigma_x2', 4.462298367629622)],\n",
      "            'compared_modelId': 'PYPESTO_INITIAL_MODEL',\n",
      "            'modelId': 'M1_0_0',\n",
      "            'row': {'YAML': 'example_modelSelection.yaml',\n",
      "                    'k1': 0.0,\n",
      "                    'k2': 0.0,\n",
      "                    'k3': 0.0,\n",
      "                    'modelId': 'M1_0_0'}},\n",
      " 'M1_1_0': {'AIC': -6.175406081123061,\n",
      "            'BIC': -6.383646611895006,\n",
      "            'MLE': [('k1', 0.2),\n",
      "                    ('k2', 0.1),\n",
      "                    ('k3', -5.551115123125783e-17),\n",
      "                    ('sigma_x2', 0.12242920104294609)],\n",
      "            'compared_modelId': 'M1_0_0',\n",
      "            'modelId': 'M1_1_0',\n",
      "            'row': {'YAML': 'example_modelSelection.yaml',\n",
      "                    'k1': 0.2,\n",
      "                    'k2': 0.1,\n",
      "                    'k3': nan,\n",
      "                    'modelId': 'M1_1_0'}},\n",
      " 'M1_2_0': {'AIC': -4.2745132441141305,\n",
      "            'BIC': -4.690994305658021,\n",
      "            'MLE': [('k1', 0.2),\n",
      "                    ('k2', 0.10147826118430989),\n",
      "                    ('k3', 0.0),\n",
      "                    ('sigma_x2', 0.12142193862312044)],\n",
      "            'compared_modelId': 'M1_0_0',\n",
      "            'modelId': 'M1_2_0',\n",
      "            'row': {'YAML': 'example_modelSelection.yaml',\n",
      "                    'k1': 0.2,\n",
      "                    'k2': nan,\n",
      "                    'k3': 0.0,\n",
      "                    'modelId': 'M1_2_0'}},\n",
      " 'M1_3_0': {'AIC': -4.705326933422237,\n",
      "            'BIC': -5.121807994966127,\n",
      "            'MLE': [('k1', 0.201609048460493),\n",
      "                    ('k2', 0.1),\n",
      "                    ('k3', 0.0),\n",
      "                    ('sigma_x2', 0.11714368523777312)],\n",
      "            'compared_modelId': 'M1_0_0',\n",
      "            'modelId': 'M1_3_0',\n",
      "            'row': {'YAML': 'example_modelSelection.yaml',\n",
      "                    'k1': nan,\n",
      "                    'k2': 0.1,\n",
      "                    'k3': 0.0,\n",
      "                    'modelId': 'M1_3_0'}},\n",
      " 'M1_4_0': {'AIC': -4.274513933242366,\n",
      "            'BIC': -4.690994994786256,\n",
      "            'MLE': [('k1', 0.2),\n",
      "                    ('k2', 0.10147821539976322),\n",
      "                    ('k3', 0.0),\n",
      "                    ('sigma_x2', 0.12142228273771975)],\n",
      "            'compared_modelId': 'M1_1_0',\n",
      "            'modelId': 'M1_4_0',\n",
      "            'row': {'YAML': 'example_modelSelection.yaml',\n",
      "                    'k1': 0.2,\n",
      "                    'k2': nan,\n",
      "                    'k3': nan,\n",
      "                    'modelId': 'M1_4_0'}},\n",
      " 'M1_5_0': {'AIC': -2.7053266611061666,\n",
      "            'BIC': -3.3300482534220013,\n",
      "            'MLE': [('k1', 0.20160879202749082),\n",
      "                    ('k2', 0.1),\n",
      "                    ('k3', 0.0),\n",
      "                    ('sigma_x2', 0.11714044746333799)],\n",
      "            'compared_modelId': 'M1_1_0',\n",
      "            'modelId': 'M1_5_0',\n",
      "            'row': {'YAML': 'example_modelSelection.yaml',\n",
      "                    'k1': nan,\n",
      "                    'k2': 0.1,\n",
      "                    'k3': nan,\n",
      "                    'modelId': 'M1_5_0'}}}\n"
     ]
    }
   ],
   "source": [
    "from pprint import pprint\n",
    "selected_models, _, selection_history = selector.select('forward', 'AIC')\n",
    "pprint(selected_models)\n",
    "print('\\n\\nSelection history\\n-----------------')\n",
    "pprint(selection_history)"
   ]
  },
  {
   "cell_type": "markdown",
   "metadata": {},
   "source": [
    "Plotting routines are available, to visualise the best model at each iteration of the selection process."
   ]
  },
  {
   "cell_type": "code",
   "execution_count": 4,
   "metadata": {},
   "outputs": [
    {
     "data": {
      "text/plain": [
       "[]"
      ]
     },
     "execution_count": 4,
     "metadata": {},
     "output_type": "execute_result"
    },
    {
     "data": {
      "image/png": "[encoded data removed]",
      "text/plain": [
       "<Figure size 360x288 with 1 Axes>"
      ]
     },
     "metadata": {
      "needs_background": "light"
     },
     "output_type": "display_data"
    },
    {
     "data": {
      "image/png": "[encoded data removed]",
      "text/plain": [
       "<Figure size 360x288 with 1 Axes>"
      ]
     },
     "metadata": {
      "needs_background": "light"
     },
     "output_type": "display_data"
    }
   ],
   "source": [
    "import pypesto.visualize.model_selection as visu\n",
    "ax = visu.plot_selected_models(selected_models, criterion='AIC', relative=False)\n",
    "ax = visu.plot_selected_models(selected_models, criterion='AIC')\n",
    "ax.plot()"
   ]
  },
  {
   "cell_type": "markdown",
   "metadata": {},
   "source": [
    "The result here is that a model with all parameters set to zero produces a lower AIC value than any model with exactly one estimated parameter (note: there may be additional (estimated) parameters that are specified in the PEtab parameters file; these would be estimated in all models).\n",
    "\n",
    "To search more of the model space, the algorithm can be repeated. As models with 1 or less estimated parameters have already been optimized, subsequent `select` calls will begin with the next simplest model (in this case, models with exactly 2 estimated parameters), and move on to more complex models while each iteration improves the criterion."
   ]
  },
  {
   "cell_type": "code",
   "execution_count": 5,
   "metadata": {},
   "outputs": [
    {
     "name": "stdout",
     "output_type": "stream",
     "text": [
      "[{'AIC': -4.14782967210447,\n",
      "  'BIC': -4.772551264420304,\n",
      "  'MLE': [('k1', 0.20924722664368026),\n",
      "          ('k2', 0.08590702727463806),\n",
      "          ('k3', 0.0),\n",
      "          ('sigma_x2', 0.10387172361232846)],\n",
      "  'compared_modelId': 'PYPESTO_INITIAL_MODEL',\n",
      "  'modelId': 'M1_6_0',\n",
      "  'row': {'YAML': 'example_modelSelection.yaml',\n",
      "          'k1': nan,\n",
      "          'k2': nan,\n",
      "          'k3': 0.0,\n",
      "          'modelId': 'M1_6_0'}},\n",
      " {'AIC': -6.056470701974835,\n",
      "  'BIC': -6.681192294290669,\n",
      "  'MLE': [('k1', 0.6225428502013322),\n",
      "          ('k2', 0.02020087716639386),\n",
      "          ('k3', 0.0010854020220811933),\n",
      "          ('sigma_x2', 0.08859508825433743)],\n",
      "  'compared_modelId': 'M1_6_0',\n",
      "  'modelId': 'M1_7_0',\n",
      "  'row': {'YAML': 'example_modelSelection.yaml',\n",
      "          'k1': nan,\n",
      "          'k2': nan,\n",
      "          'k3': nan,\n",
      "          'modelId': 'M1_7_0'}}]\n",
      "\n",
      "\n",
      "Selection history\n",
      "-----------------\n",
      "{'M1_0_0': {'AIC': 42.97523003111246,\n",
      "            'BIC': 42.14226790802468,\n",
      "            'MLE': [('k1', 0.0),\n",
      "                    ('k2', 0.0),\n",
      "                    ('k3', 0.0),\n",
      "                    ('sigma_x2', 4.462298367629622)],\n",
      "            'compared_modelId': 'PYPESTO_INITIAL_MODEL',\n",
      "            'modelId': 'M1_0_0',\n",
      "            'row': {'YAML': 'example_modelSelection.yaml',\n",
      "                    'k1': 0.0,\n",
      "                    'k2': 0.0,\n",
      "                    'k3': 0.0,\n",
      "                    'modelId': 'M1_0_0'}},\n",
      " 'M1_1_0': {'AIC': -6.175406081123061,\n",
      "            'BIC': -6.383646611895006,\n",
      "            'MLE': [('k1', 0.2),\n",
      "                    ('k2', 0.1),\n",
      "                    ('k3', -5.551115123125783e-17),\n",
      "                    ('sigma_x2', 0.12242920104294609)],\n",
      "            'compared_modelId': 'M1_0_0',\n",
      "            'modelId': 'M1_1_0',\n",
      "            'row': {'YAML': 'example_modelSelection.yaml',\n",
      "                    'k1': 0.2,\n",
      "                    'k2': 0.1,\n",
      "                    'k3': nan,\n",
      "                    'modelId': 'M1_1_0'}},\n",
      " 'M1_2_0': {'AIC': -4.2745132441141305,\n",
      "            'BIC': -4.690994305658021,\n",
      "            'MLE': [('k1', 0.2),\n",
      "                    ('k2', 0.10147826118430989),\n",
      "                    ('k3', 0.0),\n",
      "                    ('sigma_x2', 0.12142193862312044)],\n",
      "            'compared_modelId': 'M1_0_0',\n",
      "            'modelId': 'M1_2_0',\n",
      "            'row': {'YAML': 'example_modelSelection.yaml',\n",
      "                    'k1': 0.2,\n",
      "                    'k2': nan,\n",
      "                    'k3': 0.0,\n",
      "                    'modelId': 'M1_2_0'}},\n",
      " 'M1_3_0': {'AIC': -4.705326933422237,\n",
      "            'BIC': -5.121807994966127,\n",
      "            'MLE': [('k1', 0.201609048460493),\n",
      "                    ('k2', 0.1),\n",
      "                    ('k3', 0.0),\n",
      "                    ('sigma_x2', 0.11714368523777312)],\n",
      "            'compared_modelId': 'M1_0_0',\n",
      "            'modelId': 'M1_3_0',\n",
      "            'row': {'YAML': 'example_modelSelection.yaml',\n",
      "                    'k1': nan,\n",
      "                    'k2': 0.1,\n",
      "                    'k3': 0.0,\n",
      "                    'modelId': 'M1_3_0'}},\n",
      " 'M1_4_0': {'AIC': -4.274513933242366,\n",
      "            'BIC': -4.690994994786256,\n",
      "            'MLE': [('k1', 0.2),\n",
      "                    ('k2', 0.10147821539976322),\n",
      "                    ('k3', 0.0),\n",
      "                    ('sigma_x2', 0.12142228273771975)],\n",
      "            'compared_modelId': 'M1_1_0',\n",
      "            'modelId': 'M1_4_0',\n",
      "            'row': {'YAML': 'example_modelSelection.yaml',\n",
      "                    'k1': 0.2,\n",
      "                    'k2': nan,\n",
      "                    'k3': nan,\n",
      "                    'modelId': 'M1_4_0'}},\n",
      " 'M1_5_0': {'AIC': -2.7053266611061666,\n",
      "            'BIC': -3.3300482534220013,\n",
      "            'MLE': [('k1', 0.20160879202749082),\n",
      "                    ('k2', 0.1),\n",
      "                    ('k3', 0.0),\n",
      "                    ('sigma_x2', 0.11714044746333799)],\n",
      "            'compared_modelId': 'M1_1_0',\n",
      "            'modelId': 'M1_5_0',\n",
      "            'row': {'YAML': 'example_modelSelection.yaml',\n",
      "                    'k1': nan,\n",
      "                    'k2': 0.1,\n",
      "                    'k3': nan,\n",
      "                    'modelId': 'M1_5_0'}},\n",
      " 'M1_6_0': {'AIC': -4.14782967210447,\n",
      "            'BIC': -4.772551264420304,\n",
      "            'MLE': [('k1', 0.20924722664368026),\n",
      "                    ('k2', 0.08590702727463806),\n",
      "                    ('k3', 0.0),\n",
      "                    ('sigma_x2', 0.10387172361232846)],\n",
      "            'compared_modelId': 'PYPESTO_INITIAL_MODEL',\n",
      "            'modelId': 'M1_6_0',\n",
      "            'row': {'YAML': 'example_modelSelection.yaml',\n",
      "                    'k1': nan,\n",
      "                    'k2': nan,\n",
      "                    'k3': 0.0,\n",
      "                    'modelId': 'M1_6_0'}},\n",
      " 'M1_7_0': {'AIC': -6.056470701974835,\n",
      "            'BIC': -6.681192294290669,\n",
      "            'MLE': [('k1', 0.6225428502013322),\n",
      "                    ('k2', 0.02020087716639386),\n",
      "                    ('k3', 0.0010854020220811933),\n",
      "                    ('sigma_x2', 0.08859508825433743)],\n",
      "            'compared_modelId': 'M1_6_0',\n",
      "            'modelId': 'M1_7_0',\n",
      "            'row': {'YAML': 'example_modelSelection.yaml',\n",
      "                    'k1': nan,\n",
      "                    'k2': nan,\n",
      "                    'k3': nan,\n",
      "                    'modelId': 'M1_7_0'}}}\n"
     ]
    }
   ],
   "source": [
    "selected_models, local_selection_history, selection_history = selector.select('forward', 'AIC')\n",
    "pprint(selected_models)\n",
    "print('\\n\\nSelection history\\n-----------------')\n",
    "pprint(selection_history)"
   ]
  },
  {
   "cell_type": "code",
   "execution_count": 6,
   "metadata": {},
   "outputs": [
    {
     "data": {
      "text/plain": [
       "[]"
      ]
     },
     "execution_count": 6,
     "metadata": {},
     "output_type": "execute_result"
    },
    {
     "data": {
      "image/png": "[encoded data removed]",
      "text/plain": [
       "<Figure size 360x288 with 1 Axes>"
      ]
     },
     "metadata": {
      "needs_background": "light"
     },
     "output_type": "display_data"
    },
    {
     "data": {
      "image/png": "[encoded data removed]",
      "text/plain": [
       "<Figure size 360x288 with 1 Axes>"
      ]
     },
     "metadata": {
      "needs_background": "light"
     },
     "output_type": "display_data"
    }
   ],
   "source": [
    "ax = visu.plot_selected_models(selected_models, criterion='AIC', relative=False)\n",
    "ax = visu.plot_selected_models(selected_models, criterion='AIC')\n",
    "ax.plot()"
   ]
  },
  {
   "cell_type": "code",
   "execution_count": 7,
   "metadata": {},
   "outputs": [
    {
     "data": {
      "image/png": "[encoded data removed]",
      "text/plain": [
       "<Figure size 864x864 with 1 Axes>"
      ]
     },
     "metadata": {},
     "output_type": "display_data"
    }
   ],
   "source": [
    "visu.plot_history_digraph(selection_history)"
   ]
  },
  {
   "cell_type": "markdown",
   "metadata": {},
   "source": [
    "# Backward Selection, Custom Initial Model\n",
    "Backward selection is specified by changing the algorithm from `'forward'` to `'backward'`in the `ModelSelector.select()`.\n",
    "\n",
    "A custom initial model is specified with the optional `initial_model` argument of `ModelSelector.select()`. If no initial model is specified, then a virtual model is used for the purpose of finding the next valid models. For example, in forward selection, the initial virtual model with all parameters set to zero is used to find the next models to be tested. For backward selection, the initial virtual model has all parameters set to be estimated."
   ]
  },
  {
   "cell_type": "code",
   "execution_count": 8,
   "metadata": {},
   "outputs": [
    {
     "name": "stdout",
     "output_type": "stream",
     "text": [
      "Model specifications file column headers: ['modelId', 'YAML', 'k1', 'k2', 'k3']\n",
      "Initial model:\n",
      "{'YAML': 'not_implemented.xml',\n",
      " 'k1': 0.1,\n",
      " 'k2': nan,\n",
      " 'k3': nan,\n",
      " 'modelId': 'my_model'}\n"
     ]
    }
   ],
   "source": [
    "selector2 = pypesto.ModelSelector(petab_problem, model_spec_file)\n",
    "initial_model = dict(zip(selector2.header, ['my_model', 'not_implemented.xml', float(0.1), float('nan'), float('nan')]))\n",
    "print(f'Model specifications file column headers: {selector2.header}')\n",
    "print('Initial model:')\n",
    "pprint(initial_model)"
   ]
  },
  {
   "cell_type": "code",
   "execution_count": 9,
   "metadata": {},
   "outputs": [
    {
     "name": "stdout",
     "output_type": "stream",
     "text": [
      "[{'AIC': 31.78450026210938,\n",
      "  'BIC': 30.9515381390216,\n",
      "  'MLE': [('k1', 0.1),\n",
      "          ('k2', 1000.0),\n",
      "          ('k3', 0.0),\n",
      "          ('sigma_x2', 1.7561135493422317)],\n",
      "  'compared_modelId': 'PYPESTO_INITIAL_MODEL',\n",
      "  'modelId': 'my_model',\n",
      "  'row': {'YAML': 'not_implemented.xml',\n",
      "          'k1': 0.1,\n",
      "          'k2': nan,\n",
      "          'k3': nan,\n",
      "          'modelId': 'my_model'}},\n",
      " {'AIC': -4.274513398103508,\n",
      "  'BIC': -4.690994459647398,\n",
      "  'MLE': [('k1', 0.2),\n",
      "          ('k2', 0.10147816889261603),\n",
      "          ('k3', 0.0),\n",
      "          ('sigma_x2', 0.12142221944743797)],\n",
      "  'compared_modelId': 'my_model',\n",
      "  'modelId': 'M1_2_0',\n",
      "  'row': {'YAML': 'example_modelSelection.yaml',\n",
      "          'k1': 0.2,\n",
      "          'k2': nan,\n",
      "          'k3': 0.0,\n",
      "          'modelId': 'M1_2_0'}}]\n",
      "\n",
      "\n",
      "Selection history\n",
      "-----------------\n",
      "{'M1_0_0': {'AIC': 38.97523003111246,\n",
      "            'BIC': 38.55874896956857,\n",
      "            'MLE': [('k1', 0.0),\n",
      "                    ('k2', 0.0),\n",
      "                    ('k3', 0.0),\n",
      "                    ('sigma_x2', 4.462298413317604)],\n",
      "            'compared_modelId': 'M1_2_0',\n",
      "            'modelId': 'M1_0_0',\n",
      "            'row': {'YAML': 'example_modelSelection.yaml',\n",
      "                    'k1': 0.0,\n",
      "                    'k2': 0.0,\n",
      "                    'k3': 0.0,\n",
      "                    'modelId': 'M1_0_0'}},\n",
      " 'M1_1_0': {'AIC': -2.1754060811089033,\n",
      "            'BIC': -2.800127673424738,\n",
      "            'MLE': [('k1', 0.2),\n",
      "                    ('k2', 0.1),\n",
      "                    ('k3', 0.0),\n",
      "                    ('sigma_x2', 0.12242920127457729)],\n",
      "            'compared_modelId': 'my_model',\n",
      "            'modelId': 'M1_1_0',\n",
      "            'row': {'YAML': 'example_modelSelection.yaml',\n",
      "                    'k1': 0.2,\n",
      "                    'k2': 0.1,\n",
      "                    'k3': nan,\n",
      "                    'modelId': 'M1_1_0'}},\n",
      " 'M1_2_0': {'AIC': -4.274513398103508,\n",
      "            'BIC': -4.690994459647398,\n",
      "            'MLE': [('k1', 0.2),\n",
      "                    ('k2', 0.10147816889261603),\n",
      "                    ('k3', 0.0),\n",
      "                    ('sigma_x2', 0.12142221944743797)],\n",
      "            'compared_modelId': 'my_model',\n",
      "            'modelId': 'M1_2_0',\n",
      "            'row': {'YAML': 'example_modelSelection.yaml',\n",
      "                    'k1': 0.2,\n",
      "                    'k2': nan,\n",
      "                    'k3': 0.0,\n",
      "                    'modelId': 'M1_2_0'}},\n",
      " 'my_model': {'AIC': 31.78450026210938,\n",
      "              'BIC': 30.9515381390216,\n",
      "              'MLE': [('k1', 0.1),\n",
      "                      ('k2', 1000.0),\n",
      "                      ('k3', 0.0),\n",
      "                      ('sigma_x2', 1.7561135493422317)],\n",
      "              'compared_modelId': 'PYPESTO_INITIAL_MODEL',\n",
      "              'modelId': 'my_model',\n",
      "              'row': {'YAML': 'not_implemented.xml',\n",
      "                      'k1': 0.1,\n",
      "                      'k2': nan,\n",
      "                      'k3': nan,\n",
      "                      'modelId': 'my_model'}}}\n"
     ]
    }
   ],
   "source": [
    "selected_models, local_selection_history, selection_history = selector2.select('backward',\n",
    "                                                                               'AIC',\n",
    "                                                                               initial_model=initial_model)\n",
    "pprint(selected_models)\n",
    "print('\\n\\nSelection history\\n-----------------')\n",
    "pprint(selection_history)"
   ]
  },
  {
   "cell_type": "code",
   "execution_count": 10,
   "metadata": {},
   "outputs": [
    {
     "data": {
      "text/plain": [
       "[]"
      ]
     },
     "execution_count": 10,
     "metadata": {},
     "output_type": "execute_result"
    },
    {
     "data": {
      "image/png": "[encoded data removed]",
      "text/plain": [
       "<Figure size 360x288 with 1 Axes>"
      ]
     },
     "metadata": {
      "needs_background": "light"
     },
     "output_type": "display_data"
    },
    {
     "data": {
      "image/png": "[encoded data removed]",
      "text/plain": [
       "<Figure size 360x288 with 1 Axes>"
      ]
     },
     "metadata": {
      "needs_background": "light"
     },
     "output_type": "display_data"
    }
   ],
   "source": [
    "ax = visu.plot_selected_models(selected_models, criterion='AIC', relative=False)\n",
    "ax = visu.plot_selected_models(selected_models, criterion='AIC')\n",
    "ax.plot()"
   ]
  },
  {
   "cell_type": "markdown",
   "metadata": {},
   "source": [
    "# Additional Options\n",
    "There exist additional options that can be used to further customise selection algorithms.\n",
    "## Select First Improvement\n",
    "At each selection step, as soon as a model that improves on the previous model is encountered (by the specified criterion), it is selected and immediately used as the previous model in the next iteration of the selection. This is unlike the default behaviour, where all test models at each iteration are optimized, and the best of these is selected.\n",
    "## Use Previous Maximum Likelihood Estimate As Startpoint\n",
    "The maximum likelihood estimate parameters from the previous model is used as one of the startpoints in the multistart optimization of the test models. The default behaviour is that all startpoints are automatically generated by pyPESTO.\n",
    "## Minimize Options\n",
    "Optimization can be customised with a dictionary that specifies values for the corresponding keyword arguments of [minimize](https://github.com/ICB-DCM/pyPESTO/blob/master/pypesto/optimize/optimize.py)."
   ]
  },
  {
   "cell_type": "code",
   "execution_count": 11,
   "metadata": {},
   "outputs": [],
   "source": [
    "selector3 = pypesto.ModelSelector(petab_problem, model_spec_file)\n",
    "\n",
    "minimize_options = {\n",
    "    'n_starts': 10\n",
    "}\n",
    "\n",
    "while True:\n",
    "    try:\n",
    "        _, _, selection_history = selector3.select('forward',\n",
    "                                                   'AIC',\n",
    "                                                   select_first_improvement=True,\n",
    "                                                   startpoint_latest_mle=True,\n",
    "                                                   minimize_options=minimize_options)\n",
    "    except EOFError:\n",
    "        break"
   ]
  },
  {
   "cell_type": "code",
   "execution_count": 12,
   "metadata": {},
   "outputs": [
    {
     "data": {
      "image/png": "[encoded data removed]",
      "text/plain": [
       "<Figure size 864x864 with 1 Axes>"
      ]
     },
     "metadata": {},
     "output_type": "display_data"
    }
   ],
   "source": [
    "visu.plot_history_digraph(selection_history)"
   ]
  }
 ],
 "metadata": {
  "kernelspec": {
   "display_name": "Python 3",
   "language": "python",
   "name": "python3"
  },
  "language_info": {
   "codemirror_mode": {
    "name": "ipython",
    "version": 3
   },
   "file_extension": ".py",
   "mimetype": "text/x-python",
   "name": "python",
   "nbconvert_exporter": "python",
   "pygments_lexer": "ipython3",
   "version": "3.7.4"
  }
 },
 "nbformat": 4,
 "nbformat_minor": 2
}
